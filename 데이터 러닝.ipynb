{
 "cells": [
  {
   "cell_type": "code",
   "execution_count": 195,
   "metadata": {},
   "outputs": [],
   "source": [
    "import pandas as pd\n",
    "import matplotlib.pyplot as plt\n",
    "from sklearn.neighbors import KNeighborsClassifier\n",
    "from IPython.core.interactiveshell import InteractiveShell\n",
    "InteractiveShell.ast_node_interactivity = \"all\"\n",
    "pd.set_option('display.max_row', 5000)\n",
    "pd.set_option('display.max_columns', 1000)\n",
    "# 무시\n",
    "pd.set_option('mode.chained_assignment',  None)\n",
    "import numpy as np\n",
    "import seaborn as sns # 시각화 라이브러리\n",
    "from matplotlib import rc\n",
    "rc('font',family='Malgun Gothic')\n",
    "import math"
   ]
  },
  {
   "cell_type": "code",
   "execution_count": 196,
   "metadata": {},
   "outputs": [],
   "source": [
    "def data_process(columns, data, start, end):\n",
    "    categorys = data[columns].value_counts()[start:end]\n",
    "    \n",
    "    category_list = []\n",
    "    for category in categorys.index:\n",
    "        com = data[data.loc[:,columns] == category]\n",
    "        category_list.append(com)\n",
    "\n",
    "    spec_data = category_list.copy()\n",
    "    spec_num = 0\n",
    "    for spec in spec_data:\n",
    "        spec.reset_index(inplace=True)\n",
    "        spec.drop('index',axis=1,inplace=True)\n",
    "        spec_num += len(spec)\n",
    "    print('총 스펙개수 : {}'.format(spec_num))\n",
    "\n",
    "    new_data = pd.concat(spec_data)\n",
    "    new_data.reset_index(inplace=True)\n",
    "    new_data.drop('index',axis=1,inplace=True)\n",
    "    return new_data"
   ]
  },
  {
   "cell_type": "code",
   "execution_count": 197,
   "metadata": {},
   "outputs": [],
   "source": [
    "# data = pd.read_csv(\"데이터 전처리 통합.csv\", encoding=\"EUC-KR\", index_col=0)\n",
    "# data = pd.read_csv(\"데이터 고졸 제거.csv\", encoding=\"EUC-KR\", index_col=0)\n",
    "data = pd.read_csv(\"데이터 분기별 제거.csv\", encoding=\"EUC-KR\", index_col=0)\n",
    "data_learn = data.drop(['분기','부서','학점','스펙지수'],axis=1)\n",
    "data_learn['부서'] = data['부서']"
   ]
  },
  {
   "cell_type": "code",
   "execution_count": 198,
   "metadata": {},
   "outputs": [
    {
     "name": "stdout",
     "output_type": "stream",
     "text": [
      "총 스펙개수 : 14032\n"
     ]
    }
   ],
   "source": [
    "# data_learn = data_process('기업정보',data_learn, 0, 1)\n",
    "# data_learn = data_process('합격회사',data_learn, 2, 3)\n",
    "data_learn = data_process('부서',data_learn, 0, 5)"
   ]
  },
  {
   "cell_type": "code",
   "execution_count": 199,
   "metadata": {},
   "outputs": [],
   "source": [
    "# X = data.iloc[:,[2,5,6,7,8,16]].copy()\n",
    "from sklearn.preprocessing import RobustScaler\n",
    "scaler = RobustScaler()\n",
    "X = data_learn.iloc[:,2:13].copy()\n",
    "X = scaler.fit_transform(X)\n",
    "y = data_learn.iloc[:,14].copy()"
   ]
  },
  {
   "cell_type": "code",
   "execution_count": 200,
   "metadata": {},
   "outputs": [],
   "source": [
    "#라벨 인코딩\n",
    "y_label = y.copy()\n",
    "indexdata = range(0,len(y_label.unique()))\n",
    "imsiSeries = pd.Series(data=indexdata, index=y_label.unique())\n",
    "y = y_label.map(imsiSeries)"
   ]
  },
  {
   "cell_type": "code",
   "execution_count": 201,
   "metadata": {},
   "outputs": [],
   "source": [
    "from sklearn.model_selection import train_test_split\n",
    "X_train, X_test, y_train, y_test = train_test_split(X, y, test_size=0.2, shuffle=True,random_state=34)"
   ]
  },
  {
   "cell_type": "code",
   "execution_count": 202,
   "metadata": {},
   "outputs": [
    {
     "data": {
      "text/html": [
       "<div>\n",
       "<style scoped>\n",
       "    .dataframe tbody tr th:only-of-type {\n",
       "        vertical-align: middle;\n",
       "    }\n",
       "\n",
       "    .dataframe tbody tr th {\n",
       "        vertical-align: top;\n",
       "    }\n",
       "\n",
       "    .dataframe thead th {\n",
       "        text-align: right;\n",
       "    }\n",
       "</style>\n",
       "<table border=\"1\" class=\"dataframe\">\n",
       "  <thead>\n",
       "    <tr style=\"text-align: right;\">\n",
       "      <th></th>\n",
       "      <th>합격회사</th>\n",
       "      <th>기업정보</th>\n",
       "      <th>토익</th>\n",
       "      <th>토익스피킹</th>\n",
       "      <th>OPIC</th>\n",
       "      <th>외국어(기타)</th>\n",
       "      <th>자격증</th>\n",
       "      <th>해외경험</th>\n",
       "      <th>인턴</th>\n",
       "      <th>수상내역</th>\n",
       "      <th>교내/사회/봉사</th>\n",
       "      <th>최종학력</th>\n",
       "      <th>전공</th>\n",
       "      <th>학점등급</th>\n",
       "      <th>부서</th>\n",
       "    </tr>\n",
       "  </thead>\n",
       "  <tbody>\n",
       "    <tr>\n",
       "      <th>0</th>\n",
       "      <td>(주)신원</td>\n",
       "      <td>섬유·의류·패션</td>\n",
       "      <td>0</td>\n",
       "      <td>5</td>\n",
       "      <td>0</td>\n",
       "      <td>0</td>\n",
       "      <td>3</td>\n",
       "      <td>1</td>\n",
       "      <td>0</td>\n",
       "      <td>0</td>\n",
       "      <td>0</td>\n",
       "      <td>2</td>\n",
       "      <td>4</td>\n",
       "      <td>0</td>\n",
       "      <td>직무무관</td>\n",
       "    </tr>\n",
       "    <tr>\n",
       "      <th>1</th>\n",
       "      <td>(주)신원</td>\n",
       "      <td>섬유·의류·패션</td>\n",
       "      <td>890</td>\n",
       "      <td>0</td>\n",
       "      <td>0</td>\n",
       "      <td>0</td>\n",
       "      <td>0</td>\n",
       "      <td>1</td>\n",
       "      <td>0</td>\n",
       "      <td>2</td>\n",
       "      <td>0</td>\n",
       "      <td>3</td>\n",
       "      <td>4</td>\n",
       "      <td>2</td>\n",
       "      <td>직무무관</td>\n",
       "    </tr>\n",
       "    <tr>\n",
       "      <th>2</th>\n",
       "      <td>광동제약(주)</td>\n",
       "      <td>제약·보건·바이오</td>\n",
       "      <td>890</td>\n",
       "      <td>0</td>\n",
       "      <td>0</td>\n",
       "      <td>0</td>\n",
       "      <td>3</td>\n",
       "      <td>1</td>\n",
       "      <td>0</td>\n",
       "      <td>0</td>\n",
       "      <td>0</td>\n",
       "      <td>4</td>\n",
       "      <td>4</td>\n",
       "      <td>2</td>\n",
       "      <td>직무무관</td>\n",
       "    </tr>\n",
       "    <tr>\n",
       "      <th>3</th>\n",
       "      <td>(주)LG화학</td>\n",
       "      <td>화학·에너지·환경</td>\n",
       "      <td>975</td>\n",
       "      <td>8</td>\n",
       "      <td>0</td>\n",
       "      <td>0</td>\n",
       "      <td>0</td>\n",
       "      <td>0</td>\n",
       "      <td>0</td>\n",
       "      <td>2</td>\n",
       "      <td>0</td>\n",
       "      <td>3</td>\n",
       "      <td>4</td>\n",
       "      <td>0</td>\n",
       "      <td>직무무관</td>\n",
       "    </tr>\n",
       "    <tr>\n",
       "      <th>4</th>\n",
       "      <td>(주)LG화학</td>\n",
       "      <td>화학·에너지·환경</td>\n",
       "      <td>870</td>\n",
       "      <td>6</td>\n",
       "      <td>0</td>\n",
       "      <td>0</td>\n",
       "      <td>1</td>\n",
       "      <td>0</td>\n",
       "      <td>0</td>\n",
       "      <td>0</td>\n",
       "      <td>4</td>\n",
       "      <td>3</td>\n",
       "      <td>4</td>\n",
       "      <td>2</td>\n",
       "      <td>직무무관</td>\n",
       "    </tr>\n",
       "    <tr>\n",
       "      <th>...</th>\n",
       "      <td>...</td>\n",
       "      <td>...</td>\n",
       "      <td>...</td>\n",
       "      <td>...</td>\n",
       "      <td>...</td>\n",
       "      <td>...</td>\n",
       "      <td>...</td>\n",
       "      <td>...</td>\n",
       "      <td>...</td>\n",
       "      <td>...</td>\n",
       "      <td>...</td>\n",
       "      <td>...</td>\n",
       "      <td>...</td>\n",
       "      <td>...</td>\n",
       "      <td>...</td>\n",
       "    </tr>\n",
       "    <tr>\n",
       "      <th>14027</th>\n",
       "      <td>시원스쿨</td>\n",
       "      <td>학원·어학원·교육원</td>\n",
       "      <td>0</td>\n",
       "      <td>0</td>\n",
       "      <td>0</td>\n",
       "      <td>0</td>\n",
       "      <td>0</td>\n",
       "      <td>0</td>\n",
       "      <td>0</td>\n",
       "      <td>0</td>\n",
       "      <td>0</td>\n",
       "      <td>4</td>\n",
       "      <td>6</td>\n",
       "      <td>0</td>\n",
       "      <td>마케팅</td>\n",
       "    </tr>\n",
       "    <tr>\n",
       "      <th>14028</th>\n",
       "      <td>시원스쿨</td>\n",
       "      <td>학원·어학원·교육원</td>\n",
       "      <td>700</td>\n",
       "      <td>0</td>\n",
       "      <td>0</td>\n",
       "      <td>0</td>\n",
       "      <td>4</td>\n",
       "      <td>0</td>\n",
       "      <td>0</td>\n",
       "      <td>0</td>\n",
       "      <td>0</td>\n",
       "      <td>2</td>\n",
       "      <td>10</td>\n",
       "      <td>2</td>\n",
       "      <td>마케팅</td>\n",
       "    </tr>\n",
       "    <tr>\n",
       "      <th>14029</th>\n",
       "      <td>포탈하이웨이</td>\n",
       "      <td>백화점·유통·도소매</td>\n",
       "      <td>0</td>\n",
       "      <td>0</td>\n",
       "      <td>0</td>\n",
       "      <td>0</td>\n",
       "      <td>4</td>\n",
       "      <td>0</td>\n",
       "      <td>0</td>\n",
       "      <td>0</td>\n",
       "      <td>3</td>\n",
       "      <td>2</td>\n",
       "      <td>3</td>\n",
       "      <td>3</td>\n",
       "      <td>마케팅</td>\n",
       "    </tr>\n",
       "    <tr>\n",
       "      <th>14030</th>\n",
       "      <td>초록우산어린이재단</td>\n",
       "      <td>공기업·공공기관</td>\n",
       "      <td>960</td>\n",
       "      <td>0</td>\n",
       "      <td>8</td>\n",
       "      <td>0</td>\n",
       "      <td>0</td>\n",
       "      <td>0</td>\n",
       "      <td>0</td>\n",
       "      <td>0</td>\n",
       "      <td>0</td>\n",
       "      <td>3</td>\n",
       "      <td>10</td>\n",
       "      <td>0</td>\n",
       "      <td>마케팅</td>\n",
       "    </tr>\n",
       "    <tr>\n",
       "      <th>14031</th>\n",
       "      <td>초록우산어린이재단</td>\n",
       "      <td>공기업·공공기관</td>\n",
       "      <td>950</td>\n",
       "      <td>6</td>\n",
       "      <td>0</td>\n",
       "      <td>0</td>\n",
       "      <td>1</td>\n",
       "      <td>1</td>\n",
       "      <td>2</td>\n",
       "      <td>0</td>\n",
       "      <td>3</td>\n",
       "      <td>4</td>\n",
       "      <td>3</td>\n",
       "      <td>0</td>\n",
       "      <td>마케팅</td>\n",
       "    </tr>\n",
       "  </tbody>\n",
       "</table>\n",
       "<p>14032 rows × 15 columns</p>\n",
       "</div>"
      ],
      "text/plain": [
       "            합격회사        기업정보   토익  토익스피킹  OPIC  외국어(기타)  자격증  해외경험  인턴  수상내역  \\\n",
       "0          (주)신원    섬유·의류·패션    0      5     0        0    3     1   0     0   \n",
       "1          (주)신원    섬유·의류·패션  890      0     0        0    0     1   0     2   \n",
       "2        광동제약(주)   제약·보건·바이오  890      0     0        0    3     1   0     0   \n",
       "3        (주)LG화학   화학·에너지·환경  975      8     0        0    0     0   0     2   \n",
       "4        (주)LG화학   화학·에너지·환경  870      6     0        0    1     0   0     0   \n",
       "...          ...         ...  ...    ...   ...      ...  ...   ...  ..   ...   \n",
       "14027       시원스쿨  학원·어학원·교육원    0      0     0        0    0     0   0     0   \n",
       "14028       시원스쿨  학원·어학원·교육원  700      0     0        0    4     0   0     0   \n",
       "14029     포탈하이웨이  백화점·유통·도소매    0      0     0        0    4     0   0     0   \n",
       "14030  초록우산어린이재단    공기업·공공기관  960      0     8        0    0     0   0     0   \n",
       "14031  초록우산어린이재단    공기업·공공기관  950      6     0        0    1     1   2     0   \n",
       "\n",
       "       교내/사회/봉사  최종학력  전공  학점등급    부서  \n",
       "0             0     2   4     0  직무무관  \n",
       "1             0     3   4     2  직무무관  \n",
       "2             0     4   4     2  직무무관  \n",
       "3             0     3   4     0  직무무관  \n",
       "4             4     3   4     2  직무무관  \n",
       "...         ...   ...  ..   ...   ...  \n",
       "14027         0     4   6     0   마케팅  \n",
       "14028         0     2  10     2   마케팅  \n",
       "14029         3     2   3     3   마케팅  \n",
       "14030         0     3  10     0   마케팅  \n",
       "14031         3     4   3     0   마케팅  \n",
       "\n",
       "[14032 rows x 15 columns]"
      ]
     },
     "execution_count": 202,
     "metadata": {},
     "output_type": "execute_result"
    }
   ],
   "source": [
    "data_learn"
   ]
  },
  {
   "cell_type": "code",
   "execution_count": 203,
   "metadata": {},
   "outputs": [
    {
     "data": {
      "text/plain": [
       "5"
      ]
     },
     "execution_count": 203,
     "metadata": {},
     "output_type": "execute_result"
    }
   ],
   "source": [
    "len(y.unique())"
   ]
  },
  {
   "cell_type": "code",
   "execution_count": 204,
   "metadata": {},
   "outputs": [],
   "source": [
    "from sklearn.neural_network import MLPClassifier\n",
    "from sklearn.linear_model import LogisticRegression\n",
    "from sklearn.neighbors import KNeighborsClassifier\n",
    "from sklearn.svm import SVC\n",
    "from sklearn.gaussian_process import GaussianProcessClassifier\n",
    "from sklearn.gaussian_process.kernels import RBF\n",
    "from sklearn.tree import DecisionTreeClassifier\n",
    "from sklearn.ensemble import RandomForestClassifier, AdaBoostClassifier\n",
    "from sklearn.naive_bayes import GaussianNB\n",
    "from sklearn.metrics import classification_report\n",
    "from sklearn.model_selection import cross_val_score\n",
    "from sklearn.metrics import roc_auc_score , plot_roc_curve, accuracy_score\n",
    "from sklearn import metrics\n",
    "from sklearn.metrics import mean_squared_error\n",
    "from sklearn.model_selection import train_test_split\n",
    "import xgboost as xgb\n",
    "\n",
    "rf = RandomForestClassifier()\n",
    "ad = AdaBoostClassifier(base_estimator =rf)\n",
    "dt = DecisionTreeClassifier()\n",
    "kn = KNeighborsClassifier()\n",
    "lr = LogisticRegression()\n",
    "rbf = RBF()\n",
    "gp = GaussianProcessClassifier(1.0 * RBF(1.0))\n",
    "mlp = MLPClassifier(alpha=1, max_iter=1000)\n",
    "gnb = GaussianNB()\n",
    "svc = SVC(random_state = 43, C = 10, gamma = 0.1, kernel ='rbf')\n",
    "\n",
    "models = [rf, lr, dt, kn, svc, mlp, gnb]"
   ]
  },
  {
   "cell_type": "code",
   "execution_count": 205,
   "metadata": {
    "scrolled": false
   },
   "outputs": [
    {
     "data": {
      "text/plain": [
       "RandomForestClassifier()"
      ]
     },
     "execution_count": 205,
     "metadata": {},
     "output_type": "execute_result"
    },
    {
     "name": "stdout",
     "output_type": "stream",
     "text": [
      "RandomForestClassifier() \n",
      " Accuracy: 0.685 \n",
      "\n"
     ]
    },
    {
     "data": {
      "text/plain": [
       "LogisticRegression()"
      ]
     },
     "execution_count": 205,
     "metadata": {},
     "output_type": "execute_result"
    },
    {
     "name": "stderr",
     "output_type": "stream",
     "text": [
      "C:\\Users\\SM2143\\anaconda3\\lib\\site-packages\\sklearn\\linear_model\\_logistic.py:762: ConvergenceWarning: lbfgs failed to converge (status=1):\n",
      "STOP: TOTAL NO. of ITERATIONS REACHED LIMIT.\n",
      "\n",
      "Increase the number of iterations (max_iter) or scale the data as shown in:\n",
      "    https://scikit-learn.org/stable/modules/preprocessing.html\n",
      "Please also refer to the documentation for alternative solver options:\n",
      "    https://scikit-learn.org/stable/modules/linear_model.html#logistic-regression\n",
      "  n_iter_i = _check_optimize_result(\n"
     ]
    },
    {
     "name": "stdout",
     "output_type": "stream",
     "text": [
      "LogisticRegression() \n",
      " Accuracy: 0.558 \n",
      "\n"
     ]
    },
    {
     "data": {
      "text/plain": [
       "DecisionTreeClassifier()"
      ]
     },
     "execution_count": 205,
     "metadata": {},
     "output_type": "execute_result"
    },
    {
     "name": "stdout",
     "output_type": "stream",
     "text": [
      "DecisionTreeClassifier() \n",
      " Accuracy: 0.646 \n",
      "\n"
     ]
    },
    {
     "data": {
      "text/plain": [
       "KNeighborsClassifier()"
      ]
     },
     "execution_count": 205,
     "metadata": {},
     "output_type": "execute_result"
    },
    {
     "name": "stdout",
     "output_type": "stream",
     "text": [
      "KNeighborsClassifier() \n",
      " Accuracy: 0.646 \n",
      "\n"
     ]
    },
    {
     "data": {
      "text/plain": [
       "SVC(C=10, gamma=0.1, random_state=43)"
      ]
     },
     "execution_count": 205,
     "metadata": {},
     "output_type": "execute_result"
    },
    {
     "name": "stdout",
     "output_type": "stream",
     "text": [
      "SVC(C=10, gamma=0.1, random_state=43) \n",
      " Accuracy: 0.677 \n",
      "\n"
     ]
    },
    {
     "data": {
      "text/plain": [
       "MLPClassifier(alpha=1, max_iter=1000)"
      ]
     },
     "execution_count": 205,
     "metadata": {},
     "output_type": "execute_result"
    },
    {
     "name": "stdout",
     "output_type": "stream",
     "text": [
      "MLPClassifier(alpha=1, max_iter=1000) \n",
      " Accuracy: 0.67 \n",
      "\n"
     ]
    },
    {
     "data": {
      "text/plain": [
       "GaussianNB()"
      ]
     },
     "execution_count": 205,
     "metadata": {},
     "output_type": "execute_result"
    },
    {
     "name": "stdout",
     "output_type": "stream",
     "text": [
      "GaussianNB() \n",
      " Accuracy: 0.53 \n",
      "\n"
     ]
    }
   ],
   "source": [
    "for model in models:\n",
    "    model.fit(X_test, y_test)\n",
    "#     pre = model.predict(X_test)\n",
    "    scores = cross_val_score(model, X_test, y_test, cv=5).mean().round(3)\n",
    "#     f1score = metrics.f1_score(y_test, y_pred).round(3)\n",
    "    print(model, '\\n', 'Accuracy:', scores, '\\n')"
   ]
  },
  {
   "cell_type": "code",
   "execution_count": 197,
   "metadata": {},
   "outputs": [
    {
     "name": "stderr",
     "output_type": "stream",
     "text": [
      "C:\\Users\\SM2143\\anaconda3\\lib\\site-packages\\sklearn\\neural_network\\_multilayer_perceptron.py:582: ConvergenceWarning: Stochastic Optimizer: Maximum iterations (1000) reached and the optimization hasn't converged yet.\n",
      "  warnings.warn(\n"
     ]
    },
    {
     "data": {
      "text/plain": [
       "MLPClassifier(alpha=1, max_iter=1000)"
      ]
     },
     "execution_count": 197,
     "metadata": {},
     "output_type": "execute_result"
    },
    {
     "name": "stderr",
     "output_type": "stream",
     "text": [
      "C:\\Users\\SM2143\\anaconda3\\lib\\site-packages\\sklearn\\model_selection\\_split.py:670: UserWarning: The least populated class in y has only 1 members, which is less than n_splits=5.\n",
      "  warnings.warn((\"The least populated class in y has only %d\"\n"
     ]
    },
    {
     "name": "stdout",
     "output_type": "stream",
     "text": [
      "MLPClassifier(alpha=1, max_iter=1000) \n",
      " Accuracy: 0.482 \n",
      "\n"
     ]
    },
    {
     "name": "stderr",
     "output_type": "stream",
     "text": [
      "C:\\Users\\SM2143\\anaconda3\\lib\\site-packages\\sklearn\\neural_network\\_multilayer_perceptron.py:582: ConvergenceWarning: Stochastic Optimizer: Maximum iterations (1000) reached and the optimization hasn't converged yet.\n",
      "  warnings.warn(\n"
     ]
    }
   ],
   "source": [
    "model = mlp\n",
    "model.fit(X_test, y_test)\n",
    "scores = cross_val_score(model, X_test, y_test, cv=5).mean().round(3)\n",
    "print(model, '\\n', 'Accuracy:', scores, '\\n')"
   ]
  }
 ],
 "metadata": {
  "kernelspec": {
   "display_name": "Python 3",
   "language": "python",
   "name": "python3"
  },
  "language_info": {
   "codemirror_mode": {
    "name": "ipython",
    "version": 3
   },
   "file_extension": ".py",
   "mimetype": "text/x-python",
   "name": "python",
   "nbconvert_exporter": "python",
   "pygments_lexer": "ipython3",
   "version": "3.8.5"
  }
 },
 "nbformat": 4,
 "nbformat_minor": 4
}
