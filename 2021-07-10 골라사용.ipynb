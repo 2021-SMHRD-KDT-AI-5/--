{
 "cells": [
  {
   "cell_type": "code",
   "execution_count": 123,
   "metadata": {},
   "outputs": [],
   "source": [
    "import pandas as pd\n",
    "import matplotlib.pyplot as plt\n",
    "from sklearn.neighbors import KNeighborsClassifier\n",
    "from IPython.core.interactiveshell import InteractiveShell\n",
    "from sklearn.model_selection import train_test_split\n",
    "from sklearn.neural_network import MLPClassifier\n",
    "from sklearn.linear_model import LogisticRegression\n",
    "from sklearn.neighbors import KNeighborsClassifier\n",
    "from sklearn.svm import SVC\n",
    "from sklearn.gaussian_process import GaussianProcessClassifier\n",
    "from sklearn.gaussian_process.kernels import RBF\n",
    "from sklearn.tree import DecisionTreeClassifier\n",
    "from sklearn.ensemble import RandomForestClassifier, AdaBoostClassifier\n",
    "from sklearn.naive_bayes import GaussianNB\n",
    "from sklearn.metrics import classification_report\n",
    "from sklearn.model_selection import cross_val_score\n",
    "from sklearn.metrics import roc_auc_score , plot_roc_curve, accuracy_score\n",
    "from sklearn import metrics\n",
    "from sklearn.metrics import mean_squared_error\n",
    "from sklearn.model_selection import train_test_split\n",
    "from sklearn.linear_model import LinearRegression\n",
    "from sklearn.neural_network import MLPClassifier\n",
    "import xgboost as xgb\n",
    "InteractiveShell.ast_node_interactivity = \"all\"\n",
    "pd.set_option('display.max_row', 5000)\n",
    "pd.set_option('display.max_columns', 1000)\n",
    "pd.set_option('mode.chained_assignment',  None)"
   ]
  },
  {
   "cell_type": "markdown",
   "metadata": {},
   "source": [
    "# 1. 데이터 불러오기"
   ]
  },
  {
   "cell_type": "code",
   "execution_count": 124,
   "metadata": {},
   "outputs": [],
   "source": [
    "data = pd.read_csv('합격자 스펙 데이터 (1~100059).csv', encoding='cp949')\n",
    "data1 = pd.read_csv('합격자 스펙 데이터 (100060~200126).csv', encoding='cp949')\n",
    "data2 = pd.read_csv('합격자 스펙 데이터 (200127~278149).csv', encoding='cp949')\n",
    "data = pd.concat([data, data1, data2])\n",
    "data= data.reset_index()"
   ]
  },
  {
   "cell_type": "markdown",
   "metadata": {},
   "source": [
    "# 2. 데이터 전처리"
   ]
  },
  {
   "cell_type": "code",
   "execution_count": 125,
   "metadata": {},
   "outputs": [],
   "source": [
    "#지원분야 정리 \n",
    "data['분기'] = data['지원분야'].str.split('\\n').str[0]\n",
    "data['부서'] = data['지원분야'].str.split('\\n').str[1]\n",
    "data.drop(['Unnamed: 0','지원분야','index', '분기'], axis=1, inplace=True)\n",
    "\n",
    "#출신전공 정리\n",
    "a = data['출신전공'].str.contains('4년')\n",
    "b = data['출신전공'].str.contains('초대졸')\n",
    "c = data['출신전공'].str.contains('해외대학')\n",
    "d = data['출신전공'].str.contains('대학원')\n",
    "e = data['출신전공'].str.contains('고졸')\n",
    "\n",
    "data['출신전공'][a] = '4년'\n",
    "data['출신전공'][b] = '초대졸'\n",
    "data['출신전공'][c] = '해외대학'\n",
    "data['출신전공'][d] = '대학원'\n",
    "data['출신전공'][e] = '고졸'\n",
    "\n",
    "#'부서'의 직무무관 결측치 채우기\n",
    "data['부서']=data['부서'].fillna('직무무관')\n",
    "\n",
    "#고졸 데이터 제외\n",
    "a = data['출신전공'].str.contains('4년')\n",
    "data= data[data['출신전공'] != '고졸']\n",
    "\n",
    "#출신전공 숫자 변환\n",
    "data['출신전공'].replace('해외대학', 7, inplace=True)\n",
    "data['출신전공'].replace('대학원', 6, inplace=True)\n",
    "data['출신전공'].replace('4년', 5, inplace=True)\n",
    "data['출신전공'].replace('초대졸', 4, inplace=True)\n",
    "data['출신전공'].replace('고졸', 3, inplace=True)\n",
    "data['출신전공'].replace('중졸', 2, inplace=True)\n",
    "data['출신전공'].replace('초졸', 1, inplace=True)\n",
    "\n",
    "\n",
    "#자격증 숫자형 데이터로 변경\n",
    "data['자격증'].replace('-',0, inplace=True)\n",
    "data['자격증'].replace('1개',1, inplace=True)\n",
    "data['자격증'].replace('2개',2, inplace=True)\n",
    "data['자격증'].replace('3개',3, inplace=True)\n",
    "data['자격증'].replace('4개',4, inplace=True)\n",
    "data['자격증'].replace('5개',5, inplace=True)\n",
    "data['자격증'].replace('6개',6, inplace=True)\n",
    "data['자격증'].replace('7개',7, inplace=True)\n",
    "data['자격증'].replace('8개',8, inplace=True)\n",
    "data['자격증'].replace('9개',9, inplace=True)\n",
    "data['자격증'].replace('10개',10, inplace=True)\n",
    "data['자격증'].replace('11개',11, inplace=True)\n",
    "data['자격증'].replace('12개',12, inplace=True)\n",
    "data['자격증'].replace('13개',13, inplace=True)\n",
    "data['자격증'].replace('14개',14, inplace=True)\n",
    "data['자격증'].replace('15개',15, inplace=True)\n",
    "data['자격증'].replace('16개',16, inplace=True)\n",
    "\n",
    "#교내/사회/봉사 숫자형 데이터로 변경\n",
    "data['교내/사회/봉사'].replace('-',0, inplace=True)\n",
    "data['교내/사회/봉사'].replace('1회',1, inplace=True)\n",
    "data['교내/사회/봉사'].replace('2회',2, inplace=True)\n",
    "data['교내/사회/봉사'].replace('3회',3, inplace=True)\n",
    "data['교내/사회/봉사'].replace('4회',4, inplace=True)\n",
    "data['교내/사회/봉사'].replace('5회',5, inplace=True)\n",
    "data['교내/사회/봉사'].replace('6회',6, inplace=True)\n",
    "data['교내/사회/봉사'].replace('7회',7, inplace=True)\n",
    "data['교내/사회/봉사'].replace('8회',8, inplace=True)\n",
    "data['교내/사회/봉사'].replace('9회',9, inplace=True)\n",
    "data['교내/사회/봉사'].replace('10회',10, inplace=True)\n",
    "data['교내/사회/봉사'].replace('11회',11, inplace=True)\n",
    "data['교내/사회/봉사'].replace('12회',12, inplace=True)\n",
    "data['교내/사회/봉사'].replace('13회',12, inplace=True)\n",
    "data['교내/사회/봉사'].replace('14회',14, inplace=True)\n",
    "data['교내/사회/봉사'].replace('-',0, inplace=True)\n",
    "\n",
    "#해외경험 숫자형 데이터로 변경\n",
    "data['해외경험'].replace('-',0, inplace=True)\n",
    "data['해외경험'].replace('1회',1, inplace=True)\n",
    "data['해외경험'].replace('2회',2, inplace=True)\n",
    "data['해외경험'].replace('3회',3, inplace=True)\n",
    "data['해외경험'].replace('4회',4, inplace=True)\n",
    "data['해외경험'].replace('5회',5, inplace=True)\n",
    "data['해외경험'].replace('6회',6, inplace=True)\n",
    "data['해외경험'].replace('11회',11, inplace=True)\n",
    "data['해외경험'].replace('7회',7, inplace=True)\n",
    "data['해외경험'].replace('14회',14, inplace=True)\n",
    "\n",
    "#인턴 숫자형 데이터로 변경\n",
    "data['인턴'].replace('-',0, inplace=True)\n",
    "data['인턴'].replace('1회',1, inplace=True)\n",
    "data['인턴'].replace('2회',2, inplace=True)\n",
    "data['인턴'].replace('3회',3, inplace=True)\n",
    "data['인턴'].replace('4회',4, inplace=True)\n",
    "data['인턴'].replace('5회',5, inplace=True)\n",
    "data['인턴'].replace('6회',6, inplace=True)\n",
    "data['인턴'].replace('7회',7, inplace=True)\n",
    "data['인턴'].replace('8회',8, inplace=True)\n",
    "data['인턴'].replace('10회',10, inplace=True)\n",
    "data['인턴'].replace('12회',12, inplace=True)\n",
    "data['인턴'].replace('13회',13, inplace=True)\n",
    "data['인턴'].replace('14회',14, inplace=True)\n",
    "data['인턴'].replace('17회',17, inplace=True)\n",
    "data['인턴'].replace('20회',21, inplace=True)\n",
    "data['인턴'].replace('21회',21, inplace=True)\n",
    "\n",
    "#수상내역 숫자형 데이터로 변경\n",
    "data['수상내역'].replace('-',0, inplace=True)\n",
    "data['수상내역'].replace('1회',1, inplace=True)\n",
    "data['수상내역'].replace('2회',2, inplace=True)\n",
    "data['수상내역'].replace('3회',3, inplace=True)\n",
    "data['수상내역'].replace('4회',4, inplace=True)\n",
    "data['수상내역'].replace('5회',5, inplace=True)\n",
    "data['수상내역'].replace('6회',6, inplace=True)\n",
    "data['수상내역'].replace('7회',7, inplace=True)\n",
    "data['수상내역'].replace('9회',9, inplace=True)\n",
    "data['수상내역'].replace('14회',14, inplace=True)\n",
    "\n",
    "#외국어 숫자형 데이터로 변경\n",
    "data['외국어(기타)'].replace('-',0, inplace=True)\n",
    "data['외국어(기타)'].replace('1개',1, inplace=True)\n",
    "data['외국어(기타)'].replace('2개',2, inplace=True)\n",
    "data['외국어(기타)'].replace('3개',3, inplace=True)\n",
    "data['외국어(기타)'].replace('4개',4, inplace=True)\n",
    "\n",
    "#토익스피킹 숫자형 데이터로 변경\n",
    "data['토익스피킹'].replace('Lv8',8, inplace=True)\n",
    "data['토익스피킹'].replace('Lv7',7, inplace=True)\n",
    "data['토익스피킹'].replace('Lv6',6, inplace=True)\n",
    "data['토익스피킹'].replace('Lv5',5, inplace=True)\n",
    "data['토익스피킹'].replace('Lv4',4, inplace=True)\n",
    "data['토익스피킹'].replace('Lv3',3, inplace=True)\n",
    "data['토익스피킹'].replace('Lv2',2, inplace=True)\n",
    "data['토익스피킹'].replace('Lv1',1, inplace=True)\n",
    "data['토익스피킹'].replace('-',0, inplace=True)\n",
    "\n",
    "#OPIC 숫자형 데이터로 변경\n",
    "data['OPIC'].replace('-',0, inplace=True)\n",
    "data['OPIC'].replace('AL',9, inplace=True)\n",
    "data['OPIC'].replace('IH',8, inplace=True)\n",
    "data['OPIC'].replace('IM3',7, inplace=True)\n",
    "data['OPIC'].replace('IM2',6, inplace=True)\n",
    "data['OPIC'].replace('IM1',5, inplace=True)\n",
    "data['OPIC'].replace('IL',4, inplace=True)\n",
    "data['OPIC'].replace('NH',3, inplace=True)\n",
    "data['OPIC'].replace('NL',2, inplace=True)\n",
    "data['OPIC'].replace('NM',1, inplace=True)\n",
    "\n",
    "#토익 및 학점 split\n",
    "data['토익'] = data[data['토익'].str.contains('점')]['토익'].str.replace('점',\"\")\n",
    "data['학점'] = data[data['학점'].str.contains('/4.5')]['학점'].str.replace('/4.5',\"\")\n",
    "\n",
    "#토익 및 학점 결측치 0으로 채우기\n",
    "data['토익']= data['토익'].fillna(0)\n",
    "data['학점']= data['학점'].fillna(0)\n",
    "\n",
    "#기업정보 정리 \n",
    "data['기업정보'] = data['기업정보'].str.replace('<span></span>,<span></span>','<span>기업정보없음</span>')\n",
    "data['기업정보'] = data['기업정보'].str.replace('<span></span>,<span>0명 재직중</span>','<span>기업정보없음</span>')\n",
    "data['기업정보'] = data['기업정보'].str.split('</span>').str[0]\n",
    "data['기업정보']= data['기업정보'].str.split('>').str[1]\n",
    "\n",
    "#부서지원 적은 곳 제외 \n",
    "list1 = ['운전 기사', '방송 케이블 프로덕션', '레저 스포츠','영화 배급','출판 인쇄 사진','디자인 CAD','사무 원무 코디'\n",
    "         ,'게임','전시 공간디자인','섬유 의류 패션','의료직기타','대학교수 강사 행정직','CS관리 강의','간호사'\n",
    "         ,'외국어교육','디자인기타','전시 컨벤션','DBA 데이터베이스','수출입 무역사무','환경 플랜트','연구소 R&D','토목 조경 도시 측량'\n",
    "         ,'소프트웨어 하드웨어','여행 항공 숙박','연예 엔터테인먼트', '캐릭터 애니메이션','빅데이터 AI(인공지능)','이벤트 웨딩 도우미','바이오 제약 식품',\n",
    "         '음악 음향','아나운서 리포터 성우','노무 헤드헌터 직업상담','공연 전시 무대 스텝','광고제작 카피 CF','단순홍보 회원관리','부동산 중개 분양 경매','전기 소방 통신 안전',\n",
    "         '작가 시나리오','사회복지 요양보호 자원봉사', '광고영업','뷰티 미용 애완','회계 세무 CPA','법률 특허 상표','포장 가공','IT 디자인 컴퓨터강사','기자','배송 택배 운송',\n",
    "          'HTML 퍼블리싱 UI개발','영상 사진 촬영','의사 치과 한의사','제품 산업디자인','광고 시각디자인','의류 패션 잡화디자인','통신기술 네트워크구축','감독 연출 PD','출판 편집디자인',\n",
    "         '법인영업','경영분석 컨설턴트','컨텐츠 사이트운영','그래픽디자인 CG','초중고 특수학교','자격증 기술 전문교육','시스템프로그래머',\n",
    "         '아웃바운드TM','QA 테스터 검증','학원상담 관리 운영','ERP 시스템분석 설계','웹디자인','채권 심사 보험 보상','학습지 과외 방문교사','설치 정비 A/S','영화 음반 배급',\n",
    "        ]\n",
    "\n",
    "for i in range(len(list1)):\n",
    "    idx = data[data['부서'] == list1[i]].index\n",
    "    data = data.drop(idx)\n",
    "\n",
    "    \n",
    "#데이터 및 스펙지수 조정 \n",
    "    data = data[data['스펙지수']>150]\n",
    "    data = data[data['부서']!='직무무관']\n",
    "\n",
    "#리스트에 합격회사별 인덱스 담기\n",
    "list_2 = data['합격회사'].value_counts().index\n"
   ]
  },
  {
   "cell_type": "markdown",
   "metadata": {},
   "source": [
    "# 머신러닝 예측"
   ]
  },
  {
   "cell_type": "code",
   "execution_count": 166,
   "metadata": {
    "scrolled": true
   },
   "outputs": [
    {
     "data": {
      "text/plain": [
       "RobustScaler()"
      ]
     },
     "execution_count": 166,
     "metadata": {},
     "output_type": "execute_result"
    },
    {
     "name": "stdout",
     "output_type": "stream",
     "text": [
      "----------------- 현대카드(주) ----------------------\n",
      "['시설 보안 경비 안전' '비서 안내' '외국어 번역 통역' '사무 총무 법무' '건축 설계 인테리어' '제품 서비스영업'\n",
      " '고객상담 인바운드' 'IT 솔루션 기술영업' '사무보조 문서작성' '판매 서빙 매장관리' '해외영업 무역영업'\n",
      " '기계설계 CAD CAM' '생산 제조 설비 조립' '웹프로그래머' '홍보 PR' '경리 회계 결산' '시공 현장 감리 공무'\n",
      " '응용프로그래머' '영업관리 지원 영업기획' '기획 전략 경영' '금융 보험영업' '전기 전자 제어' '마케팅 광고 분석'\n",
      " '인사 노무 교육' '네트워크 서버 보안']\n"
     ]
    },
    {
     "data": {
      "text/plain": [
       "RandomForestClassifier()"
      ]
     },
     "execution_count": 166,
     "metadata": {},
     "output_type": "execute_result"
    },
    {
     "name": "stdout",
     "output_type": "stream",
     "text": [
      "RandomForestClassifier() \n",
      " Accuracy: 0.941 \n",
      "\n"
     ]
    },
    {
     "data": {
      "text/plain": [
       "DecisionTreeClassifier()"
      ]
     },
     "execution_count": 166,
     "metadata": {},
     "output_type": "execute_result"
    },
    {
     "name": "stdout",
     "output_type": "stream",
     "text": [
      "DecisionTreeClassifier() \n",
      " Accuracy: 0.882 \n",
      "\n"
     ]
    },
    {
     "data": {
      "text/plain": [
       "KNeighborsClassifier()"
      ]
     },
     "execution_count": 166,
     "metadata": {},
     "output_type": "execute_result"
    },
    {
     "name": "stdout",
     "output_type": "stream",
     "text": [
      "KNeighborsClassifier() \n",
      " Accuracy: 0.956 \n",
      "\n",
      "-------------------------------------------\n"
     ]
    },
    {
     "data": {
      "text/plain": [
       "RobustScaler()"
      ]
     },
     "execution_count": 166,
     "metadata": {},
     "output_type": "execute_result"
    },
    {
     "name": "stdout",
     "output_type": "stream",
     "text": [
      "----------------- 삼성전자(주) ----------------------\n",
      "['생산 제조 설비 조립' '시설 보안 경비 안전' '사무보조 문서작성' '시공 현장 감리 공무' '자동차 조선 기계'\n",
      " '사무 총무 법무' '생산관리 공정관리 품질관리' '전기 전자 제어' '구매 자재' '비서 안내' '기획 전략 경영'\n",
      " '응용프로그래머' '기계설계 CAD CAM' 'IT 솔루션 기술영업' '제품 서비스영업' '홍보 PR' '해외영업 무역영업'\n",
      " '유통 물류 재고' '화학 에너지 환경' '경리 회계 결산' '인사 노무 교육' '영업관리 지원 영업기획' '재무 세무 IR'\n",
      " '외국어 번역 통역' '네트워크 서버 보안']\n"
     ]
    },
    {
     "data": {
      "text/plain": [
       "RandomForestClassifier()"
      ]
     },
     "execution_count": 166,
     "metadata": {},
     "output_type": "execute_result"
    },
    {
     "name": "stdout",
     "output_type": "stream",
     "text": [
      "RandomForestClassifier() \n",
      " Accuracy: 0.363 \n",
      "\n"
     ]
    },
    {
     "data": {
      "text/plain": [
       "DecisionTreeClassifier()"
      ]
     },
     "execution_count": 166,
     "metadata": {},
     "output_type": "execute_result"
    },
    {
     "name": "stdout",
     "output_type": "stream",
     "text": [
      "DecisionTreeClassifier() \n",
      " Accuracy: 0.401 \n",
      "\n"
     ]
    },
    {
     "data": {
      "text/plain": [
       "KNeighborsClassifier()"
      ]
     },
     "execution_count": 166,
     "metadata": {},
     "output_type": "execute_result"
    },
    {
     "name": "stdout",
     "output_type": "stream",
     "text": [
      "KNeighborsClassifier() \n",
      " Accuracy: 0.362 \n",
      "\n",
      "-------------------------------------------\n"
     ]
    },
    {
     "data": {
      "text/plain": [
       "RobustScaler()"
      ]
     },
     "execution_count": 166,
     "metadata": {},
     "output_type": "execute_result"
    },
    {
     "name": "stdout",
     "output_type": "stream",
     "text": [
      "----------------- 현대캐피탈(주) ----------------------\n",
      "['요리 영양 제과제빵 바리스타' '판매 서빙 매장관리' '유통 물류 재고' '제품 서비스영업' '영업관리 지원 영업기획'\n",
      " '네트워크 서버 보안' '상품기획 MD' '기획 전략 경영' '인사 노무 교육' '사무 총무 법무' '생산 제조 설비 조립'\n",
      " '생산관리 공정관리 품질관리' '구매 자재' '재무 세무 IR' '사무보조 문서작성' '마케팅 광고 분석' '건축 설계 인테리어'\n",
      " '고객상담 인바운드' '외국어 번역 통역' '화학 에너지 환경' '경리 회계 결산' '응용프로그래머' '비서 안내'\n",
      " '시설 보안 경비 안전']\n"
     ]
    },
    {
     "data": {
      "text/plain": [
       "RandomForestClassifier()"
      ]
     },
     "execution_count": 166,
     "metadata": {},
     "output_type": "execute_result"
    },
    {
     "name": "stdout",
     "output_type": "stream",
     "text": [
      "RandomForestClassifier() \n",
      " Accuracy: 0.86 \n",
      "\n"
     ]
    },
    {
     "data": {
      "text/plain": [
       "DecisionTreeClassifier()"
      ]
     },
     "execution_count": 166,
     "metadata": {},
     "output_type": "execute_result"
    },
    {
     "name": "stdout",
     "output_type": "stream",
     "text": [
      "DecisionTreeClassifier() \n",
      " Accuracy: 0.773 \n",
      "\n"
     ]
    },
    {
     "data": {
      "text/plain": [
       "KNeighborsClassifier()"
      ]
     },
     "execution_count": 166,
     "metadata": {},
     "output_type": "execute_result"
    },
    {
     "name": "stdout",
     "output_type": "stream",
     "text": [
      "KNeighborsClassifier() \n",
      " Accuracy: 0.867 \n",
      "\n",
      "-------------------------------------------\n"
     ]
    },
    {
     "data": {
      "text/plain": [
       "RobustScaler()"
      ]
     },
     "execution_count": 166,
     "metadata": {},
     "output_type": "execute_result"
    },
    {
     "name": "stdout",
     "output_type": "stream",
     "text": [
      "----------------- (주)스타벅스커피코리아 ----------------------\n",
      "['인사 노무 교육' '시공 현장 감리 공무' '자동차 조선 기계' '사무 총무 법무' '영업관리 지원 영업기획'\n",
      " '기계설계 CAD CAM' '전기 전자 제어' '생산 제조 설비 조립' '건축 설계 인테리어' '구매 자재' '응용프로그래머'\n",
      " '생산관리 공정관리 품질관리' '해외영업 무역영업' '경리 회계 결산' '재무 세무 IR' '비서 안내' '기획 전략 경영'\n",
      " '외국어 번역 통역' '화학 에너지 환경' 'IT 솔루션 기술영업' '웹프로그래머' '시설 보안 경비 안전' '제품 서비스영업'\n",
      " '사무보조 문서작성' '네트워크 서버 보안' '유통 물류 재고' '홍보 PR' '반도체 디스플레이' '마케팅 광고 분석'\n",
      " '금융 보험영업' '고객상담 인바운드' '요리 영양 제과제빵 바리스타' '리서치 통계 설문']\n"
     ]
    },
    {
     "data": {
      "text/plain": [
       "RandomForestClassifier()"
      ]
     },
     "execution_count": 166,
     "metadata": {},
     "output_type": "execute_result"
    },
    {
     "name": "stdout",
     "output_type": "stream",
     "text": [
      "RandomForestClassifier() \n",
      " Accuracy: 0.224 \n",
      "\n"
     ]
    },
    {
     "data": {
      "text/plain": [
       "DecisionTreeClassifier()"
      ]
     },
     "execution_count": 166,
     "metadata": {},
     "output_type": "execute_result"
    },
    {
     "name": "stdout",
     "output_type": "stream",
     "text": [
      "DecisionTreeClassifier() \n",
      " Accuracy: 0.329 \n",
      "\n"
     ]
    },
    {
     "data": {
      "text/plain": [
       "KNeighborsClassifier()"
      ]
     },
     "execution_count": 166,
     "metadata": {},
     "output_type": "execute_result"
    },
    {
     "name": "stdout",
     "output_type": "stream",
     "text": [
      "KNeighborsClassifier() \n",
      " Accuracy: 0.232 \n",
      "\n",
      "-------------------------------------------\n"
     ]
    },
    {
     "data": {
      "text/plain": [
       "RobustScaler()"
      ]
     },
     "execution_count": 166,
     "metadata": {},
     "output_type": "execute_result"
    },
    {
     "name": "stdout",
     "output_type": "stream",
     "text": [
      "----------------- 두산중공업(주) ----------------------\n",
      "['시설 보안 경비 안전' '비서 안내' '외국어 번역 통역' '사무 총무 법무' '건축 설계 인테리어' '제품 서비스영업'\n",
      " '고객상담 인바운드' 'IT 솔루션 기술영업' '사무보조 문서작성' '판매 서빙 매장관리' '해외영업 무역영업'\n",
      " '기계설계 CAD CAM' '생산 제조 설비 조립' '웹프로그래머' '홍보 PR' '경리 회계 결산' '시공 현장 감리 공무'\n",
      " '응용프로그래머' '영업관리 지원 영업기획' '기획 전략 경영' '금융 보험영업' '전기 전자 제어' '마케팅 광고 분석'\n",
      " '인사 노무 교육' '네트워크 서버 보안']\n"
     ]
    },
    {
     "data": {
      "text/plain": [
       "RandomForestClassifier()"
      ]
     },
     "execution_count": 166,
     "metadata": {},
     "output_type": "execute_result"
    },
    {
     "name": "stdout",
     "output_type": "stream",
     "text": [
      "RandomForestClassifier() \n",
      " Accuracy: 0.941 \n",
      "\n"
     ]
    },
    {
     "data": {
      "text/plain": [
       "DecisionTreeClassifier()"
      ]
     },
     "execution_count": 166,
     "metadata": {},
     "output_type": "execute_result"
    },
    {
     "name": "stdout",
     "output_type": "stream",
     "text": [
      "DecisionTreeClassifier() \n",
      " Accuracy: 0.882 \n",
      "\n"
     ]
    },
    {
     "data": {
      "text/plain": [
       "KNeighborsClassifier()"
      ]
     },
     "execution_count": 166,
     "metadata": {},
     "output_type": "execute_result"
    },
    {
     "name": "stdout",
     "output_type": "stream",
     "text": [
      "KNeighborsClassifier() \n",
      " Accuracy: 0.956 \n",
      "\n",
      "-------------------------------------------\n"
     ]
    },
    {
     "data": {
      "text/plain": [
       "RobustScaler()"
      ]
     },
     "execution_count": 166,
     "metadata": {},
     "output_type": "execute_result"
    },
    {
     "name": "stdout",
     "output_type": "stream",
     "text": [
      "----------------- (주)에스텍시스템 ----------------------\n",
      "['생산 제조 설비 조립' '시설 보안 경비 안전' '사무보조 문서작성' '시공 현장 감리 공무' '자동차 조선 기계'\n",
      " '사무 총무 법무' '생산관리 공정관리 품질관리' '전기 전자 제어' '구매 자재' '비서 안내' '기획 전략 경영'\n",
      " '응용프로그래머' '기계설계 CAD CAM' 'IT 솔루션 기술영업' '제품 서비스영업' '홍보 PR' '해외영업 무역영업'\n",
      " '유통 물류 재고' '화학 에너지 환경' '경리 회계 결산' '인사 노무 교육' '영업관리 지원 영업기획' '재무 세무 IR'\n",
      " '외국어 번역 통역' '네트워크 서버 보안']\n"
     ]
    },
    {
     "data": {
      "text/plain": [
       "RandomForestClassifier()"
      ]
     },
     "execution_count": 166,
     "metadata": {},
     "output_type": "execute_result"
    },
    {
     "name": "stdout",
     "output_type": "stream",
     "text": [
      "RandomForestClassifier() \n",
      " Accuracy: 0.374 \n",
      "\n"
     ]
    },
    {
     "data": {
      "text/plain": [
       "DecisionTreeClassifier()"
      ]
     },
     "execution_count": 166,
     "metadata": {},
     "output_type": "execute_result"
    },
    {
     "name": "stdout",
     "output_type": "stream",
     "text": [
      "DecisionTreeClassifier() \n",
      " Accuracy: 0.379 \n",
      "\n"
     ]
    },
    {
     "data": {
      "text/plain": [
       "KNeighborsClassifier()"
      ]
     },
     "execution_count": 166,
     "metadata": {},
     "output_type": "execute_result"
    },
    {
     "name": "stdout",
     "output_type": "stream",
     "text": [
      "KNeighborsClassifier() \n",
      " Accuracy: 0.362 \n",
      "\n",
      "-------------------------------------------\n"
     ]
    },
    {
     "data": {
      "text/plain": [
       "RobustScaler()"
      ]
     },
     "execution_count": 166,
     "metadata": {},
     "output_type": "execute_result"
    },
    {
     "name": "stdout",
     "output_type": "stream",
     "text": [
      "----------------- (주)아워홈 ----------------------\n",
      "['요리 영양 제과제빵 바리스타' '판매 서빙 매장관리' '유통 물류 재고' '제품 서비스영업' '영업관리 지원 영업기획'\n",
      " '네트워크 서버 보안' '상품기획 MD' '기획 전략 경영' '인사 노무 교육' '사무 총무 법무' '생산 제조 설비 조립'\n",
      " '생산관리 공정관리 품질관리' '구매 자재' '재무 세무 IR' '사무보조 문서작성' '마케팅 광고 분석' '건축 설계 인테리어'\n",
      " '고객상담 인바운드' '외국어 번역 통역' '화학 에너지 환경' '경리 회계 결산' '응용프로그래머' '비서 안내'\n",
      " '시설 보안 경비 안전']\n"
     ]
    },
    {
     "data": {
      "text/plain": [
       "RandomForestClassifier()"
      ]
     },
     "execution_count": 166,
     "metadata": {},
     "output_type": "execute_result"
    },
    {
     "name": "stdout",
     "output_type": "stream",
     "text": [
      "RandomForestClassifier() \n",
      " Accuracy: 0.86 \n",
      "\n"
     ]
    },
    {
     "data": {
      "text/plain": [
       "DecisionTreeClassifier()"
      ]
     },
     "execution_count": 166,
     "metadata": {},
     "output_type": "execute_result"
    },
    {
     "name": "stdout",
     "output_type": "stream",
     "text": [
      "DecisionTreeClassifier() \n",
      " Accuracy: 0.776 \n",
      "\n"
     ]
    },
    {
     "data": {
      "text/plain": [
       "KNeighborsClassifier()"
      ]
     },
     "execution_count": 166,
     "metadata": {},
     "output_type": "execute_result"
    },
    {
     "name": "stdout",
     "output_type": "stream",
     "text": [
      "KNeighborsClassifier() \n",
      " Accuracy: 0.867 \n",
      "\n",
      "-------------------------------------------\n"
     ]
    },
    {
     "data": {
      "text/plain": [
       "RobustScaler()"
      ]
     },
     "execution_count": 166,
     "metadata": {},
     "output_type": "execute_result"
    },
    {
     "name": "stdout",
     "output_type": "stream",
     "text": [
      "----------------- 한국조선해양(주) ----------------------\n",
      "['인사 노무 교육' '시공 현장 감리 공무' '자동차 조선 기계' '사무 총무 법무' '영업관리 지원 영업기획'\n",
      " '기계설계 CAD CAM' '전기 전자 제어' '생산 제조 설비 조립' '건축 설계 인테리어' '구매 자재' '응용프로그래머'\n",
      " '생산관리 공정관리 품질관리' '해외영업 무역영업' '경리 회계 결산' '재무 세무 IR' '비서 안내' '기획 전략 경영'\n",
      " '외국어 번역 통역' '화학 에너지 환경' 'IT 솔루션 기술영업' '웹프로그래머' '시설 보안 경비 안전' '제품 서비스영업'\n",
      " '사무보조 문서작성' '네트워크 서버 보안' '유통 물류 재고' '홍보 PR' '반도체 디스플레이' '마케팅 광고 분석'\n",
      " '금융 보험영업' '고객상담 인바운드' '요리 영양 제과제빵 바리스타' '리서치 통계 설문']\n"
     ]
    },
    {
     "data": {
      "text/plain": [
       "RandomForestClassifier()"
      ]
     },
     "execution_count": 166,
     "metadata": {},
     "output_type": "execute_result"
    },
    {
     "name": "stdout",
     "output_type": "stream",
     "text": [
      "RandomForestClassifier() \n",
      " Accuracy: 0.22 \n",
      "\n"
     ]
    },
    {
     "data": {
      "text/plain": [
       "DecisionTreeClassifier()"
      ]
     },
     "execution_count": 166,
     "metadata": {},
     "output_type": "execute_result"
    },
    {
     "name": "stdout",
     "output_type": "stream",
     "text": [
      "DecisionTreeClassifier() \n",
      " Accuracy: 0.346 \n",
      "\n"
     ]
    },
    {
     "data": {
      "text/plain": [
       "KNeighborsClassifier()"
      ]
     },
     "execution_count": 166,
     "metadata": {},
     "output_type": "execute_result"
    },
    {
     "name": "stdout",
     "output_type": "stream",
     "text": [
      "KNeighborsClassifier() \n",
      " Accuracy: 0.232 \n",
      "\n",
      "-------------------------------------------\n"
     ]
    },
    {
     "data": {
      "text/plain": [
       "RobustScaler()"
      ]
     },
     "execution_count": 166,
     "metadata": {},
     "output_type": "execute_result"
    },
    {
     "name": "stdout",
     "output_type": "stream",
     "text": [
      "----------------- (주)유니에스 ----------------------\n",
      "['시설 보안 경비 안전' '비서 안내' '외국어 번역 통역' '사무 총무 법무' '건축 설계 인테리어' '제품 서비스영업'\n",
      " '고객상담 인바운드' 'IT 솔루션 기술영업' '사무보조 문서작성' '판매 서빙 매장관리' '해외영업 무역영업'\n",
      " '기계설계 CAD CAM' '생산 제조 설비 조립' '웹프로그래머' '홍보 PR' '경리 회계 결산' '시공 현장 감리 공무'\n",
      " '응용프로그래머' '영업관리 지원 영업기획' '기획 전략 경영' '금융 보험영업' '전기 전자 제어' '마케팅 광고 분석'\n",
      " '인사 노무 교육' '네트워크 서버 보안']\n"
     ]
    },
    {
     "data": {
      "text/plain": [
       "RandomForestClassifier()"
      ]
     },
     "execution_count": 166,
     "metadata": {},
     "output_type": "execute_result"
    },
    {
     "name": "stdout",
     "output_type": "stream",
     "text": [
      "RandomForestClassifier() \n",
      " Accuracy: 0.945 \n",
      "\n"
     ]
    },
    {
     "data": {
      "text/plain": [
       "DecisionTreeClassifier()"
      ]
     },
     "execution_count": 166,
     "metadata": {},
     "output_type": "execute_result"
    },
    {
     "name": "stdout",
     "output_type": "stream",
     "text": [
      "DecisionTreeClassifier() \n",
      " Accuracy: 0.886 \n",
      "\n"
     ]
    },
    {
     "data": {
      "text/plain": [
       "KNeighborsClassifier()"
      ]
     },
     "execution_count": 166,
     "metadata": {},
     "output_type": "execute_result"
    },
    {
     "name": "stdout",
     "output_type": "stream",
     "text": [
      "KNeighborsClassifier() \n",
      " Accuracy: 0.956 \n",
      "\n",
      "-------------------------------------------\n"
     ]
    },
    {
     "data": {
      "text/plain": [
       "RobustScaler()"
      ]
     },
     "execution_count": 166,
     "metadata": {},
     "output_type": "execute_result"
    },
    {
     "name": "stdout",
     "output_type": "stream",
     "text": [
      "----------------- (주)커피빈코리아 ----------------------\n",
      "['생산 제조 설비 조립' '시설 보안 경비 안전' '사무보조 문서작성' '시공 현장 감리 공무' '자동차 조선 기계'\n",
      " '사무 총무 법무' '생산관리 공정관리 품질관리' '전기 전자 제어' '구매 자재' '비서 안내' '기획 전략 경영'\n",
      " '응용프로그래머' '기계설계 CAD CAM' 'IT 솔루션 기술영업' '제품 서비스영업' '홍보 PR' '해외영업 무역영업'\n",
      " '유통 물류 재고' '화학 에너지 환경' '경리 회계 결산' '인사 노무 교육' '영업관리 지원 영업기획' '재무 세무 IR'\n",
      " '외국어 번역 통역' '네트워크 서버 보안']\n"
     ]
    },
    {
     "data": {
      "text/plain": [
       "RandomForestClassifier()"
      ]
     },
     "execution_count": 166,
     "metadata": {},
     "output_type": "execute_result"
    },
    {
     "name": "stdout",
     "output_type": "stream",
     "text": [
      "RandomForestClassifier() \n",
      " Accuracy: 0.38 \n",
      "\n"
     ]
    },
    {
     "data": {
      "text/plain": [
       "DecisionTreeClassifier()"
      ]
     },
     "execution_count": 166,
     "metadata": {},
     "output_type": "execute_result"
    },
    {
     "name": "stdout",
     "output_type": "stream",
     "text": [
      "DecisionTreeClassifier() \n",
      " Accuracy: 0.379 \n",
      "\n"
     ]
    },
    {
     "data": {
      "text/plain": [
       "KNeighborsClassifier()"
      ]
     },
     "execution_count": 166,
     "metadata": {},
     "output_type": "execute_result"
    },
    {
     "name": "stdout",
     "output_type": "stream",
     "text": [
      "KNeighborsClassifier() \n",
      " Accuracy: 0.362 \n",
      "\n",
      "-------------------------------------------\n"
     ]
    },
    {
     "data": {
      "text/plain": [
       "RobustScaler()"
      ]
     },
     "execution_count": 166,
     "metadata": {},
     "output_type": "execute_result"
    },
    {
     "name": "stdout",
     "output_type": "stream",
     "text": [
      "----------------- LG전자(주) ----------------------\n",
      "['요리 영양 제과제빵 바리스타' '판매 서빙 매장관리' '유통 물류 재고' '제품 서비스영업' '영업관리 지원 영업기획'\n",
      " '네트워크 서버 보안' '상품기획 MD' '기획 전략 경영' '인사 노무 교육' '사무 총무 법무' '생산 제조 설비 조립'\n",
      " '생산관리 공정관리 품질관리' '구매 자재' '재무 세무 IR' '사무보조 문서작성' '마케팅 광고 분석' '건축 설계 인테리어'\n",
      " '고객상담 인바운드' '외국어 번역 통역' '화학 에너지 환경' '경리 회계 결산' '응용프로그래머' '비서 안내'\n",
      " '시설 보안 경비 안전']\n"
     ]
    },
    {
     "data": {
      "text/plain": [
       "RandomForestClassifier()"
      ]
     },
     "execution_count": 166,
     "metadata": {},
     "output_type": "execute_result"
    },
    {
     "name": "stdout",
     "output_type": "stream",
     "text": [
      "RandomForestClassifier() \n",
      " Accuracy: 0.863 \n",
      "\n"
     ]
    },
    {
     "data": {
      "text/plain": [
       "DecisionTreeClassifier()"
      ]
     },
     "execution_count": 166,
     "metadata": {},
     "output_type": "execute_result"
    },
    {
     "name": "stdout",
     "output_type": "stream",
     "text": [
      "DecisionTreeClassifier() \n",
      " Accuracy: 0.787 \n",
      "\n"
     ]
    },
    {
     "data": {
      "text/plain": [
       "KNeighborsClassifier()"
      ]
     },
     "execution_count": 166,
     "metadata": {},
     "output_type": "execute_result"
    },
    {
     "name": "stdout",
     "output_type": "stream",
     "text": [
      "KNeighborsClassifier() \n",
      " Accuracy: 0.867 \n",
      "\n",
      "-------------------------------------------\n"
     ]
    },
    {
     "data": {
      "text/plain": [
       "RobustScaler()"
      ]
     },
     "execution_count": 166,
     "metadata": {},
     "output_type": "execute_result"
    },
    {
     "name": "stdout",
     "output_type": "stream",
     "text": [
      "----------------- 삼성카드(주) ----------------------\n",
      "['인사 노무 교육' '시공 현장 감리 공무' '자동차 조선 기계' '사무 총무 법무' '영업관리 지원 영업기획'\n",
      " '기계설계 CAD CAM' '전기 전자 제어' '생산 제조 설비 조립' '건축 설계 인테리어' '구매 자재' '응용프로그래머'\n",
      " '생산관리 공정관리 품질관리' '해외영업 무역영업' '경리 회계 결산' '재무 세무 IR' '비서 안내' '기획 전략 경영'\n",
      " '외국어 번역 통역' '화학 에너지 환경' 'IT 솔루션 기술영업' '웹프로그래머' '시설 보안 경비 안전' '제품 서비스영업'\n",
      " '사무보조 문서작성' '네트워크 서버 보안' '유통 물류 재고' '홍보 PR' '반도체 디스플레이' '마케팅 광고 분석'\n",
      " '금융 보험영업' '고객상담 인바운드' '요리 영양 제과제빵 바리스타' '리서치 통계 설문']\n"
     ]
    },
    {
     "data": {
      "text/plain": [
       "RandomForestClassifier()"
      ]
     },
     "execution_count": 166,
     "metadata": {},
     "output_type": "execute_result"
    },
    {
     "name": "stdout",
     "output_type": "stream",
     "text": [
      "RandomForestClassifier() \n",
      " Accuracy: 0.216 \n",
      "\n"
     ]
    },
    {
     "data": {
      "text/plain": [
       "DecisionTreeClassifier()"
      ]
     },
     "execution_count": 166,
     "metadata": {},
     "output_type": "execute_result"
    },
    {
     "name": "stdout",
     "output_type": "stream",
     "text": [
      "DecisionTreeClassifier() \n",
      " Accuracy: 0.333 \n",
      "\n"
     ]
    },
    {
     "data": {
      "text/plain": [
       "KNeighborsClassifier()"
      ]
     },
     "execution_count": 166,
     "metadata": {},
     "output_type": "execute_result"
    },
    {
     "name": "stdout",
     "output_type": "stream",
     "text": [
      "KNeighborsClassifier() \n",
      " Accuracy: 0.232 \n",
      "\n",
      "-------------------------------------------\n"
     ]
    },
    {
     "data": {
      "text/plain": [
       "RobustScaler()"
      ]
     },
     "execution_count": 166,
     "metadata": {},
     "output_type": "execute_result"
    },
    {
     "name": "stdout",
     "output_type": "stream",
     "text": [
      "----------------- 롯데카드(주) ----------------------\n",
      "['시설 보안 경비 안전' '비서 안내' '외국어 번역 통역' '사무 총무 법무' '건축 설계 인테리어' '제품 서비스영업'\n",
      " '고객상담 인바운드' 'IT 솔루션 기술영업' '사무보조 문서작성' '판매 서빙 매장관리' '해외영업 무역영업'\n",
      " '기계설계 CAD CAM' '생산 제조 설비 조립' '웹프로그래머' '홍보 PR' '경리 회계 결산' '시공 현장 감리 공무'\n",
      " '응용프로그래머' '영업관리 지원 영업기획' '기획 전략 경영' '금융 보험영업' '전기 전자 제어' '마케팅 광고 분석'\n",
      " '인사 노무 교육' '네트워크 서버 보안']\n"
     ]
    },
    {
     "data": {
      "text/plain": [
       "RandomForestClassifier()"
      ]
     },
     "execution_count": 166,
     "metadata": {},
     "output_type": "execute_result"
    },
    {
     "name": "stdout",
     "output_type": "stream",
     "text": [
      "RandomForestClassifier() \n",
      " Accuracy: 0.937 \n",
      "\n"
     ]
    },
    {
     "data": {
      "text/plain": [
       "DecisionTreeClassifier()"
      ]
     },
     "execution_count": 166,
     "metadata": {},
     "output_type": "execute_result"
    },
    {
     "name": "stdout",
     "output_type": "stream",
     "text": [
      "DecisionTreeClassifier() \n",
      " Accuracy: 0.875 \n",
      "\n"
     ]
    },
    {
     "data": {
      "text/plain": [
       "KNeighborsClassifier()"
      ]
     },
     "execution_count": 166,
     "metadata": {},
     "output_type": "execute_result"
    },
    {
     "name": "stdout",
     "output_type": "stream",
     "text": [
      "KNeighborsClassifier() \n",
      " Accuracy: 0.956 \n",
      "\n",
      "-------------------------------------------\n"
     ]
    },
    {
     "data": {
      "text/plain": [
       "RobustScaler()"
      ]
     },
     "execution_count": 166,
     "metadata": {},
     "output_type": "execute_result"
    },
    {
     "name": "stdout",
     "output_type": "stream",
     "text": [
      "----------------- ㈜하나은행 ----------------------\n",
      "['생산 제조 설비 조립' '시설 보안 경비 안전' '사무보조 문서작성' '시공 현장 감리 공무' '자동차 조선 기계'\n",
      " '사무 총무 법무' '생산관리 공정관리 품질관리' '전기 전자 제어' '구매 자재' '비서 안내' '기획 전략 경영'\n",
      " '응용프로그래머' '기계설계 CAD CAM' 'IT 솔루션 기술영업' '제품 서비스영업' '홍보 PR' '해외영업 무역영업'\n",
      " '유통 물류 재고' '화학 에너지 환경' '경리 회계 결산' '인사 노무 교육' '영업관리 지원 영업기획' '재무 세무 IR'\n",
      " '외국어 번역 통역' '네트워크 서버 보안']\n"
     ]
    },
    {
     "data": {
      "text/plain": [
       "RandomForestClassifier()"
      ]
     },
     "execution_count": 166,
     "metadata": {},
     "output_type": "execute_result"
    },
    {
     "name": "stdout",
     "output_type": "stream",
     "text": [
      "RandomForestClassifier() \n",
      " Accuracy: 0.358 \n",
      "\n"
     ]
    },
    {
     "data": {
      "text/plain": [
       "DecisionTreeClassifier()"
      ]
     },
     "execution_count": 166,
     "metadata": {},
     "output_type": "execute_result"
    },
    {
     "name": "stdout",
     "output_type": "stream",
     "text": [
      "DecisionTreeClassifier() \n",
      " Accuracy: 0.38 \n",
      "\n"
     ]
    },
    {
     "data": {
      "text/plain": [
       "KNeighborsClassifier()"
      ]
     },
     "execution_count": 166,
     "metadata": {},
     "output_type": "execute_result"
    },
    {
     "name": "stdout",
     "output_type": "stream",
     "text": [
      "KNeighborsClassifier() \n",
      " Accuracy: 0.362 \n",
      "\n",
      "-------------------------------------------\n"
     ]
    },
    {
     "data": {
      "text/plain": [
       "RobustScaler()"
      ]
     },
     "execution_count": 166,
     "metadata": {},
     "output_type": "execute_result"
    },
    {
     "name": "stdout",
     "output_type": "stream",
     "text": [
      "----------------- 비씨카드(주) ----------------------\n",
      "['요리 영양 제과제빵 바리스타' '판매 서빙 매장관리' '유통 물류 재고' '제품 서비스영업' '영업관리 지원 영업기획'\n",
      " '네트워크 서버 보안' '상품기획 MD' '기획 전략 경영' '인사 노무 교육' '사무 총무 법무' '생산 제조 설비 조립'\n",
      " '생산관리 공정관리 품질관리' '구매 자재' '재무 세무 IR' '사무보조 문서작성' '마케팅 광고 분석' '건축 설계 인테리어'\n",
      " '고객상담 인바운드' '외국어 번역 통역' '화학 에너지 환경' '경리 회계 결산' '응용프로그래머' '비서 안내'\n",
      " '시설 보안 경비 안전']\n"
     ]
    },
    {
     "data": {
      "text/plain": [
       "RandomForestClassifier()"
      ]
     },
     "execution_count": 166,
     "metadata": {},
     "output_type": "execute_result"
    },
    {
     "name": "stdout",
     "output_type": "stream",
     "text": [
      "RandomForestClassifier() \n",
      " Accuracy: 0.86 \n",
      "\n"
     ]
    },
    {
     "data": {
      "text/plain": [
       "DecisionTreeClassifier()"
      ]
     },
     "execution_count": 166,
     "metadata": {},
     "output_type": "execute_result"
    },
    {
     "name": "stdout",
     "output_type": "stream",
     "text": [
      "DecisionTreeClassifier() \n",
      " Accuracy: 0.79 \n",
      "\n"
     ]
    },
    {
     "data": {
      "text/plain": [
       "KNeighborsClassifier()"
      ]
     },
     "execution_count": 166,
     "metadata": {},
     "output_type": "execute_result"
    },
    {
     "name": "stdout",
     "output_type": "stream",
     "text": [
      "KNeighborsClassifier() \n",
      " Accuracy: 0.867 \n",
      "\n",
      "-------------------------------------------\n"
     ]
    },
    {
     "data": {
      "text/plain": [
       "RobustScaler()"
      ]
     },
     "execution_count": 166,
     "metadata": {},
     "output_type": "execute_result"
    },
    {
     "name": "stdout",
     "output_type": "stream",
     "text": [
      "----------------- 롯데쇼핑(주) ----------------------\n",
      "['인사 노무 교육' '시공 현장 감리 공무' '자동차 조선 기계' '사무 총무 법무' '영업관리 지원 영업기획'\n",
      " '기계설계 CAD CAM' '전기 전자 제어' '생산 제조 설비 조립' '건축 설계 인테리어' '구매 자재' '응용프로그래머'\n",
      " '생산관리 공정관리 품질관리' '해외영업 무역영업' '경리 회계 결산' '재무 세무 IR' '비서 안내' '기획 전략 경영'\n",
      " '외국어 번역 통역' '화학 에너지 환경' 'IT 솔루션 기술영업' '웹프로그래머' '시설 보안 경비 안전' '제품 서비스영업'\n",
      " '사무보조 문서작성' '네트워크 서버 보안' '유통 물류 재고' '홍보 PR' '반도체 디스플레이' '마케팅 광고 분석'\n",
      " '금융 보험영업' '고객상담 인바운드' '요리 영양 제과제빵 바리스타' '리서치 통계 설문']\n"
     ]
    },
    {
     "data": {
      "text/plain": [
       "RandomForestClassifier()"
      ]
     },
     "execution_count": 166,
     "metadata": {},
     "output_type": "execute_result"
    },
    {
     "name": "stdout",
     "output_type": "stream",
     "text": [
      "RandomForestClassifier() \n",
      " Accuracy: 0.195 \n",
      "\n"
     ]
    },
    {
     "data": {
      "text/plain": [
       "DecisionTreeClassifier()"
      ]
     },
     "execution_count": 166,
     "metadata": {},
     "output_type": "execute_result"
    },
    {
     "name": "stdout",
     "output_type": "stream",
     "text": [
      "DecisionTreeClassifier() \n",
      " Accuracy: 0.334 \n",
      "\n"
     ]
    },
    {
     "data": {
      "text/plain": [
       "KNeighborsClassifier()"
      ]
     },
     "execution_count": 166,
     "metadata": {},
     "output_type": "execute_result"
    },
    {
     "name": "stdout",
     "output_type": "stream",
     "text": [
      "KNeighborsClassifier() \n",
      " Accuracy: 0.232 \n",
      "\n",
      "-------------------------------------------\n"
     ]
    },
    {
     "data": {
      "text/plain": [
       "RobustScaler()"
      ]
     },
     "execution_count": 166,
     "metadata": {},
     "output_type": "execute_result"
    },
    {
     "name": "stdout",
     "output_type": "stream",
     "text": [
      "----------------- 대우조선해양(주) ----------------------\n",
      "['시설 보안 경비 안전' '비서 안내' '외국어 번역 통역' '사무 총무 법무' '건축 설계 인테리어' '제품 서비스영업'\n",
      " '고객상담 인바운드' 'IT 솔루션 기술영업' '사무보조 문서작성' '판매 서빙 매장관리' '해외영업 무역영업'\n",
      " '기계설계 CAD CAM' '생산 제조 설비 조립' '웹프로그래머' '홍보 PR' '경리 회계 결산' '시공 현장 감리 공무'\n",
      " '응용프로그래머' '영업관리 지원 영업기획' '기획 전략 경영' '금융 보험영업' '전기 전자 제어' '마케팅 광고 분석'\n",
      " '인사 노무 교육' '네트워크 서버 보안']\n"
     ]
    },
    {
     "data": {
      "text/plain": [
       "RandomForestClassifier()"
      ]
     },
     "execution_count": 166,
     "metadata": {},
     "output_type": "execute_result"
    },
    {
     "name": "stdout",
     "output_type": "stream",
     "text": [
      "RandomForestClassifier() \n",
      " Accuracy: 0.945 \n",
      "\n"
     ]
    },
    {
     "data": {
      "text/plain": [
       "DecisionTreeClassifier()"
      ]
     },
     "execution_count": 166,
     "metadata": {},
     "output_type": "execute_result"
    },
    {
     "name": "stdout",
     "output_type": "stream",
     "text": [
      "DecisionTreeClassifier() \n",
      " Accuracy: 0.886 \n",
      "\n"
     ]
    },
    {
     "data": {
      "text/plain": [
       "KNeighborsClassifier()"
      ]
     },
     "execution_count": 166,
     "metadata": {},
     "output_type": "execute_result"
    },
    {
     "name": "stdout",
     "output_type": "stream",
     "text": [
      "KNeighborsClassifier() \n",
      " Accuracy: 0.956 \n",
      "\n",
      "-------------------------------------------\n"
     ]
    },
    {
     "data": {
      "text/plain": [
       "RobustScaler()"
      ]
     },
     "execution_count": 166,
     "metadata": {},
     "output_type": "execute_result"
    },
    {
     "name": "stdout",
     "output_type": "stream",
     "text": [
      "----------------- (주)호텔신라 ----------------------\n",
      "['생산 제조 설비 조립' '시설 보안 경비 안전' '사무보조 문서작성' '시공 현장 감리 공무' '자동차 조선 기계'\n",
      " '사무 총무 법무' '생산관리 공정관리 품질관리' '전기 전자 제어' '구매 자재' '비서 안내' '기획 전략 경영'\n",
      " '응용프로그래머' '기계설계 CAD CAM' 'IT 솔루션 기술영업' '제품 서비스영업' '홍보 PR' '해외영업 무역영업'\n",
      " '유통 물류 재고' '화학 에너지 환경' '경리 회계 결산' '인사 노무 교육' '영업관리 지원 영업기획' '재무 세무 IR'\n",
      " '외국어 번역 통역' '네트워크 서버 보안']\n"
     ]
    },
    {
     "data": {
      "text/plain": [
       "RandomForestClassifier()"
      ]
     },
     "execution_count": 166,
     "metadata": {},
     "output_type": "execute_result"
    },
    {
     "name": "stdout",
     "output_type": "stream",
     "text": [
      "RandomForestClassifier() \n",
      " Accuracy: 0.33 \n",
      "\n"
     ]
    },
    {
     "data": {
      "text/plain": [
       "DecisionTreeClassifier()"
      ]
     },
     "execution_count": 166,
     "metadata": {},
     "output_type": "execute_result"
    },
    {
     "name": "stdout",
     "output_type": "stream",
     "text": [
      "DecisionTreeClassifier() \n",
      " Accuracy: 0.369 \n",
      "\n"
     ]
    },
    {
     "data": {
      "text/plain": [
       "KNeighborsClassifier()"
      ]
     },
     "execution_count": 166,
     "metadata": {},
     "output_type": "execute_result"
    },
    {
     "name": "stdout",
     "output_type": "stream",
     "text": [
      "KNeighborsClassifier() \n",
      " Accuracy: 0.362 \n",
      "\n",
      "-------------------------------------------\n"
     ]
    },
    {
     "data": {
      "text/plain": [
       "RobustScaler()"
      ]
     },
     "execution_count": 166,
     "metadata": {},
     "output_type": "execute_result"
    },
    {
     "name": "stdout",
     "output_type": "stream",
     "text": [
      "----------------- 삼성생명보험(주) ----------------------\n",
      "['요리 영양 제과제빵 바리스타' '판매 서빙 매장관리' '유통 물류 재고' '제품 서비스영업' '영업관리 지원 영업기획'\n",
      " '네트워크 서버 보안' '상품기획 MD' '기획 전략 경영' '인사 노무 교육' '사무 총무 법무' '생산 제조 설비 조립'\n",
      " '생산관리 공정관리 품질관리' '구매 자재' '재무 세무 IR' '사무보조 문서작성' '마케팅 광고 분석' '건축 설계 인테리어'\n",
      " '고객상담 인바운드' '외국어 번역 통역' '화학 에너지 환경' '경리 회계 결산' '응용프로그래머' '비서 안내'\n",
      " '시설 보안 경비 안전']\n"
     ]
    },
    {
     "data": {
      "text/plain": [
       "RandomForestClassifier()"
      ]
     },
     "execution_count": 166,
     "metadata": {},
     "output_type": "execute_result"
    },
    {
     "name": "stdout",
     "output_type": "stream",
     "text": [
      "RandomForestClassifier() \n",
      " Accuracy: 0.863 \n",
      "\n"
     ]
    },
    {
     "data": {
      "text/plain": [
       "DecisionTreeClassifier()"
      ]
     },
     "execution_count": 166,
     "metadata": {},
     "output_type": "execute_result"
    },
    {
     "name": "stdout",
     "output_type": "stream",
     "text": [
      "DecisionTreeClassifier() \n",
      " Accuracy: 0.78 \n",
      "\n"
     ]
    },
    {
     "data": {
      "text/plain": [
       "KNeighborsClassifier()"
      ]
     },
     "execution_count": 166,
     "metadata": {},
     "output_type": "execute_result"
    },
    {
     "name": "stdout",
     "output_type": "stream",
     "text": [
      "KNeighborsClassifier() \n",
      " Accuracy: 0.867 \n",
      "\n",
      "-------------------------------------------\n"
     ]
    },
    {
     "data": {
      "text/plain": [
       "RobustScaler()"
      ]
     },
     "execution_count": 166,
     "metadata": {},
     "output_type": "execute_result"
    },
    {
     "name": "stdout",
     "output_type": "stream",
     "text": [
      "----------------- (주)우리은행 ----------------------\n",
      "['인사 노무 교육' '시공 현장 감리 공무' '자동차 조선 기계' '사무 총무 법무' '영업관리 지원 영업기획'\n",
      " '기계설계 CAD CAM' '전기 전자 제어' '생산 제조 설비 조립' '건축 설계 인테리어' '구매 자재' '응용프로그래머'\n",
      " '생산관리 공정관리 품질관리' '해외영업 무역영업' '경리 회계 결산' '재무 세무 IR' '비서 안내' '기획 전략 경영'\n",
      " '외국어 번역 통역' '화학 에너지 환경' 'IT 솔루션 기술영업' '웹프로그래머' '시설 보안 경비 안전' '제품 서비스영업'\n",
      " '사무보조 문서작성' '네트워크 서버 보안' '유통 물류 재고' '홍보 PR' '반도체 디스플레이' '마케팅 광고 분석'\n",
      " '금융 보험영업' '고객상담 인바운드' '요리 영양 제과제빵 바리스타' '리서치 통계 설문']\n"
     ]
    },
    {
     "data": {
      "text/plain": [
       "RandomForestClassifier()"
      ]
     },
     "execution_count": 166,
     "metadata": {},
     "output_type": "execute_result"
    },
    {
     "name": "stdout",
     "output_type": "stream",
     "text": [
      "RandomForestClassifier() \n",
      " Accuracy: 0.224 \n",
      "\n"
     ]
    },
    {
     "data": {
      "text/plain": [
       "DecisionTreeClassifier()"
      ]
     },
     "execution_count": 166,
     "metadata": {},
     "output_type": "execute_result"
    },
    {
     "name": "stdout",
     "output_type": "stream",
     "text": [
      "DecisionTreeClassifier() \n",
      " Accuracy: 0.362 \n",
      "\n"
     ]
    },
    {
     "data": {
      "text/plain": [
       "KNeighborsClassifier()"
      ]
     },
     "execution_count": 166,
     "metadata": {},
     "output_type": "execute_result"
    },
    {
     "name": "stdout",
     "output_type": "stream",
     "text": [
      "KNeighborsClassifier() \n",
      " Accuracy: 0.232 \n",
      "\n",
      "-------------------------------------------\n"
     ]
    }
   ],
   "source": [
    "# 리스트 1\n",
    "# 상위 20개 합격회사 조회\n",
    "for k in range(0,20):\n",
    "    data_copy = data[data['합격회사']==list_2[i]]\n",
    "    list_1 = (data_copy['부서'].unique())\n",
    "   \n",
    "    list380 = []\n",
    "    list370 = []     \n",
    "    list360 = []  \n",
    "    list350 = []\n",
    "    list340 = []\n",
    "    list330 = []\n",
    "    list320 = []\n",
    "    list310 = []\n",
    "    list300 = []\n",
    "    list270 = []\n",
    "    list260 = []    \n",
    "    list250 = []\n",
    "    list235 = []\n",
    "    list230 = []\n",
    "    list220 = []\n",
    "    list210 = []\n",
    "    list200 = []\n",
    "    list190 = []\n",
    "    list180 = []\n",
    "    list170 = []\n",
    "    list150 = []\n",
    "    list130 = []\n",
    "    list100 = []\n",
    "\n",
    "# 부서별 스펙지수별로 라벨링 나누기\n",
    "    for i in range(len(list_1)): \n",
    "     # 부서별 스펙지수별로 리스트 저장\n",
    "        if(data_copy[data_copy['부서']==list_1[i]]['스펙지수'].mean()>300):        \n",
    "            list300.append(list_1[i])\n",
    "        elif(data_copy[data_copy['부서']==list_1[i]]['스펙지수'].mean()>280):        \n",
    "            list280.append(list_1[i])\n",
    "        elif(data_copy[data_copy['부서']==list_1[i]]['스펙지수'].mean()>235):        \n",
    "            list235.append(list_1[i])\n",
    "        elif(data_copy[data_copy['부서']==list_1[i]]['스펙지수'].mean()>150):        \n",
    "            list150.append(list_1[i])\n",
    "        elif (data_copy[data_copy['부서']==list_1[i]]['스펙지수'].mean()<150): \n",
    "            list100.append(list_1[i])\n",
    "\n",
    "# 부서별 스펙지수로 라벨 값 변경\n",
    "    for i in range(len(list300)):\n",
    "        b = data_copy['부서'].str.contains(list300[i])\n",
    "        data_copy['부서'][b] = '300'\n",
    "    \n",
    "    for i in range(len(list280)):\n",
    "        b = data_copy['부서'].str.contains(list280[i])\n",
    "        data_copy['부서'][b] = '280'\n",
    "        \n",
    "    for i in range(len(list235)):\n",
    "        b = data_copy['부서'].str.contains(list235[i])\n",
    "        data_copy['부서'][b] = '235'\n",
    "\n",
    "    for i in range(len(list150)):\n",
    "        b = data_copy['부서'].str.contains(list150[i])\n",
    "        data_copy['부서'][b] = '150'\n",
    "    \n",
    "    for i in range(len(list100)):\n",
    "        b = data_copy['부서'].str.contains(list100[i])\n",
    "        data_copy['부서'][b] = '100' \n",
    "\n",
    "# RobustScaler로 정규화\n",
    "    from sklearn.preprocessing import RobustScaler\n",
    "    X = data_copy.iloc[:, 2:14]\n",
    "    y = data_copy['부서']\n",
    "    y_1 = data_copy['부서']\n",
    "    y = pd.get_dummies(y)\n",
    "\n",
    "# 모델 정의\n",
    "    transformer = RobustScaler()\n",
    "    transformer.fit(X)\n",
    "    X = transformer.transform(X)\n",
    "    \n",
    "    lR = LogisticRegression()\n",
    "    rf = RandomForestClassifier()\n",
    "    dt = DecisionTreeClassifier()\n",
    "    kn = KNeighborsClassifier()\n",
    "    lr = LogisticRegression()\n",
    "    \n",
    "# 데이터 분리\n",
    "    X_train, X_test, y_train, y_test = train_test_split(X, y, test_size=0.4, shuffle=True, random_state=8)\n",
    "    \n",
    "    print(\"----------------- {} ----------------------\".format(list_2[k]))\n",
    "    print(list_1)\n",
    "    models = [rf, dt, kn]\n",
    "    for model in models:\n",
    "        model.fit(X_train, y_train)\n",
    "        pre = model.predict(X_test)\n",
    "        scores = cross_val_score(model, X_test, y_test, cv=5).mean().round(3)\n",
    "        #f1score = metrics.f1_score(y_test, y_pred).round(3)\n",
    "        print(model, '\\n', 'Accuracy:', scores, '\\n')\n",
    "    print(\"-------------------------------------------\")\n",
    "    \n",
    "   \n",
    "    "
   ]
  },
  {
   "cell_type": "code",
   "execution_count": 186,
   "metadata": {},
   "outputs": [
    {
     "data": {
      "text/plain": [
       "RobustScaler()"
      ]
     },
     "execution_count": 186,
     "metadata": {},
     "output_type": "execute_result"
    },
    {
     "name": "stdout",
     "output_type": "stream",
     "text": [
      "----------------- 현대카드(주) ----------------------\n",
      "['요리 영양 제과제빵 바리스타' '판매 서빙 매장관리' '유통 물류 재고' '제품 서비스영업' '영업관리 지원 영업기획'\n",
      " '네트워크 서버 보안' '상품기획 MD' '기획 전략 경영' '인사 노무 교육' '사무 총무 법무' '생산 제조 설비 조립'\n",
      " '생산관리 공정관리 품질관리' '구매 자재' '재무 세무 IR' '사무보조 문서작성' '마케팅 광고 분석' '건축 설계 인테리어'\n",
      " '고객상담 인바운드' '외국어 번역 통역' '화학 에너지 환경' '경리 회계 결산' '응용프로그래머' '비서 안내'\n",
      " '시설 보안 경비 안전']\n"
     ]
    },
    {
     "data": {
      "text/plain": [
       "RandomForestClassifier()"
      ]
     },
     "execution_count": 186,
     "metadata": {},
     "output_type": "execute_result"
    },
    {
     "name": "stdout",
     "output_type": "stream",
     "text": [
      "RandomForestClassifier() \n",
      " Accuracy: 0.715 \n",
      " Predict\n"
     ]
    },
    {
     "data": {
      "text/plain": [
       "DecisionTreeClassifier()"
      ]
     },
     "execution_count": 186,
     "metadata": {},
     "output_type": "execute_result"
    },
    {
     "name": "stdout",
     "output_type": "stream",
     "text": [
      "DecisionTreeClassifier() \n",
      " Accuracy: 0.654 \n",
      " Predict\n"
     ]
    },
    {
     "data": {
      "text/plain": [
       "KNeighborsClassifier()"
      ]
     },
     "execution_count": 186,
     "metadata": {},
     "output_type": "execute_result"
    },
    {
     "name": "stdout",
     "output_type": "stream",
     "text": [
      "KNeighborsClassifier() \n",
      " Accuracy: 0.729 \n",
      " Predict\n",
      "-------------------------------------------\n"
     ]
    },
    {
     "data": {
      "text/plain": [
       "RobustScaler()"
      ]
     },
     "execution_count": 186,
     "metadata": {},
     "output_type": "execute_result"
    },
    {
     "name": "stdout",
     "output_type": "stream",
     "text": [
      "----------------- 삼성전자(주) ----------------------\n",
      "['시설 보안 경비 안전' '비서 안내' '외국어 번역 통역' '사무 총무 법무' '건축 설계 인테리어' '제품 서비스영업'\n",
      " '고객상담 인바운드' 'IT 솔루션 기술영업' '사무보조 문서작성' '판매 서빙 매장관리' '해외영업 무역영업'\n",
      " '기계설계 CAD CAM' '생산 제조 설비 조립' '웹프로그래머' '홍보 PR' '경리 회계 결산' '시공 현장 감리 공무'\n",
      " '응용프로그래머' '영업관리 지원 영업기획' '기획 전략 경영' '금융 보험영업' '전기 전자 제어' '마케팅 광고 분석'\n",
      " '인사 노무 교육' '네트워크 서버 보안']\n"
     ]
    },
    {
     "data": {
      "text/plain": [
       "RandomForestClassifier()"
      ]
     },
     "execution_count": 186,
     "metadata": {},
     "output_type": "execute_result"
    },
    {
     "name": "stdout",
     "output_type": "stream",
     "text": [
      "RandomForestClassifier() \n",
      " Accuracy: 0.779 \n",
      " Predict\n"
     ]
    },
    {
     "data": {
      "text/plain": [
       "DecisionTreeClassifier()"
      ]
     },
     "execution_count": 186,
     "metadata": {},
     "output_type": "execute_result"
    },
    {
     "name": "stdout",
     "output_type": "stream",
     "text": [
      "DecisionTreeClassifier() \n",
      " Accuracy: 0.691 \n",
      " Predict\n"
     ]
    },
    {
     "data": {
      "text/plain": [
       "KNeighborsClassifier()"
      ]
     },
     "execution_count": 186,
     "metadata": {},
     "output_type": "execute_result"
    },
    {
     "name": "stdout",
     "output_type": "stream",
     "text": [
      "KNeighborsClassifier() \n",
      " Accuracy: 0.814 \n",
      " Predict\n",
      "-------------------------------------------\n"
     ]
    },
    {
     "data": {
      "text/plain": [
       "RobustScaler()"
      ]
     },
     "execution_count": 186,
     "metadata": {},
     "output_type": "execute_result"
    },
    {
     "name": "stdout",
     "output_type": "stream",
     "text": [
      "----------------- 현대캐피탈(주) ----------------------\n",
      "['마케팅 광고 분석' '고객상담 인바운드' '금융 보험영업' '영업관리 지원 영업기획' '경리 회계 결산' '응용프로그래머'\n",
      " '웹프로그래머' '사무 총무 법무' '기획 전략 경영' '사무보조 문서작성' '인사 노무 교육' '상품기획 MD' '비서 안내'\n",
      " '재무 세무 IR' '구매 자재' '리서치 통계 설문' '웹기획 PM' '네트워크 서버 보안' '생산 제조 설비 조립'\n",
      " '판매 서빙 매장관리' '홍보 PR' '제품 서비스영업' '생산관리 공정관리 품질관리']\n"
     ]
    },
    {
     "data": {
      "text/plain": [
       "RandomForestClassifier()"
      ]
     },
     "execution_count": 186,
     "metadata": {},
     "output_type": "execute_result"
    },
    {
     "name": "stdout",
     "output_type": "stream",
     "text": [
      "RandomForestClassifier() \n",
      " Accuracy: 0.376 \n",
      " Predict\n"
     ]
    },
    {
     "data": {
      "text/plain": [
       "DecisionTreeClassifier()"
      ]
     },
     "execution_count": 186,
     "metadata": {},
     "output_type": "execute_result"
    },
    {
     "name": "stdout",
     "output_type": "stream",
     "text": [
      "DecisionTreeClassifier() \n",
      " Accuracy: 0.447 \n",
      " Predict\n"
     ]
    },
    {
     "data": {
      "text/plain": [
       "KNeighborsClassifier()"
      ]
     },
     "execution_count": 186,
     "metadata": {},
     "output_type": "execute_result"
    },
    {
     "name": "stdout",
     "output_type": "stream",
     "text": [
      "KNeighborsClassifier() \n",
      " Accuracy: 0.34 \n",
      " Predict\n",
      "-------------------------------------------\n"
     ]
    },
    {
     "data": {
      "text/plain": [
       "RobustScaler()"
      ]
     },
     "execution_count": 186,
     "metadata": {},
     "output_type": "execute_result"
    },
    {
     "name": "stdout",
     "output_type": "stream",
     "text": [
      "----------------- (주)스타벅스커피코리아 ----------------------\n",
      "['기계설계 CAD CAM' '사무보조 문서작성' '구매 자재' '생산관리 공정관리 품질관리' '사무 총무 법무' '경리 회계 결산'\n",
      " '재무 세무 IR' '자동차 조선 기계' '전기 전자 제어' '화학 에너지 환경' '생산 제조 설비 조립' '건축 설계 인테리어'\n",
      " '비서 안내' '외국어 번역 통역' '인사 노무 교육' '시공 현장 감리 공무' '영업관리 지원 영업기획' '기획 전략 경영'\n",
      " '판매 서빙 매장관리' '해외영업 무역영업' '웹프로그래머' '홍보 PR' '시설 보안 경비 안전' '응용프로그래머'\n",
      " '금융 보험영업' '마케팅 광고 분석' '유통 물류 재고' '요리 영양 제과제빵 바리스타' '네트워크 서버 보안'\n",
      " '제품 서비스영업' '리서치 통계 설문' 'IT 솔루션 기술영업']\n"
     ]
    },
    {
     "data": {
      "text/plain": [
       "RandomForestClassifier()"
      ]
     },
     "execution_count": 186,
     "metadata": {},
     "output_type": "execute_result"
    },
    {
     "name": "stdout",
     "output_type": "stream",
     "text": [
      "RandomForestClassifier() \n",
      " Accuracy: 0.346 \n",
      " Predict\n"
     ]
    },
    {
     "data": {
      "text/plain": [
       "DecisionTreeClassifier()"
      ]
     },
     "execution_count": 186,
     "metadata": {},
     "output_type": "execute_result"
    },
    {
     "name": "stdout",
     "output_type": "stream",
     "text": [
      "DecisionTreeClassifier() \n",
      " Accuracy: 0.439 \n",
      " Predict\n"
     ]
    },
    {
     "data": {
      "text/plain": [
       "KNeighborsClassifier()"
      ]
     },
     "execution_count": 186,
     "metadata": {},
     "output_type": "execute_result"
    },
    {
     "name": "stdout",
     "output_type": "stream",
     "text": [
      "KNeighborsClassifier() \n",
      " Accuracy: 0.322 \n",
      " Predict\n",
      "-------------------------------------------\n"
     ]
    },
    {
     "data": {
      "text/plain": [
       "RobustScaler()"
      ]
     },
     "execution_count": 186,
     "metadata": {},
     "output_type": "execute_result"
    },
    {
     "name": "stdout",
     "output_type": "stream",
     "text": [
      "----------------- 두산중공업(주) ----------------------\n",
      "['요리 영양 제과제빵 바리스타' '판매 서빙 매장관리' '유통 물류 재고' '제품 서비스영업' '영업관리 지원 영업기획'\n",
      " '네트워크 서버 보안' '상품기획 MD' '기획 전략 경영' '인사 노무 교육' '사무 총무 법무' '생산 제조 설비 조립'\n",
      " '생산관리 공정관리 품질관리' '구매 자재' '재무 세무 IR' '사무보조 문서작성' '마케팅 광고 분석' '건축 설계 인테리어'\n",
      " '고객상담 인바운드' '외국어 번역 통역' '화학 에너지 환경' '경리 회계 결산' '응용프로그래머' '비서 안내'\n",
      " '시설 보안 경비 안전']\n"
     ]
    },
    {
     "data": {
      "text/plain": [
       "RandomForestClassifier()"
      ]
     },
     "execution_count": 186,
     "metadata": {},
     "output_type": "execute_result"
    },
    {
     "name": "stdout",
     "output_type": "stream",
     "text": [
      "RandomForestClassifier() \n",
      " Accuracy: 0.687 \n",
      " Predict\n"
     ]
    },
    {
     "data": {
      "text/plain": [
       "DecisionTreeClassifier()"
      ]
     },
     "execution_count": 186,
     "metadata": {},
     "output_type": "execute_result"
    },
    {
     "name": "stdout",
     "output_type": "stream",
     "text": [
      "DecisionTreeClassifier() \n",
      " Accuracy: 0.65 \n",
      " Predict\n"
     ]
    },
    {
     "data": {
      "text/plain": [
       "KNeighborsClassifier()"
      ]
     },
     "execution_count": 186,
     "metadata": {},
     "output_type": "execute_result"
    },
    {
     "name": "stdout",
     "output_type": "stream",
     "text": [
      "KNeighborsClassifier() \n",
      " Accuracy: 0.729 \n",
      " Predict\n",
      "-------------------------------------------\n"
     ]
    },
    {
     "data": {
      "text/plain": [
       "RobustScaler()"
      ]
     },
     "execution_count": 186,
     "metadata": {},
     "output_type": "execute_result"
    },
    {
     "name": "stdout",
     "output_type": "stream",
     "text": [
      "----------------- (주)에스텍시스템 ----------------------\n",
      "['시설 보안 경비 안전' '비서 안내' '외국어 번역 통역' '사무 총무 법무' '건축 설계 인테리어' '제품 서비스영업'\n",
      " '고객상담 인바운드' 'IT 솔루션 기술영업' '사무보조 문서작성' '판매 서빙 매장관리' '해외영업 무역영업'\n",
      " '기계설계 CAD CAM' '생산 제조 설비 조립' '웹프로그래머' '홍보 PR' '경리 회계 결산' '시공 현장 감리 공무'\n",
      " '응용프로그래머' '영업관리 지원 영업기획' '기획 전략 경영' '금융 보험영업' '전기 전자 제어' '마케팅 광고 분석'\n",
      " '인사 노무 교육' '네트워크 서버 보안']\n"
     ]
    },
    {
     "data": {
      "text/plain": [
       "RandomForestClassifier()"
      ]
     },
     "execution_count": 186,
     "metadata": {},
     "output_type": "execute_result"
    },
    {
     "name": "stdout",
     "output_type": "stream",
     "text": [
      "RandomForestClassifier() \n",
      " Accuracy: 0.769 \n",
      " Predict\n"
     ]
    },
    {
     "data": {
      "text/plain": [
       "DecisionTreeClassifier()"
      ]
     },
     "execution_count": 186,
     "metadata": {},
     "output_type": "execute_result"
    },
    {
     "name": "stdout",
     "output_type": "stream",
     "text": [
      "DecisionTreeClassifier() \n",
      " Accuracy: 0.696 \n",
      " Predict\n"
     ]
    },
    {
     "data": {
      "text/plain": [
       "KNeighborsClassifier()"
      ]
     },
     "execution_count": 186,
     "metadata": {},
     "output_type": "execute_result"
    },
    {
     "name": "stdout",
     "output_type": "stream",
     "text": [
      "KNeighborsClassifier() \n",
      " Accuracy: 0.814 \n",
      " Predict\n",
      "-------------------------------------------\n"
     ]
    },
    {
     "data": {
      "text/plain": [
       "RobustScaler()"
      ]
     },
     "execution_count": 186,
     "metadata": {},
     "output_type": "execute_result"
    },
    {
     "name": "stdout",
     "output_type": "stream",
     "text": [
      "----------------- (주)아워홈 ----------------------\n",
      "['마케팅 광고 분석' '고객상담 인바운드' '금융 보험영업' '영업관리 지원 영업기획' '경리 회계 결산' '응용프로그래머'\n",
      " '웹프로그래머' '사무 총무 법무' '기획 전략 경영' '사무보조 문서작성' '인사 노무 교육' '상품기획 MD' '비서 안내'\n",
      " '재무 세무 IR' '구매 자재' '리서치 통계 설문' '웹기획 PM' '네트워크 서버 보안' '생산 제조 설비 조립'\n",
      " '판매 서빙 매장관리' '홍보 PR' '제품 서비스영업' '생산관리 공정관리 품질관리']\n"
     ]
    },
    {
     "data": {
      "text/plain": [
       "RandomForestClassifier()"
      ]
     },
     "execution_count": 186,
     "metadata": {},
     "output_type": "execute_result"
    },
    {
     "name": "stdout",
     "output_type": "stream",
     "text": [
      "RandomForestClassifier() \n",
      " Accuracy: 0.376 \n",
      " Predict\n"
     ]
    },
    {
     "data": {
      "text/plain": [
       "DecisionTreeClassifier()"
      ]
     },
     "execution_count": 186,
     "metadata": {},
     "output_type": "execute_result"
    },
    {
     "name": "stdout",
     "output_type": "stream",
     "text": [
      "DecisionTreeClassifier() \n",
      " Accuracy: 0.433 \n",
      " Predict\n"
     ]
    },
    {
     "data": {
      "text/plain": [
       "KNeighborsClassifier()"
      ]
     },
     "execution_count": 186,
     "metadata": {},
     "output_type": "execute_result"
    },
    {
     "name": "stdout",
     "output_type": "stream",
     "text": [
      "KNeighborsClassifier() \n",
      " Accuracy: 0.34 \n",
      " Predict\n",
      "-------------------------------------------\n"
     ]
    },
    {
     "data": {
      "text/plain": [
       "RobustScaler()"
      ]
     },
     "execution_count": 186,
     "metadata": {},
     "output_type": "execute_result"
    },
    {
     "name": "stdout",
     "output_type": "stream",
     "text": [
      "----------------- 한국조선해양(주) ----------------------\n",
      "['기계설계 CAD CAM' '사무보조 문서작성' '구매 자재' '생산관리 공정관리 품질관리' '사무 총무 법무' '경리 회계 결산'\n",
      " '재무 세무 IR' '자동차 조선 기계' '전기 전자 제어' '화학 에너지 환경' '생산 제조 설비 조립' '건축 설계 인테리어'\n",
      " '비서 안내' '외국어 번역 통역' '인사 노무 교육' '시공 현장 감리 공무' '영업관리 지원 영업기획' '기획 전략 경영'\n",
      " '판매 서빙 매장관리' '해외영업 무역영업' '웹프로그래머' '홍보 PR' '시설 보안 경비 안전' '응용프로그래머'\n",
      " '금융 보험영업' '마케팅 광고 분석' '유통 물류 재고' '요리 영양 제과제빵 바리스타' '네트워크 서버 보안'\n",
      " '제품 서비스영업' '리서치 통계 설문' 'IT 솔루션 기술영업']\n"
     ]
    },
    {
     "data": {
      "text/plain": [
       "RandomForestClassifier()"
      ]
     },
     "execution_count": 186,
     "metadata": {},
     "output_type": "execute_result"
    },
    {
     "name": "stdout",
     "output_type": "stream",
     "text": [
      "RandomForestClassifier() \n",
      " Accuracy: 0.361 \n",
      " Predict\n"
     ]
    },
    {
     "data": {
      "text/plain": [
       "DecisionTreeClassifier()"
      ]
     },
     "execution_count": 186,
     "metadata": {},
     "output_type": "execute_result"
    },
    {
     "name": "stdout",
     "output_type": "stream",
     "text": [
      "DecisionTreeClassifier() \n",
      " Accuracy: 0.454 \n",
      " Predict\n"
     ]
    },
    {
     "data": {
      "text/plain": [
       "KNeighborsClassifier()"
      ]
     },
     "execution_count": 186,
     "metadata": {},
     "output_type": "execute_result"
    },
    {
     "name": "stdout",
     "output_type": "stream",
     "text": [
      "KNeighborsClassifier() \n",
      " Accuracy: 0.322 \n",
      " Predict\n",
      "-------------------------------------------\n"
     ]
    },
    {
     "data": {
      "text/plain": [
       "RobustScaler()"
      ]
     },
     "execution_count": 186,
     "metadata": {},
     "output_type": "execute_result"
    },
    {
     "name": "stdout",
     "output_type": "stream",
     "text": [
      "----------------- (주)유니에스 ----------------------\n",
      "['요리 영양 제과제빵 바리스타' '판매 서빙 매장관리' '유통 물류 재고' '제품 서비스영업' '영업관리 지원 영업기획'\n",
      " '네트워크 서버 보안' '상품기획 MD' '기획 전략 경영' '인사 노무 교육' '사무 총무 법무' '생산 제조 설비 조립'\n",
      " '생산관리 공정관리 품질관리' '구매 자재' '재무 세무 IR' '사무보조 문서작성' '마케팅 광고 분석' '건축 설계 인테리어'\n",
      " '고객상담 인바운드' '외국어 번역 통역' '화학 에너지 환경' '경리 회계 결산' '응용프로그래머' '비서 안내'\n",
      " '시설 보안 경비 안전']\n"
     ]
    },
    {
     "data": {
      "text/plain": [
       "RandomForestClassifier()"
      ]
     },
     "execution_count": 186,
     "metadata": {},
     "output_type": "execute_result"
    },
    {
     "name": "stdout",
     "output_type": "stream",
     "text": [
      "RandomForestClassifier() \n",
      " Accuracy: 0.711 \n",
      " Predict\n"
     ]
    },
    {
     "data": {
      "text/plain": [
       "DecisionTreeClassifier()"
      ]
     },
     "execution_count": 186,
     "metadata": {},
     "output_type": "execute_result"
    },
    {
     "name": "stdout",
     "output_type": "stream",
     "text": [
      "DecisionTreeClassifier() \n",
      " Accuracy: 0.64 \n",
      " Predict\n"
     ]
    },
    {
     "data": {
      "text/plain": [
       "KNeighborsClassifier()"
      ]
     },
     "execution_count": 186,
     "metadata": {},
     "output_type": "execute_result"
    },
    {
     "name": "stdout",
     "output_type": "stream",
     "text": [
      "KNeighborsClassifier() \n",
      " Accuracy: 0.729 \n",
      " Predict\n",
      "-------------------------------------------\n"
     ]
    },
    {
     "data": {
      "text/plain": [
       "RobustScaler()"
      ]
     },
     "execution_count": 186,
     "metadata": {},
     "output_type": "execute_result"
    },
    {
     "name": "stdout",
     "output_type": "stream",
     "text": [
      "----------------- (주)커피빈코리아 ----------------------\n",
      "['시설 보안 경비 안전' '비서 안내' '외국어 번역 통역' '사무 총무 법무' '건축 설계 인테리어' '제품 서비스영업'\n",
      " '고객상담 인바운드' 'IT 솔루션 기술영업' '사무보조 문서작성' '판매 서빙 매장관리' '해외영업 무역영업'\n",
      " '기계설계 CAD CAM' '생산 제조 설비 조립' '웹프로그래머' '홍보 PR' '경리 회계 결산' '시공 현장 감리 공무'\n",
      " '응용프로그래머' '영업관리 지원 영업기획' '기획 전략 경영' '금융 보험영업' '전기 전자 제어' '마케팅 광고 분석'\n",
      " '인사 노무 교육' '네트워크 서버 보안']\n"
     ]
    },
    {
     "data": {
      "text/plain": [
       "RandomForestClassifier()"
      ]
     },
     "execution_count": 186,
     "metadata": {},
     "output_type": "execute_result"
    },
    {
     "name": "stdout",
     "output_type": "stream",
     "text": [
      "RandomForestClassifier() \n",
      " Accuracy: 0.784 \n",
      " Predict\n"
     ]
    },
    {
     "data": {
      "text/plain": [
       "DecisionTreeClassifier()"
      ]
     },
     "execution_count": 186,
     "metadata": {},
     "output_type": "execute_result"
    },
    {
     "name": "stdout",
     "output_type": "stream",
     "text": [
      "DecisionTreeClassifier() \n",
      " Accuracy: 0.706 \n",
      " Predict\n"
     ]
    },
    {
     "data": {
      "text/plain": [
       "KNeighborsClassifier()"
      ]
     },
     "execution_count": 186,
     "metadata": {},
     "output_type": "execute_result"
    },
    {
     "name": "stdout",
     "output_type": "stream",
     "text": [
      "KNeighborsClassifier() \n",
      " Accuracy: 0.814 \n",
      " Predict\n",
      "-------------------------------------------\n"
     ]
    },
    {
     "data": {
      "text/plain": [
       "RobustScaler()"
      ]
     },
     "execution_count": 186,
     "metadata": {},
     "output_type": "execute_result"
    },
    {
     "name": "stdout",
     "output_type": "stream",
     "text": [
      "----------------- LG전자(주) ----------------------\n",
      "['마케팅 광고 분석' '고객상담 인바운드' '금융 보험영업' '영업관리 지원 영업기획' '경리 회계 결산' '응용프로그래머'\n",
      " '웹프로그래머' '사무 총무 법무' '기획 전략 경영' '사무보조 문서작성' '인사 노무 교육' '상품기획 MD' '비서 안내'\n",
      " '재무 세무 IR' '구매 자재' '리서치 통계 설문' '웹기획 PM' '네트워크 서버 보안' '생산 제조 설비 조립'\n",
      " '판매 서빙 매장관리' '홍보 PR' '제품 서비스영업' '생산관리 공정관리 품질관리']\n"
     ]
    },
    {
     "data": {
      "text/plain": [
       "RandomForestClassifier()"
      ]
     },
     "execution_count": 186,
     "metadata": {},
     "output_type": "execute_result"
    },
    {
     "name": "stdout",
     "output_type": "stream",
     "text": [
      "RandomForestClassifier() \n",
      " Accuracy: 0.397 \n",
      " Predict\n"
     ]
    },
    {
     "data": {
      "text/plain": [
       "DecisionTreeClassifier()"
      ]
     },
     "execution_count": 186,
     "metadata": {},
     "output_type": "execute_result"
    },
    {
     "name": "stdout",
     "output_type": "stream",
     "text": [
      "DecisionTreeClassifier() \n",
      " Accuracy: 0.468 \n",
      " Predict\n"
     ]
    },
    {
     "data": {
      "text/plain": [
       "KNeighborsClassifier()"
      ]
     },
     "execution_count": 186,
     "metadata": {},
     "output_type": "execute_result"
    },
    {
     "name": "stdout",
     "output_type": "stream",
     "text": [
      "KNeighborsClassifier() \n",
      " Accuracy: 0.34 \n",
      " Predict\n",
      "-------------------------------------------\n"
     ]
    },
    {
     "data": {
      "text/plain": [
       "RobustScaler()"
      ]
     },
     "execution_count": 186,
     "metadata": {},
     "output_type": "execute_result"
    },
    {
     "name": "stdout",
     "output_type": "stream",
     "text": [
      "----------------- 삼성카드(주) ----------------------\n",
      "['기계설계 CAD CAM' '사무보조 문서작성' '구매 자재' '생산관리 공정관리 품질관리' '사무 총무 법무' '경리 회계 결산'\n",
      " '재무 세무 IR' '자동차 조선 기계' '전기 전자 제어' '화학 에너지 환경' '생산 제조 설비 조립' '건축 설계 인테리어'\n",
      " '비서 안내' '외국어 번역 통역' '인사 노무 교육' '시공 현장 감리 공무' '영업관리 지원 영업기획' '기획 전략 경영'\n",
      " '판매 서빙 매장관리' '해외영업 무역영업' '웹프로그래머' '홍보 PR' '시설 보안 경비 안전' '응용프로그래머'\n",
      " '금융 보험영업' '마케팅 광고 분석' '유통 물류 재고' '요리 영양 제과제빵 바리스타' '네트워크 서버 보안'\n",
      " '제품 서비스영업' '리서치 통계 설문' 'IT 솔루션 기술영업']\n"
     ]
    },
    {
     "data": {
      "text/plain": [
       "RandomForestClassifier()"
      ]
     },
     "execution_count": 186,
     "metadata": {},
     "output_type": "execute_result"
    },
    {
     "name": "stdout",
     "output_type": "stream",
     "text": [
      "RandomForestClassifier() \n",
      " Accuracy: 0.341 \n",
      " Predict\n"
     ]
    },
    {
     "data": {
      "text/plain": [
       "DecisionTreeClassifier()"
      ]
     },
     "execution_count": 186,
     "metadata": {},
     "output_type": "execute_result"
    },
    {
     "name": "stdout",
     "output_type": "stream",
     "text": [
      "DecisionTreeClassifier() \n",
      " Accuracy: 0.439 \n",
      " Predict\n"
     ]
    },
    {
     "data": {
      "text/plain": [
       "KNeighborsClassifier()"
      ]
     },
     "execution_count": 186,
     "metadata": {},
     "output_type": "execute_result"
    },
    {
     "name": "stdout",
     "output_type": "stream",
     "text": [
      "KNeighborsClassifier() \n",
      " Accuracy: 0.322 \n",
      " Predict\n",
      "-------------------------------------------\n"
     ]
    },
    {
     "data": {
      "text/plain": [
       "RobustScaler()"
      ]
     },
     "execution_count": 186,
     "metadata": {},
     "output_type": "execute_result"
    },
    {
     "name": "stdout",
     "output_type": "stream",
     "text": [
      "----------------- 롯데카드(주) ----------------------\n",
      "['요리 영양 제과제빵 바리스타' '판매 서빙 매장관리' '유통 물류 재고' '제품 서비스영업' '영업관리 지원 영업기획'\n",
      " '네트워크 서버 보안' '상품기획 MD' '기획 전략 경영' '인사 노무 교육' '사무 총무 법무' '생산 제조 설비 조립'\n",
      " '생산관리 공정관리 품질관리' '구매 자재' '재무 세무 IR' '사무보조 문서작성' '마케팅 광고 분석' '건축 설계 인테리어'\n",
      " '고객상담 인바운드' '외국어 번역 통역' '화학 에너지 환경' '경리 회계 결산' '응용프로그래머' '비서 안내'\n",
      " '시설 보안 경비 안전']\n"
     ]
    },
    {
     "data": {
      "text/plain": [
       "RandomForestClassifier()"
      ]
     },
     "execution_count": 186,
     "metadata": {},
     "output_type": "execute_result"
    },
    {
     "name": "stdout",
     "output_type": "stream",
     "text": [
      "RandomForestClassifier() \n",
      " Accuracy: 0.702 \n",
      " Predict\n"
     ]
    },
    {
     "data": {
      "text/plain": [
       "DecisionTreeClassifier()"
      ]
     },
     "execution_count": 186,
     "metadata": {},
     "output_type": "execute_result"
    },
    {
     "name": "stdout",
     "output_type": "stream",
     "text": [
      "DecisionTreeClassifier() \n",
      " Accuracy: 0.655 \n",
      " Predict\n"
     ]
    },
    {
     "data": {
      "text/plain": [
       "KNeighborsClassifier()"
      ]
     },
     "execution_count": 186,
     "metadata": {},
     "output_type": "execute_result"
    },
    {
     "name": "stdout",
     "output_type": "stream",
     "text": [
      "KNeighborsClassifier() \n",
      " Accuracy: 0.729 \n",
      " Predict\n",
      "-------------------------------------------\n"
     ]
    },
    {
     "data": {
      "text/plain": [
       "RobustScaler()"
      ]
     },
     "execution_count": 186,
     "metadata": {},
     "output_type": "execute_result"
    },
    {
     "name": "stdout",
     "output_type": "stream",
     "text": [
      "----------------- ㈜하나은행 ----------------------\n",
      "['시설 보안 경비 안전' '비서 안내' '외국어 번역 통역' '사무 총무 법무' '건축 설계 인테리어' '제품 서비스영업'\n",
      " '고객상담 인바운드' 'IT 솔루션 기술영업' '사무보조 문서작성' '판매 서빙 매장관리' '해외영업 무역영업'\n",
      " '기계설계 CAD CAM' '생산 제조 설비 조립' '웹프로그래머' '홍보 PR' '경리 회계 결산' '시공 현장 감리 공무'\n",
      " '응용프로그래머' '영업관리 지원 영업기획' '기획 전략 경영' '금융 보험영업' '전기 전자 제어' '마케팅 광고 분석'\n",
      " '인사 노무 교육' '네트워크 서버 보안']\n"
     ]
    },
    {
     "data": {
      "text/plain": [
       "RandomForestClassifier()"
      ]
     },
     "execution_count": 186,
     "metadata": {},
     "output_type": "execute_result"
    },
    {
     "name": "stdout",
     "output_type": "stream",
     "text": [
      "RandomForestClassifier() \n",
      " Accuracy: 0.775 \n",
      " Predict\n"
     ]
    },
    {
     "data": {
      "text/plain": [
       "DecisionTreeClassifier()"
      ]
     },
     "execution_count": 186,
     "metadata": {},
     "output_type": "execute_result"
    },
    {
     "name": "stdout",
     "output_type": "stream",
     "text": [
      "DecisionTreeClassifier() \n",
      " Accuracy: 0.71 \n",
      " Predict\n"
     ]
    },
    {
     "data": {
      "text/plain": [
       "KNeighborsClassifier()"
      ]
     },
     "execution_count": 186,
     "metadata": {},
     "output_type": "execute_result"
    },
    {
     "name": "stdout",
     "output_type": "stream",
     "text": [
      "KNeighborsClassifier() \n",
      " Accuracy: 0.814 \n",
      " Predict\n",
      "-------------------------------------------\n"
     ]
    },
    {
     "data": {
      "text/plain": [
       "RobustScaler()"
      ]
     },
     "execution_count": 186,
     "metadata": {},
     "output_type": "execute_result"
    },
    {
     "name": "stdout",
     "output_type": "stream",
     "text": [
      "----------------- 비씨카드(주) ----------------------\n",
      "['마케팅 광고 분석' '고객상담 인바운드' '금융 보험영업' '영업관리 지원 영업기획' '경리 회계 결산' '응용프로그래머'\n",
      " '웹프로그래머' '사무 총무 법무' '기획 전략 경영' '사무보조 문서작성' '인사 노무 교육' '상품기획 MD' '비서 안내'\n",
      " '재무 세무 IR' '구매 자재' '리서치 통계 설문' '웹기획 PM' '네트워크 서버 보안' '생산 제조 설비 조립'\n",
      " '판매 서빙 매장관리' '홍보 PR' '제품 서비스영업' '생산관리 공정관리 품질관리']\n"
     ]
    },
    {
     "data": {
      "text/plain": [
       "RandomForestClassifier()"
      ]
     },
     "execution_count": 186,
     "metadata": {},
     "output_type": "execute_result"
    },
    {
     "name": "stdout",
     "output_type": "stream",
     "text": [
      "RandomForestClassifier() \n",
      " Accuracy: 0.383 \n",
      " Predict\n"
     ]
    },
    {
     "data": {
      "text/plain": [
       "DecisionTreeClassifier()"
      ]
     },
     "execution_count": 186,
     "metadata": {},
     "output_type": "execute_result"
    },
    {
     "name": "stdout",
     "output_type": "stream",
     "text": [
      "DecisionTreeClassifier() \n",
      " Accuracy: 0.454 \n",
      " Predict\n"
     ]
    },
    {
     "data": {
      "text/plain": [
       "KNeighborsClassifier()"
      ]
     },
     "execution_count": 186,
     "metadata": {},
     "output_type": "execute_result"
    },
    {
     "name": "stdout",
     "output_type": "stream",
     "text": [
      "KNeighborsClassifier() \n",
      " Accuracy: 0.34 \n",
      " Predict\n",
      "-------------------------------------------\n"
     ]
    },
    {
     "data": {
      "text/plain": [
       "RobustScaler()"
      ]
     },
     "execution_count": 186,
     "metadata": {},
     "output_type": "execute_result"
    },
    {
     "name": "stdout",
     "output_type": "stream",
     "text": [
      "----------------- 롯데쇼핑(주) ----------------------\n",
      "['기계설계 CAD CAM' '사무보조 문서작성' '구매 자재' '생산관리 공정관리 품질관리' '사무 총무 법무' '경리 회계 결산'\n",
      " '재무 세무 IR' '자동차 조선 기계' '전기 전자 제어' '화학 에너지 환경' '생산 제조 설비 조립' '건축 설계 인테리어'\n",
      " '비서 안내' '외국어 번역 통역' '인사 노무 교육' '시공 현장 감리 공무' '영업관리 지원 영업기획' '기획 전략 경영'\n",
      " '판매 서빙 매장관리' '해외영업 무역영업' '웹프로그래머' '홍보 PR' '시설 보안 경비 안전' '응용프로그래머'\n",
      " '금융 보험영업' '마케팅 광고 분석' '유통 물류 재고' '요리 영양 제과제빵 바리스타' '네트워크 서버 보안'\n",
      " '제품 서비스영업' '리서치 통계 설문' 'IT 솔루션 기술영업']\n"
     ]
    },
    {
     "data": {
      "text/plain": [
       "RandomForestClassifier()"
      ]
     },
     "execution_count": 186,
     "metadata": {},
     "output_type": "execute_result"
    },
    {
     "name": "stdout",
     "output_type": "stream",
     "text": [
      "RandomForestClassifier() \n",
      " Accuracy: 0.361 \n",
      " Predict\n"
     ]
    },
    {
     "data": {
      "text/plain": [
       "DecisionTreeClassifier()"
      ]
     },
     "execution_count": 186,
     "metadata": {},
     "output_type": "execute_result"
    },
    {
     "name": "stdout",
     "output_type": "stream",
     "text": [
      "DecisionTreeClassifier() \n",
      " Accuracy: 0.439 \n",
      " Predict\n"
     ]
    },
    {
     "data": {
      "text/plain": [
       "KNeighborsClassifier()"
      ]
     },
     "execution_count": 186,
     "metadata": {},
     "output_type": "execute_result"
    },
    {
     "name": "stdout",
     "output_type": "stream",
     "text": [
      "KNeighborsClassifier() \n",
      " Accuracy: 0.322 \n",
      " Predict\n",
      "-------------------------------------------\n"
     ]
    },
    {
     "data": {
      "text/plain": [
       "RobustScaler()"
      ]
     },
     "execution_count": 186,
     "metadata": {},
     "output_type": "execute_result"
    },
    {
     "name": "stdout",
     "output_type": "stream",
     "text": [
      "----------------- 대우조선해양(주) ----------------------\n",
      "['요리 영양 제과제빵 바리스타' '판매 서빙 매장관리' '유통 물류 재고' '제품 서비스영업' '영업관리 지원 영업기획'\n",
      " '네트워크 서버 보안' '상품기획 MD' '기획 전략 경영' '인사 노무 교육' '사무 총무 법무' '생산 제조 설비 조립'\n",
      " '생산관리 공정관리 품질관리' '구매 자재' '재무 세무 IR' '사무보조 문서작성' '마케팅 광고 분석' '건축 설계 인테리어'\n",
      " '고객상담 인바운드' '외국어 번역 통역' '화학 에너지 환경' '경리 회계 결산' '응용프로그래머' '비서 안내'\n",
      " '시설 보안 경비 안전']\n"
     ]
    },
    {
     "data": {
      "text/plain": [
       "RandomForestClassifier()"
      ]
     },
     "execution_count": 186,
     "metadata": {},
     "output_type": "execute_result"
    },
    {
     "name": "stdout",
     "output_type": "stream",
     "text": [
      "RandomForestClassifier() \n",
      " Accuracy: 0.715 \n",
      " Predict\n"
     ]
    },
    {
     "data": {
      "text/plain": [
       "DecisionTreeClassifier()"
      ]
     },
     "execution_count": 186,
     "metadata": {},
     "output_type": "execute_result"
    },
    {
     "name": "stdout",
     "output_type": "stream",
     "text": [
      "DecisionTreeClassifier() \n",
      " Accuracy: 0.655 \n",
      " Predict\n"
     ]
    },
    {
     "data": {
      "text/plain": [
       "KNeighborsClassifier()"
      ]
     },
     "execution_count": 186,
     "metadata": {},
     "output_type": "execute_result"
    },
    {
     "name": "stdout",
     "output_type": "stream",
     "text": [
      "KNeighborsClassifier() \n",
      " Accuracy: 0.729 \n",
      " Predict\n",
      "-------------------------------------------\n"
     ]
    },
    {
     "data": {
      "text/plain": [
       "RobustScaler()"
      ]
     },
     "execution_count": 186,
     "metadata": {},
     "output_type": "execute_result"
    },
    {
     "name": "stdout",
     "output_type": "stream",
     "text": [
      "----------------- (주)호텔신라 ----------------------\n",
      "['시설 보안 경비 안전' '비서 안내' '외국어 번역 통역' '사무 총무 법무' '건축 설계 인테리어' '제품 서비스영업'\n",
      " '고객상담 인바운드' 'IT 솔루션 기술영업' '사무보조 문서작성' '판매 서빙 매장관리' '해외영업 무역영업'\n",
      " '기계설계 CAD CAM' '생산 제조 설비 조립' '웹프로그래머' '홍보 PR' '경리 회계 결산' '시공 현장 감리 공무'\n",
      " '응용프로그래머' '영업관리 지원 영업기획' '기획 전략 경영' '금융 보험영업' '전기 전자 제어' '마케팅 광고 분석'\n",
      " '인사 노무 교육' '네트워크 서버 보안']\n"
     ]
    },
    {
     "data": {
      "text/plain": [
       "RandomForestClassifier()"
      ]
     },
     "execution_count": 186,
     "metadata": {},
     "output_type": "execute_result"
    },
    {
     "name": "stdout",
     "output_type": "stream",
     "text": [
      "RandomForestClassifier() \n",
      " Accuracy: 0.774 \n",
      " Predict\n"
     ]
    },
    {
     "data": {
      "text/plain": [
       "DecisionTreeClassifier()"
      ]
     },
     "execution_count": 186,
     "metadata": {},
     "output_type": "execute_result"
    },
    {
     "name": "stdout",
     "output_type": "stream",
     "text": [
      "DecisionTreeClassifier() \n",
      " Accuracy: 0.701 \n",
      " Predict\n"
     ]
    },
    {
     "data": {
      "text/plain": [
       "KNeighborsClassifier()"
      ]
     },
     "execution_count": 186,
     "metadata": {},
     "output_type": "execute_result"
    },
    {
     "name": "stdout",
     "output_type": "stream",
     "text": [
      "KNeighborsClassifier() \n",
      " Accuracy: 0.814 \n",
      " Predict\n",
      "-------------------------------------------\n"
     ]
    },
    {
     "data": {
      "text/plain": [
       "RobustScaler()"
      ]
     },
     "execution_count": 186,
     "metadata": {},
     "output_type": "execute_result"
    },
    {
     "name": "stdout",
     "output_type": "stream",
     "text": [
      "----------------- 삼성생명보험(주) ----------------------\n",
      "['마케팅 광고 분석' '고객상담 인바운드' '금융 보험영업' '영업관리 지원 영업기획' '경리 회계 결산' '응용프로그래머'\n",
      " '웹프로그래머' '사무 총무 법무' '기획 전략 경영' '사무보조 문서작성' '인사 노무 교육' '상품기획 MD' '비서 안내'\n",
      " '재무 세무 IR' '구매 자재' '리서치 통계 설문' '웹기획 PM' '네트워크 서버 보안' '생산 제조 설비 조립'\n",
      " '판매 서빙 매장관리' '홍보 PR' '제품 서비스영업' '생산관리 공정관리 품질관리']\n"
     ]
    },
    {
     "data": {
      "text/plain": [
       "RandomForestClassifier()"
      ]
     },
     "execution_count": 186,
     "metadata": {},
     "output_type": "execute_result"
    },
    {
     "name": "stdout",
     "output_type": "stream",
     "text": [
      "RandomForestClassifier() \n",
      " Accuracy: 0.376 \n",
      " Predict\n"
     ]
    },
    {
     "data": {
      "text/plain": [
       "DecisionTreeClassifier()"
      ]
     },
     "execution_count": 186,
     "metadata": {},
     "output_type": "execute_result"
    },
    {
     "name": "stdout",
     "output_type": "stream",
     "text": [
      "DecisionTreeClassifier() \n",
      " Accuracy: 0.433 \n",
      " Predict\n"
     ]
    },
    {
     "data": {
      "text/plain": [
       "KNeighborsClassifier()"
      ]
     },
     "execution_count": 186,
     "metadata": {},
     "output_type": "execute_result"
    },
    {
     "name": "stdout",
     "output_type": "stream",
     "text": [
      "KNeighborsClassifier() \n",
      " Accuracy: 0.34 \n",
      " Predict\n",
      "-------------------------------------------\n"
     ]
    },
    {
     "data": {
      "text/plain": [
       "RobustScaler()"
      ]
     },
     "execution_count": 186,
     "metadata": {},
     "output_type": "execute_result"
    },
    {
     "name": "stdout",
     "output_type": "stream",
     "text": [
      "----------------- (주)우리은행 ----------------------\n",
      "['기계설계 CAD CAM' '사무보조 문서작성' '구매 자재' '생산관리 공정관리 품질관리' '사무 총무 법무' '경리 회계 결산'\n",
      " '재무 세무 IR' '자동차 조선 기계' '전기 전자 제어' '화학 에너지 환경' '생산 제조 설비 조립' '건축 설계 인테리어'\n",
      " '비서 안내' '외국어 번역 통역' '인사 노무 교육' '시공 현장 감리 공무' '영업관리 지원 영업기획' '기획 전략 경영'\n",
      " '판매 서빙 매장관리' '해외영업 무역영업' '웹프로그래머' '홍보 PR' '시설 보안 경비 안전' '응용프로그래머'\n",
      " '금융 보험영업' '마케팅 광고 분석' '유통 물류 재고' '요리 영양 제과제빵 바리스타' '네트워크 서버 보안'\n",
      " '제품 서비스영업' '리서치 통계 설문' 'IT 솔루션 기술영업']\n"
     ]
    },
    {
     "data": {
      "text/plain": [
       "RandomForestClassifier()"
      ]
     },
     "execution_count": 186,
     "metadata": {},
     "output_type": "execute_result"
    },
    {
     "name": "stdout",
     "output_type": "stream",
     "text": [
      "RandomForestClassifier() \n",
      " Accuracy: 0.371 \n",
      " Predict\n"
     ]
    },
    {
     "data": {
      "text/plain": [
       "DecisionTreeClassifier()"
      ]
     },
     "execution_count": 186,
     "metadata": {},
     "output_type": "execute_result"
    },
    {
     "name": "stdout",
     "output_type": "stream",
     "text": [
      "DecisionTreeClassifier() \n",
      " Accuracy: 0.439 \n",
      " Predict\n"
     ]
    },
    {
     "data": {
      "text/plain": [
       "KNeighborsClassifier()"
      ]
     },
     "execution_count": 186,
     "metadata": {},
     "output_type": "execute_result"
    },
    {
     "name": "stdout",
     "output_type": "stream",
     "text": [
      "KNeighborsClassifier() \n",
      " Accuracy: 0.322 \n",
      " Predict\n",
      "-------------------------------------------\n"
     ]
    }
   ],
   "source": [
    "# 리스트 2\n",
    "# 상위 20개 합격회사 조회\n",
    "for k in range(0,20):\n",
    "    data_copy = data[data['합격회사']==list_2[i]]\n",
    "    list_1 = (data_copy['부서'].unique())\n",
    "   \n",
    "    list380 = []\n",
    "    list370 = []     \n",
    "    list360 = []  \n",
    "    list350 = []\n",
    "    list340 = []\n",
    "    list330 = []\n",
    "    list320 = []\n",
    "    list310 = []\n",
    "    list300 = []\n",
    "    list270 = []\n",
    "    list260 = []    \n",
    "    list250 = []\n",
    "    list235 = []\n",
    "    list230 = []\n",
    "    list220 = []\n",
    "    list210 = []\n",
    "    list200 = []\n",
    "    list190 = []\n",
    "    list180 = []\n",
    "    list170 = []\n",
    "    list150 = []\n",
    "    list130 = []\n",
    "    list100 = []\n",
    "\n",
    "# 부서별 스펙지수별로 라벨링 나누기\n",
    "    for i in range(len(list_1)): \n",
    "     # 부서별 스펙지수별로 리스트 저장\n",
    "        if(data_copy[data_copy['부서']==list_1[i]]['스펙지수'].mean()>300):        \n",
    "            list300.append(list_1[i])\n",
    "        elif(data_copy[data_copy['부서']==list_1[i]]['스펙지수'].mean()>260):        \n",
    "            list260.append(list_1[i])\n",
    "        elif(data_copy[data_copy['부서']==list_1[i]]['스펙지수'].mean()>235):        \n",
    "            list235.append(list_1[i])\n",
    "        elif(data_copy[data_copy['부서']==list_1[i]]['스펙지수'].mean()>220):        \n",
    "            list220.append(list_1[i])\n",
    "        elif(data_copy[data_copy['부서']==list_1[i]]['스펙지수'].mean()>150):        \n",
    "            list150.append(list_1[i])\n",
    "        elif (data_copy[data_copy['부서']==list_1[i]]['스펙지수'].mean()<150): \n",
    "            list100.append(list_1[i])\n",
    "\n",
    "# 부서별 스펙지수로 라벨 값 변경\n",
    "    for i in range(len(list300)):\n",
    "        b = data_copy['부서'].str.contains(list300[i])\n",
    "        data_copy['부서'][b] = '300'\n",
    "    \n",
    "    for i in range(len(list260)):\n",
    "        b = data_copy['부서'].str.contains(list260[i])\n",
    "        data_copy['부서'][b] = '260'\n",
    "        \n",
    "    for i in range(len(list235)):\n",
    "        b = data_copy['부서'].str.contains(list235[i])\n",
    "        data_copy['부서'][b] = '235'\n",
    "\n",
    "    for i in range(len(list220)):\n",
    "        b = data_copy['부서'].str.contains(list220[i])\n",
    "        data_copy['부서'][b] = '220'\n",
    "\n",
    "    for i in range(len(list150)):\n",
    "        b = data_copy['부서'].str.contains(list150[i])\n",
    "        data_copy['부서'][b] = '150'\n",
    "    \n",
    "    for i in range(len(list100)):\n",
    "        b = data_copy['부서'].str.contains(list100[i])\n",
    "        data_copy['부서'][b] = '100' \n",
    "\n",
    "# RobustScaler로 정규화\n",
    "    from sklearn.preprocessing import RobustScaler\n",
    "    X = data_copy.iloc[:, 2:14]\n",
    "    y = data_copy['부서']\n",
    "    y_1 = data_copy['부서']\n",
    "    y = pd.get_dummies(y)\n",
    "\n",
    "# 모델 정의\n",
    "    transformer = RobustScaler()\n",
    "    transformer.fit(X)\n",
    "    X = transformer.transform(X)\n",
    "    \n",
    "    lR = LogisticRegression()\n",
    "    rf = RandomForestClassifier()\n",
    "    dt = DecisionTreeClassifier()\n",
    "    kn = KNeighborsClassifier()\n",
    "    lr = LogisticRegression()\n",
    "    \n",
    "# 데이터 분리\n",
    "    X_train, X_test, y_train, y_test = train_test_split(X, y, test_size=0.3, shuffle=True, random_state=9)\n",
    "    \n",
    "    print(\"----------------- {} ----------------------\".format(list_2[k]))\n",
    "    print(list_1)\n",
    "    models = [rf, dt, kn]\n",
    "    for model in models:\n",
    "        model.fit(X_train, y_train)\n",
    "        pre = model.predict(X_test)\n",
    "        scores = cross_val_score(model, X_test, y_test, cv=5).mean().round(3)\n",
    "        #f1score = metrics.f1_score(y_test, y_pred).round(3)\n",
    "        print(model, '\\n', 'Accuracy:', scores, '\\n', 'Predict')\n",
    "    print(\"-------------------------------------------\")\n",
    "    \n",
    "   \n",
    "    "
   ]
  },
  {
   "cell_type": "code",
   "execution_count": 181,
   "metadata": {
    "scrolled": true
   },
   "outputs": [
    {
     "data": {
      "text/plain": [
       "RobustScaler()"
      ]
     },
     "execution_count": 181,
     "metadata": {},
     "output_type": "execute_result"
    },
    {
     "name": "stdout",
     "output_type": "stream",
     "text": [
      "----------------- 현대카드(주) ----------------------\n",
      "['요리 영양 제과제빵 바리스타' '판매 서빙 매장관리' '유통 물류 재고' '제품 서비스영업' '영업관리 지원 영업기획'\n",
      " '네트워크 서버 보안' '상품기획 MD' '기획 전략 경영' '인사 노무 교육' '사무 총무 법무' '생산 제조 설비 조립'\n",
      " '생산관리 공정관리 품질관리' '구매 자재' '재무 세무 IR' '사무보조 문서작성' '마케팅 광고 분석' '건축 설계 인테리어'\n",
      " '고객상담 인바운드' '외국어 번역 통역' '화학 에너지 환경' '경리 회계 결산' '응용프로그래머' '비서 안내'\n",
      " '시설 보안 경비 안전']\n"
     ]
    },
    {
     "data": {
      "text/plain": [
       "RandomForestClassifier()"
      ]
     },
     "execution_count": 181,
     "metadata": {},
     "output_type": "execute_result"
    },
    {
     "name": "stdout",
     "output_type": "stream",
     "text": [
      "RandomForestClassifier() \n",
      " Accuracy: 0.743 \n",
      " Predict\n"
     ]
    },
    {
     "data": {
      "text/plain": [
       "DecisionTreeClassifier()"
      ]
     },
     "execution_count": 181,
     "metadata": {},
     "output_type": "execute_result"
    },
    {
     "name": "stdout",
     "output_type": "stream",
     "text": [
      "DecisionTreeClassifier() \n",
      " Accuracy: 0.635 \n",
      " Predict\n"
     ]
    },
    {
     "data": {
      "text/plain": [
       "KNeighborsClassifier()"
      ]
     },
     "execution_count": 181,
     "metadata": {},
     "output_type": "execute_result"
    },
    {
     "name": "stdout",
     "output_type": "stream",
     "text": [
      "KNeighborsClassifier() \n",
      " Accuracy: 0.766 \n",
      " Predict\n",
      "-------------------------------------------\n"
     ]
    },
    {
     "data": {
      "text/plain": [
       "RobustScaler()"
      ]
     },
     "execution_count": 181,
     "metadata": {},
     "output_type": "execute_result"
    },
    {
     "name": "stdout",
     "output_type": "stream",
     "text": [
      "----------------- 삼성전자(주) ----------------------\n",
      "['요리 영양 제과제빵 바리스타' '판매 서빙 매장관리' '유통 물류 재고' '제품 서비스영업' '영업관리 지원 영업기획'\n",
      " '네트워크 서버 보안' '상품기획 MD' '기획 전략 경영' '인사 노무 교육' '사무 총무 법무' '생산 제조 설비 조립'\n",
      " '생산관리 공정관리 품질관리' '구매 자재' '재무 세무 IR' '사무보조 문서작성' '마케팅 광고 분석' '건축 설계 인테리어'\n",
      " '고객상담 인바운드' '외국어 번역 통역' '화학 에너지 환경' '경리 회계 결산' '응용프로그래머' '비서 안내'\n",
      " '시설 보안 경비 안전']\n"
     ]
    },
    {
     "data": {
      "text/plain": [
       "RandomForestClassifier()"
      ]
     },
     "execution_count": 181,
     "metadata": {},
     "output_type": "execute_result"
    },
    {
     "name": "stdout",
     "output_type": "stream",
     "text": [
      "RandomForestClassifier() \n",
      " Accuracy: 0.761 \n",
      " Predict\n"
     ]
    },
    {
     "data": {
      "text/plain": [
       "DecisionTreeClassifier()"
      ]
     },
     "execution_count": 181,
     "metadata": {},
     "output_type": "execute_result"
    },
    {
     "name": "stdout",
     "output_type": "stream",
     "text": [
      "DecisionTreeClassifier() \n",
      " Accuracy: 0.654 \n",
      " Predict\n"
     ]
    },
    {
     "data": {
      "text/plain": [
       "KNeighborsClassifier()"
      ]
     },
     "execution_count": 181,
     "metadata": {},
     "output_type": "execute_result"
    },
    {
     "name": "stdout",
     "output_type": "stream",
     "text": [
      "KNeighborsClassifier() \n",
      " Accuracy: 0.766 \n",
      " Predict\n",
      "-------------------------------------------\n"
     ]
    },
    {
     "data": {
      "text/plain": [
       "RobustScaler()"
      ]
     },
     "execution_count": 181,
     "metadata": {},
     "output_type": "execute_result"
    },
    {
     "name": "stdout",
     "output_type": "stream",
     "text": [
      "----------------- 현대캐피탈(주) ----------------------\n",
      "['요리 영양 제과제빵 바리스타' '판매 서빙 매장관리' '유통 물류 재고' '제품 서비스영업' '영업관리 지원 영업기획'\n",
      " '네트워크 서버 보안' '상품기획 MD' '기획 전략 경영' '인사 노무 교육' '사무 총무 법무' '생산 제조 설비 조립'\n",
      " '생산관리 공정관리 품질관리' '구매 자재' '재무 세무 IR' '사무보조 문서작성' '마케팅 광고 분석' '건축 설계 인테리어'\n",
      " '고객상담 인바운드' '외국어 번역 통역' '화학 에너지 환경' '경리 회계 결산' '응용프로그래머' '비서 안내'\n",
      " '시설 보안 경비 안전']\n"
     ]
    },
    {
     "data": {
      "text/plain": [
       "RandomForestClassifier()"
      ]
     },
     "execution_count": 181,
     "metadata": {},
     "output_type": "execute_result"
    },
    {
     "name": "stdout",
     "output_type": "stream",
     "text": [
      "RandomForestClassifier() \n",
      " Accuracy: 0.733 \n",
      " Predict\n"
     ]
    },
    {
     "data": {
      "text/plain": [
       "DecisionTreeClassifier()"
      ]
     },
     "execution_count": 181,
     "metadata": {},
     "output_type": "execute_result"
    },
    {
     "name": "stdout",
     "output_type": "stream",
     "text": [
      "DecisionTreeClassifier() \n",
      " Accuracy: 0.635 \n",
      " Predict\n"
     ]
    },
    {
     "data": {
      "text/plain": [
       "KNeighborsClassifier()"
      ]
     },
     "execution_count": 181,
     "metadata": {},
     "output_type": "execute_result"
    },
    {
     "name": "stdout",
     "output_type": "stream",
     "text": [
      "KNeighborsClassifier() \n",
      " Accuracy: 0.766 \n",
      " Predict\n",
      "-------------------------------------------\n"
     ]
    },
    {
     "data": {
      "text/plain": [
       "RobustScaler()"
      ]
     },
     "execution_count": 181,
     "metadata": {},
     "output_type": "execute_result"
    },
    {
     "name": "stdout",
     "output_type": "stream",
     "text": [
      "----------------- (주)스타벅스커피코리아 ----------------------\n",
      "['요리 영양 제과제빵 바리스타' '판매 서빙 매장관리' '유통 물류 재고' '제품 서비스영업' '영업관리 지원 영업기획'\n",
      " '네트워크 서버 보안' '상품기획 MD' '기획 전략 경영' '인사 노무 교육' '사무 총무 법무' '생산 제조 설비 조립'\n",
      " '생산관리 공정관리 품질관리' '구매 자재' '재무 세무 IR' '사무보조 문서작성' '마케팅 광고 분석' '건축 설계 인테리어'\n",
      " '고객상담 인바운드' '외국어 번역 통역' '화학 에너지 환경' '경리 회계 결산' '응용프로그래머' '비서 안내'\n",
      " '시설 보안 경비 안전']\n"
     ]
    },
    {
     "data": {
      "text/plain": [
       "RandomForestClassifier()"
      ]
     },
     "execution_count": 181,
     "metadata": {},
     "output_type": "execute_result"
    },
    {
     "name": "stdout",
     "output_type": "stream",
     "text": [
      "RandomForestClassifier() \n",
      " Accuracy: 0.747 \n",
      " Predict\n"
     ]
    },
    {
     "data": {
      "text/plain": [
       "DecisionTreeClassifier()"
      ]
     },
     "execution_count": 181,
     "metadata": {},
     "output_type": "execute_result"
    },
    {
     "name": "stdout",
     "output_type": "stream",
     "text": [
      "DecisionTreeClassifier() \n",
      " Accuracy: 0.663 \n",
      " Predict\n"
     ]
    },
    {
     "data": {
      "text/plain": [
       "KNeighborsClassifier()"
      ]
     },
     "execution_count": 181,
     "metadata": {},
     "output_type": "execute_result"
    },
    {
     "name": "stdout",
     "output_type": "stream",
     "text": [
      "KNeighborsClassifier() \n",
      " Accuracy: 0.766 \n",
      " Predict\n",
      "-------------------------------------------\n"
     ]
    },
    {
     "data": {
      "text/plain": [
       "RobustScaler()"
      ]
     },
     "execution_count": 181,
     "metadata": {},
     "output_type": "execute_result"
    },
    {
     "name": "stdout",
     "output_type": "stream",
     "text": [
      "----------------- 두산중공업(주) ----------------------\n",
      "['요리 영양 제과제빵 바리스타' '판매 서빙 매장관리' '유통 물류 재고' '제품 서비스영업' '영업관리 지원 영업기획'\n",
      " '네트워크 서버 보안' '상품기획 MD' '기획 전략 경영' '인사 노무 교육' '사무 총무 법무' '생산 제조 설비 조립'\n",
      " '생산관리 공정관리 품질관리' '구매 자재' '재무 세무 IR' '사무보조 문서작성' '마케팅 광고 분석' '건축 설계 인테리어'\n",
      " '고객상담 인바운드' '외국어 번역 통역' '화학 에너지 환경' '경리 회계 결산' '응용프로그래머' '비서 안내'\n",
      " '시설 보안 경비 안전']\n"
     ]
    },
    {
     "data": {
      "text/plain": [
       "RandomForestClassifier()"
      ]
     },
     "execution_count": 181,
     "metadata": {},
     "output_type": "execute_result"
    },
    {
     "name": "stdout",
     "output_type": "stream",
     "text": [
      "RandomForestClassifier() \n",
      " Accuracy: 0.756 \n",
      " Predict\n"
     ]
    },
    {
     "data": {
      "text/plain": [
       "DecisionTreeClassifier()"
      ]
     },
     "execution_count": 181,
     "metadata": {},
     "output_type": "execute_result"
    },
    {
     "name": "stdout",
     "output_type": "stream",
     "text": [
      "DecisionTreeClassifier() \n",
      " Accuracy: 0.635 \n",
      " Predict\n"
     ]
    },
    {
     "data": {
      "text/plain": [
       "KNeighborsClassifier()"
      ]
     },
     "execution_count": 181,
     "metadata": {},
     "output_type": "execute_result"
    },
    {
     "name": "stdout",
     "output_type": "stream",
     "text": [
      "KNeighborsClassifier() \n",
      " Accuracy: 0.766 \n",
      " Predict\n",
      "-------------------------------------------\n"
     ]
    },
    {
     "data": {
      "text/plain": [
       "RobustScaler()"
      ]
     },
     "execution_count": 181,
     "metadata": {},
     "output_type": "execute_result"
    },
    {
     "name": "stdout",
     "output_type": "stream",
     "text": [
      "----------------- (주)에스텍시스템 ----------------------\n",
      "['요리 영양 제과제빵 바리스타' '판매 서빙 매장관리' '유통 물류 재고' '제품 서비스영업' '영업관리 지원 영업기획'\n",
      " '네트워크 서버 보안' '상품기획 MD' '기획 전략 경영' '인사 노무 교육' '사무 총무 법무' '생산 제조 설비 조립'\n",
      " '생산관리 공정관리 품질관리' '구매 자재' '재무 세무 IR' '사무보조 문서작성' '마케팅 광고 분석' '건축 설계 인테리어'\n",
      " '고객상담 인바운드' '외국어 번역 통역' '화학 에너지 환경' '경리 회계 결산' '응용프로그래머' '비서 안내'\n",
      " '시설 보안 경비 안전']\n"
     ]
    },
    {
     "data": {
      "text/plain": [
       "RandomForestClassifier()"
      ]
     },
     "execution_count": 181,
     "metadata": {},
     "output_type": "execute_result"
    },
    {
     "name": "stdout",
     "output_type": "stream",
     "text": [
      "RandomForestClassifier() \n",
      " Accuracy: 0.743 \n",
      " Predict\n"
     ]
    },
    {
     "data": {
      "text/plain": [
       "DecisionTreeClassifier()"
      ]
     },
     "execution_count": 181,
     "metadata": {},
     "output_type": "execute_result"
    },
    {
     "name": "stdout",
     "output_type": "stream",
     "text": [
      "DecisionTreeClassifier() \n",
      " Accuracy: 0.64 \n",
      " Predict\n"
     ]
    },
    {
     "data": {
      "text/plain": [
       "KNeighborsClassifier()"
      ]
     },
     "execution_count": 181,
     "metadata": {},
     "output_type": "execute_result"
    },
    {
     "name": "stdout",
     "output_type": "stream",
     "text": [
      "KNeighborsClassifier() \n",
      " Accuracy: 0.766 \n",
      " Predict\n",
      "-------------------------------------------\n"
     ]
    },
    {
     "data": {
      "text/plain": [
       "RobustScaler()"
      ]
     },
     "execution_count": 181,
     "metadata": {},
     "output_type": "execute_result"
    },
    {
     "name": "stdout",
     "output_type": "stream",
     "text": [
      "----------------- (주)아워홈 ----------------------\n",
      "['요리 영양 제과제빵 바리스타' '판매 서빙 매장관리' '유통 물류 재고' '제품 서비스영업' '영업관리 지원 영업기획'\n",
      " '네트워크 서버 보안' '상품기획 MD' '기획 전략 경영' '인사 노무 교육' '사무 총무 법무' '생산 제조 설비 조립'\n",
      " '생산관리 공정관리 품질관리' '구매 자재' '재무 세무 IR' '사무보조 문서작성' '마케팅 광고 분석' '건축 설계 인테리어'\n",
      " '고객상담 인바운드' '외국어 번역 통역' '화학 에너지 환경' '경리 회계 결산' '응용프로그래머' '비서 안내'\n",
      " '시설 보안 경비 안전']\n"
     ]
    },
    {
     "data": {
      "text/plain": [
       "RandomForestClassifier()"
      ]
     },
     "execution_count": 181,
     "metadata": {},
     "output_type": "execute_result"
    },
    {
     "name": "stdout",
     "output_type": "stream",
     "text": [
      "RandomForestClassifier() \n",
      " Accuracy: 0.752 \n",
      " Predict\n"
     ]
    },
    {
     "data": {
      "text/plain": [
       "DecisionTreeClassifier()"
      ]
     },
     "execution_count": 181,
     "metadata": {},
     "output_type": "execute_result"
    },
    {
     "name": "stdout",
     "output_type": "stream",
     "text": [
      "DecisionTreeClassifier() \n",
      " Accuracy: 0.654 \n",
      " Predict\n"
     ]
    },
    {
     "data": {
      "text/plain": [
       "KNeighborsClassifier()"
      ]
     },
     "execution_count": 181,
     "metadata": {},
     "output_type": "execute_result"
    },
    {
     "name": "stdout",
     "output_type": "stream",
     "text": [
      "KNeighborsClassifier() \n",
      " Accuracy: 0.766 \n",
      " Predict\n",
      "-------------------------------------------\n"
     ]
    },
    {
     "data": {
      "text/plain": [
       "RobustScaler()"
      ]
     },
     "execution_count": 181,
     "metadata": {},
     "output_type": "execute_result"
    },
    {
     "name": "stdout",
     "output_type": "stream",
     "text": [
      "----------------- 한국조선해양(주) ----------------------\n",
      "['요리 영양 제과제빵 바리스타' '판매 서빙 매장관리' '유통 물류 재고' '제품 서비스영업' '영업관리 지원 영업기획'\n",
      " '네트워크 서버 보안' '상품기획 MD' '기획 전략 경영' '인사 노무 교육' '사무 총무 법무' '생산 제조 설비 조립'\n",
      " '생산관리 공정관리 품질관리' '구매 자재' '재무 세무 IR' '사무보조 문서작성' '마케팅 광고 분석' '건축 설계 인테리어'\n",
      " '고객상담 인바운드' '외국어 번역 통역' '화학 에너지 환경' '경리 회계 결산' '응용프로그래머' '비서 안내'\n",
      " '시설 보안 경비 안전']\n"
     ]
    },
    {
     "data": {
      "text/plain": [
       "RandomForestClassifier()"
      ]
     },
     "execution_count": 181,
     "metadata": {},
     "output_type": "execute_result"
    },
    {
     "name": "stdout",
     "output_type": "stream",
     "text": [
      "RandomForestClassifier() \n",
      " Accuracy: 0.729 \n",
      " Predict\n"
     ]
    },
    {
     "data": {
      "text/plain": [
       "DecisionTreeClassifier()"
      ]
     },
     "execution_count": 181,
     "metadata": {},
     "output_type": "execute_result"
    },
    {
     "name": "stdout",
     "output_type": "stream",
     "text": [
      "DecisionTreeClassifier() \n",
      " Accuracy: 0.631 \n",
      " Predict\n"
     ]
    },
    {
     "data": {
      "text/plain": [
       "KNeighborsClassifier()"
      ]
     },
     "execution_count": 181,
     "metadata": {},
     "output_type": "execute_result"
    },
    {
     "name": "stdout",
     "output_type": "stream",
     "text": [
      "KNeighborsClassifier() \n",
      " Accuracy: 0.766 \n",
      " Predict\n",
      "-------------------------------------------\n"
     ]
    },
    {
     "data": {
      "text/plain": [
       "RobustScaler()"
      ]
     },
     "execution_count": 181,
     "metadata": {},
     "output_type": "execute_result"
    },
    {
     "name": "stdout",
     "output_type": "stream",
     "text": [
      "----------------- (주)유니에스 ----------------------\n",
      "['요리 영양 제과제빵 바리스타' '판매 서빙 매장관리' '유통 물류 재고' '제품 서비스영업' '영업관리 지원 영업기획'\n",
      " '네트워크 서버 보안' '상품기획 MD' '기획 전략 경영' '인사 노무 교육' '사무 총무 법무' '생산 제조 설비 조립'\n",
      " '생산관리 공정관리 품질관리' '구매 자재' '재무 세무 IR' '사무보조 문서작성' '마케팅 광고 분석' '건축 설계 인테리어'\n",
      " '고객상담 인바운드' '외국어 번역 통역' '화학 에너지 환경' '경리 회계 결산' '응용프로그래머' '비서 안내'\n",
      " '시설 보안 경비 안전']\n"
     ]
    },
    {
     "data": {
      "text/plain": [
       "RandomForestClassifier()"
      ]
     },
     "execution_count": 181,
     "metadata": {},
     "output_type": "execute_result"
    },
    {
     "name": "stdout",
     "output_type": "stream",
     "text": [
      "RandomForestClassifier() \n",
      " Accuracy: 0.752 \n",
      " Predict\n"
     ]
    },
    {
     "data": {
      "text/plain": [
       "DecisionTreeClassifier()"
      ]
     },
     "execution_count": 181,
     "metadata": {},
     "output_type": "execute_result"
    },
    {
     "name": "stdout",
     "output_type": "stream",
     "text": [
      "DecisionTreeClassifier() \n",
      " Accuracy: 0.687 \n",
      " Predict\n"
     ]
    },
    {
     "data": {
      "text/plain": [
       "KNeighborsClassifier()"
      ]
     },
     "execution_count": 181,
     "metadata": {},
     "output_type": "execute_result"
    },
    {
     "name": "stdout",
     "output_type": "stream",
     "text": [
      "KNeighborsClassifier() \n",
      " Accuracy: 0.766 \n",
      " Predict\n",
      "-------------------------------------------\n"
     ]
    },
    {
     "data": {
      "text/plain": [
       "RobustScaler()"
      ]
     },
     "execution_count": 181,
     "metadata": {},
     "output_type": "execute_result"
    },
    {
     "name": "stdout",
     "output_type": "stream",
     "text": [
      "----------------- (주)커피빈코리아 ----------------------\n",
      "['요리 영양 제과제빵 바리스타' '판매 서빙 매장관리' '유통 물류 재고' '제품 서비스영업' '영업관리 지원 영업기획'\n",
      " '네트워크 서버 보안' '상품기획 MD' '기획 전략 경영' '인사 노무 교육' '사무 총무 법무' '생산 제조 설비 조립'\n",
      " '생산관리 공정관리 품질관리' '구매 자재' '재무 세무 IR' '사무보조 문서작성' '마케팅 광고 분석' '건축 설계 인테리어'\n",
      " '고객상담 인바운드' '외국어 번역 통역' '화학 에너지 환경' '경리 회계 결산' '응용프로그래머' '비서 안내'\n",
      " '시설 보안 경비 안전']\n"
     ]
    },
    {
     "data": {
      "text/plain": [
       "RandomForestClassifier()"
      ]
     },
     "execution_count": 181,
     "metadata": {},
     "output_type": "execute_result"
    },
    {
     "name": "stdout",
     "output_type": "stream",
     "text": [
      "RandomForestClassifier() \n",
      " Accuracy: 0.752 \n",
      " Predict\n"
     ]
    },
    {
     "data": {
      "text/plain": [
       "DecisionTreeClassifier()"
      ]
     },
     "execution_count": 181,
     "metadata": {},
     "output_type": "execute_result"
    },
    {
     "name": "stdout",
     "output_type": "stream",
     "text": [
      "DecisionTreeClassifier() \n",
      " Accuracy: 0.663 \n",
      " Predict\n"
     ]
    },
    {
     "data": {
      "text/plain": [
       "KNeighborsClassifier()"
      ]
     },
     "execution_count": 181,
     "metadata": {},
     "output_type": "execute_result"
    },
    {
     "name": "stdout",
     "output_type": "stream",
     "text": [
      "KNeighborsClassifier() \n",
      " Accuracy: 0.766 \n",
      " Predict\n",
      "-------------------------------------------\n"
     ]
    },
    {
     "data": {
      "text/plain": [
       "RobustScaler()"
      ]
     },
     "execution_count": 181,
     "metadata": {},
     "output_type": "execute_result"
    },
    {
     "name": "stdout",
     "output_type": "stream",
     "text": [
      "----------------- LG전자(주) ----------------------\n",
      "['요리 영양 제과제빵 바리스타' '판매 서빙 매장관리' '유통 물류 재고' '제품 서비스영업' '영업관리 지원 영업기획'\n",
      " '네트워크 서버 보안' '상품기획 MD' '기획 전략 경영' '인사 노무 교육' '사무 총무 법무' '생산 제조 설비 조립'\n",
      " '생산관리 공정관리 품질관리' '구매 자재' '재무 세무 IR' '사무보조 문서작성' '마케팅 광고 분석' '건축 설계 인테리어'\n",
      " '고객상담 인바운드' '외국어 번역 통역' '화학 에너지 환경' '경리 회계 결산' '응용프로그래머' '비서 안내'\n",
      " '시설 보안 경비 안전']\n"
     ]
    },
    {
     "data": {
      "text/plain": [
       "RandomForestClassifier()"
      ]
     },
     "execution_count": 181,
     "metadata": {},
     "output_type": "execute_result"
    },
    {
     "name": "stdout",
     "output_type": "stream",
     "text": [
      "RandomForestClassifier() \n",
      " Accuracy: 0.756 \n",
      " Predict\n"
     ]
    },
    {
     "data": {
      "text/plain": [
       "DecisionTreeClassifier()"
      ]
     },
     "execution_count": 181,
     "metadata": {},
     "output_type": "execute_result"
    },
    {
     "name": "stdout",
     "output_type": "stream",
     "text": [
      "DecisionTreeClassifier() \n",
      " Accuracy: 0.654 \n",
      " Predict\n"
     ]
    },
    {
     "data": {
      "text/plain": [
       "KNeighborsClassifier()"
      ]
     },
     "execution_count": 181,
     "metadata": {},
     "output_type": "execute_result"
    },
    {
     "name": "stdout",
     "output_type": "stream",
     "text": [
      "KNeighborsClassifier() \n",
      " Accuracy: 0.766 \n",
      " Predict\n",
      "-------------------------------------------\n"
     ]
    },
    {
     "data": {
      "text/plain": [
       "RobustScaler()"
      ]
     },
     "execution_count": 181,
     "metadata": {},
     "output_type": "execute_result"
    },
    {
     "name": "stdout",
     "output_type": "stream",
     "text": [
      "----------------- 삼성카드(주) ----------------------\n",
      "['요리 영양 제과제빵 바리스타' '판매 서빙 매장관리' '유통 물류 재고' '제품 서비스영업' '영업관리 지원 영업기획'\n",
      " '네트워크 서버 보안' '상품기획 MD' '기획 전략 경영' '인사 노무 교육' '사무 총무 법무' '생산 제조 설비 조립'\n",
      " '생산관리 공정관리 품질관리' '구매 자재' '재무 세무 IR' '사무보조 문서작성' '마케팅 광고 분석' '건축 설계 인테리어'\n",
      " '고객상담 인바운드' '외국어 번역 통역' '화학 에너지 환경' '경리 회계 결산' '응용프로그래머' '비서 안내'\n",
      " '시설 보안 경비 안전']\n"
     ]
    },
    {
     "data": {
      "text/plain": [
       "RandomForestClassifier()"
      ]
     },
     "execution_count": 181,
     "metadata": {},
     "output_type": "execute_result"
    },
    {
     "name": "stdout",
     "output_type": "stream",
     "text": [
      "RandomForestClassifier() \n",
      " Accuracy: 0.743 \n",
      " Predict\n"
     ]
    },
    {
     "data": {
      "text/plain": [
       "DecisionTreeClassifier()"
      ]
     },
     "execution_count": 181,
     "metadata": {},
     "output_type": "execute_result"
    },
    {
     "name": "stdout",
     "output_type": "stream",
     "text": [
      "DecisionTreeClassifier() \n",
      " Accuracy: 0.635 \n",
      " Predict\n"
     ]
    },
    {
     "data": {
      "text/plain": [
       "KNeighborsClassifier()"
      ]
     },
     "execution_count": 181,
     "metadata": {},
     "output_type": "execute_result"
    },
    {
     "name": "stdout",
     "output_type": "stream",
     "text": [
      "KNeighborsClassifier() \n",
      " Accuracy: 0.766 \n",
      " Predict\n",
      "-------------------------------------------\n"
     ]
    },
    {
     "data": {
      "text/plain": [
       "RobustScaler()"
      ]
     },
     "execution_count": 181,
     "metadata": {},
     "output_type": "execute_result"
    },
    {
     "name": "stdout",
     "output_type": "stream",
     "text": [
      "----------------- 롯데카드(주) ----------------------\n",
      "['요리 영양 제과제빵 바리스타' '판매 서빙 매장관리' '유통 물류 재고' '제품 서비스영업' '영업관리 지원 영업기획'\n",
      " '네트워크 서버 보안' '상품기획 MD' '기획 전략 경영' '인사 노무 교육' '사무 총무 법무' '생산 제조 설비 조립'\n",
      " '생산관리 공정관리 품질관리' '구매 자재' '재무 세무 IR' '사무보조 문서작성' '마케팅 광고 분석' '건축 설계 인테리어'\n",
      " '고객상담 인바운드' '외국어 번역 통역' '화학 에너지 환경' '경리 회계 결산' '응용프로그래머' '비서 안내'\n",
      " '시설 보안 경비 안전']\n"
     ]
    },
    {
     "data": {
      "text/plain": [
       "RandomForestClassifier()"
      ]
     },
     "execution_count": 181,
     "metadata": {},
     "output_type": "execute_result"
    },
    {
     "name": "stdout",
     "output_type": "stream",
     "text": [
      "RandomForestClassifier() \n",
      " Accuracy: 0.752 \n",
      " Predict\n"
     ]
    },
    {
     "data": {
      "text/plain": [
       "DecisionTreeClassifier()"
      ]
     },
     "execution_count": 181,
     "metadata": {},
     "output_type": "execute_result"
    },
    {
     "name": "stdout",
     "output_type": "stream",
     "text": [
      "DecisionTreeClassifier() \n",
      " Accuracy: 0.659 \n",
      " Predict\n"
     ]
    },
    {
     "data": {
      "text/plain": [
       "KNeighborsClassifier()"
      ]
     },
     "execution_count": 181,
     "metadata": {},
     "output_type": "execute_result"
    },
    {
     "name": "stdout",
     "output_type": "stream",
     "text": [
      "KNeighborsClassifier() \n",
      " Accuracy: 0.766 \n",
      " Predict\n",
      "-------------------------------------------\n"
     ]
    },
    {
     "data": {
      "text/plain": [
       "RobustScaler()"
      ]
     },
     "execution_count": 181,
     "metadata": {},
     "output_type": "execute_result"
    },
    {
     "name": "stdout",
     "output_type": "stream",
     "text": [
      "----------------- ㈜하나은행 ----------------------\n",
      "['요리 영양 제과제빵 바리스타' '판매 서빙 매장관리' '유통 물류 재고' '제품 서비스영업' '영업관리 지원 영업기획'\n",
      " '네트워크 서버 보안' '상품기획 MD' '기획 전략 경영' '인사 노무 교육' '사무 총무 법무' '생산 제조 설비 조립'\n",
      " '생산관리 공정관리 품질관리' '구매 자재' '재무 세무 IR' '사무보조 문서작성' '마케팅 광고 분석' '건축 설계 인테리어'\n",
      " '고객상담 인바운드' '외국어 번역 통역' '화학 에너지 환경' '경리 회계 결산' '응용프로그래머' '비서 안내'\n",
      " '시설 보안 경비 안전']\n"
     ]
    },
    {
     "data": {
      "text/plain": [
       "RandomForestClassifier()"
      ]
     },
     "execution_count": 181,
     "metadata": {},
     "output_type": "execute_result"
    },
    {
     "name": "stdout",
     "output_type": "stream",
     "text": [
      "RandomForestClassifier() \n",
      " Accuracy: 0.747 \n",
      " Predict\n"
     ]
    },
    {
     "data": {
      "text/plain": [
       "DecisionTreeClassifier()"
      ]
     },
     "execution_count": 181,
     "metadata": {},
     "output_type": "execute_result"
    },
    {
     "name": "stdout",
     "output_type": "stream",
     "text": [
      "DecisionTreeClassifier() \n",
      " Accuracy: 0.663 \n",
      " Predict\n"
     ]
    },
    {
     "data": {
      "text/plain": [
       "KNeighborsClassifier()"
      ]
     },
     "execution_count": 181,
     "metadata": {},
     "output_type": "execute_result"
    },
    {
     "name": "stdout",
     "output_type": "stream",
     "text": [
      "KNeighborsClassifier() \n",
      " Accuracy: 0.766 \n",
      " Predict\n",
      "-------------------------------------------\n"
     ]
    },
    {
     "data": {
      "text/plain": [
       "RobustScaler()"
      ]
     },
     "execution_count": 181,
     "metadata": {},
     "output_type": "execute_result"
    },
    {
     "name": "stdout",
     "output_type": "stream",
     "text": [
      "----------------- 비씨카드(주) ----------------------\n",
      "['요리 영양 제과제빵 바리스타' '판매 서빙 매장관리' '유통 물류 재고' '제품 서비스영업' '영업관리 지원 영업기획'\n",
      " '네트워크 서버 보안' '상품기획 MD' '기획 전략 경영' '인사 노무 교육' '사무 총무 법무' '생산 제조 설비 조립'\n",
      " '생산관리 공정관리 품질관리' '구매 자재' '재무 세무 IR' '사무보조 문서작성' '마케팅 광고 분석' '건축 설계 인테리어'\n",
      " '고객상담 인바운드' '외국어 번역 통역' '화학 에너지 환경' '경리 회계 결산' '응용프로그래머' '비서 안내'\n",
      " '시설 보안 경비 안전']\n"
     ]
    },
    {
     "data": {
      "text/plain": [
       "RandomForestClassifier()"
      ]
     },
     "execution_count": 181,
     "metadata": {},
     "output_type": "execute_result"
    },
    {
     "name": "stdout",
     "output_type": "stream",
     "text": [
      "RandomForestClassifier() \n",
      " Accuracy: 0.747 \n",
      " Predict\n"
     ]
    },
    {
     "data": {
      "text/plain": [
       "DecisionTreeClassifier()"
      ]
     },
     "execution_count": 181,
     "metadata": {},
     "output_type": "execute_result"
    },
    {
     "name": "stdout",
     "output_type": "stream",
     "text": [
      "DecisionTreeClassifier() \n",
      " Accuracy: 0.617 \n",
      " Predict\n"
     ]
    },
    {
     "data": {
      "text/plain": [
       "KNeighborsClassifier()"
      ]
     },
     "execution_count": 181,
     "metadata": {},
     "output_type": "execute_result"
    },
    {
     "name": "stdout",
     "output_type": "stream",
     "text": [
      "KNeighborsClassifier() \n",
      " Accuracy: 0.766 \n",
      " Predict\n",
      "-------------------------------------------\n"
     ]
    },
    {
     "data": {
      "text/plain": [
       "RobustScaler()"
      ]
     },
     "execution_count": 181,
     "metadata": {},
     "output_type": "execute_result"
    },
    {
     "name": "stdout",
     "output_type": "stream",
     "text": [
      "----------------- 롯데쇼핑(주) ----------------------\n",
      "['요리 영양 제과제빵 바리스타' '판매 서빙 매장관리' '유통 물류 재고' '제품 서비스영업' '영업관리 지원 영업기획'\n",
      " '네트워크 서버 보안' '상품기획 MD' '기획 전략 경영' '인사 노무 교육' '사무 총무 법무' '생산 제조 설비 조립'\n",
      " '생산관리 공정관리 품질관리' '구매 자재' '재무 세무 IR' '사무보조 문서작성' '마케팅 광고 분석' '건축 설계 인테리어'\n",
      " '고객상담 인바운드' '외국어 번역 통역' '화학 에너지 환경' '경리 회계 결산' '응용프로그래머' '비서 안내'\n",
      " '시설 보안 경비 안전']\n"
     ]
    },
    {
     "data": {
      "text/plain": [
       "RandomForestClassifier()"
      ]
     },
     "execution_count": 181,
     "metadata": {},
     "output_type": "execute_result"
    },
    {
     "name": "stdout",
     "output_type": "stream",
     "text": [
      "RandomForestClassifier() \n",
      " Accuracy: 0.738 \n",
      " Predict\n"
     ]
    },
    {
     "data": {
      "text/plain": [
       "DecisionTreeClassifier()"
      ]
     },
     "execution_count": 181,
     "metadata": {},
     "output_type": "execute_result"
    },
    {
     "name": "stdout",
     "output_type": "stream",
     "text": [
      "DecisionTreeClassifier() \n",
      " Accuracy: 0.64 \n",
      " Predict\n"
     ]
    },
    {
     "data": {
      "text/plain": [
       "KNeighborsClassifier()"
      ]
     },
     "execution_count": 181,
     "metadata": {},
     "output_type": "execute_result"
    },
    {
     "name": "stdout",
     "output_type": "stream",
     "text": [
      "KNeighborsClassifier() \n",
      " Accuracy: 0.766 \n",
      " Predict\n",
      "-------------------------------------------\n"
     ]
    },
    {
     "data": {
      "text/plain": [
       "RobustScaler()"
      ]
     },
     "execution_count": 181,
     "metadata": {},
     "output_type": "execute_result"
    },
    {
     "name": "stdout",
     "output_type": "stream",
     "text": [
      "----------------- 대우조선해양(주) ----------------------\n",
      "['요리 영양 제과제빵 바리스타' '판매 서빙 매장관리' '유통 물류 재고' '제품 서비스영업' '영업관리 지원 영업기획'\n",
      " '네트워크 서버 보안' '상품기획 MD' '기획 전략 경영' '인사 노무 교육' '사무 총무 법무' '생산 제조 설비 조립'\n",
      " '생산관리 공정관리 품질관리' '구매 자재' '재무 세무 IR' '사무보조 문서작성' '마케팅 광고 분석' '건축 설계 인테리어'\n",
      " '고객상담 인바운드' '외국어 번역 통역' '화학 에너지 환경' '경리 회계 결산' '응용프로그래머' '비서 안내'\n",
      " '시설 보안 경비 안전']\n"
     ]
    },
    {
     "data": {
      "text/plain": [
       "RandomForestClassifier()"
      ]
     },
     "execution_count": 181,
     "metadata": {},
     "output_type": "execute_result"
    },
    {
     "name": "stdout",
     "output_type": "stream",
     "text": [
      "RandomForestClassifier() \n",
      " Accuracy: 0.747 \n",
      " Predict\n"
     ]
    },
    {
     "data": {
      "text/plain": [
       "DecisionTreeClassifier()"
      ]
     },
     "execution_count": 181,
     "metadata": {},
     "output_type": "execute_result"
    },
    {
     "name": "stdout",
     "output_type": "stream",
     "text": [
      "DecisionTreeClassifier() \n",
      " Accuracy: 0.631 \n",
      " Predict\n"
     ]
    },
    {
     "data": {
      "text/plain": [
       "KNeighborsClassifier()"
      ]
     },
     "execution_count": 181,
     "metadata": {},
     "output_type": "execute_result"
    },
    {
     "name": "stdout",
     "output_type": "stream",
     "text": [
      "KNeighborsClassifier() \n",
      " Accuracy: 0.766 \n",
      " Predict\n",
      "-------------------------------------------\n"
     ]
    },
    {
     "data": {
      "text/plain": [
       "RobustScaler()"
      ]
     },
     "execution_count": 181,
     "metadata": {},
     "output_type": "execute_result"
    },
    {
     "name": "stdout",
     "output_type": "stream",
     "text": [
      "----------------- (주)호텔신라 ----------------------\n",
      "['요리 영양 제과제빵 바리스타' '판매 서빙 매장관리' '유통 물류 재고' '제품 서비스영업' '영업관리 지원 영업기획'\n",
      " '네트워크 서버 보안' '상품기획 MD' '기획 전략 경영' '인사 노무 교육' '사무 총무 법무' '생산 제조 설비 조립'\n",
      " '생산관리 공정관리 품질관리' '구매 자재' '재무 세무 IR' '사무보조 문서작성' '마케팅 광고 분석' '건축 설계 인테리어'\n",
      " '고객상담 인바운드' '외국어 번역 통역' '화학 에너지 환경' '경리 회계 결산' '응용프로그래머' '비서 안내'\n",
      " '시설 보안 경비 안전']\n"
     ]
    },
    {
     "data": {
      "text/plain": [
       "RandomForestClassifier()"
      ]
     },
     "execution_count": 181,
     "metadata": {},
     "output_type": "execute_result"
    },
    {
     "name": "stdout",
     "output_type": "stream",
     "text": [
      "RandomForestClassifier() \n",
      " Accuracy: 0.743 \n",
      " Predict\n"
     ]
    },
    {
     "data": {
      "text/plain": [
       "DecisionTreeClassifier()"
      ]
     },
     "execution_count": 181,
     "metadata": {},
     "output_type": "execute_result"
    },
    {
     "name": "stdout",
     "output_type": "stream",
     "text": [
      "DecisionTreeClassifier() \n",
      " Accuracy: 0.649 \n",
      " Predict\n"
     ]
    },
    {
     "data": {
      "text/plain": [
       "KNeighborsClassifier()"
      ]
     },
     "execution_count": 181,
     "metadata": {},
     "output_type": "execute_result"
    },
    {
     "name": "stdout",
     "output_type": "stream",
     "text": [
      "KNeighborsClassifier() \n",
      " Accuracy: 0.766 \n",
      " Predict\n",
      "-------------------------------------------\n"
     ]
    },
    {
     "data": {
      "text/plain": [
       "RobustScaler()"
      ]
     },
     "execution_count": 181,
     "metadata": {},
     "output_type": "execute_result"
    },
    {
     "name": "stdout",
     "output_type": "stream",
     "text": [
      "----------------- 삼성생명보험(주) ----------------------\n",
      "['요리 영양 제과제빵 바리스타' '판매 서빙 매장관리' '유통 물류 재고' '제품 서비스영업' '영업관리 지원 영업기획'\n",
      " '네트워크 서버 보안' '상품기획 MD' '기획 전략 경영' '인사 노무 교육' '사무 총무 법무' '생산 제조 설비 조립'\n",
      " '생산관리 공정관리 품질관리' '구매 자재' '재무 세무 IR' '사무보조 문서작성' '마케팅 광고 분석' '건축 설계 인테리어'\n",
      " '고객상담 인바운드' '외국어 번역 통역' '화학 에너지 환경' '경리 회계 결산' '응용프로그래머' '비서 안내'\n",
      " '시설 보안 경비 안전']\n"
     ]
    },
    {
     "data": {
      "text/plain": [
       "RandomForestClassifier()"
      ]
     },
     "execution_count": 181,
     "metadata": {},
     "output_type": "execute_result"
    },
    {
     "name": "stdout",
     "output_type": "stream",
     "text": [
      "RandomForestClassifier() \n",
      " Accuracy: 0.743 \n",
      " Predict\n"
     ]
    },
    {
     "data": {
      "text/plain": [
       "DecisionTreeClassifier()"
      ]
     },
     "execution_count": 181,
     "metadata": {},
     "output_type": "execute_result"
    },
    {
     "name": "stdout",
     "output_type": "stream",
     "text": [
      "DecisionTreeClassifier() \n",
      " Accuracy: 0.645 \n",
      " Predict\n"
     ]
    },
    {
     "data": {
      "text/plain": [
       "KNeighborsClassifier()"
      ]
     },
     "execution_count": 181,
     "metadata": {},
     "output_type": "execute_result"
    },
    {
     "name": "stdout",
     "output_type": "stream",
     "text": [
      "KNeighborsClassifier() \n",
      " Accuracy: 0.766 \n",
      " Predict\n",
      "-------------------------------------------\n"
     ]
    },
    {
     "data": {
      "text/plain": [
       "RobustScaler()"
      ]
     },
     "execution_count": 181,
     "metadata": {},
     "output_type": "execute_result"
    },
    {
     "name": "stdout",
     "output_type": "stream",
     "text": [
      "----------------- (주)우리은행 ----------------------\n",
      "['요리 영양 제과제빵 바리스타' '판매 서빙 매장관리' '유통 물류 재고' '제품 서비스영업' '영업관리 지원 영업기획'\n",
      " '네트워크 서버 보안' '상품기획 MD' '기획 전략 경영' '인사 노무 교육' '사무 총무 법무' '생산 제조 설비 조립'\n",
      " '생산관리 공정관리 품질관리' '구매 자재' '재무 세무 IR' '사무보조 문서작성' '마케팅 광고 분석' '건축 설계 인테리어'\n",
      " '고객상담 인바운드' '외국어 번역 통역' '화학 에너지 환경' '경리 회계 결산' '응용프로그래머' '비서 안내'\n",
      " '시설 보안 경비 안전']\n"
     ]
    },
    {
     "data": {
      "text/plain": [
       "RandomForestClassifier()"
      ]
     },
     "execution_count": 181,
     "metadata": {},
     "output_type": "execute_result"
    },
    {
     "name": "stdout",
     "output_type": "stream",
     "text": [
      "RandomForestClassifier() \n",
      " Accuracy: 0.743 \n",
      " Predict\n"
     ]
    },
    {
     "data": {
      "text/plain": [
       "DecisionTreeClassifier()"
      ]
     },
     "execution_count": 181,
     "metadata": {},
     "output_type": "execute_result"
    },
    {
     "name": "stdout",
     "output_type": "stream",
     "text": [
      "DecisionTreeClassifier() \n",
      " Accuracy: 0.64 \n",
      " Predict\n"
     ]
    },
    {
     "data": {
      "text/plain": [
       "KNeighborsClassifier()"
      ]
     },
     "execution_count": 181,
     "metadata": {},
     "output_type": "execute_result"
    },
    {
     "name": "stdout",
     "output_type": "stream",
     "text": [
      "KNeighborsClassifier() \n",
      " Accuracy: 0.766 \n",
      " Predict\n",
      "-------------------------------------------\n"
     ]
    }
   ],
   "source": [
    "# 리스트 3\n",
    "# 상위 20개 합격회사 조회\n",
    "for k in range(0,20):\n",
    "    data_copy = data[data['합격회사']==list_2[i]]\n",
    "    list_1 = (data_copy['부서'].unique())\n",
    "   \n",
    "    list380 = []\n",
    "    list370 = []     \n",
    "    list360 = []  \n",
    "    list350 = []\n",
    "    list340 = []\n",
    "    list330 = []\n",
    "    list320 = []\n",
    "    list310 = []\n",
    "    list300 = []\n",
    "    list270 = []\n",
    "    list260 = []    \n",
    "    list250 = []\n",
    "    list235 = []\n",
    "    list230 = []\n",
    "    list220 = []\n",
    "    list210 = []\n",
    "    list200 = []\n",
    "    list190 = []\n",
    "    list180 = []\n",
    "    list170 = []\n",
    "    list150 = []\n",
    "    list130 = []\n",
    "    list100 = []\n",
    "\n",
    "# 부서별 스펙지수별로 라벨링 나누기\n",
    "    for i in range(len(list_1)): \n",
    "     # 부서별 스펙지수별로 리스트 저장\n",
    "        if(data_copy[data_copy['부서']==list_1[i]]['스펙지수'].mean()>300):        \n",
    "            list300.append(list_1[i])\n",
    "        elif(data_copy[data_copy['부서']==list_1[i]]['스펙지수'].mean()>260):        \n",
    "            list260.append(list_1[i])\n",
    "        elif(data_copy[data_copy['부서']==list_1[i]]['스펙지수'].mean()>200):        \n",
    "            list200.append(list_1[i])\n",
    "        elif(data_copy[data_copy['부서']==list_1[i]]['스펙지수'].mean()>150):        \n",
    "            list150.append(list_1[i])\n",
    "        elif (data_copy[data_copy['부서']==list_1[i]]['스펙지수'].mean()<150): \n",
    "            list100.append(list_1[i])\n",
    "\n",
    "# 부서별 스펙지수로 라벨 값 변경\n",
    "    for i in range(len(list300)):\n",
    "        b = data_copy['부서'].str.contains(list300[i])\n",
    "        data_copy['부서'][b] = '300'\n",
    "        \n",
    "    for i in range(len(list260)):\n",
    "        b = data_copy['부서'].str.contains(list260[i])\n",
    "        data_copy['부서'][b] = '260'\n",
    "\n",
    "    for i in range(len(list200)):\n",
    "        b = data_copy['부서'].str.contains(list200[i])\n",
    "        data_copy['부서'][b] = '200'\n",
    "\n",
    "    for i in range(len(list150)):\n",
    "        b = data_copy['부서'].str.contains(list150[i])\n",
    "        data_copy['부서'][b] = '150'\n",
    "    \n",
    "    for i in range(len(list100)):\n",
    "        b = data_copy['부서'].str.contains(list100[i])\n",
    "        data_copy['부서'][b] = '100' \n",
    "\n",
    "# RobustScaler로 정규화\n",
    "    from sklearn.preprocessing import RobustScaler\n",
    "    X = data_copy.iloc[:, 2:14]\n",
    "    y = data_copy['부서']\n",
    "    y_1 = data_copy['부서']\n",
    "    y = pd.get_dummies(y)\n",
    "\n",
    "# 모델 정의\n",
    "    transformer = RobustScaler()\n",
    "    transformer.fit(X)\n",
    "    X = transformer.transform(X)\n",
    "    \n",
    "    lR = LogisticRegression()\n",
    "    rf = RandomForestClassifier()\n",
    "    dt = DecisionTreeClassifier()\n",
    "    kn = KNeighborsClassifier()\n",
    "    lr = LogisticRegression()\n",
    "    \n",
    "# 데이터 분리\n",
    "    X_train, X_test, y_train, y_test = train_test_split(X, y, test_size=0.3, shuffle=True, random_state=6)\n",
    "    \n",
    "    print(\"----------------- {} ----------------------\".format(list_2[k]))\n",
    "    print(list_1)\n",
    "    models = [rf, dt, kn]\n",
    "    for model in models:\n",
    "        model.fit(X_train, y_train)\n",
    "        pre = model.predict(X_test)\n",
    "        scores = cross_val_score(model, X_test, y_test, cv=5).mean().round(3)\n",
    "        #f1score = metrics.f1_score(y_test, y_pred).round(3)\n",
    "        print(model, '\\n', 'Accuracy:', scores, '\\n', 'Predict')\n",
    "    print(\"-------------------------------------------\")\n",
    "    \n",
    "   "
   ]
  },
  {
   "cell_type": "code",
   "execution_count": 178,
   "metadata": {},
   "outputs": [
    {
     "data": {
      "text/plain": [
       "RobustScaler()"
      ]
     },
     "execution_count": 178,
     "metadata": {},
     "output_type": "execute_result"
    },
    {
     "name": "stdout",
     "output_type": "stream",
     "text": [
      "----------------- 현대카드(주) ----------------------\n",
      "['요리 영양 제과제빵 바리스타' '판매 서빙 매장관리' '유통 물류 재고' '제품 서비스영업' '영업관리 지원 영업기획'\n",
      " '네트워크 서버 보안' '상품기획 MD' '기획 전략 경영' '인사 노무 교육' '사무 총무 법무' '생산 제조 설비 조립'\n",
      " '생산관리 공정관리 품질관리' '구매 자재' '재무 세무 IR' '사무보조 문서작성' '마케팅 광고 분석' '건축 설계 인테리어'\n",
      " '고객상담 인바운드' '외국어 번역 통역' '화학 에너지 환경' '경리 회계 결산' '응용프로그래머' '비서 안내'\n",
      " '시설 보안 경비 안전']\n"
     ]
    },
    {
     "data": {
      "text/plain": [
       "RandomForestClassifier()"
      ]
     },
     "execution_count": 178,
     "metadata": {},
     "output_type": "execute_result"
    },
    {
     "name": "stdout",
     "output_type": "stream",
     "text": [
      "RandomForestClassifier() \n",
      " Accuracy: 0.663 \n",
      "\n"
     ]
    },
    {
     "data": {
      "text/plain": [
       "DecisionTreeClassifier()"
      ]
     },
     "execution_count": 178,
     "metadata": {},
     "output_type": "execute_result"
    },
    {
     "name": "stdout",
     "output_type": "stream",
     "text": [
      "DecisionTreeClassifier() \n",
      " Accuracy: 0.598 \n",
      "\n"
     ]
    },
    {
     "data": {
      "text/plain": [
       "KNeighborsClassifier()"
      ]
     },
     "execution_count": 178,
     "metadata": {},
     "output_type": "execute_result"
    },
    {
     "name": "stdout",
     "output_type": "stream",
     "text": [
      "KNeighborsClassifier() \n",
      " Accuracy: 0.724 \n",
      "\n",
      "-------------------------------------------\n"
     ]
    },
    {
     "data": {
      "text/plain": [
       "RobustScaler()"
      ]
     },
     "execution_count": 178,
     "metadata": {},
     "output_type": "execute_result"
    },
    {
     "name": "stdout",
     "output_type": "stream",
     "text": [
      "----------------- 삼성전자(주) ----------------------\n",
      "['인사 노무 교육' '시공 현장 감리 공무' '자동차 조선 기계' '사무 총무 법무' '영업관리 지원 영업기획'\n",
      " '기계설계 CAD CAM' '전기 전자 제어' '생산 제조 설비 조립' '건축 설계 인테리어' '구매 자재' '응용프로그래머'\n",
      " '생산관리 공정관리 품질관리' '해외영업 무역영업' '경리 회계 결산' '재무 세무 IR' '비서 안내' '기획 전략 경영'\n",
      " '외국어 번역 통역' '화학 에너지 환경' 'IT 솔루션 기술영업' '웹프로그래머' '시설 보안 경비 안전' '제품 서비스영업'\n",
      " '사무보조 문서작성' '네트워크 서버 보안' '유통 물류 재고' '홍보 PR' '반도체 디스플레이' '마케팅 광고 분석'\n",
      " '금융 보험영업' '고객상담 인바운드' '요리 영양 제과제빵 바리스타' '리서치 통계 설문']\n"
     ]
    },
    {
     "data": {
      "text/plain": [
       "RandomForestClassifier()"
      ]
     },
     "execution_count": 178,
     "metadata": {},
     "output_type": "execute_result"
    },
    {
     "name": "stdout",
     "output_type": "stream",
     "text": [
      "RandomForestClassifier() \n",
      " Accuracy: 0.2 \n",
      "\n"
     ]
    },
    {
     "data": {
      "text/plain": [
       "DecisionTreeClassifier()"
      ]
     },
     "execution_count": 178,
     "metadata": {},
     "output_type": "execute_result"
    },
    {
     "name": "stdout",
     "output_type": "stream",
     "text": [
      "DecisionTreeClassifier() \n",
      " Accuracy: 0.303 \n",
      "\n"
     ]
    },
    {
     "data": {
      "text/plain": [
       "KNeighborsClassifier()"
      ]
     },
     "execution_count": 178,
     "metadata": {},
     "output_type": "execute_result"
    },
    {
     "name": "stdout",
     "output_type": "stream",
     "text": [
      "KNeighborsClassifier() \n",
      " Accuracy: 0.086 \n",
      "\n",
      "-------------------------------------------\n"
     ]
    },
    {
     "data": {
      "text/plain": [
       "RobustScaler()"
      ]
     },
     "execution_count": 178,
     "metadata": {},
     "output_type": "execute_result"
    },
    {
     "name": "stdout",
     "output_type": "stream",
     "text": [
      "----------------- 현대캐피탈(주) ----------------------\n",
      "['기계설계 CAD CAM' '사무보조 문서작성' '구매 자재' '생산관리 공정관리 품질관리' '사무 총무 법무' '경리 회계 결산'\n",
      " '재무 세무 IR' '자동차 조선 기계' '전기 전자 제어' '화학 에너지 환경' '생산 제조 설비 조립' '건축 설계 인테리어'\n",
      " '비서 안내' '외국어 번역 통역' '인사 노무 교육' '시공 현장 감리 공무' '영업관리 지원 영업기획' '기획 전략 경영'\n",
      " '판매 서빙 매장관리' '해외영업 무역영업' '웹프로그래머' '홍보 PR' '시설 보안 경비 안전' '응용프로그래머'\n",
      " '금융 보험영업' '마케팅 광고 분석' '유통 물류 재고' '요리 영양 제과제빵 바리스타' '네트워크 서버 보안'\n",
      " '제품 서비스영업' '리서치 통계 설문' 'IT 솔루션 기술영업']\n"
     ]
    },
    {
     "data": {
      "text/plain": [
       "RandomForestClassifier()"
      ]
     },
     "execution_count": 178,
     "metadata": {},
     "output_type": "execute_result"
    },
    {
     "name": "stdout",
     "output_type": "stream",
     "text": [
      "RandomForestClassifier() \n",
      " Accuracy: 0.273 \n",
      "\n"
     ]
    },
    {
     "data": {
      "text/plain": [
       "DecisionTreeClassifier()"
      ]
     },
     "execution_count": 178,
     "metadata": {},
     "output_type": "execute_result"
    },
    {
     "name": "stdout",
     "output_type": "stream",
     "text": [
      "DecisionTreeClassifier() \n",
      " Accuracy: 0.376 \n",
      "\n"
     ]
    },
    {
     "data": {
      "text/plain": [
       "KNeighborsClassifier()"
      ]
     },
     "execution_count": 178,
     "metadata": {},
     "output_type": "execute_result"
    },
    {
     "name": "stdout",
     "output_type": "stream",
     "text": [
      "KNeighborsClassifier() \n",
      " Accuracy: 0.254 \n",
      "\n",
      "-------------------------------------------\n"
     ]
    },
    {
     "data": {
      "text/plain": [
       "RobustScaler()"
      ]
     },
     "execution_count": 178,
     "metadata": {},
     "output_type": "execute_result"
    },
    {
     "name": "stdout",
     "output_type": "stream",
     "text": [
      "----------------- (주)스타벅스커피코리아 ----------------------\n",
      "['요리 영양 제과제빵 바리스타' '판매 서빙 매장관리' '유통 물류 재고' '제품 서비스영업' '영업관리 지원 영업기획'\n",
      " '네트워크 서버 보안' '상품기획 MD' '기획 전략 경영' '인사 노무 교육' '사무 총무 법무' '생산 제조 설비 조립'\n",
      " '생산관리 공정관리 품질관리' '구매 자재' '재무 세무 IR' '사무보조 문서작성' '마케팅 광고 분석' '건축 설계 인테리어'\n",
      " '고객상담 인바운드' '외국어 번역 통역' '화학 에너지 환경' '경리 회계 결산' '응용프로그래머' '비서 안내'\n",
      " '시설 보안 경비 안전']\n"
     ]
    },
    {
     "data": {
      "text/plain": [
       "RandomForestClassifier()"
      ]
     },
     "execution_count": 178,
     "metadata": {},
     "output_type": "execute_result"
    },
    {
     "name": "stdout",
     "output_type": "stream",
     "text": [
      "RandomForestClassifier() \n",
      " Accuracy: 0.678 \n",
      "\n"
     ]
    },
    {
     "data": {
      "text/plain": [
       "DecisionTreeClassifier()"
      ]
     },
     "execution_count": 178,
     "metadata": {},
     "output_type": "execute_result"
    },
    {
     "name": "stdout",
     "output_type": "stream",
     "text": [
      "DecisionTreeClassifier() \n",
      " Accuracy: 0.589 \n",
      "\n"
     ]
    },
    {
     "data": {
      "text/plain": [
       "KNeighborsClassifier()"
      ]
     },
     "execution_count": 178,
     "metadata": {},
     "output_type": "execute_result"
    },
    {
     "name": "stdout",
     "output_type": "stream",
     "text": [
      "KNeighborsClassifier() \n",
      " Accuracy: 0.724 \n",
      "\n",
      "-------------------------------------------\n"
     ]
    },
    {
     "data": {
      "text/plain": [
       "RobustScaler()"
      ]
     },
     "execution_count": 178,
     "metadata": {},
     "output_type": "execute_result"
    },
    {
     "name": "stdout",
     "output_type": "stream",
     "text": [
      "----------------- 두산중공업(주) ----------------------\n",
      "['인사 노무 교육' '시공 현장 감리 공무' '자동차 조선 기계' '사무 총무 법무' '영업관리 지원 영업기획'\n",
      " '기계설계 CAD CAM' '전기 전자 제어' '생산 제조 설비 조립' '건축 설계 인테리어' '구매 자재' '응용프로그래머'\n",
      " '생산관리 공정관리 품질관리' '해외영업 무역영업' '경리 회계 결산' '재무 세무 IR' '비서 안내' '기획 전략 경영'\n",
      " '외국어 번역 통역' '화학 에너지 환경' 'IT 솔루션 기술영업' '웹프로그래머' '시설 보안 경비 안전' '제품 서비스영업'\n",
      " '사무보조 문서작성' '네트워크 서버 보안' '유통 물류 재고' '홍보 PR' '반도체 디스플레이' '마케팅 광고 분석'\n",
      " '금융 보험영업' '고객상담 인바운드' '요리 영양 제과제빵 바리스타' '리서치 통계 설문']\n"
     ]
    },
    {
     "data": {
      "text/plain": [
       "RandomForestClassifier()"
      ]
     },
     "execution_count": 178,
     "metadata": {},
     "output_type": "execute_result"
    },
    {
     "name": "stdout",
     "output_type": "stream",
     "text": [
      "RandomForestClassifier() \n",
      " Accuracy: 0.184 \n",
      "\n"
     ]
    },
    {
     "data": {
      "text/plain": [
       "DecisionTreeClassifier()"
      ]
     },
     "execution_count": 178,
     "metadata": {},
     "output_type": "execute_result"
    },
    {
     "name": "stdout",
     "output_type": "stream",
     "text": [
      "DecisionTreeClassifier() \n",
      " Accuracy: 0.297 \n",
      "\n"
     ]
    },
    {
     "data": {
      "text/plain": [
       "KNeighborsClassifier()"
      ]
     },
     "execution_count": 178,
     "metadata": {},
     "output_type": "execute_result"
    },
    {
     "name": "stdout",
     "output_type": "stream",
     "text": [
      "KNeighborsClassifier() \n",
      " Accuracy: 0.086 \n",
      "\n",
      "-------------------------------------------\n"
     ]
    },
    {
     "data": {
      "text/plain": [
       "RobustScaler()"
      ]
     },
     "execution_count": 178,
     "metadata": {},
     "output_type": "execute_result"
    },
    {
     "name": "stdout",
     "output_type": "stream",
     "text": [
      "----------------- (주)에스텍시스템 ----------------------\n",
      "['기계설계 CAD CAM' '사무보조 문서작성' '구매 자재' '생산관리 공정관리 품질관리' '사무 총무 법무' '경리 회계 결산'\n",
      " '재무 세무 IR' '자동차 조선 기계' '전기 전자 제어' '화학 에너지 환경' '생산 제조 설비 조립' '건축 설계 인테리어'\n",
      " '비서 안내' '외국어 번역 통역' '인사 노무 교육' '시공 현장 감리 공무' '영업관리 지원 영업기획' '기획 전략 경영'\n",
      " '판매 서빙 매장관리' '해외영업 무역영업' '웹프로그래머' '홍보 PR' '시설 보안 경비 안전' '응용프로그래머'\n",
      " '금융 보험영업' '마케팅 광고 분석' '유통 물류 재고' '요리 영양 제과제빵 바리스타' '네트워크 서버 보안'\n",
      " '제품 서비스영업' '리서치 통계 설문' 'IT 솔루션 기술영업']\n"
     ]
    },
    {
     "data": {
      "text/plain": [
       "RandomForestClassifier()"
      ]
     },
     "execution_count": 178,
     "metadata": {},
     "output_type": "execute_result"
    },
    {
     "name": "stdout",
     "output_type": "stream",
     "text": [
      "RandomForestClassifier() \n",
      " Accuracy: 0.278 \n",
      "\n"
     ]
    },
    {
     "data": {
      "text/plain": [
       "DecisionTreeClassifier()"
      ]
     },
     "execution_count": 178,
     "metadata": {},
     "output_type": "execute_result"
    },
    {
     "name": "stdout",
     "output_type": "stream",
     "text": [
      "DecisionTreeClassifier() \n",
      " Accuracy: 0.332 \n",
      "\n"
     ]
    },
    {
     "data": {
      "text/plain": [
       "KNeighborsClassifier()"
      ]
     },
     "execution_count": 178,
     "metadata": {},
     "output_type": "execute_result"
    },
    {
     "name": "stdout",
     "output_type": "stream",
     "text": [
      "KNeighborsClassifier() \n",
      " Accuracy: 0.254 \n",
      "\n",
      "-------------------------------------------\n"
     ]
    },
    {
     "data": {
      "text/plain": [
       "RobustScaler()"
      ]
     },
     "execution_count": 178,
     "metadata": {},
     "output_type": "execute_result"
    },
    {
     "name": "stdout",
     "output_type": "stream",
     "text": [
      "----------------- (주)아워홈 ----------------------\n",
      "['요리 영양 제과제빵 바리스타' '판매 서빙 매장관리' '유통 물류 재고' '제품 서비스영업' '영업관리 지원 영업기획'\n",
      " '네트워크 서버 보안' '상품기획 MD' '기획 전략 경영' '인사 노무 교육' '사무 총무 법무' '생산 제조 설비 조립'\n",
      " '생산관리 공정관리 품질관리' '구매 자재' '재무 세무 IR' '사무보조 문서작성' '마케팅 광고 분석' '건축 설계 인테리어'\n",
      " '고객상담 인바운드' '외국어 번역 통역' '화학 에너지 환경' '경리 회계 결산' '응용프로그래머' '비서 안내'\n",
      " '시설 보안 경비 안전']\n"
     ]
    },
    {
     "data": {
      "text/plain": [
       "RandomForestClassifier()"
      ]
     },
     "execution_count": 178,
     "metadata": {},
     "output_type": "execute_result"
    },
    {
     "name": "stdout",
     "output_type": "stream",
     "text": [
      "RandomForestClassifier() \n",
      " Accuracy: 0.687 \n",
      "\n"
     ]
    },
    {
     "data": {
      "text/plain": [
       "DecisionTreeClassifier()"
      ]
     },
     "execution_count": 178,
     "metadata": {},
     "output_type": "execute_result"
    },
    {
     "name": "stdout",
     "output_type": "stream",
     "text": [
      "DecisionTreeClassifier() \n",
      " Accuracy: 0.57 \n",
      "\n"
     ]
    },
    {
     "data": {
      "text/plain": [
       "KNeighborsClassifier()"
      ]
     },
     "execution_count": 178,
     "metadata": {},
     "output_type": "execute_result"
    },
    {
     "name": "stdout",
     "output_type": "stream",
     "text": [
      "KNeighborsClassifier() \n",
      " Accuracy: 0.724 \n",
      "\n",
      "-------------------------------------------\n"
     ]
    },
    {
     "data": {
      "text/plain": [
       "RobustScaler()"
      ]
     },
     "execution_count": 178,
     "metadata": {},
     "output_type": "execute_result"
    },
    {
     "name": "stdout",
     "output_type": "stream",
     "text": [
      "----------------- 한국조선해양(주) ----------------------\n",
      "['인사 노무 교육' '시공 현장 감리 공무' '자동차 조선 기계' '사무 총무 법무' '영업관리 지원 영업기획'\n",
      " '기계설계 CAD CAM' '전기 전자 제어' '생산 제조 설비 조립' '건축 설계 인테리어' '구매 자재' '응용프로그래머'\n",
      " '생산관리 공정관리 품질관리' '해외영업 무역영업' '경리 회계 결산' '재무 세무 IR' '비서 안내' '기획 전략 경영'\n",
      " '외국어 번역 통역' '화학 에너지 환경' 'IT 솔루션 기술영업' '웹프로그래머' '시설 보안 경비 안전' '제품 서비스영업'\n",
      " '사무보조 문서작성' '네트워크 서버 보안' '유통 물류 재고' '홍보 PR' '반도체 디스플레이' '마케팅 광고 분석'\n",
      " '금융 보험영업' '고객상담 인바운드' '요리 영양 제과제빵 바리스타' '리서치 통계 설문']\n"
     ]
    },
    {
     "data": {
      "text/plain": [
       "RandomForestClassifier()"
      ]
     },
     "execution_count": 178,
     "metadata": {},
     "output_type": "execute_result"
    },
    {
     "name": "stdout",
     "output_type": "stream",
     "text": [
      "RandomForestClassifier() \n",
      " Accuracy: 0.173 \n",
      "\n"
     ]
    },
    {
     "data": {
      "text/plain": [
       "DecisionTreeClassifier()"
      ]
     },
     "execution_count": 178,
     "metadata": {},
     "output_type": "execute_result"
    },
    {
     "name": "stdout",
     "output_type": "stream",
     "text": [
      "DecisionTreeClassifier() \n",
      " Accuracy: 0.292 \n",
      "\n"
     ]
    },
    {
     "data": {
      "text/plain": [
       "KNeighborsClassifier()"
      ]
     },
     "execution_count": 178,
     "metadata": {},
     "output_type": "execute_result"
    },
    {
     "name": "stdout",
     "output_type": "stream",
     "text": [
      "KNeighborsClassifier() \n",
      " Accuracy: 0.086 \n",
      "\n",
      "-------------------------------------------\n"
     ]
    },
    {
     "data": {
      "text/plain": [
       "RobustScaler()"
      ]
     },
     "execution_count": 178,
     "metadata": {},
     "output_type": "execute_result"
    },
    {
     "name": "stdout",
     "output_type": "stream",
     "text": [
      "----------------- (주)유니에스 ----------------------\n",
      "['기계설계 CAD CAM' '사무보조 문서작성' '구매 자재' '생산관리 공정관리 품질관리' '사무 총무 법무' '경리 회계 결산'\n",
      " '재무 세무 IR' '자동차 조선 기계' '전기 전자 제어' '화학 에너지 환경' '생산 제조 설비 조립' '건축 설계 인테리어'\n",
      " '비서 안내' '외국어 번역 통역' '인사 노무 교육' '시공 현장 감리 공무' '영업관리 지원 영업기획' '기획 전략 경영'\n",
      " '판매 서빙 매장관리' '해외영업 무역영업' '웹프로그래머' '홍보 PR' '시설 보안 경비 안전' '응용프로그래머'\n",
      " '금융 보험영업' '마케팅 광고 분석' '유통 물류 재고' '요리 영양 제과제빵 바리스타' '네트워크 서버 보안'\n",
      " '제품 서비스영업' '리서치 통계 설문' 'IT 솔루션 기술영업']\n"
     ]
    },
    {
     "data": {
      "text/plain": [
       "RandomForestClassifier()"
      ]
     },
     "execution_count": 178,
     "metadata": {},
     "output_type": "execute_result"
    },
    {
     "name": "stdout",
     "output_type": "stream",
     "text": [
      "RandomForestClassifier() \n",
      " Accuracy: 0.259 \n",
      "\n"
     ]
    },
    {
     "data": {
      "text/plain": [
       "DecisionTreeClassifier()"
      ]
     },
     "execution_count": 178,
     "metadata": {},
     "output_type": "execute_result"
    },
    {
     "name": "stdout",
     "output_type": "stream",
     "text": [
      "DecisionTreeClassifier() \n",
      " Accuracy: 0.38 \n",
      "\n"
     ]
    },
    {
     "data": {
      "text/plain": [
       "KNeighborsClassifier()"
      ]
     },
     "execution_count": 178,
     "metadata": {},
     "output_type": "execute_result"
    },
    {
     "name": "stdout",
     "output_type": "stream",
     "text": [
      "KNeighborsClassifier() \n",
      " Accuracy: 0.254 \n",
      "\n",
      "-------------------------------------------\n"
     ]
    },
    {
     "data": {
      "text/plain": [
       "RobustScaler()"
      ]
     },
     "execution_count": 178,
     "metadata": {},
     "output_type": "execute_result"
    },
    {
     "name": "stdout",
     "output_type": "stream",
     "text": [
      "----------------- (주)커피빈코리아 ----------------------\n",
      "['요리 영양 제과제빵 바리스타' '판매 서빙 매장관리' '유통 물류 재고' '제품 서비스영업' '영업관리 지원 영업기획'\n",
      " '네트워크 서버 보안' '상품기획 MD' '기획 전략 경영' '인사 노무 교육' '사무 총무 법무' '생산 제조 설비 조립'\n",
      " '생산관리 공정관리 품질관리' '구매 자재' '재무 세무 IR' '사무보조 문서작성' '마케팅 광고 분석' '건축 설계 인테리어'\n",
      " '고객상담 인바운드' '외국어 번역 통역' '화학 에너지 환경' '경리 회계 결산' '응용프로그래머' '비서 안내'\n",
      " '시설 보안 경비 안전']\n"
     ]
    },
    {
     "data": {
      "text/plain": [
       "RandomForestClassifier()"
      ]
     },
     "execution_count": 178,
     "metadata": {},
     "output_type": "execute_result"
    },
    {
     "name": "stdout",
     "output_type": "stream",
     "text": [
      "RandomForestClassifier() \n",
      " Accuracy: 0.673 \n",
      "\n"
     ]
    },
    {
     "data": {
      "text/plain": [
       "DecisionTreeClassifier()"
      ]
     },
     "execution_count": 178,
     "metadata": {},
     "output_type": "execute_result"
    },
    {
     "name": "stdout",
     "output_type": "stream",
     "text": [
      "DecisionTreeClassifier() \n",
      " Accuracy: 0.598 \n",
      "\n"
     ]
    },
    {
     "data": {
      "text/plain": [
       "KNeighborsClassifier()"
      ]
     },
     "execution_count": 178,
     "metadata": {},
     "output_type": "execute_result"
    },
    {
     "name": "stdout",
     "output_type": "stream",
     "text": [
      "KNeighborsClassifier() \n",
      " Accuracy: 0.724 \n",
      "\n",
      "-------------------------------------------\n"
     ]
    },
    {
     "data": {
      "text/plain": [
       "RobustScaler()"
      ]
     },
     "execution_count": 178,
     "metadata": {},
     "output_type": "execute_result"
    },
    {
     "name": "stdout",
     "output_type": "stream",
     "text": [
      "----------------- LG전자(주) ----------------------\n",
      "['인사 노무 교육' '시공 현장 감리 공무' '자동차 조선 기계' '사무 총무 법무' '영업관리 지원 영업기획'\n",
      " '기계설계 CAD CAM' '전기 전자 제어' '생산 제조 설비 조립' '건축 설계 인테리어' '구매 자재' '응용프로그래머'\n",
      " '생산관리 공정관리 품질관리' '해외영업 무역영업' '경리 회계 결산' '재무 세무 IR' '비서 안내' '기획 전략 경영'\n",
      " '외국어 번역 통역' '화학 에너지 환경' 'IT 솔루션 기술영업' '웹프로그래머' '시설 보안 경비 안전' '제품 서비스영업'\n",
      " '사무보조 문서작성' '네트워크 서버 보안' '유통 물류 재고' '홍보 PR' '반도체 디스플레이' '마케팅 광고 분석'\n",
      " '금융 보험영업' '고객상담 인바운드' '요리 영양 제과제빵 바리스타' '리서치 통계 설문']\n"
     ]
    },
    {
     "data": {
      "text/plain": [
       "RandomForestClassifier()"
      ]
     },
     "execution_count": 178,
     "metadata": {},
     "output_type": "execute_result"
    },
    {
     "name": "stdout",
     "output_type": "stream",
     "text": [
      "RandomForestClassifier() \n",
      " Accuracy: 0.195 \n",
      "\n"
     ]
    },
    {
     "data": {
      "text/plain": [
       "DecisionTreeClassifier()"
      ]
     },
     "execution_count": 178,
     "metadata": {},
     "output_type": "execute_result"
    },
    {
     "name": "stdout",
     "output_type": "stream",
     "text": [
      "DecisionTreeClassifier() \n",
      " Accuracy: 0.27 \n",
      "\n"
     ]
    },
    {
     "data": {
      "text/plain": [
       "KNeighborsClassifier()"
      ]
     },
     "execution_count": 178,
     "metadata": {},
     "output_type": "execute_result"
    },
    {
     "name": "stdout",
     "output_type": "stream",
     "text": [
      "KNeighborsClassifier() \n",
      " Accuracy: 0.086 \n",
      "\n",
      "-------------------------------------------\n"
     ]
    },
    {
     "data": {
      "text/plain": [
       "RobustScaler()"
      ]
     },
     "execution_count": 178,
     "metadata": {},
     "output_type": "execute_result"
    },
    {
     "name": "stdout",
     "output_type": "stream",
     "text": [
      "----------------- 삼성카드(주) ----------------------\n",
      "['기계설계 CAD CAM' '사무보조 문서작성' '구매 자재' '생산관리 공정관리 품질관리' '사무 총무 법무' '경리 회계 결산'\n",
      " '재무 세무 IR' '자동차 조선 기계' '전기 전자 제어' '화학 에너지 환경' '생산 제조 설비 조립' '건축 설계 인테리어'\n",
      " '비서 안내' '외국어 번역 통역' '인사 노무 교육' '시공 현장 감리 공무' '영업관리 지원 영업기획' '기획 전략 경영'\n",
      " '판매 서빙 매장관리' '해외영업 무역영업' '웹프로그래머' '홍보 PR' '시설 보안 경비 안전' '응용프로그래머'\n",
      " '금융 보험영업' '마케팅 광고 분석' '유통 물류 재고' '요리 영양 제과제빵 바리스타' '네트워크 서버 보안'\n",
      " '제품 서비스영업' '리서치 통계 설문' 'IT 솔루션 기술영업']\n"
     ]
    },
    {
     "data": {
      "text/plain": [
       "RandomForestClassifier()"
      ]
     },
     "execution_count": 178,
     "metadata": {},
     "output_type": "execute_result"
    },
    {
     "name": "stdout",
     "output_type": "stream",
     "text": [
      "RandomForestClassifier() \n",
      " Accuracy: 0.283 \n",
      "\n"
     ]
    },
    {
     "data": {
      "text/plain": [
       "DecisionTreeClassifier()"
      ]
     },
     "execution_count": 178,
     "metadata": {},
     "output_type": "execute_result"
    },
    {
     "name": "stdout",
     "output_type": "stream",
     "text": [
      "DecisionTreeClassifier() \n",
      " Accuracy: 0.351 \n",
      "\n"
     ]
    },
    {
     "data": {
      "text/plain": [
       "KNeighborsClassifier()"
      ]
     },
     "execution_count": 178,
     "metadata": {},
     "output_type": "execute_result"
    },
    {
     "name": "stdout",
     "output_type": "stream",
     "text": [
      "KNeighborsClassifier() \n",
      " Accuracy: 0.254 \n",
      "\n",
      "-------------------------------------------\n"
     ]
    },
    {
     "data": {
      "text/plain": [
       "RobustScaler()"
      ]
     },
     "execution_count": 178,
     "metadata": {},
     "output_type": "execute_result"
    },
    {
     "name": "stdout",
     "output_type": "stream",
     "text": [
      "----------------- 롯데카드(주) ----------------------\n",
      "['요리 영양 제과제빵 바리스타' '판매 서빙 매장관리' '유통 물류 재고' '제품 서비스영업' '영업관리 지원 영업기획'\n",
      " '네트워크 서버 보안' '상품기획 MD' '기획 전략 경영' '인사 노무 교육' '사무 총무 법무' '생산 제조 설비 조립'\n",
      " '생산관리 공정관리 품질관리' '구매 자재' '재무 세무 IR' '사무보조 문서작성' '마케팅 광고 분석' '건축 설계 인테리어'\n",
      " '고객상담 인바운드' '외국어 번역 통역' '화학 에너지 환경' '경리 회계 결산' '응용프로그래머' '비서 안내'\n",
      " '시설 보안 경비 안전']\n"
     ]
    },
    {
     "data": {
      "text/plain": [
       "RandomForestClassifier()"
      ]
     },
     "execution_count": 178,
     "metadata": {},
     "output_type": "execute_result"
    },
    {
     "name": "stdout",
     "output_type": "stream",
     "text": [
      "RandomForestClassifier() \n",
      " Accuracy: 0.678 \n",
      "\n"
     ]
    },
    {
     "data": {
      "text/plain": [
       "DecisionTreeClassifier()"
      ]
     },
     "execution_count": 178,
     "metadata": {},
     "output_type": "execute_result"
    },
    {
     "name": "stdout",
     "output_type": "stream",
     "text": [
      "DecisionTreeClassifier() \n",
      " Accuracy: 0.565 \n",
      "\n"
     ]
    },
    {
     "data": {
      "text/plain": [
       "KNeighborsClassifier()"
      ]
     },
     "execution_count": 178,
     "metadata": {},
     "output_type": "execute_result"
    },
    {
     "name": "stdout",
     "output_type": "stream",
     "text": [
      "KNeighborsClassifier() \n",
      " Accuracy: 0.724 \n",
      "\n",
      "-------------------------------------------\n"
     ]
    },
    {
     "data": {
      "text/plain": [
       "RobustScaler()"
      ]
     },
     "execution_count": 178,
     "metadata": {},
     "output_type": "execute_result"
    },
    {
     "name": "stdout",
     "output_type": "stream",
     "text": [
      "----------------- ㈜하나은행 ----------------------\n",
      "['인사 노무 교육' '시공 현장 감리 공무' '자동차 조선 기계' '사무 총무 법무' '영업관리 지원 영업기획'\n",
      " '기계설계 CAD CAM' '전기 전자 제어' '생산 제조 설비 조립' '건축 설계 인테리어' '구매 자재' '응용프로그래머'\n",
      " '생산관리 공정관리 품질관리' '해외영업 무역영업' '경리 회계 결산' '재무 세무 IR' '비서 안내' '기획 전략 경영'\n",
      " '외국어 번역 통역' '화학 에너지 환경' 'IT 솔루션 기술영업' '웹프로그래머' '시설 보안 경비 안전' '제품 서비스영업'\n",
      " '사무보조 문서작성' '네트워크 서버 보안' '유통 물류 재고' '홍보 PR' '반도체 디스플레이' '마케팅 광고 분석'\n",
      " '금융 보험영업' '고객상담 인바운드' '요리 영양 제과제빵 바리스타' '리서치 통계 설문']\n"
     ]
    },
    {
     "data": {
      "text/plain": [
       "RandomForestClassifier()"
      ]
     },
     "execution_count": 178,
     "metadata": {},
     "output_type": "execute_result"
    },
    {
     "name": "stdout",
     "output_type": "stream",
     "text": [
      "RandomForestClassifier() \n",
      " Accuracy: 0.184 \n",
      "\n"
     ]
    },
    {
     "data": {
      "text/plain": [
       "DecisionTreeClassifier()"
      ]
     },
     "execution_count": 178,
     "metadata": {},
     "output_type": "execute_result"
    },
    {
     "name": "stdout",
     "output_type": "stream",
     "text": [
      "DecisionTreeClassifier() \n",
      " Accuracy: 0.297 \n",
      "\n"
     ]
    },
    {
     "data": {
      "text/plain": [
       "KNeighborsClassifier()"
      ]
     },
     "execution_count": 178,
     "metadata": {},
     "output_type": "execute_result"
    },
    {
     "name": "stdout",
     "output_type": "stream",
     "text": [
      "KNeighborsClassifier() \n",
      " Accuracy: 0.086 \n",
      "\n",
      "-------------------------------------------\n"
     ]
    },
    {
     "data": {
      "text/plain": [
       "RobustScaler()"
      ]
     },
     "execution_count": 178,
     "metadata": {},
     "output_type": "execute_result"
    },
    {
     "name": "stdout",
     "output_type": "stream",
     "text": [
      "----------------- 비씨카드(주) ----------------------\n",
      "['기계설계 CAD CAM' '사무보조 문서작성' '구매 자재' '생산관리 공정관리 품질관리' '사무 총무 법무' '경리 회계 결산'\n",
      " '재무 세무 IR' '자동차 조선 기계' '전기 전자 제어' '화학 에너지 환경' '생산 제조 설비 조립' '건축 설계 인테리어'\n",
      " '비서 안내' '외국어 번역 통역' '인사 노무 교육' '시공 현장 감리 공무' '영업관리 지원 영업기획' '기획 전략 경영'\n",
      " '판매 서빙 매장관리' '해외영업 무역영업' '웹프로그래머' '홍보 PR' '시설 보안 경비 안전' '응용프로그래머'\n",
      " '금융 보험영업' '마케팅 광고 분석' '유통 물류 재고' '요리 영양 제과제빵 바리스타' '네트워크 서버 보안'\n",
      " '제품 서비스영업' '리서치 통계 설문' 'IT 솔루션 기술영업']\n"
     ]
    },
    {
     "data": {
      "text/plain": [
       "RandomForestClassifier()"
      ]
     },
     "execution_count": 178,
     "metadata": {},
     "output_type": "execute_result"
    },
    {
     "name": "stdout",
     "output_type": "stream",
     "text": [
      "RandomForestClassifier() \n",
      " Accuracy: 0.288 \n",
      "\n"
     ]
    },
    {
     "data": {
      "text/plain": [
       "DecisionTreeClassifier()"
      ]
     },
     "execution_count": 178,
     "metadata": {},
     "output_type": "execute_result"
    },
    {
     "name": "stdout",
     "output_type": "stream",
     "text": [
      "DecisionTreeClassifier() \n",
      " Accuracy: 0.39 \n",
      "\n"
     ]
    },
    {
     "data": {
      "text/plain": [
       "KNeighborsClassifier()"
      ]
     },
     "execution_count": 178,
     "metadata": {},
     "output_type": "execute_result"
    },
    {
     "name": "stdout",
     "output_type": "stream",
     "text": [
      "KNeighborsClassifier() \n",
      " Accuracy: 0.254 \n",
      "\n",
      "-------------------------------------------\n"
     ]
    },
    {
     "data": {
      "text/plain": [
       "RobustScaler()"
      ]
     },
     "execution_count": 178,
     "metadata": {},
     "output_type": "execute_result"
    },
    {
     "name": "stdout",
     "output_type": "stream",
     "text": [
      "----------------- 롯데쇼핑(주) ----------------------\n",
      "['요리 영양 제과제빵 바리스타' '판매 서빙 매장관리' '유통 물류 재고' '제품 서비스영업' '영업관리 지원 영업기획'\n",
      " '네트워크 서버 보안' '상품기획 MD' '기획 전략 경영' '인사 노무 교육' '사무 총무 법무' '생산 제조 설비 조립'\n",
      " '생산관리 공정관리 품질관리' '구매 자재' '재무 세무 IR' '사무보조 문서작성' '마케팅 광고 분석' '건축 설계 인테리어'\n",
      " '고객상담 인바운드' '외국어 번역 통역' '화학 에너지 환경' '경리 회계 결산' '응용프로그래머' '비서 안내'\n",
      " '시설 보안 경비 안전']\n"
     ]
    },
    {
     "data": {
      "text/plain": [
       "RandomForestClassifier()"
      ]
     },
     "execution_count": 178,
     "metadata": {},
     "output_type": "execute_result"
    },
    {
     "name": "stdout",
     "output_type": "stream",
     "text": [
      "RandomForestClassifier() \n",
      " Accuracy: 0.654 \n",
      "\n"
     ]
    },
    {
     "data": {
      "text/plain": [
       "DecisionTreeClassifier()"
      ]
     },
     "execution_count": 178,
     "metadata": {},
     "output_type": "execute_result"
    },
    {
     "name": "stdout",
     "output_type": "stream",
     "text": [
      "DecisionTreeClassifier() \n",
      " Accuracy: 0.58 \n",
      "\n"
     ]
    },
    {
     "data": {
      "text/plain": [
       "KNeighborsClassifier()"
      ]
     },
     "execution_count": 178,
     "metadata": {},
     "output_type": "execute_result"
    },
    {
     "name": "stdout",
     "output_type": "stream",
     "text": [
      "KNeighborsClassifier() \n",
      " Accuracy: 0.724 \n",
      "\n",
      "-------------------------------------------\n"
     ]
    },
    {
     "data": {
      "text/plain": [
       "RobustScaler()"
      ]
     },
     "execution_count": 178,
     "metadata": {},
     "output_type": "execute_result"
    },
    {
     "name": "stdout",
     "output_type": "stream",
     "text": [
      "----------------- 대우조선해양(주) ----------------------\n",
      "['인사 노무 교육' '시공 현장 감리 공무' '자동차 조선 기계' '사무 총무 법무' '영업관리 지원 영업기획'\n",
      " '기계설계 CAD CAM' '전기 전자 제어' '생산 제조 설비 조립' '건축 설계 인테리어' '구매 자재' '응용프로그래머'\n",
      " '생산관리 공정관리 품질관리' '해외영업 무역영업' '경리 회계 결산' '재무 세무 IR' '비서 안내' '기획 전략 경영'\n",
      " '외국어 번역 통역' '화학 에너지 환경' 'IT 솔루션 기술영업' '웹프로그래머' '시설 보안 경비 안전' '제품 서비스영업'\n",
      " '사무보조 문서작성' '네트워크 서버 보안' '유통 물류 재고' '홍보 PR' '반도체 디스플레이' '마케팅 광고 분석'\n",
      " '금융 보험영업' '고객상담 인바운드' '요리 영양 제과제빵 바리스타' '리서치 통계 설문']\n"
     ]
    },
    {
     "data": {
      "text/plain": [
       "RandomForestClassifier()"
      ]
     },
     "execution_count": 178,
     "metadata": {},
     "output_type": "execute_result"
    },
    {
     "name": "stdout",
     "output_type": "stream",
     "text": [
      "RandomForestClassifier() \n",
      " Accuracy: 0.205 \n",
      "\n"
     ]
    },
    {
     "data": {
      "text/plain": [
       "DecisionTreeClassifier()"
      ]
     },
     "execution_count": 178,
     "metadata": {},
     "output_type": "execute_result"
    },
    {
     "name": "stdout",
     "output_type": "stream",
     "text": [
      "DecisionTreeClassifier() \n",
      " Accuracy: 0.27 \n",
      "\n"
     ]
    },
    {
     "data": {
      "text/plain": [
       "KNeighborsClassifier()"
      ]
     },
     "execution_count": 178,
     "metadata": {},
     "output_type": "execute_result"
    },
    {
     "name": "stdout",
     "output_type": "stream",
     "text": [
      "KNeighborsClassifier() \n",
      " Accuracy: 0.086 \n",
      "\n",
      "-------------------------------------------\n"
     ]
    },
    {
     "data": {
      "text/plain": [
       "RobustScaler()"
      ]
     },
     "execution_count": 178,
     "metadata": {},
     "output_type": "execute_result"
    },
    {
     "name": "stdout",
     "output_type": "stream",
     "text": [
      "----------------- (주)호텔신라 ----------------------\n",
      "['기계설계 CAD CAM' '사무보조 문서작성' '구매 자재' '생산관리 공정관리 품질관리' '사무 총무 법무' '경리 회계 결산'\n",
      " '재무 세무 IR' '자동차 조선 기계' '전기 전자 제어' '화학 에너지 환경' '생산 제조 설비 조립' '건축 설계 인테리어'\n",
      " '비서 안내' '외국어 번역 통역' '인사 노무 교육' '시공 현장 감리 공무' '영업관리 지원 영업기획' '기획 전략 경영'\n",
      " '판매 서빙 매장관리' '해외영업 무역영업' '웹프로그래머' '홍보 PR' '시설 보안 경비 안전' '응용프로그래머'\n",
      " '금융 보험영업' '마케팅 광고 분석' '유통 물류 재고' '요리 영양 제과제빵 바리스타' '네트워크 서버 보안'\n",
      " '제품 서비스영업' '리서치 통계 설문' 'IT 솔루션 기술영업']\n"
     ]
    },
    {
     "data": {
      "text/plain": [
       "RandomForestClassifier()"
      ]
     },
     "execution_count": 178,
     "metadata": {},
     "output_type": "execute_result"
    },
    {
     "name": "stdout",
     "output_type": "stream",
     "text": [
      "RandomForestClassifier() \n",
      " Accuracy: 0.263 \n",
      "\n"
     ]
    },
    {
     "data": {
      "text/plain": [
       "DecisionTreeClassifier()"
      ]
     },
     "execution_count": 178,
     "metadata": {},
     "output_type": "execute_result"
    },
    {
     "name": "stdout",
     "output_type": "stream",
     "text": [
      "DecisionTreeClassifier() \n",
      " Accuracy: 0.376 \n",
      "\n"
     ]
    },
    {
     "data": {
      "text/plain": [
       "KNeighborsClassifier()"
      ]
     },
     "execution_count": 178,
     "metadata": {},
     "output_type": "execute_result"
    },
    {
     "name": "stdout",
     "output_type": "stream",
     "text": [
      "KNeighborsClassifier() \n",
      " Accuracy: 0.254 \n",
      "\n",
      "-------------------------------------------\n"
     ]
    },
    {
     "data": {
      "text/plain": [
       "RobustScaler()"
      ]
     },
     "execution_count": 178,
     "metadata": {},
     "output_type": "execute_result"
    },
    {
     "name": "stdout",
     "output_type": "stream",
     "text": [
      "----------------- 삼성생명보험(주) ----------------------\n",
      "['요리 영양 제과제빵 바리스타' '판매 서빙 매장관리' '유통 물류 재고' '제품 서비스영업' '영업관리 지원 영업기획'\n",
      " '네트워크 서버 보안' '상품기획 MD' '기획 전략 경영' '인사 노무 교육' '사무 총무 법무' '생산 제조 설비 조립'\n",
      " '생산관리 공정관리 품질관리' '구매 자재' '재무 세무 IR' '사무보조 문서작성' '마케팅 광고 분석' '건축 설계 인테리어'\n",
      " '고객상담 인바운드' '외국어 번역 통역' '화학 에너지 환경' '경리 회계 결산' '응용프로그래머' '비서 안내'\n",
      " '시설 보안 경비 안전']\n"
     ]
    },
    {
     "data": {
      "text/plain": [
       "RandomForestClassifier()"
      ]
     },
     "execution_count": 178,
     "metadata": {},
     "output_type": "execute_result"
    },
    {
     "name": "stdout",
     "output_type": "stream",
     "text": [
      "RandomForestClassifier() \n",
      " Accuracy: 0.673 \n",
      "\n"
     ]
    },
    {
     "data": {
      "text/plain": [
       "DecisionTreeClassifier()"
      ]
     },
     "execution_count": 178,
     "metadata": {},
     "output_type": "execute_result"
    },
    {
     "name": "stdout",
     "output_type": "stream",
     "text": [
      "DecisionTreeClassifier() \n",
      " Accuracy: 0.584 \n",
      "\n"
     ]
    },
    {
     "data": {
      "text/plain": [
       "KNeighborsClassifier()"
      ]
     },
     "execution_count": 178,
     "metadata": {},
     "output_type": "execute_result"
    },
    {
     "name": "stdout",
     "output_type": "stream",
     "text": [
      "KNeighborsClassifier() \n",
      " Accuracy: 0.724 \n",
      "\n",
      "-------------------------------------------\n"
     ]
    },
    {
     "data": {
      "text/plain": [
       "RobustScaler()"
      ]
     },
     "execution_count": 178,
     "metadata": {},
     "output_type": "execute_result"
    },
    {
     "name": "stdout",
     "output_type": "stream",
     "text": [
      "----------------- (주)우리은행 ----------------------\n",
      "['인사 노무 교육' '시공 현장 감리 공무' '자동차 조선 기계' '사무 총무 법무' '영업관리 지원 영업기획'\n",
      " '기계설계 CAD CAM' '전기 전자 제어' '생산 제조 설비 조립' '건축 설계 인테리어' '구매 자재' '응용프로그래머'\n",
      " '생산관리 공정관리 품질관리' '해외영업 무역영업' '경리 회계 결산' '재무 세무 IR' '비서 안내' '기획 전략 경영'\n",
      " '외국어 번역 통역' '화학 에너지 환경' 'IT 솔루션 기술영업' '웹프로그래머' '시설 보안 경비 안전' '제품 서비스영업'\n",
      " '사무보조 문서작성' '네트워크 서버 보안' '유통 물류 재고' '홍보 PR' '반도체 디스플레이' '마케팅 광고 분석'\n",
      " '금융 보험영업' '고객상담 인바운드' '요리 영양 제과제빵 바리스타' '리서치 통계 설문']\n"
     ]
    },
    {
     "data": {
      "text/plain": [
       "RandomForestClassifier()"
      ]
     },
     "execution_count": 178,
     "metadata": {},
     "output_type": "execute_result"
    },
    {
     "name": "stdout",
     "output_type": "stream",
     "text": [
      "RandomForestClassifier() \n",
      " Accuracy: 0.173 \n",
      "\n"
     ]
    },
    {
     "data": {
      "text/plain": [
       "DecisionTreeClassifier()"
      ]
     },
     "execution_count": 178,
     "metadata": {},
     "output_type": "execute_result"
    },
    {
     "name": "stdout",
     "output_type": "stream",
     "text": [
      "DecisionTreeClassifier() \n",
      " Accuracy: 0.303 \n",
      "\n"
     ]
    },
    {
     "data": {
      "text/plain": [
       "KNeighborsClassifier()"
      ]
     },
     "execution_count": 178,
     "metadata": {},
     "output_type": "execute_result"
    },
    {
     "name": "stdout",
     "output_type": "stream",
     "text": [
      "KNeighborsClassifier() \n",
      " Accuracy: 0.086 \n",
      "\n",
      "-------------------------------------------\n"
     ]
    }
   ],
   "source": [
    "# 리스트 5\n",
    "# 상위 20개 합격회사 조회\n",
    "for k in range(0,20):\n",
    "    data_copy = data[data['합격회사']==list_2[i]]\n",
    "    list_1 = (data_copy['부서'].unique())\n",
    "   \n",
    "    list380 = []\n",
    "    list370 = []     \n",
    "    list360 = []  \n",
    "    list350 = []\n",
    "    list340 = []\n",
    "    list330 = []\n",
    "    list320 = []\n",
    "    list310 = []\n",
    "    list300 = []\n",
    "    list270 = []\n",
    "    list260 = []    \n",
    "    list250 = []\n",
    "    list235 = []\n",
    "    list230 = []\n",
    "    list220 = []\n",
    "    list210 = []\n",
    "    list200 = []\n",
    "    list190 = []\n",
    "    list180 = []\n",
    "    list170 = []\n",
    "    list150 = []\n",
    "    list130 = []\n",
    "    list100 = []\n",
    "\n",
    "# 부서별 스펙지수별로 라벨링 나누기\n",
    "    for i in range(len(list_1)): \n",
    "     # 부서별 스펙지수별로 리스트 저장\n",
    "        if(data_copy[data_copy['부서']==list_1[i]]['스펙지수'].mean()>300):        \n",
    "            list300.append(list_1[i])\n",
    "        elif(data_copy[data_copy['부서']==list_1[i]]['스펙지수'].mean()>260):        \n",
    "            list260.append(list_1[i])\n",
    "        elif(data_copy[data_copy['부서']==list_1[i]]['스펙지수'].mean()>230):        \n",
    "            list230.append(list_1[i])\n",
    "        elif(data_copy[data_copy['부서']==list_1[i]]['스펙지수'].mean()>150):        \n",
    "            list150.append(list_1[i])\n",
    "        elif (data_copy[data_copy['부서']==list_1[i]]['스펙지수'].mean()<150): \n",
    "            list100.append(list_1[i])\n",
    "\n",
    "# 부서별 스펙지수로 라벨 값 변경\n",
    "    for i in range(len(list300)):\n",
    "        b = data_copy['부서'].str.contains(list300[i])\n",
    "        data_copy['부서'][b] = '300'\n",
    "        \n",
    "    for i in range(len(list260)):\n",
    "        b = data_copy['부서'].str.contains(list260[i])\n",
    "        data_copy['부서'][b] = '260'\n",
    "\n",
    "    for i in range(len(list230)):\n",
    "        b = data_copy['부서'].str.contains(list230[i])\n",
    "        data_copy['부서'][b] = '230'\n",
    "\n",
    "    for i in range(len(list150)):\n",
    "        b = data_copy['부서'].str.contains(list150[i])\n",
    "        data_copy['부서'][b] = '150'\n",
    "    \n",
    "    for i in range(len(list100)):\n",
    "        b = data_copy['부서'].str.contains(list100[i])\n",
    "        data_copy['부서'][b] = '100' \n",
    "\n",
    "# RobustScaler로 정규화\n",
    "    from sklearn.preprocessing import RobustScaler\n",
    "    X = data_copy.iloc[:, 2:14]\n",
    "    y = data_copy['부서']\n",
    "    y_1 = data_copy['부서']\n",
    "    y = pd.get_dummies(y)\n",
    "\n",
    "# 모델 정의\n",
    "    transformer = RobustScaler()\n",
    "    transformer.fit(X)\n",
    "    X = transformer.transform(X)\n",
    "    \n",
    "    lR = LogisticRegression()\n",
    "    rf = RandomForestClassifier()\n",
    "    dt = DecisionTreeClassifier()\n",
    "    kn = KNeighborsClassifier()\n",
    "    lr = LogisticRegression()\n",
    "    \n",
    "# 데이터 분리\n",
    "    X_train, X_test, y_train, y_test = train_test_split(X, y, test_size=0.3, shuffle=True, random_state=16)\n",
    "    \n",
    "    print(\"----------------- {} ----------------------\".format(list_2[k]))\n",
    "    print(list_1)\n",
    "    models = [rf, dt, kn]\n",
    "    for model in models:\n",
    "        model.fit(X_train, y_train)\n",
    "        pre = model.predict(X_test)\n",
    "        scores = cross_val_score(model, X_test, y_test, cv=5).mean().round(3)\n",
    "        #f1score = metrics.f1_score(y_test, y_pred).round(3)\n",
    "        print(model, '\\n', 'Accuracy:', scores, '\\n')\n",
    "    print(\"-------------------------------------------\")\n",
    "    \n",
    "   "
   ]
  },
  {
   "cell_type": "code",
   "execution_count": 200,
   "metadata": {},
   "outputs": [
    {
     "data": {
      "text/plain": [
       "RobustScaler()"
      ]
     },
     "execution_count": 200,
     "metadata": {},
     "output_type": "execute_result"
    },
    {
     "name": "stdout",
     "output_type": "stream",
     "text": [
      "----------------- 현대카드(주) ----------------------\n",
      "['기계설계 CAD CAM' '사무보조 문서작성' '구매 자재' '생산관리 공정관리 품질관리' '사무 총무 법무' '경리 회계 결산'\n",
      " '재무 세무 IR' '자동차 조선 기계' '전기 전자 제어' '화학 에너지 환경' '생산 제조 설비 조립' '건축 설계 인테리어'\n",
      " '비서 안내' '외국어 번역 통역' '인사 노무 교육' '시공 현장 감리 공무' '영업관리 지원 영업기획' '기획 전략 경영'\n",
      " '판매 서빙 매장관리' '해외영업 무역영업' '웹프로그래머' '홍보 PR' '시설 보안 경비 안전' '응용프로그래머'\n",
      " '금융 보험영업' '마케팅 광고 분석' '유통 물류 재고' '요리 영양 제과제빵 바리스타' '네트워크 서버 보안'\n",
      " '제품 서비스영업' '리서치 통계 설문' 'IT 솔루션 기술영업']\n"
     ]
    },
    {
     "data": {
      "text/plain": [
       "RandomForestClassifier()"
      ]
     },
     "execution_count": 200,
     "metadata": {},
     "output_type": "execute_result"
    },
    {
     "name": "stdout",
     "output_type": "stream",
     "text": [
      "RandomForestClassifier() \n",
      " Accuracy: 0.429 \n",
      "\n"
     ]
    },
    {
     "data": {
      "text/plain": [
       "DecisionTreeClassifier()"
      ]
     },
     "execution_count": 200,
     "metadata": {},
     "output_type": "execute_result"
    },
    {
     "name": "stdout",
     "output_type": "stream",
     "text": [
      "DecisionTreeClassifier() \n",
      " Accuracy: 0.439 \n",
      "\n"
     ]
    },
    {
     "data": {
      "text/plain": [
       "KNeighborsClassifier()"
      ]
     },
     "execution_count": 200,
     "metadata": {},
     "output_type": "execute_result"
    },
    {
     "name": "stdout",
     "output_type": "stream",
     "text": [
      "KNeighborsClassifier() \n",
      " Accuracy: 0.502 \n",
      "\n",
      "-------------------------------------------\n"
     ]
    },
    {
     "data": {
      "text/plain": [
       "RobustScaler()"
      ]
     },
     "execution_count": 200,
     "metadata": {},
     "output_type": "execute_result"
    },
    {
     "name": "stdout",
     "output_type": "stream",
     "text": [
      "----------------- 삼성전자(주) ----------------------\n",
      "['요리 영양 제과제빵 바리스타' '판매 서빙 매장관리' '유통 물류 재고' '제품 서비스영업' '영업관리 지원 영업기획'\n",
      " '네트워크 서버 보안' '상품기획 MD' '기획 전략 경영' '인사 노무 교육' '사무 총무 법무' '생산 제조 설비 조립'\n",
      " '생산관리 공정관리 품질관리' '구매 자재' '재무 세무 IR' '사무보조 문서작성' '마케팅 광고 분석' '건축 설계 인테리어'\n",
      " '고객상담 인바운드' '외국어 번역 통역' '화학 에너지 환경' '경리 회계 결산' '응용프로그래머' '비서 안내'\n",
      " '시설 보안 경비 안전']\n"
     ]
    },
    {
     "data": {
      "text/plain": [
       "RandomForestClassifier()"
      ]
     },
     "execution_count": 200,
     "metadata": {},
     "output_type": "execute_result"
    },
    {
     "name": "stdout",
     "output_type": "stream",
     "text": [
      "RandomForestClassifier() \n",
      " Accuracy: 0.874 \n",
      "\n"
     ]
    },
    {
     "data": {
      "text/plain": [
       "DecisionTreeClassifier()"
      ]
     },
     "execution_count": 200,
     "metadata": {},
     "output_type": "execute_result"
    },
    {
     "name": "stdout",
     "output_type": "stream",
     "text": [
      "DecisionTreeClassifier() \n",
      " Accuracy: 0.827 \n",
      "\n"
     ]
    },
    {
     "data": {
      "text/plain": [
       "KNeighborsClassifier()"
      ]
     },
     "execution_count": 200,
     "metadata": {},
     "output_type": "execute_result"
    },
    {
     "name": "stdout",
     "output_type": "stream",
     "text": [
      "KNeighborsClassifier() \n",
      " Accuracy: 0.907 \n",
      "\n",
      "-------------------------------------------\n"
     ]
    },
    {
     "data": {
      "text/plain": [
       "RobustScaler()"
      ]
     },
     "execution_count": 200,
     "metadata": {},
     "output_type": "execute_result"
    },
    {
     "name": "stdout",
     "output_type": "stream",
     "text": [
      "----------------- 현대캐피탈(주) ----------------------\n",
      "['시설 보안 경비 안전' '비서 안내' '외국어 번역 통역' '사무 총무 법무' '건축 설계 인테리어' '제품 서비스영업'\n",
      " '고객상담 인바운드' 'IT 솔루션 기술영업' '사무보조 문서작성' '판매 서빙 매장관리' '해외영업 무역영업'\n",
      " '기계설계 CAD CAM' '생산 제조 설비 조립' '웹프로그래머' '홍보 PR' '경리 회계 결산' '시공 현장 감리 공무'\n",
      " '응용프로그래머' '영업관리 지원 영업기획' '기획 전략 경영' '금융 보험영업' '전기 전자 제어' '마케팅 광고 분석'\n",
      " '인사 노무 교육' '네트워크 서버 보안']\n"
     ]
    },
    {
     "data": {
      "text/plain": [
       "RandomForestClassifier()"
      ]
     },
     "execution_count": 200,
     "metadata": {},
     "output_type": "execute_result"
    },
    {
     "name": "stdout",
     "output_type": "stream",
     "text": [
      "RandomForestClassifier() \n",
      " Accuracy: 0.764 \n",
      "\n"
     ]
    },
    {
     "data": {
      "text/plain": [
       "DecisionTreeClassifier()"
      ]
     },
     "execution_count": 200,
     "metadata": {},
     "output_type": "execute_result"
    },
    {
     "name": "stdout",
     "output_type": "stream",
     "text": [
      "DecisionTreeClassifier() \n",
      " Accuracy: 0.725 \n",
      "\n"
     ]
    },
    {
     "data": {
      "text/plain": [
       "KNeighborsClassifier()"
      ]
     },
     "execution_count": 200,
     "metadata": {},
     "output_type": "execute_result"
    },
    {
     "name": "stdout",
     "output_type": "stream",
     "text": [
      "KNeighborsClassifier() \n",
      " Accuracy: 0.803 \n",
      "\n",
      "-------------------------------------------\n"
     ]
    },
    {
     "data": {
      "text/plain": [
       "RobustScaler()"
      ]
     },
     "execution_count": 200,
     "metadata": {},
     "output_type": "execute_result"
    },
    {
     "name": "stdout",
     "output_type": "stream",
     "text": [
      "----------------- (주)스타벅스커피코리아 ----------------------\n",
      "['마케팅 광고 분석' '고객상담 인바운드' '금융 보험영업' '영업관리 지원 영업기획' '경리 회계 결산' '응용프로그래머'\n",
      " '웹프로그래머' '사무 총무 법무' '기획 전략 경영' '사무보조 문서작성' '인사 노무 교육' '상품기획 MD' '비서 안내'\n",
      " '재무 세무 IR' '구매 자재' '리서치 통계 설문' '웹기획 PM' '네트워크 서버 보안' '생산 제조 설비 조립'\n",
      " '판매 서빙 매장관리' '홍보 PR' '제품 서비스영업' '생산관리 공정관리 품질관리']\n"
     ]
    },
    {
     "data": {
      "text/plain": [
       "RandomForestClassifier()"
      ]
     },
     "execution_count": 200,
     "metadata": {},
     "output_type": "execute_result"
    },
    {
     "name": "stdout",
     "output_type": "stream",
     "text": [
      "RandomForestClassifier() \n",
      " Accuracy: 0.816 \n",
      "\n"
     ]
    },
    {
     "data": {
      "text/plain": [
       "DecisionTreeClassifier()"
      ]
     },
     "execution_count": 200,
     "metadata": {},
     "output_type": "execute_result"
    },
    {
     "name": "stdout",
     "output_type": "stream",
     "text": [
      "DecisionTreeClassifier() \n",
      " Accuracy: 0.738 \n",
      "\n"
     ]
    },
    {
     "data": {
      "text/plain": [
       "KNeighborsClassifier()"
      ]
     },
     "execution_count": 200,
     "metadata": {},
     "output_type": "execute_result"
    },
    {
     "name": "stdout",
     "output_type": "stream",
     "text": [
      "KNeighborsClassifier() \n",
      " Accuracy: 0.752 \n",
      "\n",
      "-------------------------------------------\n"
     ]
    },
    {
     "data": {
      "text/plain": [
       "RobustScaler()"
      ]
     },
     "execution_count": 200,
     "metadata": {},
     "output_type": "execute_result"
    },
    {
     "name": "stdout",
     "output_type": "stream",
     "text": [
      "----------------- 두산중공업(주) ----------------------\n",
      "['기계설계 CAD CAM' '사무보조 문서작성' '구매 자재' '생산관리 공정관리 품질관리' '사무 총무 법무' '경리 회계 결산'\n",
      " '재무 세무 IR' '자동차 조선 기계' '전기 전자 제어' '화학 에너지 환경' '생산 제조 설비 조립' '건축 설계 인테리어'\n",
      " '비서 안내' '외국어 번역 통역' '인사 노무 교육' '시공 현장 감리 공무' '영업관리 지원 영업기획' '기획 전략 경영'\n",
      " '판매 서빙 매장관리' '해외영업 무역영업' '웹프로그래머' '홍보 PR' '시설 보안 경비 안전' '응용프로그래머'\n",
      " '금융 보험영업' '마케팅 광고 분석' '유통 물류 재고' '요리 영양 제과제빵 바리스타' '네트워크 서버 보안'\n",
      " '제품 서비스영업' '리서치 통계 설문' 'IT 솔루션 기술영업']\n"
     ]
    },
    {
     "data": {
      "text/plain": [
       "RandomForestClassifier()"
      ]
     },
     "execution_count": 200,
     "metadata": {},
     "output_type": "execute_result"
    },
    {
     "name": "stdout",
     "output_type": "stream",
     "text": [
      "RandomForestClassifier() \n",
      " Accuracy: 0.415 \n",
      "\n"
     ]
    },
    {
     "data": {
      "text/plain": [
       "DecisionTreeClassifier()"
      ]
     },
     "execution_count": 200,
     "metadata": {},
     "output_type": "execute_result"
    },
    {
     "name": "stdout",
     "output_type": "stream",
     "text": [
      "DecisionTreeClassifier() \n",
      " Accuracy: 0.42 \n",
      "\n"
     ]
    },
    {
     "data": {
      "text/plain": [
       "KNeighborsClassifier()"
      ]
     },
     "execution_count": 200,
     "metadata": {},
     "output_type": "execute_result"
    },
    {
     "name": "stdout",
     "output_type": "stream",
     "text": [
      "KNeighborsClassifier() \n",
      " Accuracy: 0.502 \n",
      "\n",
      "-------------------------------------------\n"
     ]
    },
    {
     "data": {
      "text/plain": [
       "RobustScaler()"
      ]
     },
     "execution_count": 200,
     "metadata": {},
     "output_type": "execute_result"
    },
    {
     "name": "stdout",
     "output_type": "stream",
     "text": [
      "----------------- (주)에스텍시스템 ----------------------\n",
      "['요리 영양 제과제빵 바리스타' '판매 서빙 매장관리' '유통 물류 재고' '제품 서비스영업' '영업관리 지원 영업기획'\n",
      " '네트워크 서버 보안' '상품기획 MD' '기획 전략 경영' '인사 노무 교육' '사무 총무 법무' '생산 제조 설비 조립'\n",
      " '생산관리 공정관리 품질관리' '구매 자재' '재무 세무 IR' '사무보조 문서작성' '마케팅 광고 분석' '건축 설계 인테리어'\n",
      " '고객상담 인바운드' '외국어 번역 통역' '화학 에너지 환경' '경리 회계 결산' '응용프로그래머' '비서 안내'\n",
      " '시설 보안 경비 안전']\n"
     ]
    },
    {
     "data": {
      "text/plain": [
       "RandomForestClassifier()"
      ]
     },
     "execution_count": 200,
     "metadata": {},
     "output_type": "execute_result"
    },
    {
     "name": "stdout",
     "output_type": "stream",
     "text": [
      "RandomForestClassifier() \n",
      " Accuracy: 0.874 \n",
      "\n"
     ]
    },
    {
     "data": {
      "text/plain": [
       "DecisionTreeClassifier()"
      ]
     },
     "execution_count": 200,
     "metadata": {},
     "output_type": "execute_result"
    },
    {
     "name": "stdout",
     "output_type": "stream",
     "text": [
      "DecisionTreeClassifier() \n",
      " Accuracy: 0.827 \n",
      "\n"
     ]
    },
    {
     "data": {
      "text/plain": [
       "KNeighborsClassifier()"
      ]
     },
     "execution_count": 200,
     "metadata": {},
     "output_type": "execute_result"
    },
    {
     "name": "stdout",
     "output_type": "stream",
     "text": [
      "KNeighborsClassifier() \n",
      " Accuracy: 0.907 \n",
      "\n",
      "-------------------------------------------\n"
     ]
    },
    {
     "data": {
      "text/plain": [
       "RobustScaler()"
      ]
     },
     "execution_count": 200,
     "metadata": {},
     "output_type": "execute_result"
    },
    {
     "name": "stdout",
     "output_type": "stream",
     "text": [
      "----------------- (주)아워홈 ----------------------\n",
      "['시설 보안 경비 안전' '비서 안내' '외국어 번역 통역' '사무 총무 법무' '건축 설계 인테리어' '제품 서비스영업'\n",
      " '고객상담 인바운드' 'IT 솔루션 기술영업' '사무보조 문서작성' '판매 서빙 매장관리' '해외영업 무역영업'\n",
      " '기계설계 CAD CAM' '생산 제조 설비 조립' '웹프로그래머' '홍보 PR' '경리 회계 결산' '시공 현장 감리 공무'\n",
      " '응용프로그래머' '영업관리 지원 영업기획' '기획 전략 경영' '금융 보험영업' '전기 전자 제어' '마케팅 광고 분석'\n",
      " '인사 노무 교육' '네트워크 서버 보안']\n"
     ]
    },
    {
     "data": {
      "text/plain": [
       "RandomForestClassifier()"
      ]
     },
     "execution_count": 200,
     "metadata": {},
     "output_type": "execute_result"
    },
    {
     "name": "stdout",
     "output_type": "stream",
     "text": [
      "RandomForestClassifier() \n",
      " Accuracy: 0.774 \n",
      "\n"
     ]
    },
    {
     "data": {
      "text/plain": [
       "DecisionTreeClassifier()"
      ]
     },
     "execution_count": 200,
     "metadata": {},
     "output_type": "execute_result"
    },
    {
     "name": "stdout",
     "output_type": "stream",
     "text": [
      "DecisionTreeClassifier() \n",
      " Accuracy: 0.72 \n",
      "\n"
     ]
    },
    {
     "data": {
      "text/plain": [
       "KNeighborsClassifier()"
      ]
     },
     "execution_count": 200,
     "metadata": {},
     "output_type": "execute_result"
    },
    {
     "name": "stdout",
     "output_type": "stream",
     "text": [
      "KNeighborsClassifier() \n",
      " Accuracy: 0.803 \n",
      "\n",
      "-------------------------------------------\n"
     ]
    },
    {
     "data": {
      "text/plain": [
       "RobustScaler()"
      ]
     },
     "execution_count": 200,
     "metadata": {},
     "output_type": "execute_result"
    },
    {
     "name": "stdout",
     "output_type": "stream",
     "text": [
      "----------------- 한국조선해양(주) ----------------------\n",
      "['마케팅 광고 분석' '고객상담 인바운드' '금융 보험영업' '영업관리 지원 영업기획' '경리 회계 결산' '응용프로그래머'\n",
      " '웹프로그래머' '사무 총무 법무' '기획 전략 경영' '사무보조 문서작성' '인사 노무 교육' '상품기획 MD' '비서 안내'\n",
      " '재무 세무 IR' '구매 자재' '리서치 통계 설문' '웹기획 PM' '네트워크 서버 보안' '생산 제조 설비 조립'\n",
      " '판매 서빙 매장관리' '홍보 PR' '제품 서비스영업' '생산관리 공정관리 품질관리']\n"
     ]
    },
    {
     "data": {
      "text/plain": [
       "RandomForestClassifier()"
      ]
     },
     "execution_count": 200,
     "metadata": {},
     "output_type": "execute_result"
    },
    {
     "name": "stdout",
     "output_type": "stream",
     "text": [
      "RandomForestClassifier() \n",
      " Accuracy: 0.809 \n",
      "\n"
     ]
    },
    {
     "data": {
      "text/plain": [
       "DecisionTreeClassifier()"
      ]
     },
     "execution_count": 200,
     "metadata": {},
     "output_type": "execute_result"
    },
    {
     "name": "stdout",
     "output_type": "stream",
     "text": [
      "DecisionTreeClassifier() \n",
      " Accuracy: 0.752 \n",
      "\n"
     ]
    },
    {
     "data": {
      "text/plain": [
       "KNeighborsClassifier()"
      ]
     },
     "execution_count": 200,
     "metadata": {},
     "output_type": "execute_result"
    },
    {
     "name": "stdout",
     "output_type": "stream",
     "text": [
      "KNeighborsClassifier() \n",
      " Accuracy: 0.752 \n",
      "\n",
      "-------------------------------------------\n"
     ]
    },
    {
     "data": {
      "text/plain": [
       "RobustScaler()"
      ]
     },
     "execution_count": 200,
     "metadata": {},
     "output_type": "execute_result"
    },
    {
     "name": "stdout",
     "output_type": "stream",
     "text": [
      "----------------- (주)유니에스 ----------------------\n",
      "['기계설계 CAD CAM' '사무보조 문서작성' '구매 자재' '생산관리 공정관리 품질관리' '사무 총무 법무' '경리 회계 결산'\n",
      " '재무 세무 IR' '자동차 조선 기계' '전기 전자 제어' '화학 에너지 환경' '생산 제조 설비 조립' '건축 설계 인테리어'\n",
      " '비서 안내' '외국어 번역 통역' '인사 노무 교육' '시공 현장 감리 공무' '영업관리 지원 영업기획' '기획 전략 경영'\n",
      " '판매 서빙 매장관리' '해외영업 무역영업' '웹프로그래머' '홍보 PR' '시설 보안 경비 안전' '응용프로그래머'\n",
      " '금융 보험영업' '마케팅 광고 분석' '유통 물류 재고' '요리 영양 제과제빵 바리스타' '네트워크 서버 보안'\n",
      " '제품 서비스영업' '리서치 통계 설문' 'IT 솔루션 기술영업']\n"
     ]
    },
    {
     "data": {
      "text/plain": [
       "RandomForestClassifier()"
      ]
     },
     "execution_count": 200,
     "metadata": {},
     "output_type": "execute_result"
    },
    {
     "name": "stdout",
     "output_type": "stream",
     "text": [
      "RandomForestClassifier() \n",
      " Accuracy: 0.439 \n",
      "\n"
     ]
    },
    {
     "data": {
      "text/plain": [
       "DecisionTreeClassifier()"
      ]
     },
     "execution_count": 200,
     "metadata": {},
     "output_type": "execute_result"
    },
    {
     "name": "stdout",
     "output_type": "stream",
     "text": [
      "DecisionTreeClassifier() \n",
      " Accuracy: 0.454 \n",
      "\n"
     ]
    },
    {
     "data": {
      "text/plain": [
       "KNeighborsClassifier()"
      ]
     },
     "execution_count": 200,
     "metadata": {},
     "output_type": "execute_result"
    },
    {
     "name": "stdout",
     "output_type": "stream",
     "text": [
      "KNeighborsClassifier() \n",
      " Accuracy: 0.502 \n",
      "\n",
      "-------------------------------------------\n"
     ]
    },
    {
     "data": {
      "text/plain": [
       "RobustScaler()"
      ]
     },
     "execution_count": 200,
     "metadata": {},
     "output_type": "execute_result"
    },
    {
     "name": "stdout",
     "output_type": "stream",
     "text": [
      "----------------- (주)커피빈코리아 ----------------------\n",
      "['요리 영양 제과제빵 바리스타' '판매 서빙 매장관리' '유통 물류 재고' '제품 서비스영업' '영업관리 지원 영업기획'\n",
      " '네트워크 서버 보안' '상품기획 MD' '기획 전략 경영' '인사 노무 교육' '사무 총무 법무' '생산 제조 설비 조립'\n",
      " '생산관리 공정관리 품질관리' '구매 자재' '재무 세무 IR' '사무보조 문서작성' '마케팅 광고 분석' '건축 설계 인테리어'\n",
      " '고객상담 인바운드' '외국어 번역 통역' '화학 에너지 환경' '경리 회계 결산' '응용프로그래머' '비서 안내'\n",
      " '시설 보안 경비 안전']\n"
     ]
    },
    {
     "data": {
      "text/plain": [
       "RandomForestClassifier()"
      ]
     },
     "execution_count": 200,
     "metadata": {},
     "output_type": "execute_result"
    },
    {
     "name": "stdout",
     "output_type": "stream",
     "text": [
      "RandomForestClassifier() \n",
      " Accuracy: 0.883 \n",
      "\n"
     ]
    },
    {
     "data": {
      "text/plain": [
       "DecisionTreeClassifier()"
      ]
     },
     "execution_count": 200,
     "metadata": {},
     "output_type": "execute_result"
    },
    {
     "name": "stdout",
     "output_type": "stream",
     "text": [
      "DecisionTreeClassifier() \n",
      " Accuracy: 0.813 \n",
      "\n"
     ]
    },
    {
     "data": {
      "text/plain": [
       "KNeighborsClassifier()"
      ]
     },
     "execution_count": 200,
     "metadata": {},
     "output_type": "execute_result"
    },
    {
     "name": "stdout",
     "output_type": "stream",
     "text": [
      "KNeighborsClassifier() \n",
      " Accuracy: 0.907 \n",
      "\n",
      "-------------------------------------------\n"
     ]
    },
    {
     "data": {
      "text/plain": [
       "RobustScaler()"
      ]
     },
     "execution_count": 200,
     "metadata": {},
     "output_type": "execute_result"
    },
    {
     "name": "stdout",
     "output_type": "stream",
     "text": [
      "----------------- LG전자(주) ----------------------\n",
      "['시설 보안 경비 안전' '비서 안내' '외국어 번역 통역' '사무 총무 법무' '건축 설계 인테리어' '제품 서비스영업'\n",
      " '고객상담 인바운드' 'IT 솔루션 기술영업' '사무보조 문서작성' '판매 서빙 매장관리' '해외영업 무역영업'\n",
      " '기계설계 CAD CAM' '생산 제조 설비 조립' '웹프로그래머' '홍보 PR' '경리 회계 결산' '시공 현장 감리 공무'\n",
      " '응용프로그래머' '영업관리 지원 영업기획' '기획 전략 경영' '금융 보험영업' '전기 전자 제어' '마케팅 광고 분석'\n",
      " '인사 노무 교육' '네트워크 서버 보안']\n"
     ]
    },
    {
     "data": {
      "text/plain": [
       "RandomForestClassifier()"
      ]
     },
     "execution_count": 200,
     "metadata": {},
     "output_type": "execute_result"
    },
    {
     "name": "stdout",
     "output_type": "stream",
     "text": [
      "RandomForestClassifier() \n",
      " Accuracy: 0.774 \n",
      "\n"
     ]
    },
    {
     "data": {
      "text/plain": [
       "DecisionTreeClassifier()"
      ]
     },
     "execution_count": 200,
     "metadata": {},
     "output_type": "execute_result"
    },
    {
     "name": "stdout",
     "output_type": "stream",
     "text": [
      "DecisionTreeClassifier() \n",
      " Accuracy: 0.74 \n",
      "\n"
     ]
    },
    {
     "data": {
      "text/plain": [
       "KNeighborsClassifier()"
      ]
     },
     "execution_count": 200,
     "metadata": {},
     "output_type": "execute_result"
    },
    {
     "name": "stdout",
     "output_type": "stream",
     "text": [
      "KNeighborsClassifier() \n",
      " Accuracy: 0.803 \n",
      "\n",
      "-------------------------------------------\n"
     ]
    },
    {
     "data": {
      "text/plain": [
       "RobustScaler()"
      ]
     },
     "execution_count": 200,
     "metadata": {},
     "output_type": "execute_result"
    },
    {
     "name": "stdout",
     "output_type": "stream",
     "text": [
      "----------------- 삼성카드(주) ----------------------\n",
      "['마케팅 광고 분석' '고객상담 인바운드' '금융 보험영업' '영업관리 지원 영업기획' '경리 회계 결산' '응용프로그래머'\n",
      " '웹프로그래머' '사무 총무 법무' '기획 전략 경영' '사무보조 문서작성' '인사 노무 교육' '상품기획 MD' '비서 안내'\n",
      " '재무 세무 IR' '구매 자재' '리서치 통계 설문' '웹기획 PM' '네트워크 서버 보안' '생산 제조 설비 조립'\n",
      " '판매 서빙 매장관리' '홍보 PR' '제품 서비스영업' '생산관리 공정관리 품질관리']\n"
     ]
    },
    {
     "data": {
      "text/plain": [
       "RandomForestClassifier()"
      ]
     },
     "execution_count": 200,
     "metadata": {},
     "output_type": "execute_result"
    },
    {
     "name": "stdout",
     "output_type": "stream",
     "text": [
      "RandomForestClassifier() \n",
      " Accuracy: 0.809 \n",
      "\n"
     ]
    },
    {
     "data": {
      "text/plain": [
       "DecisionTreeClassifier()"
      ]
     },
     "execution_count": 200,
     "metadata": {},
     "output_type": "execute_result"
    },
    {
     "name": "stdout",
     "output_type": "stream",
     "text": [
      "DecisionTreeClassifier() \n",
      " Accuracy: 0.767 \n",
      "\n"
     ]
    },
    {
     "data": {
      "text/plain": [
       "KNeighborsClassifier()"
      ]
     },
     "execution_count": 200,
     "metadata": {},
     "output_type": "execute_result"
    },
    {
     "name": "stdout",
     "output_type": "stream",
     "text": [
      "KNeighborsClassifier() \n",
      " Accuracy: 0.752 \n",
      "\n",
      "-------------------------------------------\n"
     ]
    },
    {
     "data": {
      "text/plain": [
       "RobustScaler()"
      ]
     },
     "execution_count": 200,
     "metadata": {},
     "output_type": "execute_result"
    },
    {
     "name": "stdout",
     "output_type": "stream",
     "text": [
      "----------------- 롯데카드(주) ----------------------\n",
      "['기계설계 CAD CAM' '사무보조 문서작성' '구매 자재' '생산관리 공정관리 품질관리' '사무 총무 법무' '경리 회계 결산'\n",
      " '재무 세무 IR' '자동차 조선 기계' '전기 전자 제어' '화학 에너지 환경' '생산 제조 설비 조립' '건축 설계 인테리어'\n",
      " '비서 안내' '외국어 번역 통역' '인사 노무 교육' '시공 현장 감리 공무' '영업관리 지원 영업기획' '기획 전략 경영'\n",
      " '판매 서빙 매장관리' '해외영업 무역영업' '웹프로그래머' '홍보 PR' '시설 보안 경비 안전' '응용프로그래머'\n",
      " '금융 보험영업' '마케팅 광고 분석' '유통 물류 재고' '요리 영양 제과제빵 바리스타' '네트워크 서버 보안'\n",
      " '제품 서비스영업' '리서치 통계 설문' 'IT 솔루션 기술영업']\n"
     ]
    },
    {
     "data": {
      "text/plain": [
       "RandomForestClassifier()"
      ]
     },
     "execution_count": 200,
     "metadata": {},
     "output_type": "execute_result"
    },
    {
     "name": "stdout",
     "output_type": "stream",
     "text": [
      "RandomForestClassifier() \n",
      " Accuracy: 0.424 \n",
      "\n"
     ]
    },
    {
     "data": {
      "text/plain": [
       "DecisionTreeClassifier()"
      ]
     },
     "execution_count": 200,
     "metadata": {},
     "output_type": "execute_result"
    },
    {
     "name": "stdout",
     "output_type": "stream",
     "text": [
      "DecisionTreeClassifier() \n",
      " Accuracy: 0.434 \n",
      "\n"
     ]
    },
    {
     "data": {
      "text/plain": [
       "KNeighborsClassifier()"
      ]
     },
     "execution_count": 200,
     "metadata": {},
     "output_type": "execute_result"
    },
    {
     "name": "stdout",
     "output_type": "stream",
     "text": [
      "KNeighborsClassifier() \n",
      " Accuracy: 0.502 \n",
      "\n",
      "-------------------------------------------\n"
     ]
    },
    {
     "data": {
      "text/plain": [
       "RobustScaler()"
      ]
     },
     "execution_count": 200,
     "metadata": {},
     "output_type": "execute_result"
    },
    {
     "name": "stdout",
     "output_type": "stream",
     "text": [
      "----------------- ㈜하나은행 ----------------------\n",
      "['요리 영양 제과제빵 바리스타' '판매 서빙 매장관리' '유통 물류 재고' '제품 서비스영업' '영업관리 지원 영업기획'\n",
      " '네트워크 서버 보안' '상품기획 MD' '기획 전략 경영' '인사 노무 교육' '사무 총무 법무' '생산 제조 설비 조립'\n",
      " '생산관리 공정관리 품질관리' '구매 자재' '재무 세무 IR' '사무보조 문서작성' '마케팅 광고 분석' '건축 설계 인테리어'\n",
      " '고객상담 인바운드' '외국어 번역 통역' '화학 에너지 환경' '경리 회계 결산' '응용프로그래머' '비서 안내'\n",
      " '시설 보안 경비 안전']\n"
     ]
    },
    {
     "data": {
      "text/plain": [
       "RandomForestClassifier()"
      ]
     },
     "execution_count": 200,
     "metadata": {},
     "output_type": "execute_result"
    },
    {
     "name": "stdout",
     "output_type": "stream",
     "text": [
      "RandomForestClassifier() \n",
      " Accuracy: 0.893 \n",
      "\n"
     ]
    },
    {
     "data": {
      "text/plain": [
       "DecisionTreeClassifier()"
      ]
     },
     "execution_count": 200,
     "metadata": {},
     "output_type": "execute_result"
    },
    {
     "name": "stdout",
     "output_type": "stream",
     "text": [
      "DecisionTreeClassifier() \n",
      " Accuracy: 0.822 \n",
      "\n"
     ]
    },
    {
     "data": {
      "text/plain": [
       "KNeighborsClassifier()"
      ]
     },
     "execution_count": 200,
     "metadata": {},
     "output_type": "execute_result"
    },
    {
     "name": "stdout",
     "output_type": "stream",
     "text": [
      "KNeighborsClassifier() \n",
      " Accuracy: 0.907 \n",
      "\n",
      "-------------------------------------------\n"
     ]
    },
    {
     "data": {
      "text/plain": [
       "RobustScaler()"
      ]
     },
     "execution_count": 200,
     "metadata": {},
     "output_type": "execute_result"
    },
    {
     "name": "stdout",
     "output_type": "stream",
     "text": [
      "----------------- 비씨카드(주) ----------------------\n",
      "['시설 보안 경비 안전' '비서 안내' '외국어 번역 통역' '사무 총무 법무' '건축 설계 인테리어' '제품 서비스영업'\n",
      " '고객상담 인바운드' 'IT 솔루션 기술영업' '사무보조 문서작성' '판매 서빙 매장관리' '해외영업 무역영업'\n",
      " '기계설계 CAD CAM' '생산 제조 설비 조립' '웹프로그래머' '홍보 PR' '경리 회계 결산' '시공 현장 감리 공무'\n",
      " '응용프로그래머' '영업관리 지원 영업기획' '기획 전략 경영' '금융 보험영업' '전기 전자 제어' '마케팅 광고 분석'\n",
      " '인사 노무 교육' '네트워크 서버 보안']\n"
     ]
    },
    {
     "data": {
      "text/plain": [
       "RandomForestClassifier()"
      ]
     },
     "execution_count": 200,
     "metadata": {},
     "output_type": "execute_result"
    },
    {
     "name": "stdout",
     "output_type": "stream",
     "text": [
      "RandomForestClassifier() \n",
      " Accuracy: 0.769 \n",
      "\n"
     ]
    },
    {
     "data": {
      "text/plain": [
       "DecisionTreeClassifier()"
      ]
     },
     "execution_count": 200,
     "metadata": {},
     "output_type": "execute_result"
    },
    {
     "name": "stdout",
     "output_type": "stream",
     "text": [
      "DecisionTreeClassifier() \n",
      " Accuracy: 0.725 \n",
      "\n"
     ]
    },
    {
     "data": {
      "text/plain": [
       "KNeighborsClassifier()"
      ]
     },
     "execution_count": 200,
     "metadata": {},
     "output_type": "execute_result"
    },
    {
     "name": "stdout",
     "output_type": "stream",
     "text": [
      "KNeighborsClassifier() \n",
      " Accuracy: 0.803 \n",
      "\n",
      "-------------------------------------------\n"
     ]
    },
    {
     "data": {
      "text/plain": [
       "RobustScaler()"
      ]
     },
     "execution_count": 200,
     "metadata": {},
     "output_type": "execute_result"
    },
    {
     "name": "stdout",
     "output_type": "stream",
     "text": [
      "----------------- 롯데쇼핑(주) ----------------------\n",
      "['마케팅 광고 분석' '고객상담 인바운드' '금융 보험영업' '영업관리 지원 영업기획' '경리 회계 결산' '응용프로그래머'\n",
      " '웹프로그래머' '사무 총무 법무' '기획 전략 경영' '사무보조 문서작성' '인사 노무 교육' '상품기획 MD' '비서 안내'\n",
      " '재무 세무 IR' '구매 자재' '리서치 통계 설문' '웹기획 PM' '네트워크 서버 보안' '생산 제조 설비 조립'\n",
      " '판매 서빙 매장관리' '홍보 PR' '제품 서비스영업' '생산관리 공정관리 품질관리']\n"
     ]
    },
    {
     "data": {
      "text/plain": [
       "RandomForestClassifier()"
      ]
     },
     "execution_count": 200,
     "metadata": {},
     "output_type": "execute_result"
    },
    {
     "name": "stdout",
     "output_type": "stream",
     "text": [
      "RandomForestClassifier() \n",
      " Accuracy: 0.809 \n",
      "\n"
     ]
    },
    {
     "data": {
      "text/plain": [
       "DecisionTreeClassifier()"
      ]
     },
     "execution_count": 200,
     "metadata": {},
     "output_type": "execute_result"
    },
    {
     "name": "stdout",
     "output_type": "stream",
     "text": [
      "DecisionTreeClassifier() \n",
      " Accuracy: 0.71 \n",
      "\n"
     ]
    },
    {
     "data": {
      "text/plain": [
       "KNeighborsClassifier()"
      ]
     },
     "execution_count": 200,
     "metadata": {},
     "output_type": "execute_result"
    },
    {
     "name": "stdout",
     "output_type": "stream",
     "text": [
      "KNeighborsClassifier() \n",
      " Accuracy: 0.752 \n",
      "\n",
      "-------------------------------------------\n"
     ]
    },
    {
     "data": {
      "text/plain": [
       "RobustScaler()"
      ]
     },
     "execution_count": 200,
     "metadata": {},
     "output_type": "execute_result"
    },
    {
     "name": "stdout",
     "output_type": "stream",
     "text": [
      "----------------- 대우조선해양(주) ----------------------\n",
      "['기계설계 CAD CAM' '사무보조 문서작성' '구매 자재' '생산관리 공정관리 품질관리' '사무 총무 법무' '경리 회계 결산'\n",
      " '재무 세무 IR' '자동차 조선 기계' '전기 전자 제어' '화학 에너지 환경' '생산 제조 설비 조립' '건축 설계 인테리어'\n",
      " '비서 안내' '외국어 번역 통역' '인사 노무 교육' '시공 현장 감리 공무' '영업관리 지원 영업기획' '기획 전략 경영'\n",
      " '판매 서빙 매장관리' '해외영업 무역영업' '웹프로그래머' '홍보 PR' '시설 보안 경비 안전' '응용프로그래머'\n",
      " '금융 보험영업' '마케팅 광고 분석' '유통 물류 재고' '요리 영양 제과제빵 바리스타' '네트워크 서버 보안'\n",
      " '제품 서비스영업' '리서치 통계 설문' 'IT 솔루션 기술영업']\n"
     ]
    },
    {
     "data": {
      "text/plain": [
       "RandomForestClassifier()"
      ]
     },
     "execution_count": 200,
     "metadata": {},
     "output_type": "execute_result"
    },
    {
     "name": "stdout",
     "output_type": "stream",
     "text": [
      "RandomForestClassifier() \n",
      " Accuracy: 0.42 \n",
      "\n"
     ]
    },
    {
     "data": {
      "text/plain": [
       "DecisionTreeClassifier()"
      ]
     },
     "execution_count": 200,
     "metadata": {},
     "output_type": "execute_result"
    },
    {
     "name": "stdout",
     "output_type": "stream",
     "text": [
      "DecisionTreeClassifier() \n",
      " Accuracy: 0.42 \n",
      "\n"
     ]
    },
    {
     "data": {
      "text/plain": [
       "KNeighborsClassifier()"
      ]
     },
     "execution_count": 200,
     "metadata": {},
     "output_type": "execute_result"
    },
    {
     "name": "stdout",
     "output_type": "stream",
     "text": [
      "KNeighborsClassifier() \n",
      " Accuracy: 0.502 \n",
      "\n",
      "-------------------------------------------\n"
     ]
    },
    {
     "data": {
      "text/plain": [
       "RobustScaler()"
      ]
     },
     "execution_count": 200,
     "metadata": {},
     "output_type": "execute_result"
    },
    {
     "name": "stdout",
     "output_type": "stream",
     "text": [
      "----------------- (주)호텔신라 ----------------------\n",
      "['요리 영양 제과제빵 바리스타' '판매 서빙 매장관리' '유통 물류 재고' '제품 서비스영업' '영업관리 지원 영업기획'\n",
      " '네트워크 서버 보안' '상품기획 MD' '기획 전략 경영' '인사 노무 교육' '사무 총무 법무' '생산 제조 설비 조립'\n",
      " '생산관리 공정관리 품질관리' '구매 자재' '재무 세무 IR' '사무보조 문서작성' '마케팅 광고 분석' '건축 설계 인테리어'\n",
      " '고객상담 인바운드' '외국어 번역 통역' '화학 에너지 환경' '경리 회계 결산' '응용프로그래머' '비서 안내'\n",
      " '시설 보안 경비 안전']\n"
     ]
    },
    {
     "data": {
      "text/plain": [
       "RandomForestClassifier()"
      ]
     },
     "execution_count": 200,
     "metadata": {},
     "output_type": "execute_result"
    },
    {
     "name": "stdout",
     "output_type": "stream",
     "text": [
      "RandomForestClassifier() \n",
      " Accuracy: 0.883 \n",
      "\n"
     ]
    },
    {
     "data": {
      "text/plain": [
       "DecisionTreeClassifier()"
      ]
     },
     "execution_count": 200,
     "metadata": {},
     "output_type": "execute_result"
    },
    {
     "name": "stdout",
     "output_type": "stream",
     "text": [
      "DecisionTreeClassifier() \n",
      " Accuracy: 0.837 \n",
      "\n"
     ]
    },
    {
     "data": {
      "text/plain": [
       "KNeighborsClassifier()"
      ]
     },
     "execution_count": 200,
     "metadata": {},
     "output_type": "execute_result"
    },
    {
     "name": "stdout",
     "output_type": "stream",
     "text": [
      "KNeighborsClassifier() \n",
      " Accuracy: 0.907 \n",
      "\n",
      "-------------------------------------------\n"
     ]
    },
    {
     "data": {
      "text/plain": [
       "RobustScaler()"
      ]
     },
     "execution_count": 200,
     "metadata": {},
     "output_type": "execute_result"
    },
    {
     "name": "stdout",
     "output_type": "stream",
     "text": [
      "----------------- 삼성생명보험(주) ----------------------\n",
      "['시설 보안 경비 안전' '비서 안내' '외국어 번역 통역' '사무 총무 법무' '건축 설계 인테리어' '제품 서비스영업'\n",
      " '고객상담 인바운드' 'IT 솔루션 기술영업' '사무보조 문서작성' '판매 서빙 매장관리' '해외영업 무역영업'\n",
      " '기계설계 CAD CAM' '생산 제조 설비 조립' '웹프로그래머' '홍보 PR' '경리 회계 결산' '시공 현장 감리 공무'\n",
      " '응용프로그래머' '영업관리 지원 영업기획' '기획 전략 경영' '금융 보험영업' '전기 전자 제어' '마케팅 광고 분석'\n",
      " '인사 노무 교육' '네트워크 서버 보안']\n"
     ]
    },
    {
     "data": {
      "text/plain": [
       "RandomForestClassifier()"
      ]
     },
     "execution_count": 200,
     "metadata": {},
     "output_type": "execute_result"
    },
    {
     "name": "stdout",
     "output_type": "stream",
     "text": [
      "RandomForestClassifier() \n",
      " Accuracy: 0.769 \n",
      "\n"
     ]
    },
    {
     "data": {
      "text/plain": [
       "DecisionTreeClassifier()"
      ]
     },
     "execution_count": 200,
     "metadata": {},
     "output_type": "execute_result"
    },
    {
     "name": "stdout",
     "output_type": "stream",
     "text": [
      "DecisionTreeClassifier() \n",
      " Accuracy: 0.716 \n",
      "\n"
     ]
    },
    {
     "data": {
      "text/plain": [
       "KNeighborsClassifier()"
      ]
     },
     "execution_count": 200,
     "metadata": {},
     "output_type": "execute_result"
    },
    {
     "name": "stdout",
     "output_type": "stream",
     "text": [
      "KNeighborsClassifier() \n",
      " Accuracy: 0.803 \n",
      "\n",
      "-------------------------------------------\n"
     ]
    },
    {
     "data": {
      "text/plain": [
       "RobustScaler()"
      ]
     },
     "execution_count": 200,
     "metadata": {},
     "output_type": "execute_result"
    },
    {
     "name": "stdout",
     "output_type": "stream",
     "text": [
      "----------------- (주)우리은행 ----------------------\n",
      "['마케팅 광고 분석' '고객상담 인바운드' '금융 보험영업' '영업관리 지원 영업기획' '경리 회계 결산' '응용프로그래머'\n",
      " '웹프로그래머' '사무 총무 법무' '기획 전략 경영' '사무보조 문서작성' '인사 노무 교육' '상품기획 MD' '비서 안내'\n",
      " '재무 세무 IR' '구매 자재' '리서치 통계 설문' '웹기획 PM' '네트워크 서버 보안' '생산 제조 설비 조립'\n",
      " '판매 서빙 매장관리' '홍보 PR' '제품 서비스영업' '생산관리 공정관리 품질관리']\n"
     ]
    },
    {
     "data": {
      "text/plain": [
       "RandomForestClassifier()"
      ]
     },
     "execution_count": 200,
     "metadata": {},
     "output_type": "execute_result"
    },
    {
     "name": "stdout",
     "output_type": "stream",
     "text": [
      "RandomForestClassifier() \n",
      " Accuracy: 0.809 \n",
      "\n"
     ]
    },
    {
     "data": {
      "text/plain": [
       "DecisionTreeClassifier()"
      ]
     },
     "execution_count": 200,
     "metadata": {},
     "output_type": "execute_result"
    },
    {
     "name": "stdout",
     "output_type": "stream",
     "text": [
      "DecisionTreeClassifier() \n",
      " Accuracy: 0.745 \n",
      "\n"
     ]
    },
    {
     "data": {
      "text/plain": [
       "KNeighborsClassifier()"
      ]
     },
     "execution_count": 200,
     "metadata": {},
     "output_type": "execute_result"
    },
    {
     "name": "stdout",
     "output_type": "stream",
     "text": [
      "KNeighborsClassifier() \n",
      " Accuracy: 0.752 \n",
      "\n",
      "-------------------------------------------\n"
     ]
    }
   ],
   "source": [
    "# 리스트 5\n",
    "# 상위 20개 합격회사 조회\n",
    "for k in range(0,20):\n",
    "    data_copy = data[data['합격회사']==list_2[i]]\n",
    "    list_1 = (data_copy['부서'].unique())\n",
    "   \n",
    "    list380 = []\n",
    "    list370 = []     \n",
    "    list360 = []  \n",
    "    list350 = []\n",
    "    list340 = []\n",
    "    list330 = []\n",
    "    list320 = []\n",
    "    list310 = []\n",
    "    list300 = []\n",
    "    list270 = []\n",
    "    list260 = []    \n",
    "    list250 = []\n",
    "    list235 = []\n",
    "    list230 = []\n",
    "    list220 = []\n",
    "    list210 = []\n",
    "    list200 = []\n",
    "    list190 = []\n",
    "    list180 = []\n",
    "    list170 = []\n",
    "    list150 = []\n",
    "    list130 = []\n",
    "    list100 = []\n",
    "\n",
    "# 부서별 스펙지수별로 라벨링 나누기\n",
    "    for i in range(len(list_1)): \n",
    "     # 부서별 스펙지수별로 리스트 저장\n",
    "        if(data_copy[data_copy['부서']==list_1[i]]['스펙지수'].mean()>300):        \n",
    "            list300.append(list_1[i])\n",
    "        elif(data_copy[data_copy['부서']==list_1[i]]['스펙지수'].mean()>270):        \n",
    "            list270.append(list_1[i])\n",
    "        elif(data_copy[data_copy['부서']==list_1[i]]['스펙지수'].mean()>220):        \n",
    "            list220.append(list_1[i])\n",
    "        elif(data_copy[data_copy['부서']==list_1[i]]['스펙지수'].mean()>150):        \n",
    "            list150.append(list_1[i])\n",
    "        elif (data_copy[data_copy['부서']==list_1[i]]['스펙지수'].mean()<150): \n",
    "            list100.append(list_1[i])\n",
    "\n",
    "# 부서별 스펙지수로 라벨 값 변경\n",
    "    for i in range(len(list300)):\n",
    "        b = data_copy['부서'].str.contains(list300[i])\n",
    "        data_copy['부서'][b] = '300'\n",
    "        \n",
    "    for i in range(len(list270)):\n",
    "        b = data_copy['부서'].str.contains(list270[i])\n",
    "        data_copy['부서'][b] = '270'\n",
    "\n",
    "    for i in range(len(list220)):\n",
    "        b = data_copy['부서'].str.contains(list220[i])\n",
    "        data_copy['부서'][b] = '220'\n",
    "\n",
    "    for i in range(len(list150)):\n",
    "        b = data_copy['부서'].str.contains(list150[i])\n",
    "        data_copy['부서'][b] = '150'\n",
    "    \n",
    "    for i in range(len(list100)):\n",
    "        b = data_copy['부서'].str.contains(list100[i])\n",
    "        data_copy['부서'][b] = '100' \n",
    "\n",
    "# RobustScaler로 정규화\n",
    "    from sklearn.preprocessing import RobustScaler\n",
    "    X = data_copy.iloc[:, 2:14]\n",
    "    y = data_copy['부서']\n",
    "    y_1 = data_copy['부서']\n",
    "    y = pd.get_dummies(y)\n",
    "\n",
    "# 모델 정의\n",
    "    transformer = RobustScaler()\n",
    "    transformer.fit(X)\n",
    "    X = transformer.transform(X)\n",
    "    \n",
    "    lR = LogisticRegression()\n",
    "    rf = RandomForestClassifier()\n",
    "    dt = DecisionTreeClassifier()\n",
    "    kn = KNeighborsClassifier()\n",
    "    lr = LogisticRegression()\n",
    "    \n",
    "# 데이터 분리\n",
    "    X_train, X_test, y_train, y_test = train_test_split(X, y, test_size=0.3, shuffle=True, random_state=8)\n",
    "    \n",
    "    print(\"----------------- {} ----------------------\".format(list_2[k]))\n",
    "    print(list_1)\n",
    "    models = [rf, dt, kn]\n",
    "    for model in models:\n",
    "        model.fit(X_train, y_train)\n",
    "        pre = model.predict(X_test)\n",
    "        scores = cross_val_score(model, X_test, y_test, cv=5).mean().round(3)\n",
    "        #f1score = metrics.f1_score(y_test, y_pred).round(3)\n",
    "        print(model, '\\n', 'Accuracy:', scores, '\\n')\n",
    "    print(\"-------------------------------------------\")\n",
    "    \n",
    "   "
   ]
  },
  {
   "cell_type": "code",
   "execution_count": null,
   "metadata": {},
   "outputs": [],
   "source": []
  }
 ],
 "metadata": {
  "kernelspec": {
   "display_name": "Python 3",
   "language": "python",
   "name": "python3"
  },
  "language_info": {
   "codemirror_mode": {
    "name": "ipython",
    "version": 3
   },
   "file_extension": ".py",
   "mimetype": "text/x-python",
   "name": "python",
   "nbconvert_exporter": "python",
   "pygments_lexer": "ipython3",
   "version": "3.8.5"
  }
 },
 "nbformat": 4,
 "nbformat_minor": 4
}
