{
 "cells": [
  {
   "cell_type": "code",
   "execution_count": 229,
   "metadata": {},
   "outputs": [],
   "source": [
    "import pandas as pd\n",
    "import matplotlib.pyplot as plt\n",
    "from sklearn.neighbors import KNeighborsClassifier\n",
    "from IPython.core.interactiveshell import InteractiveShell\n",
    "InteractiveShell.ast_node_interactivity = \"all\"\n",
    "pd.set_option('display.max_row', 5000)\n",
    "pd.set_option('display.max_columns', 1000)\n",
    "# 무시\n",
    "pd.set_option('mode.chained_assignment',  None)\n",
    "import numpy as np\n",
    "import seaborn as sns # 시각화 라이브러리\n",
    "from matplotlib import rc\n",
    "rc('font',family='Malgun Gothic')\n",
    "import math\n",
    "from tqdm.notebook import tqdm_notebook as tq"
   ]
  },
  {
   "cell_type": "code",
   "execution_count": 230,
   "metadata": {},
   "outputs": [],
   "source": [
    "data1 = pd.read_csv('합격자 스펙 데이터 (1~100059).csv', encoding='cp949')\n",
    "data2 = pd.read_csv('합격자 스펙 데이터 (100060~200126).csv', encoding='cp949')\n",
    "data3 = pd.read_csv('합격자 스펙 데이터 (200127~278149).csv', encoding='cp949')\n",
    "\n",
    "data = pd.concat([data1, data2, data3])"
   ]
  },
  {
   "cell_type": "code",
   "execution_count": 231,
   "metadata": {},
   "outputs": [],
   "source": [
    "data.reset_index(inplace=True)\n",
    "data.drop('Unnamed: 0', axis=1, inplace=True)\n",
    "data.drop('index', axis=1, inplace=True)"
   ]
  },
  {
   "cell_type": "code",
   "execution_count": 232,
   "metadata": {},
   "outputs": [],
   "source": [
    "temp1 = data['출신전공'].map(lambda x: len(x.split(' ')))\n",
    "one = []\n",
    "two = []\n",
    "for i in data['출신전공']:\n",
    "    dd = i.split(' ')\n",
    "    one.append(dd[0])\n",
    "    if len(dd) > 2:\n",
    "        two.append(dd[1])\n",
    "    else :\n",
    "        two.append('고졸')\n",
    "# one = pd.Series(one).value_counts()\n",
    "# two = pd.Series(two).value_counts()\n",
    "\n",
    "# one => 최종학력\n",
    "# two => 전공\n",
    "data['최종학력'] = one\n",
    "data['전공'] = two"
   ]
  },
  {
   "cell_type": "code",
   "execution_count": 233,
   "metadata": {},
   "outputs": [],
   "source": [
    "data['분기'] = data['지원분야'].str.split('\\n').str[0]"
   ]
  },
  {
   "cell_type": "code",
   "execution_count": 234,
   "metadata": {},
   "outputs": [],
   "source": [
    "data['부서'] = data['지원분야'].str.split('\\n').str[1]"
   ]
  },
  {
   "cell_type": "code",
   "execution_count": 235,
   "metadata": {},
   "outputs": [],
   "source": [
    "data.drop('지원분야', axis=1, inplace=True)"
   ]
  },
  {
   "cell_type": "code",
   "execution_count": 236,
   "metadata": {},
   "outputs": [],
   "source": [
    "a = data['출신전공'].str.contains('4년')\n",
    "b = data['출신전공'].str.contains('초대졸')\n",
    "c = data['출신전공'].str.contains('해외대학')\n",
    "d = data['출신전공'].str.contains('대학원')\n",
    "e = data['출신전공'].str.contains('고졸')\n",
    "\n",
    "data['출신전공'][a] = '4년'\n",
    "data['출신전공'][b] = '초대졸'\n",
    "data['출신전공'][c] = '해외대학'\n",
    "data['출신전공'][d] = '대학원'\n",
    "data['출신전공'][e] = '고졸'"
   ]
  },
  {
   "cell_type": "code",
   "execution_count": 237,
   "metadata": {},
   "outputs": [],
   "source": [
    "data['부서']=data['부서'].fillna('직무무관')"
   ]
  },
  {
   "cell_type": "code",
   "execution_count": 238,
   "metadata": {},
   "outputs": [],
   "source": [
    "data['부서']=data['부서'].fillna('직무무관')"
   ]
  },
  {
   "cell_type": "code",
   "execution_count": 239,
   "metadata": {},
   "outputs": [],
   "source": [
    "a = data['부서'].str.contains('인사')\n",
    "b = data['부서'].str.contains('사무')\n",
    "c = data['부서'].str.contains('상담')\n",
    "d = data['부서'].str.contains('조립')\n",
    "e = data['부서'].str.contains('생산관리')\n",
    "f = data['부서'].str.contains('서비스영업')\n",
    "g = data['부서'].str.contains('보험영업')\n",
    "h = data['부서'].str.contains('기술영업')\n",
    "i = data['부서'].str.contains('법인영업')\n",
    "j = data['부서'].str.contains('광고영업')\n",
    "k = data['부서'].str.contains('해외영업')\n",
    "k_1 = data['부서'].str.contains('아웃바운드TM')\n",
    "l = data['부서'].str.contains('영업관리')\n",
    "m = data['부서'].str.contains('전략')\n",
    "n = data['부서'].str.contains('비서')\n",
    "o = data['부서'].str.contains('마케팅')\n",
    "o_1 = data['부서'].str.contains('광고제작')\n",
    "p = data['부서'].str.contains('PR')\n",
    "q = data['부서'].str.contains('상품기획 MD')\n",
    "q_1 = data['부서'].str.contains('웹기획')\n",
    "r = data['부서'].str.contains('디자인')\n",
    "s = data['부서'].str.contains('홍보')\n",
    "t = data['부서'].str.contains('퍼블리싱')\n",
    "u = data['부서'].str.contains('프로그래머')\n",
    "v = data['부서'].str.contains('통신기술')\n",
    "w = data['부서'].str.contains('소프트웨어')\n",
    "x = data['부서'].str.contains('인공지능')\n",
    "y = data['부서'].str.contains('데이터베이스')\n",
    "z = data['부서'].str.contains('네트워크')\n",
    "\n",
    "\n",
    "data['부서'][a] = '인사'\n",
    "data['부서'][b] = '사무'\n",
    "data['부서'][c] = '상담'\n",
    "data['부서'][d] = '생산조립'\n",
    "data['부서'][e] = '생산관리'\n",
    "data['부서'][f] = '영업'\n",
    "data['부서'][g] = '영업'\n",
    "data['부서'][h] = '영업'\n",
    "data['부서'][i] = '영업'\"\"\n",
    "data['부서'][j] = '영업'\n",
    "data['부서'][k] = '영업'\n",
    "data['부서'][k_1] = '영업'\n",
    "data['부서'][m] = '기획전략'\n",
    "data['부서'][n] = '비서'\n",
    "data['부서'][o] = '마케팅'\n",
    "data['부서'][o_1] = '마케팅'\n",
    "data['부서'][p] = '마케팅'\n",
    "data['부서'][q] = '마케팅'\n",
    "data['부서'][q_1] = '마케팅'\n",
    "data['부서'][s] = '마케팅'\n",
    "data['부서'][t] = '마케팅'\n",
    "data['부서'][r] = '디자인'\n",
    "data['부서'][u] = '프로그래머'\n",
    "data['부서'][v] = '프로그래머'\n",
    "data['부서'][w] = '프로그래머'\n",
    "data['부서'][x] = '프로그래머'\n",
    "data['부서'][y] = '프로그래머'\n",
    "data['부서'][z] = '프로그래머'"
   ]
  },
  {
   "cell_type": "code",
   "execution_count": 240,
   "metadata": {},
   "outputs": [],
   "source": [
    "data['자격증'].replace('-',0, inplace=True)\n",
    "data['자격증'].replace('1개',1, inplace=True)\n",
    "data['자격증'].replace('2개',2, inplace=True)\n",
    "data['자격증'].replace('3개',3, inplace=True)\n",
    "data['자격증'].replace('4개',4, inplace=True)\n",
    "data['자격증'].replace('5개',5, inplace=True)\n",
    "data['자격증'].replace('6개',6, inplace=True)\n",
    "data['자격증'].replace('7개',7, inplace=True)\n",
    "data['자격증'].replace('8개',8, inplace=True)\n",
    "data['자격증'].replace('9개',9, inplace=True)\n",
    "data['자격증'].replace('10개',10, inplace=True)\n",
    "data['자격증'].replace('11개',11, inplace=True)\n",
    "data['자격증'].replace('12개',12, inplace=True)\n",
    "data['자격증'].replace('13개',13, inplace=True)\n",
    "data['자격증'].replace('14개',14, inplace=True)\n",
    "data['자격증'].replace('15개',15, inplace=True)\n",
    "data['자격증'].replace('16개',16, inplace=True)"
   ]
  },
  {
   "cell_type": "code",
   "execution_count": 241,
   "metadata": {},
   "outputs": [],
   "source": [
    "data['교내/사회/봉사'].replace('-',0, inplace=True)\n",
    "data['교내/사회/봉사'].replace('1회',1, inplace=True)\n",
    "data['교내/사회/봉사'].replace('2회',2, inplace=True)\n",
    "data['교내/사회/봉사'].replace('3회',3, inplace=True)\n",
    "data['교내/사회/봉사'].replace('4회',4, inplace=True)\n",
    "data['교내/사회/봉사'].replace('5회',5, inplace=True)\n",
    "data['교내/사회/봉사'].replace('6회',6, inplace=True)\n",
    "data['교내/사회/봉사'].replace('7회',7, inplace=True)\n",
    "data['교내/사회/봉사'].replace('8회',8, inplace=True)\n",
    "data['교내/사회/봉사'].replace('9회',9, inplace=True)\n",
    "data['교내/사회/봉사'].replace('10회',10, inplace=True)\n",
    "data['교내/사회/봉사'].replace('11회',11, inplace=True)\n",
    "data['교내/사회/봉사'].replace('12회',12, inplace=True)\n",
    "data['교내/사회/봉사'].replace('13회',12, inplace=True)\n",
    "data['교내/사회/봉사'].replace('14회',14, inplace=True)\n",
    "data['교내/사회/봉사'].replace('-',0, inplace=True)\n"
   ]
  },
  {
   "cell_type": "code",
   "execution_count": 242,
   "metadata": {},
   "outputs": [],
   "source": [
    "data['해외경험'].replace('-',0, inplace=True)\n",
    "data['해외경험'].replace('1회',1, inplace=True)\n",
    "data['해외경험'].replace('2회',2, inplace=True)\n",
    "data['해외경험'].replace('3회',3, inplace=True)\n",
    "data['해외경험'].replace('4회',4, inplace=True)\n",
    "data['해외경험'].replace('5회',5, inplace=True)\n",
    "data['해외경험'].replace('6회',6, inplace=True)\n",
    "data['해외경험'].replace('11회',11, inplace=True)\n",
    "data['해외경험'].replace('7회',7, inplace=True)\n",
    "data['해외경험'].replace('14회',14, inplace=True)"
   ]
  },
  {
   "cell_type": "code",
   "execution_count": 243,
   "metadata": {},
   "outputs": [],
   "source": [
    "data['인턴'].replace('-',0, inplace=True)\n",
    "data['인턴'].replace('1회',1, inplace=True)\n",
    "data['인턴'].replace('2회',2, inplace=True)\n",
    "data['인턴'].replace('3회',3, inplace=True)\n",
    "data['인턴'].replace('4회',4, inplace=True)\n",
    "data['인턴'].replace('5회',5, inplace=True)\n",
    "data['인턴'].replace('6회',6, inplace=True)\n",
    "data['인턴'].replace('7회',7, inplace=True)\n",
    "data['인턴'].replace('8회',8, inplace=True)\n",
    "data['인턴'].replace('10회',10, inplace=True)\n",
    "data['인턴'].replace('12회',12, inplace=True)\n",
    "data['인턴'].replace('13회',13, inplace=True)\n",
    "data['인턴'].replace('14회',14, inplace=True)\n",
    "data['인턴'].replace('17회',17, inplace=True)\n",
    "data['인턴'].replace('20회',21, inplace=True)\n",
    "data['인턴'].replace('21회',21, inplace=True)"
   ]
  },
  {
   "cell_type": "code",
   "execution_count": 244,
   "metadata": {},
   "outputs": [],
   "source": [
    "data['수상내역'].replace('-',0, inplace=True)\n",
    "data['수상내역'].replace('1회',1, inplace=True)\n",
    "data['수상내역'].replace('2회',2, inplace=True)\n",
    "data['수상내역'].replace('3회',3, inplace=True)\n",
    "data['수상내역'].replace('4회',4, inplace=True)\n",
    "data['수상내역'].replace('5회',5, inplace=True)\n",
    "data['수상내역'].replace('6회',6, inplace=True)\n",
    "data['수상내역'].replace('7회',7, inplace=True)\n",
    "data['수상내역'].replace('9회',9, inplace=True)\n",
    "data['수상내역'].replace('14회',14, inplace=True)"
   ]
  },
  {
   "cell_type": "code",
   "execution_count": 245,
   "metadata": {},
   "outputs": [],
   "source": [
    "data['외국어(기타)'].replace('-',0, inplace=True)\n",
    "data['외국어(기타)'].replace('1개',1, inplace=True)\n",
    "data['외국어(기타)'].replace('2개',2, inplace=True)\n",
    "data['외국어(기타)'].replace('3개',3, inplace=True)\n",
    "data['외국어(기타)'].replace('4개',4, inplace=True)"
   ]
  },
  {
   "cell_type": "code",
   "execution_count": 246,
   "metadata": {},
   "outputs": [],
   "source": [
    "data['토익스피킹'].replace('Lv8',8, inplace=True)\n",
    "data['토익스피킹'].replace('Lv7',7, inplace=True)\n",
    "data['토익스피킹'].replace('Lv6',6, inplace=True)\n",
    "data['토익스피킹'].replace('Lv5',5, inplace=True)\n",
    "data['토익스피킹'].replace('Lv4',4, inplace=True)\n",
    "data['토익스피킹'].replace('Lv3',3, inplace=True)\n",
    "data['토익스피킹'].replace('Lv2',2, inplace=True)\n",
    "data['토익스피킹'].replace('Lv1',1, inplace=True)\n",
    "data['토익스피킹'].replace('-',0, inplace=True)"
   ]
  },
  {
   "cell_type": "code",
   "execution_count": 247,
   "metadata": {},
   "outputs": [],
   "source": [
    "data['OPIC'].replace('-',0, inplace=True)\n",
    "data['OPIC'].replace('AL',9, inplace=True)\n",
    "data['OPIC'].replace('IH',8, inplace=True)\n",
    "data['OPIC'].replace('IM3',7, inplace=True)\n",
    "data['OPIC'].replace('IM2',6, inplace=True)\n",
    "data['OPIC'].replace('IM1',5, inplace=True)\n",
    "data['OPIC'].replace('IL',4, inplace=True)\n",
    "data['OPIC'].replace('NH',3, inplace=True)\n",
    "data['OPIC'].replace('NL',2, inplace=True)\n",
    "data['OPIC'].replace('NM',1, inplace=True)"
   ]
  },
  {
   "cell_type": "code",
   "execution_count": 248,
   "metadata": {},
   "outputs": [],
   "source": [
    "data['토익'] = data[data['토익'].str.contains('점')]['토익'].str.replace('점',\"\")\n",
    "data['학점'] = data[data['학점'].str.contains('/4.5')]['학점'].str.replace('/4.5',\"\")"
   ]
  },
  {
   "cell_type": "code",
   "execution_count": 249,
   "metadata": {},
   "outputs": [],
   "source": [
    "data['토익']= data['토익'].fillna(0)\n",
    "data['학점']= data['학점'].fillna(0)"
   ]
  },
  {
   "cell_type": "code",
   "execution_count": 250,
   "metadata": {},
   "outputs": [],
   "source": [
    "data['기업정보'] = data['기업정보'].str.replace('<span></span>,<span></span>','<span>기업정보없음</span>')\n",
    "data['기업정보'] = data['기업정보'].str.replace('<span></span>,<span>0명 재직중</span>','<span>기업정보없음</span>')"
   ]
  },
  {
   "cell_type": "code",
   "execution_count": 251,
   "metadata": {},
   "outputs": [],
   "source": [
    "data['기업정보'] = data['기업정보'].str.split('</span>').str[0]"
   ]
  },
  {
   "cell_type": "code",
   "execution_count": 252,
   "metadata": {},
   "outputs": [],
   "source": [
    "data['기업정보']= data['기업정보'].str.split('>').str[1]"
   ]
  },
  {
   "cell_type": "code",
   "execution_count": 253,
   "metadata": {},
   "outputs": [],
   "source": [
    "def grade(x):\n",
    "    result = 0\n",
    "    if(x == 4.5 ): \n",
    "        result = 'A+'\n",
    "    elif(x > 4):\n",
    "        result = 'A'\n",
    "    elif(x > 3.5):\n",
    "        result = 'B+'\n",
    "    elif(x > 3):\n",
    "        result = 'B'\n",
    "    elif(x > 2.5):\n",
    "        result = 'C+'\n",
    "    elif(x > 2):\n",
    "        result = 'C'\n",
    "    else:\n",
    "        result = 'F'\n",
    "    return result"
   ]
  },
  {
   "cell_type": "code",
   "execution_count": 254,
   "metadata": {},
   "outputs": [],
   "source": [
    "data['학점'] = data['학점'].map(float)\n",
    "data['학점등급'] = data['학점'].map(grade)"
   ]
  },
  {
   "cell_type": "code",
   "execution_count": 255,
   "metadata": {},
   "outputs": [],
   "source": [
    "check_data = data.drop('출신전공', axis=1)\n",
    "label_column = ['최종학력', '전공', '학점등급']"
   ]
  },
  {
   "cell_type": "code",
   "execution_count": 256,
   "metadata": {},
   "outputs": [],
   "source": [
    "#라벨 인코딩\n",
    "for label in label_column:\n",
    "    target = check_data[label].copy()\n",
    "    indexdata = range(0,len(target.unique()))\n",
    "    imsiSeries = pd.Series(data=indexdata, index=target.unique())\n",
    "    check_data[label] = target.map(imsiSeries)"
   ]
  },
  {
   "cell_type": "code",
   "execution_count": 257,
   "metadata": {},
   "outputs": [],
   "source": [
    "check_data.to_csv('데이터 전처리 통합.csv', encoding=\"\")"
   ]
  },
  {
   "cell_type": "markdown",
   "metadata": {},
   "source": [
    "# 데이터 제거"
   ]
  },
  {
   "cell_type": "code",
   "execution_count": 258,
   "metadata": {
    "scrolled": true
   },
   "outputs": [],
   "source": [
    "temp = check_data[check_data['최종학력'] != 7]\n",
    "temp.reset_index(inplace=True)\n",
    "temp.drop('index', axis=1, inplace=True)\n",
    "temp.to_csv('데이터 고졸 제거.csv', encoding=\"\")"
   ]
  },
  {
   "cell_type": "markdown",
   "metadata": {},
   "source": [
    "# 데이터 제거 2"
   ]
  },
  {
   "cell_type": "code",
   "execution_count": 259,
   "metadata": {
    "collapsed": true
   },
   "outputs": [
    {
     "data": {
      "text/plain": [
       "array(['2019년 하반기 ', '2018년 하반기 ', '2016년 하반기 ', '2016년 상반기 ',\n",
       "       '2015년 하반기 ', '2015년 상반기 ', '2014년 하반기 ', '2014년 상반기 ',\n",
       "       '2013년 하반기 ', '2013년 상반기 ', '2012년 하반기 ', '2012년 상반기 ',\n",
       "       '2011년 하반기 ', '2011년 상반기 ', '2010년 하반기 ', '2010년 상반기 ',\n",
       "       '2009년 하반기 ', '2009년 상반기 ', '2008년 하반기 ', '2008년 상반기 ',\n",
       "       '2007년 하반기 ', '2007년 상반기 ', '2019년 상반기 ', '2018년 상반기 ',\n",
       "       '2016년 하반기', '2013년 하반기', '2012년 하반기', '2010년 하반기', '2020년 하반기 ',\n",
       "       '2017년 상반기 ', '2015년 하반기', '2014년 하반기', '2009년 하반기', '2021년 하반기 ',\n",
       "       '2021년 상반기 ', '2020년 상반기 ', '2017년 하반기 ', '2011년 하반기', '2008년 하반기',\n",
       "       '2007년 하반기', '2017년 하반기', '2106년 하반기'], dtype=object)"
      ]
     },
     "execution_count": 259,
     "metadata": {},
     "output_type": "execute_result"
    }
   ],
   "source": [
    "temp['분기'].unique()"
   ]
  },
  {
   "cell_type": "code",
   "execution_count": 260,
   "metadata": {},
   "outputs": [],
   "source": [
    "quarter = temp['분기'].map(lambda x: x in ['2021년 상반기 ','2021년 하반기 ','2020년 상반기 ','2020년 하반기 ',' 2019년 상반기 ','2019년 하반기 ',\n",
    "                 '2018년 상반기 ', '2018년 하반기 ', '2017년 상반기 ', '2017년 하반기 ', '2017년 하반기', '2016년 상반기 ',\n",
    "                 '2016년 하반기 ', '2016년 하반기', '2015년 상반기 ', '2015년 하반기 ', '2015년 하반기'])"
   ]
  },
  {
   "cell_type": "code",
   "execution_count": 261,
   "metadata": {},
   "outputs": [],
   "source": [
    "temp = temp[quarter]\n",
    "temp.reset_index(inplace=True)\n",
    "temp.drop('index', axis=1, inplace=True)\n",
    "temp.to_csv('데이터 분기별 제거.csv', encoding=\"\")"
   ]
  },
  {
   "cell_type": "code",
   "execution_count": null,
   "metadata": {},
   "outputs": [],
   "source": []
  }
 ],
 "metadata": {
  "kernelspec": {
   "display_name": "Python 3",
   "language": "python",
   "name": "python3"
  },
  "language_info": {
   "codemirror_mode": {
    "name": "ipython",
    "version": 3
   },
   "file_extension": ".py",
   "mimetype": "text/x-python",
   "name": "python",
   "nbconvert_exporter": "python",
   "pygments_lexer": "ipython3",
   "version": "3.8.5"
  }
 },
 "nbformat": 4,
 "nbformat_minor": 4
}
