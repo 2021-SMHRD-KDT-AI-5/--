{
 "cells": [
  {
   "cell_type": "code",
   "execution_count": 1,
   "metadata": {},
   "outputs": [],
   "source": [
    "import pandas as pd\n",
    "import matplotlib.pyplot as plt\n",
    "from sklearn.neighbors import KNeighborsClassifier\n",
    "from IPython.core.interactiveshell import InteractiveShell\n",
    "from sklearn.model_selection import train_test_split\n",
    "from sklearn.neural_network import MLPClassifier\n",
    "from sklearn.linear_model import LogisticRegression\n",
    "from sklearn.neighbors import KNeighborsClassifier\n",
    "from sklearn.svm import SVC\n",
    "from sklearn.gaussian_process import GaussianProcessClassifier\n",
    "from sklearn.gaussian_process.kernels import RBF\n",
    "from sklearn.tree import DecisionTreeClassifier\n",
    "from sklearn.ensemble import RandomForestClassifier, AdaBoostClassifier\n",
    "from sklearn.naive_bayes import GaussianNB\n",
    "from sklearn.metrics import classification_report\n",
    "from sklearn.model_selection import cross_val_score\n",
    "from sklearn.metrics import roc_auc_score , plot_roc_curve, accuracy_score\n",
    "from sklearn import metrics\n",
    "from sklearn.metrics import mean_squared_error\n",
    "from sklearn.model_selection import train_test_split\n",
    "from sklearn.linear_model import LinearRegression\n",
    "from sklearn.neural_network import MLPClassifier\n",
    "import xgboost as xgb\n",
    "import numpy as np\n",
    "\n",
    "import joblib\n",
    "InteractiveShell.ast_node_interactivity = \"all\"\n",
    "pd.set_option('display.max_row', 5000)\n",
    "pd.set_option('display.max_columns', 1000)\n",
    "pd.set_option('mode.chained_assignment',  None)"
   ]
  },
  {
   "cell_type": "code",
   "execution_count": 2,
   "metadata": {},
   "outputs": [],
   "source": [
    "data = pd.read_csv('합격자 스펙 데이터 (1~100059).csv', encoding='cp949')\n",
    "data1 = pd.read_csv('합격자 스펙 데이터 (100060~200126).csv', encoding='cp949')\n",
    "data2 = pd.read_csv('합격자 스펙 데이터 (200127~278149).csv', encoding='cp949')\n",
    "data = pd.concat([data, data1, data2])\n",
    "data= data.reset_index()"
   ]
  },
  {
   "cell_type": "code",
   "execution_count": 3,
   "metadata": {},
   "outputs": [],
   "source": [
    "temp1 = data['출신전공'].map(lambda x: len(x.split(' ')))\n",
    "one = []\n",
    "two = []\n",
    "for i in data['출신전공']:\n",
    "    dd = i.split(' ')\n",
    "    one.append(dd[0])\n",
    "    if len(dd) > 2:\n",
    "        two.append(dd[1])\n",
    "    else :\n",
    "        two.append('고졸')\n",
    "# one = pd.Series(one).value_counts()\n",
    "# two = pd.Series(two).value_counts()\n",
    "\n",
    "# one => 최종학력\n",
    "# two => 전공\n",
    "data['최종학력'] = one\n",
    "data['전공'] = two"
   ]
  },
  {
   "cell_type": "code",
   "execution_count": 4,
   "metadata": {},
   "outputs": [],
   "source": [
    "#지원분야 정리 \n",
    "data['분기'] = data['지원분야'].str.split('\\n').str[0]\n",
    "data['부서'] = data['지원분야'].str.split('\\n').str[1]\n",
    "data.drop(['Unnamed: 0','지원분야','index', '분기'], axis=1, inplace=True)\n",
    "\n",
    "#출신전공 정리\n",
    "a = data['출신전공'].str.contains('4년')\n",
    "b = data['출신전공'].str.contains('초대졸')\n",
    "c = data['출신전공'].str.contains('해외대학')\n",
    "d = data['출신전공'].str.contains('대학원')\n",
    "e = data['출신전공'].str.contains('고졸')\n",
    "\n",
    "data['출신전공'][a] = '4년'\n",
    "data['출신전공'][b] = '초대졸'\n",
    "data['출신전공'][c] = '해외대학'\n",
    "data['출신전공'][d] = '대학원'\n",
    "data['출신전공'][e] = '고졸'\n",
    "\n",
    "#'부서'의 직무무관 결측치 채우기\n",
    "data['부서']=data['부서'].fillna('직무무관')\n",
    "\n",
    "#고졸 데이터 제외\n",
    "a = data['출신전공'].str.contains('4년')\n",
    "data= data[data['출신전공'] != '고졸']\n",
    "\n",
    "#출신전공 숫자 변환\n",
    "data['출신전공'].replace('해외대학', 7, inplace=True)\n",
    "data['출신전공'].replace('대학원', 6, inplace=True)\n",
    "data['출신전공'].replace('4년', 5, inplace=True)\n",
    "data['출신전공'].replace('초대졸', 4, inplace=True)\n",
    "data['출신전공'].replace('고졸', 3, inplace=True)\n",
    "data['출신전공'].replace('중졸', 2, inplace=True)\n",
    "data['출신전공'].replace('초졸', 1, inplace=True)\n",
    "\n",
    "\n",
    "#자격증 숫자형 데이터로 변경\n",
    "data['자격증'].replace('-',0, inplace=True)\n",
    "data['자격증'].replace('1개',1, inplace=True)\n",
    "data['자격증'].replace('2개',2, inplace=True)\n",
    "data['자격증'].replace('3개',3, inplace=True)\n",
    "data['자격증'].replace('4개',4, inplace=True)\n",
    "data['자격증'].replace('5개',5, inplace=True)\n",
    "data['자격증'].replace('6개',6, inplace=True)\n",
    "data['자격증'].replace('7개',7, inplace=True)\n",
    "data['자격증'].replace('8개',8, inplace=True)\n",
    "data['자격증'].replace('9개',9, inplace=True)\n",
    "data['자격증'].replace('10개',10, inplace=True)\n",
    "data['자격증'].replace('11개',11, inplace=True)\n",
    "data['자격증'].replace('12개',12, inplace=True)\n",
    "data['자격증'].replace('13개',13, inplace=True)\n",
    "data['자격증'].replace('14개',14, inplace=True)\n",
    "data['자격증'].replace('15개',15, inplace=True)\n",
    "data['자격증'].replace('16개',16, inplace=True)\n",
    "\n",
    "#교내/사회/봉사 숫자형 데이터로 변경\n",
    "data['교내/사회/봉사'].replace('-',0, inplace=True)\n",
    "data['교내/사회/봉사'].replace('1회',1, inplace=True)\n",
    "data['교내/사회/봉사'].replace('2회',2, inplace=True)\n",
    "data['교내/사회/봉사'].replace('3회',3, inplace=True)\n",
    "data['교내/사회/봉사'].replace('4회',4, inplace=True)\n",
    "data['교내/사회/봉사'].replace('5회',5, inplace=True)\n",
    "data['교내/사회/봉사'].replace('6회',6, inplace=True)\n",
    "data['교내/사회/봉사'].replace('7회',7, inplace=True)\n",
    "data['교내/사회/봉사'].replace('8회',8, inplace=True)\n",
    "data['교내/사회/봉사'].replace('9회',9, inplace=True)\n",
    "data['교내/사회/봉사'].replace('10회',10, inplace=True)\n",
    "data['교내/사회/봉사'].replace('11회',11, inplace=True)\n",
    "data['교내/사회/봉사'].replace('12회',12, inplace=True)\n",
    "data['교내/사회/봉사'].replace('13회',12, inplace=True)\n",
    "data['교내/사회/봉사'].replace('14회',14, inplace=True)\n",
    "data['교내/사회/봉사'].replace('-',0, inplace=True)\n",
    "\n",
    "#해외경험 숫자형 데이터로 변경\n",
    "data['해외경험'].replace('-',0, inplace=True)\n",
    "data['해외경험'].replace('1회',1, inplace=True)\n",
    "data['해외경험'].replace('2회',2, inplace=True)\n",
    "data['해외경험'].replace('3회',3, inplace=True)\n",
    "data['해외경험'].replace('4회',4, inplace=True)\n",
    "data['해외경험'].replace('5회',5, inplace=True)\n",
    "data['해외경험'].replace('6회',6, inplace=True)\n",
    "data['해외경험'].replace('11회',11, inplace=True)\n",
    "data['해외경험'].replace('7회',7, inplace=True)\n",
    "data['해외경험'].replace('14회',14, inplace=True)\n",
    "\n",
    "#인턴 숫자형 데이터로 변경\n",
    "data['인턴'].replace('-',0, inplace=True)\n",
    "data['인턴'].replace('1회',1, inplace=True)\n",
    "data['인턴'].replace('2회',2, inplace=True)\n",
    "data['인턴'].replace('3회',3, inplace=True)\n",
    "data['인턴'].replace('4회',4, inplace=True)\n",
    "data['인턴'].replace('5회',5, inplace=True)\n",
    "data['인턴'].replace('6회',6, inplace=True)\n",
    "data['인턴'].replace('7회',7, inplace=True)\n",
    "data['인턴'].replace('8회',8, inplace=True)\n",
    "data['인턴'].replace('10회',10, inplace=True)\n",
    "data['인턴'].replace('12회',12, inplace=True)\n",
    "data['인턴'].replace('13회',13, inplace=True)\n",
    "data['인턴'].replace('14회',14, inplace=True)\n",
    "data['인턴'].replace('17회',17, inplace=True)\n",
    "data['인턴'].replace('20회',21, inplace=True)\n",
    "data['인턴'].replace('21회',21, inplace=True)\n",
    "\n",
    "#수상내역 숫자형 데이터로 변경\n",
    "data['수상내역'].replace('-',0, inplace=True)\n",
    "data['수상내역'].replace('1회',1, inplace=True)\n",
    "data['수상내역'].replace('2회',2, inplace=True)\n",
    "data['수상내역'].replace('3회',3, inplace=True)\n",
    "data['수상내역'].replace('4회',4, inplace=True)\n",
    "data['수상내역'].replace('5회',5, inplace=True)\n",
    "data['수상내역'].replace('6회',6, inplace=True)\n",
    "data['수상내역'].replace('7회',7, inplace=True)\n",
    "data['수상내역'].replace('9회',9, inplace=True)\n",
    "data['수상내역'].replace('14회',14, inplace=True)\n",
    "\n",
    "#외국어 숫자형 데이터로 변경\n",
    "data['외국어(기타)'].replace('-',0, inplace=True)\n",
    "data['외국어(기타)'].replace('1개',1, inplace=True)\n",
    "data['외국어(기타)'].replace('2개',2, inplace=True)\n",
    "data['외국어(기타)'].replace('3개',3, inplace=True)\n",
    "data['외국어(기타)'].replace('4개',4, inplace=True)\n",
    "\n",
    "#토익스피킹 숫자형 데이터로 변경\n",
    "data['토익스피킹'].replace('Lv8',8, inplace=True)\n",
    "data['토익스피킹'].replace('Lv7',7, inplace=True)\n",
    "data['토익스피킹'].replace('Lv6',6, inplace=True)\n",
    "data['토익스피킹'].replace('Lv5',5, inplace=True)\n",
    "data['토익스피킹'].replace('Lv4',4, inplace=True)\n",
    "data['토익스피킹'].replace('Lv3',3, inplace=True)\n",
    "data['토익스피킹'].replace('Lv2',2, inplace=True)\n",
    "data['토익스피킹'].replace('Lv1',1, inplace=True)\n",
    "data['토익스피킹'].replace('-',0, inplace=True)\n",
    "\n",
    "#OPIC 숫자형 데이터로 변경\n",
    "data['OPIC'].replace('-',0, inplace=True)\n",
    "data['OPIC'].replace('AL',9, inplace=True)\n",
    "data['OPIC'].replace('IH',8, inplace=True)\n",
    "data['OPIC'].replace('IM3',7, inplace=True)\n",
    "data['OPIC'].replace('IM2',6, inplace=True)\n",
    "data['OPIC'].replace('IM1',5, inplace=True)\n",
    "data['OPIC'].replace('IL',4, inplace=True)\n",
    "data['OPIC'].replace('NH',3, inplace=True)\n",
    "data['OPIC'].replace('NL',2, inplace=True)\n",
    "data['OPIC'].replace('NM',1, inplace=True)\n",
    "\n",
    "#토익 및 학점 split\n",
    "data['토익'] = data[data['토익'].str.contains('점')]['토익'].str.replace('점',\"\")\n",
    "data['학점'] = data[data['학점'].str.contains('/4.5')]['학점'].str.replace('/4.5',\"\")\n",
    "\n",
    "#토익 및 학점 결측치 0으로 채우기\n",
    "data['토익']= data['토익'].fillna(0)\n",
    "data['학점']= data['학점'].fillna(0)\n",
    "\n",
    "#기업정보 정리 \n",
    "data['기업정보'] = data['기업정보'].str.replace('<span></span>,<span></span>','<span>기업정보없음</span>')\n",
    "data['기업정보'] = data['기업정보'].str.replace('<span></span>,<span>0명 재직중</span>','<span>기업정보없음</span>')\n",
    "data['기업정보'] = data['기업정보'].str.split('</span>').str[0]\n",
    "data['기업정보']= data['기업정보'].str.split('>').str[1]"
   ]
  },
  {
   "cell_type": "code",
   "execution_count": 5,
   "metadata": {},
   "outputs": [],
   "source": [
    "def grade_chage(x):\n",
    "    result = 0\n",
    "    if(x == 4.5 ): \n",
    "        result = 6\n",
    "    elif(x > 4):\n",
    "        result = 5\n",
    "    elif(x > 3.5):\n",
    "        result = 4\n",
    "    elif(x > 3):\n",
    "        result = 3\n",
    "    elif(x > 2.5):\n",
    "        result = 2\n",
    "    elif(x > 2):\n",
    "        result = 1\n",
    "    else:\n",
    "        result = 0\n",
    "    return result"
   ]
  },
  {
   "cell_type": "code",
   "execution_count": 6,
   "metadata": {},
   "outputs": [],
   "source": [
    "data['학점'] = data['학점'].map(float)\n",
    "data['학점'] = data['학점'].map(grade_chage)"
   ]
  },
  {
   "cell_type": "code",
   "execution_count": 7,
   "metadata": {},
   "outputs": [],
   "source": [
    "check_data = data.drop('출신전공', axis=1)\n",
    "label_column = ['최종학력', '전공']"
   ]
  },
  {
   "cell_type": "code",
   "execution_count": 8,
   "metadata": {},
   "outputs": [],
   "source": [
    "#라벨 인코딩\n",
    "for label in label_column:\n",
    "    target = check_data[label].copy()\n",
    "    indexdata = range(0,len(target.unique()))\n",
    "    imsiSeries = pd.Series(data=indexdata, index=target.unique())\n",
    "    check_data[label] = target.map(imsiSeries)"
   ]
  },
  {
   "cell_type": "code",
   "execution_count": 9,
   "metadata": {},
   "outputs": [],
   "source": [
    "data = check_data"
   ]
  },
  {
   "cell_type": "code",
   "execution_count": 10,
   "metadata": {},
   "outputs": [],
   "source": [
    "\n",
    "#부서지원 적은 곳 제외 \n",
    "list1 = ['운전 기사', '방송 케이블 프로덕션', '레저 스포츠','영화 배급','출판 인쇄 사진','디자인 CAD','사무 원무 코디'\n",
    "         ,'게임','전시 공간디자인','섬유 의류 패션','의료직기타','대학교수 강사 행정직','CS관리 강의','간호사'\n",
    "         ,'외국어교육','디자인기타','전시 컨벤션','DBA 데이터베이스','수출입 무역사무','환경 플랜트','연구소 R&D','토목 조경 도시 측량'\n",
    "         ,'소프트웨어 하드웨어','여행 항공 숙박','연예 엔터테인먼트', '캐릭터 애니메이션','빅데이터 AI(인공지능)','이벤트 웨딩 도우미','바이오 제약 식품',\n",
    "         '음악 음향','아나운서 리포터 성우','노무 헤드헌터 직업상담','공연 전시 무대 스텝','광고제작 카피 CF','단순홍보 회원관리','부동산 중개 분양 경매','전기 소방 통신 안전',\n",
    "         '작가 시나리오','사회복지 요양보호 자원봉사', '광고영업','뷰티 미용 애완','회계 세무 CPA','법률 특허 상표','포장 가공','IT 디자인 컴퓨터강사','기자','배송 택배 운송',\n",
    "          'HTML 퍼블리싱 UI개발','영상 사진 촬영','의사 치과 한의사','제품 산업디자인','광고 시각디자인','의류 패션 잡화디자인','통신기술 네트워크구축','감독 연출 PD','출판 편집디자인',\n",
    "         '법인영업','경영분석 컨설턴트','컨텐츠 사이트운영','그래픽디자인 CG','초중고 특수학교','자격증 기술 전문교육','시스템프로그래머',\n",
    "         '아웃바운드TM','QA 테스터 검증','학원상담 관리 운영','ERP 시스템분석 설계','웹디자인','채권 심사 보험 보상','학습지 과외 방문교사','설치 정비 A/S','영화 음반 배급',\n",
    "        ]\n",
    "\n",
    "for i in range(len(list1)):\n",
    "    idx = data[data['부서'] == list1[i]].index\n",
    "    data = data.drop(idx)\n",
    "\n",
    "    \n",
    "#데이터 및 스펙지수 조정 \n",
    "    data = data[data['스펙지수']>150]\n",
    "    data = data[data['부서']!='직무무관']\n",
    "\n",
    "#리스트에 합격회사별 인덱스 담기\n",
    "list_2 = data['합격회사'].value_counts().index\n"
   ]
  },
  {
   "cell_type": "markdown",
   "metadata": {},
   "source": [
    "# 머신러닝 예측"
   ]
  },
  {
   "cell_type": "code",
   "execution_count": 11,
   "metadata": {},
   "outputs": [
    {
     "data": {
      "text/plain": [
       "RobustScaler()"
      ]
     },
     "execution_count": 11,
     "metadata": {},
     "output_type": "execute_result"
    },
    {
     "name": "stdout",
     "output_type": "stream",
     "text": [
      "----------------- 현대카드(주) ----------------------\n",
      "['기획 전략 경영' '제품 서비스영업' '마케팅 광고 분석' '비서 안내' '영업관리 지원 영업기획' '사무 총무 법무'\n",
      " '웹프로그래머' '금융 보험영업' '사무보조 문서작성' '경리 회계 결산' '인사 노무 교육' '고객상담 인바운드'\n",
      " '응용프로그래머' '생산관리 공정관리 품질관리' '리서치 통계 설문' '네트워크 서버 보안' '웹기획 PM' '상품기획 MD'\n",
      " '생산 제조 설비 조립' '요리 영양 제과제빵 바리스타' '시설 보안 경비 안전' '판매 서빙 매장관리' '홍보 PR'\n",
      " '외국어 번역 통역' '구매 자재' '재무 세무 IR' '유통 물류 재고' 'IT 솔루션 기술영업']\n"
     ]
    },
    {
     "name": "stderr",
     "output_type": "stream",
     "text": [
      "C:\\Users\\SM2143\\anaconda3\\lib\\site-packages\\sklearn\\linear_model\\_logistic.py:762: ConvergenceWarning: lbfgs failed to converge (status=1):\n",
      "STOP: TOTAL NO. of ITERATIONS REACHED LIMIT.\n",
      "\n",
      "Increase the number of iterations (max_iter) or scale the data as shown in:\n",
      "    https://scikit-learn.org/stable/modules/preprocessing.html\n",
      "Please also refer to the documentation for alternative solver options:\n",
      "    https://scikit-learn.org/stable/modules/linear_model.html#logistic-regression\n",
      "  n_iter_i = _check_optimize_result(\n"
     ]
    },
    {
     "data": {
      "text/plain": [
       "LogisticRegression()"
      ]
     },
     "execution_count": 11,
     "metadata": {},
     "output_type": "execute_result"
    },
    {
     "name": "stdout",
     "output_type": "stream",
     "text": [
      "LogisticRegression() \n",
      " Accuracy: 0.546 \n",
      "\n"
     ]
    },
    {
     "name": "stderr",
     "output_type": "stream",
     "text": [
      "C:\\Users\\SM2143\\anaconda3\\lib\\site-packages\\sklearn\\linear_model\\_logistic.py:762: ConvergenceWarning: lbfgs failed to converge (status=1):\n",
      "STOP: TOTAL NO. of ITERATIONS REACHED LIMIT.\n",
      "\n",
      "Increase the number of iterations (max_iter) or scale the data as shown in:\n",
      "    https://scikit-learn.org/stable/modules/preprocessing.html\n",
      "Please also refer to the documentation for alternative solver options:\n",
      "    https://scikit-learn.org/stable/modules/linear_model.html#logistic-regression\n",
      "  n_iter_i = _check_optimize_result(\n",
      "C:\\Users\\SM2143\\anaconda3\\lib\\site-packages\\sklearn\\linear_model\\_logistic.py:762: ConvergenceWarning: lbfgs failed to converge (status=1):\n",
      "STOP: TOTAL NO. of ITERATIONS REACHED LIMIT.\n",
      "\n",
      "Increase the number of iterations (max_iter) or scale the data as shown in:\n",
      "    https://scikit-learn.org/stable/modules/preprocessing.html\n",
      "Please also refer to the documentation for alternative solver options:\n",
      "    https://scikit-learn.org/stable/modules/linear_model.html#logistic-regression\n",
      "  n_iter_i = _check_optimize_result(\n",
      "C:\\Users\\SM2143\\anaconda3\\lib\\site-packages\\sklearn\\linear_model\\_logistic.py:762: ConvergenceWarning: lbfgs failed to converge (status=1):\n",
      "STOP: TOTAL NO. of ITERATIONS REACHED LIMIT.\n",
      "\n",
      "Increase the number of iterations (max_iter) or scale the data as shown in:\n",
      "    https://scikit-learn.org/stable/modules/preprocessing.html\n",
      "Please also refer to the documentation for alternative solver options:\n",
      "    https://scikit-learn.org/stable/modules/linear_model.html#logistic-regression\n",
      "  n_iter_i = _check_optimize_result(\n",
      "C:\\Users\\SM2143\\anaconda3\\lib\\site-packages\\sklearn\\linear_model\\_logistic.py:762: ConvergenceWarning: lbfgs failed to converge (status=1):\n",
      "STOP: TOTAL NO. of ITERATIONS REACHED LIMIT.\n",
      "\n",
      "Increase the number of iterations (max_iter) or scale the data as shown in:\n",
      "    https://scikit-learn.org/stable/modules/preprocessing.html\n",
      "Please also refer to the documentation for alternative solver options:\n",
      "    https://scikit-learn.org/stable/modules/linear_model.html#logistic-regression\n",
      "  n_iter_i = _check_optimize_result(\n",
      "C:\\Users\\SM2143\\anaconda3\\lib\\site-packages\\sklearn\\linear_model\\_logistic.py:762: ConvergenceWarning: lbfgs failed to converge (status=1):\n",
      "STOP: TOTAL NO. of ITERATIONS REACHED LIMIT.\n",
      "\n",
      "Increase the number of iterations (max_iter) or scale the data as shown in:\n",
      "    https://scikit-learn.org/stable/modules/preprocessing.html\n",
      "Please also refer to the documentation for alternative solver options:\n",
      "    https://scikit-learn.org/stable/modules/linear_model.html#logistic-regression\n",
      "  n_iter_i = _check_optimize_result(\n"
     ]
    },
    {
     "data": {
      "text/plain": [
       "['모델/현대카드(주).pkl']"
      ]
     },
     "execution_count": 11,
     "metadata": {},
     "output_type": "execute_result"
    },
    {
     "name": "stdout",
     "output_type": "stream",
     "text": [
      "-------------------------------------------\n"
     ]
    },
    {
     "data": {
      "text/plain": [
       "RobustScaler()"
      ]
     },
     "execution_count": 11,
     "metadata": {},
     "output_type": "execute_result"
    },
    {
     "name": "stdout",
     "output_type": "stream",
     "text": [
      "----------------- 삼성전자(주) ----------------------\n",
      "['반도체 디스플레이' '생산관리 공정관리 품질관리' '구매 자재' '기획 전략 경영' '응용프로그래머' '생산 제조 설비 조립'\n",
      " '제품 서비스영업' '해외영업 무역영업' '마케팅 광고 분석' '재무 세무 IR' '인사 노무 교육' '기계설계 CAD CAM'\n",
      " '영업관리 지원 영업기획' '전기 전자 제어' '유통 물류 재고' '화학 에너지 환경' '시설 보안 경비 안전'\n",
      " 'IT 솔루션 기술영업' '고객상담 인바운드' '외국어 번역 통역' '웹프로그래머' '경리 회계 결산' '홍보 PR' '비서 안내'\n",
      " '사무보조 문서작성' '사무 총무 법무' '웹기획 PM' '자동차 조선 기계' '상품기획 MD' '네트워크 서버 보안'\n",
      " '요리 영양 제과제빵 바리스타' '판매 서빙 매장관리']\n"
     ]
    },
    {
     "data": {
      "text/plain": [
       "LogisticRegression()"
      ]
     },
     "execution_count": 11,
     "metadata": {},
     "output_type": "execute_result"
    },
    {
     "name": "stdout",
     "output_type": "stream",
     "text": [
      "LogisticRegression() \n",
      " Accuracy: 0.722 \n",
      "\n"
     ]
    },
    {
     "name": "stderr",
     "output_type": "stream",
     "text": [
      "C:\\Users\\SM2143\\anaconda3\\lib\\site-packages\\sklearn\\model_selection\\_split.py:670: UserWarning: The least populated class in y has only 3 members, which is less than n_splits=5.\n",
      "  warnings.warn((\"The least populated class in y has only %d\"\n"
     ]
    },
    {
     "data": {
      "text/plain": [
       "['모델/삼성전자(주).pkl']"
      ]
     },
     "execution_count": 11,
     "metadata": {},
     "output_type": "execute_result"
    },
    {
     "name": "stdout",
     "output_type": "stream",
     "text": [
      "-------------------------------------------\n"
     ]
    },
    {
     "data": {
      "text/plain": [
       "RobustScaler()"
      ]
     },
     "execution_count": 11,
     "metadata": {},
     "output_type": "execute_result"
    },
    {
     "name": "stdout",
     "output_type": "stream",
     "text": [
      "----------------- 현대캐피탈(주) ----------------------\n",
      "['구매 자재' '영업관리 지원 영업기획' '마케팅 광고 분석' '사무 총무 법무' '비서 안내' '고객상담 인바운드'\n",
      " '기획 전략 경영' '금융 보험영업' '응용프로그래머' '경리 회계 결산' '요리 영양 제과제빵 바리스타' '사무보조 문서작성'\n",
      " '네트워크 서버 보안' '리서치 통계 설문' '인사 노무 교육' '외국어 번역 통역' '웹기획 PM' '판매 서빙 매장관리'\n",
      " '제품 서비스영업' '시설 보안 경비 안전' '해외영업 무역영업' '상품기획 MD' '재무 세무 IR' '자동차 조선 기계'\n",
      " 'IT 솔루션 기술영업' '홍보 PR']\n"
     ]
    },
    {
     "name": "stderr",
     "output_type": "stream",
     "text": [
      "C:\\Users\\SM2143\\anaconda3\\lib\\site-packages\\sklearn\\linear_model\\_logistic.py:762: ConvergenceWarning: lbfgs failed to converge (status=1):\n",
      "STOP: TOTAL NO. of ITERATIONS REACHED LIMIT.\n",
      "\n",
      "Increase the number of iterations (max_iter) or scale the data as shown in:\n",
      "    https://scikit-learn.org/stable/modules/preprocessing.html\n",
      "Please also refer to the documentation for alternative solver options:\n",
      "    https://scikit-learn.org/stable/modules/linear_model.html#logistic-regression\n",
      "  n_iter_i = _check_optimize_result(\n"
     ]
    },
    {
     "data": {
      "text/plain": [
       "LogisticRegression()"
      ]
     },
     "execution_count": 11,
     "metadata": {},
     "output_type": "execute_result"
    },
    {
     "name": "stdout",
     "output_type": "stream",
     "text": [
      "LogisticRegression() \n",
      " Accuracy: 0.691 \n",
      "\n"
     ]
    },
    {
     "name": "stderr",
     "output_type": "stream",
     "text": [
      "C:\\Users\\SM2143\\anaconda3\\lib\\site-packages\\sklearn\\model_selection\\_split.py:670: UserWarning: The least populated class in y has only 1 members, which is less than n_splits=5.\n",
      "  warnings.warn((\"The least populated class in y has only %d\"\n",
      "C:\\Users\\SM2143\\anaconda3\\lib\\site-packages\\sklearn\\linear_model\\_logistic.py:762: ConvergenceWarning: lbfgs failed to converge (status=1):\n",
      "STOP: TOTAL NO. of ITERATIONS REACHED LIMIT.\n",
      "\n",
      "Increase the number of iterations (max_iter) or scale the data as shown in:\n",
      "    https://scikit-learn.org/stable/modules/preprocessing.html\n",
      "Please also refer to the documentation for alternative solver options:\n",
      "    https://scikit-learn.org/stable/modules/linear_model.html#logistic-regression\n",
      "  n_iter_i = _check_optimize_result(\n",
      "C:\\Users\\SM2143\\anaconda3\\lib\\site-packages\\sklearn\\linear_model\\_logistic.py:762: ConvergenceWarning: lbfgs failed to converge (status=1):\n",
      "STOP: TOTAL NO. of ITERATIONS REACHED LIMIT.\n",
      "\n",
      "Increase the number of iterations (max_iter) or scale the data as shown in:\n",
      "    https://scikit-learn.org/stable/modules/preprocessing.html\n",
      "Please also refer to the documentation for alternative solver options:\n",
      "    https://scikit-learn.org/stable/modules/linear_model.html#logistic-regression\n",
      "  n_iter_i = _check_optimize_result(\n",
      "C:\\Users\\SM2143\\anaconda3\\lib\\site-packages\\sklearn\\linear_model\\_logistic.py:762: ConvergenceWarning: lbfgs failed to converge (status=1):\n",
      "STOP: TOTAL NO. of ITERATIONS REACHED LIMIT.\n",
      "\n",
      "Increase the number of iterations (max_iter) or scale the data as shown in:\n",
      "    https://scikit-learn.org/stable/modules/preprocessing.html\n",
      "Please also refer to the documentation for alternative solver options:\n",
      "    https://scikit-learn.org/stable/modules/linear_model.html#logistic-regression\n",
      "  n_iter_i = _check_optimize_result(\n",
      "C:\\Users\\SM2143\\anaconda3\\lib\\site-packages\\sklearn\\linear_model\\_logistic.py:762: ConvergenceWarning: lbfgs failed to converge (status=1):\n",
      "STOP: TOTAL NO. of ITERATIONS REACHED LIMIT.\n",
      "\n",
      "Increase the number of iterations (max_iter) or scale the data as shown in:\n",
      "    https://scikit-learn.org/stable/modules/preprocessing.html\n",
      "Please also refer to the documentation for alternative solver options:\n",
      "    https://scikit-learn.org/stable/modules/linear_model.html#logistic-regression\n",
      "  n_iter_i = _check_optimize_result(\n",
      "C:\\Users\\SM2143\\anaconda3\\lib\\site-packages\\sklearn\\linear_model\\_logistic.py:762: ConvergenceWarning: lbfgs failed to converge (status=1):\n",
      "STOP: TOTAL NO. of ITERATIONS REACHED LIMIT.\n",
      "\n",
      "Increase the number of iterations (max_iter) or scale the data as shown in:\n",
      "    https://scikit-learn.org/stable/modules/preprocessing.html\n",
      "Please also refer to the documentation for alternative solver options:\n",
      "    https://scikit-learn.org/stable/modules/linear_model.html#logistic-regression\n",
      "  n_iter_i = _check_optimize_result(\n"
     ]
    },
    {
     "data": {
      "text/plain": [
       "['모델/현대캐피탈(주).pkl']"
      ]
     },
     "execution_count": 11,
     "metadata": {},
     "output_type": "execute_result"
    },
    {
     "name": "stdout",
     "output_type": "stream",
     "text": [
      "-------------------------------------------\n"
     ]
    },
    {
     "data": {
      "text/plain": [
       "RobustScaler()"
      ]
     },
     "execution_count": 11,
     "metadata": {},
     "output_type": "execute_result"
    },
    {
     "name": "stdout",
     "output_type": "stream",
     "text": [
      "----------------- (주)스타벅스커피코리아 ----------------------\n",
      "['요리 영양 제과제빵 바리스타' '판매 서빙 매장관리' '유통 물류 재고' '제품 서비스영업' '영업관리 지원 영업기획'\n",
      " '네트워크 서버 보안' '상품기획 MD' '기획 전략 경영' '인사 노무 교육' '사무 총무 법무' '생산 제조 설비 조립'\n",
      " '생산관리 공정관리 품질관리' '구매 자재' '재무 세무 IR' '사무보조 문서작성' '마케팅 광고 분석' '건축 설계 인테리어'\n",
      " '고객상담 인바운드' '외국어 번역 통역' '화학 에너지 환경' '경리 회계 결산' '응용프로그래머' '비서 안내'\n",
      " '시설 보안 경비 안전']\n"
     ]
    },
    {
     "name": "stderr",
     "output_type": "stream",
     "text": [
      "C:\\Users\\SM2143\\anaconda3\\lib\\site-packages\\sklearn\\linear_model\\_logistic.py:762: ConvergenceWarning: lbfgs failed to converge (status=1):\n",
      "STOP: TOTAL NO. of ITERATIONS REACHED LIMIT.\n",
      "\n",
      "Increase the number of iterations (max_iter) or scale the data as shown in:\n",
      "    https://scikit-learn.org/stable/modules/preprocessing.html\n",
      "Please also refer to the documentation for alternative solver options:\n",
      "    https://scikit-learn.org/stable/modules/linear_model.html#logistic-regression\n",
      "  n_iter_i = _check_optimize_result(\n"
     ]
    },
    {
     "data": {
      "text/plain": [
       "LogisticRegression()"
      ]
     },
     "execution_count": 11,
     "metadata": {},
     "output_type": "execute_result"
    },
    {
     "name": "stdout",
     "output_type": "stream",
     "text": [
      "LogisticRegression() \n",
      " Accuracy: 0.899 \n",
      "\n"
     ]
    },
    {
     "name": "stderr",
     "output_type": "stream",
     "text": [
      "C:\\Users\\SM2143\\anaconda3\\lib\\site-packages\\sklearn\\linear_model\\_logistic.py:762: ConvergenceWarning: lbfgs failed to converge (status=1):\n",
      "STOP: TOTAL NO. of ITERATIONS REACHED LIMIT.\n",
      "\n",
      "Increase the number of iterations (max_iter) or scale the data as shown in:\n",
      "    https://scikit-learn.org/stable/modules/preprocessing.html\n",
      "Please also refer to the documentation for alternative solver options:\n",
      "    https://scikit-learn.org/stable/modules/linear_model.html#logistic-regression\n",
      "  n_iter_i = _check_optimize_result(\n",
      "C:\\Users\\SM2143\\anaconda3\\lib\\site-packages\\sklearn\\linear_model\\_logistic.py:762: ConvergenceWarning: lbfgs failed to converge (status=1):\n",
      "STOP: TOTAL NO. of ITERATIONS REACHED LIMIT.\n",
      "\n",
      "Increase the number of iterations (max_iter) or scale the data as shown in:\n",
      "    https://scikit-learn.org/stable/modules/preprocessing.html\n",
      "Please also refer to the documentation for alternative solver options:\n",
      "    https://scikit-learn.org/stable/modules/linear_model.html#logistic-regression\n",
      "  n_iter_i = _check_optimize_result(\n",
      "C:\\Users\\SM2143\\anaconda3\\lib\\site-packages\\sklearn\\linear_model\\_logistic.py:762: ConvergenceWarning: lbfgs failed to converge (status=1):\n",
      "STOP: TOTAL NO. of ITERATIONS REACHED LIMIT.\n",
      "\n",
      "Increase the number of iterations (max_iter) or scale the data as shown in:\n",
      "    https://scikit-learn.org/stable/modules/preprocessing.html\n",
      "Please also refer to the documentation for alternative solver options:\n",
      "    https://scikit-learn.org/stable/modules/linear_model.html#logistic-regression\n",
      "  n_iter_i = _check_optimize_result(\n",
      "C:\\Users\\SM2143\\anaconda3\\lib\\site-packages\\sklearn\\linear_model\\_logistic.py:762: ConvergenceWarning: lbfgs failed to converge (status=1):\n",
      "STOP: TOTAL NO. of ITERATIONS REACHED LIMIT.\n",
      "\n",
      "Increase the number of iterations (max_iter) or scale the data as shown in:\n",
      "    https://scikit-learn.org/stable/modules/preprocessing.html\n",
      "Please also refer to the documentation for alternative solver options:\n",
      "    https://scikit-learn.org/stable/modules/linear_model.html#logistic-regression\n",
      "  n_iter_i = _check_optimize_result(\n",
      "C:\\Users\\SM2143\\anaconda3\\lib\\site-packages\\sklearn\\linear_model\\_logistic.py:762: ConvergenceWarning: lbfgs failed to converge (status=1):\n",
      "STOP: TOTAL NO. of ITERATIONS REACHED LIMIT.\n",
      "\n",
      "Increase the number of iterations (max_iter) or scale the data as shown in:\n",
      "    https://scikit-learn.org/stable/modules/preprocessing.html\n",
      "Please also refer to the documentation for alternative solver options:\n",
      "    https://scikit-learn.org/stable/modules/linear_model.html#logistic-regression\n",
      "  n_iter_i = _check_optimize_result(\n"
     ]
    },
    {
     "data": {
      "text/plain": [
       "['모델/(주)스타벅스커피코리아.pkl']"
      ]
     },
     "execution_count": 11,
     "metadata": {},
     "output_type": "execute_result"
    },
    {
     "name": "stdout",
     "output_type": "stream",
     "text": [
      "-------------------------------------------\n"
     ]
    },
    {
     "data": {
      "text/plain": [
       "RobustScaler()"
      ]
     },
     "execution_count": 11,
     "metadata": {},
     "output_type": "execute_result"
    },
    {
     "name": "stdout",
     "output_type": "stream",
     "text": [
      "----------------- 두산중공업(주) ----------------------\n",
      "['기계설계 CAD CAM' '사무보조 문서작성' '구매 자재' '생산관리 공정관리 품질관리' '사무 총무 법무' '경리 회계 결산'\n",
      " '재무 세무 IR' '자동차 조선 기계' '전기 전자 제어' '화학 에너지 환경' '생산 제조 설비 조립' '건축 설계 인테리어'\n",
      " '비서 안내' '외국어 번역 통역' '인사 노무 교육' '시공 현장 감리 공무' '영업관리 지원 영업기획' '기획 전략 경영'\n",
      " '판매 서빙 매장관리' '해외영업 무역영업' '웹프로그래머' '홍보 PR' '시설 보안 경비 안전' '응용프로그래머'\n",
      " '금융 보험영업' '마케팅 광고 분석' '유통 물류 재고' '요리 영양 제과제빵 바리스타' '네트워크 서버 보안'\n",
      " '제품 서비스영업' '리서치 통계 설문' 'IT 솔루션 기술영업']\n"
     ]
    },
    {
     "data": {
      "text/plain": [
       "LogisticRegression()"
      ]
     },
     "execution_count": 11,
     "metadata": {},
     "output_type": "execute_result"
    },
    {
     "name": "stdout",
     "output_type": "stream",
     "text": [
      "LogisticRegression() \n",
      " Accuracy: 0.711 \n",
      "\n"
     ]
    },
    {
     "data": {
      "text/plain": [
       "['모델/두산중공업(주).pkl']"
      ]
     },
     "execution_count": 11,
     "metadata": {},
     "output_type": "execute_result"
    },
    {
     "name": "stdout",
     "output_type": "stream",
     "text": [
      "-------------------------------------------\n"
     ]
    },
    {
     "data": {
      "text/plain": [
       "RobustScaler()"
      ]
     },
     "execution_count": 11,
     "metadata": {},
     "output_type": "execute_result"
    },
    {
     "name": "stdout",
     "output_type": "stream",
     "text": [
      "----------------- (주)에스텍시스템 ----------------------\n",
      "['시설 보안 경비 안전' '비서 안내' '외국어 번역 통역' '사무 총무 법무' '건축 설계 인테리어' '제품 서비스영업'\n",
      " '고객상담 인바운드' 'IT 솔루션 기술영업' '사무보조 문서작성' '판매 서빙 매장관리' '해외영업 무역영업'\n",
      " '기계설계 CAD CAM' '생산 제조 설비 조립' '웹프로그래머' '홍보 PR' '경리 회계 결산' '시공 현장 감리 공무'\n",
      " '응용프로그래머' '영업관리 지원 영업기획' '기획 전략 경영' '금융 보험영업' '전기 전자 제어' '마케팅 광고 분석'\n",
      " '인사 노무 교육' '네트워크 서버 보안']\n"
     ]
    },
    {
     "name": "stderr",
     "output_type": "stream",
     "text": [
      "C:\\Users\\SM2143\\anaconda3\\lib\\site-packages\\sklearn\\linear_model\\_logistic.py:762: ConvergenceWarning: lbfgs failed to converge (status=1):\n",
      "STOP: TOTAL NO. of ITERATIONS REACHED LIMIT.\n",
      "\n",
      "Increase the number of iterations (max_iter) or scale the data as shown in:\n",
      "    https://scikit-learn.org/stable/modules/preprocessing.html\n",
      "Please also refer to the documentation for alternative solver options:\n",
      "    https://scikit-learn.org/stable/modules/linear_model.html#logistic-regression\n",
      "  n_iter_i = _check_optimize_result(\n"
     ]
    },
    {
     "data": {
      "text/plain": [
       "LogisticRegression()"
      ]
     },
     "execution_count": 11,
     "metadata": {},
     "output_type": "execute_result"
    },
    {
     "name": "stdout",
     "output_type": "stream",
     "text": [
      "LogisticRegression() \n",
      " Accuracy: 0.982 \n",
      "\n"
     ]
    },
    {
     "name": "stderr",
     "output_type": "stream",
     "text": [
      "C:\\Users\\SM2143\\anaconda3\\lib\\site-packages\\sklearn\\model_selection\\_split.py:670: UserWarning: The least populated class in y has only 2 members, which is less than n_splits=5.\n",
      "  warnings.warn((\"The least populated class in y has only %d\"\n",
      "C:\\Users\\SM2143\\anaconda3\\lib\\site-packages\\sklearn\\linear_model\\_logistic.py:762: ConvergenceWarning: lbfgs failed to converge (status=1):\n",
      "STOP: TOTAL NO. of ITERATIONS REACHED LIMIT.\n",
      "\n",
      "Increase the number of iterations (max_iter) or scale the data as shown in:\n",
      "    https://scikit-learn.org/stable/modules/preprocessing.html\n",
      "Please also refer to the documentation for alternative solver options:\n",
      "    https://scikit-learn.org/stable/modules/linear_model.html#logistic-regression\n",
      "  n_iter_i = _check_optimize_result(\n",
      "C:\\Users\\SM2143\\anaconda3\\lib\\site-packages\\sklearn\\linear_model\\_logistic.py:762: ConvergenceWarning: lbfgs failed to converge (status=1):\n",
      "STOP: TOTAL NO. of ITERATIONS REACHED LIMIT.\n",
      "\n",
      "Increase the number of iterations (max_iter) or scale the data as shown in:\n",
      "    https://scikit-learn.org/stable/modules/preprocessing.html\n",
      "Please also refer to the documentation for alternative solver options:\n",
      "    https://scikit-learn.org/stable/modules/linear_model.html#logistic-regression\n",
      "  n_iter_i = _check_optimize_result(\n",
      "C:\\Users\\SM2143\\anaconda3\\lib\\site-packages\\sklearn\\linear_model\\_logistic.py:762: ConvergenceWarning: lbfgs failed to converge (status=1):\n",
      "STOP: TOTAL NO. of ITERATIONS REACHED LIMIT.\n",
      "\n",
      "Increase the number of iterations (max_iter) or scale the data as shown in:\n",
      "    https://scikit-learn.org/stable/modules/preprocessing.html\n",
      "Please also refer to the documentation for alternative solver options:\n",
      "    https://scikit-learn.org/stable/modules/linear_model.html#logistic-regression\n",
      "  n_iter_i = _check_optimize_result(\n",
      "C:\\Users\\SM2143\\anaconda3\\lib\\site-packages\\sklearn\\linear_model\\_logistic.py:762: ConvergenceWarning: lbfgs failed to converge (status=1):\n",
      "STOP: TOTAL NO. of ITERATIONS REACHED LIMIT.\n",
      "\n",
      "Increase the number of iterations (max_iter) or scale the data as shown in:\n",
      "    https://scikit-learn.org/stable/modules/preprocessing.html\n",
      "Please also refer to the documentation for alternative solver options:\n",
      "    https://scikit-learn.org/stable/modules/linear_model.html#logistic-regression\n",
      "  n_iter_i = _check_optimize_result(\n",
      "C:\\Users\\SM2143\\anaconda3\\lib\\site-packages\\sklearn\\linear_model\\_logistic.py:762: ConvergenceWarning: lbfgs failed to converge (status=1):\n",
      "STOP: TOTAL NO. of ITERATIONS REACHED LIMIT.\n",
      "\n",
      "Increase the number of iterations (max_iter) or scale the data as shown in:\n",
      "    https://scikit-learn.org/stable/modules/preprocessing.html\n",
      "Please also refer to the documentation for alternative solver options:\n",
      "    https://scikit-learn.org/stable/modules/linear_model.html#logistic-regression\n",
      "  n_iter_i = _check_optimize_result(\n"
     ]
    },
    {
     "data": {
      "text/plain": [
       "['모델/(주)에스텍시스템.pkl']"
      ]
     },
     "execution_count": 11,
     "metadata": {},
     "output_type": "execute_result"
    },
    {
     "name": "stdout",
     "output_type": "stream",
     "text": [
      "-------------------------------------------\n"
     ]
    },
    {
     "data": {
      "text/plain": [
       "RobustScaler()"
      ]
     },
     "execution_count": 11,
     "metadata": {},
     "output_type": "execute_result"
    },
    {
     "name": "stdout",
     "output_type": "stream",
     "text": [
      "----------------- (주)아워홈 ----------------------\n",
      "['경리 회계 결산' '요리 영양 제과제빵 바리스타' '인사 노무 교육' '제품 서비스영업' '생산관리 공정관리 품질관리'\n",
      " '판매 서빙 매장관리' '영업관리 지원 영업기획' '상품기획 MD' '마케팅 광고 분석' '유통 물류 재고' '구매 자재'\n",
      " '시설 보안 경비 안전' '사무 총무 법무' '시공 현장 감리 공무' '홍보 PR' '해외영업 무역영업' '화학 에너지 환경'\n",
      " '사무보조 문서작성' '고객상담 인바운드' '비서 안내' '기획 전략 경영' '생산 제조 설비 조립' '건축 설계 인테리어'\n",
      " '전기 전자 제어' '재무 세무 IR' '응용프로그래머' '자동차 조선 기계']\n"
     ]
    },
    {
     "name": "stderr",
     "output_type": "stream",
     "text": [
      "C:\\Users\\SM2143\\anaconda3\\lib\\site-packages\\sklearn\\linear_model\\_logistic.py:762: ConvergenceWarning: lbfgs failed to converge (status=1):\n",
      "STOP: TOTAL NO. of ITERATIONS REACHED LIMIT.\n",
      "\n",
      "Increase the number of iterations (max_iter) or scale the data as shown in:\n",
      "    https://scikit-learn.org/stable/modules/preprocessing.html\n",
      "Please also refer to the documentation for alternative solver options:\n",
      "    https://scikit-learn.org/stable/modules/linear_model.html#logistic-regression\n",
      "  n_iter_i = _check_optimize_result(\n"
     ]
    },
    {
     "data": {
      "text/plain": [
       "LogisticRegression()"
      ]
     },
     "execution_count": 11,
     "metadata": {},
     "output_type": "execute_result"
    },
    {
     "name": "stdout",
     "output_type": "stream",
     "text": [
      "LogisticRegression() \n",
      " Accuracy: 0.827 \n",
      "\n"
     ]
    },
    {
     "name": "stderr",
     "output_type": "stream",
     "text": [
      "C:\\Users\\SM2143\\anaconda3\\lib\\site-packages\\sklearn\\model_selection\\_split.py:670: UserWarning: The least populated class in y has only 3 members, which is less than n_splits=5.\n",
      "  warnings.warn((\"The least populated class in y has only %d\"\n",
      "C:\\Users\\SM2143\\anaconda3\\lib\\site-packages\\sklearn\\linear_model\\_logistic.py:762: ConvergenceWarning: lbfgs failed to converge (status=1):\n",
      "STOP: TOTAL NO. of ITERATIONS REACHED LIMIT.\n",
      "\n",
      "Increase the number of iterations (max_iter) or scale the data as shown in:\n",
      "    https://scikit-learn.org/stable/modules/preprocessing.html\n",
      "Please also refer to the documentation for alternative solver options:\n",
      "    https://scikit-learn.org/stable/modules/linear_model.html#logistic-regression\n",
      "  n_iter_i = _check_optimize_result(\n",
      "C:\\Users\\SM2143\\anaconda3\\lib\\site-packages\\sklearn\\linear_model\\_logistic.py:762: ConvergenceWarning: lbfgs failed to converge (status=1):\n",
      "STOP: TOTAL NO. of ITERATIONS REACHED LIMIT.\n",
      "\n",
      "Increase the number of iterations (max_iter) or scale the data as shown in:\n",
      "    https://scikit-learn.org/stable/modules/preprocessing.html\n",
      "Please also refer to the documentation for alternative solver options:\n",
      "    https://scikit-learn.org/stable/modules/linear_model.html#logistic-regression\n",
      "  n_iter_i = _check_optimize_result(\n",
      "C:\\Users\\SM2143\\anaconda3\\lib\\site-packages\\sklearn\\linear_model\\_logistic.py:762: ConvergenceWarning: lbfgs failed to converge (status=1):\n",
      "STOP: TOTAL NO. of ITERATIONS REACHED LIMIT.\n",
      "\n",
      "Increase the number of iterations (max_iter) or scale the data as shown in:\n",
      "    https://scikit-learn.org/stable/modules/preprocessing.html\n",
      "Please also refer to the documentation for alternative solver options:\n",
      "    https://scikit-learn.org/stable/modules/linear_model.html#logistic-regression\n",
      "  n_iter_i = _check_optimize_result(\n",
      "C:\\Users\\SM2143\\anaconda3\\lib\\site-packages\\sklearn\\linear_model\\_logistic.py:762: ConvergenceWarning: lbfgs failed to converge (status=1):\n",
      "STOP: TOTAL NO. of ITERATIONS REACHED LIMIT.\n",
      "\n",
      "Increase the number of iterations (max_iter) or scale the data as shown in:\n",
      "    https://scikit-learn.org/stable/modules/preprocessing.html\n",
      "Please also refer to the documentation for alternative solver options:\n",
      "    https://scikit-learn.org/stable/modules/linear_model.html#logistic-regression\n",
      "  n_iter_i = _check_optimize_result(\n",
      "C:\\Users\\SM2143\\anaconda3\\lib\\site-packages\\sklearn\\linear_model\\_logistic.py:762: ConvergenceWarning: lbfgs failed to converge (status=1):\n",
      "STOP: TOTAL NO. of ITERATIONS REACHED LIMIT.\n",
      "\n",
      "Increase the number of iterations (max_iter) or scale the data as shown in:\n",
      "    https://scikit-learn.org/stable/modules/preprocessing.html\n",
      "Please also refer to the documentation for alternative solver options:\n",
      "    https://scikit-learn.org/stable/modules/linear_model.html#logistic-regression\n",
      "  n_iter_i = _check_optimize_result(\n"
     ]
    },
    {
     "data": {
      "text/plain": [
       "['모델/(주)아워홈.pkl']"
      ]
     },
     "execution_count": 11,
     "metadata": {},
     "output_type": "execute_result"
    },
    {
     "name": "stdout",
     "output_type": "stream",
     "text": [
      "-------------------------------------------\n"
     ]
    },
    {
     "data": {
      "text/plain": [
       "RobustScaler()"
      ]
     },
     "execution_count": 11,
     "metadata": {},
     "output_type": "execute_result"
    },
    {
     "name": "stdout",
     "output_type": "stream",
     "text": [
      "----------------- 한국조선해양(주) ----------------------\n",
      "['인사 노무 교육' '시공 현장 감리 공무' '자동차 조선 기계' '사무 총무 법무' '영업관리 지원 영업기획'\n",
      " '기계설계 CAD CAM' '전기 전자 제어' '생산 제조 설비 조립' '건축 설계 인테리어' '구매 자재' '응용프로그래머'\n",
      " '생산관리 공정관리 품질관리' '해외영업 무역영업' '경리 회계 결산' '재무 세무 IR' '비서 안내' '기획 전략 경영'\n",
      " '외국어 번역 통역' '화학 에너지 환경' 'IT 솔루션 기술영업' '웹프로그래머' '시설 보안 경비 안전' '제품 서비스영업'\n",
      " '사무보조 문서작성' '네트워크 서버 보안' '유통 물류 재고' '홍보 PR' '반도체 디스플레이' '마케팅 광고 분석'\n",
      " '금융 보험영업' '고객상담 인바운드' '요리 영양 제과제빵 바리스타' '리서치 통계 설문']\n"
     ]
    },
    {
     "data": {
      "text/plain": [
       "LogisticRegression()"
      ]
     },
     "execution_count": 11,
     "metadata": {},
     "output_type": "execute_result"
    },
    {
     "name": "stdout",
     "output_type": "stream",
     "text": [
      "LogisticRegression() \n",
      " Accuracy: 0.602 \n",
      "\n"
     ]
    },
    {
     "data": {
      "text/plain": [
       "['모델/한국조선해양(주).pkl']"
      ]
     },
     "execution_count": 11,
     "metadata": {},
     "output_type": "execute_result"
    },
    {
     "name": "stdout",
     "output_type": "stream",
     "text": [
      "-------------------------------------------\n"
     ]
    },
    {
     "data": {
      "text/plain": [
       "RobustScaler()"
      ]
     },
     "execution_count": 11,
     "metadata": {},
     "output_type": "execute_result"
    },
    {
     "name": "stdout",
     "output_type": "stream",
     "text": [
      "----------------- (주)유니에스 ----------------------\n",
      "['인사 노무 교육' '고객상담 인바운드' '사무보조 문서작성' '시설 보안 경비 안전' '기획 전략 경영' '판매 서빙 매장관리'\n",
      " '제품 서비스영업' '영업관리 지원 영업기획' '비서 안내' '사무 총무 법무' '네트워크 서버 보안'\n",
      " '요리 영양 제과제빵 바리스타' '외국어 번역 통역' '생산관리 공정관리 품질관리' '유통 물류 재고' '경리 회계 결산'\n",
      " '웹기획 PM' '마케팅 광고 분석' '생산 제조 설비 조립' '구매 자재' '웹프로그래머' '해외영업 무역영업'\n",
      " '재무 세무 IR' '전기 전자 제어' '금융 보험영업' '시공 현장 감리 공무' 'IT 솔루션 기술영업']\n"
     ]
    },
    {
     "name": "stderr",
     "output_type": "stream",
     "text": [
      "C:\\Users\\SM2143\\anaconda3\\lib\\site-packages\\sklearn\\linear_model\\_logistic.py:762: ConvergenceWarning: lbfgs failed to converge (status=1):\n",
      "STOP: TOTAL NO. of ITERATIONS REACHED LIMIT.\n",
      "\n",
      "Increase the number of iterations (max_iter) or scale the data as shown in:\n",
      "    https://scikit-learn.org/stable/modules/preprocessing.html\n",
      "Please also refer to the documentation for alternative solver options:\n",
      "    https://scikit-learn.org/stable/modules/linear_model.html#logistic-regression\n",
      "  n_iter_i = _check_optimize_result(\n"
     ]
    },
    {
     "data": {
      "text/plain": [
       "LogisticRegression()"
      ]
     },
     "execution_count": 11,
     "metadata": {},
     "output_type": "execute_result"
    },
    {
     "name": "stdout",
     "output_type": "stream",
     "text": [
      "LogisticRegression() \n",
      " Accuracy: 0.827 \n",
      "\n"
     ]
    },
    {
     "name": "stderr",
     "output_type": "stream",
     "text": [
      "C:\\Users\\SM2143\\anaconda3\\lib\\site-packages\\sklearn\\linear_model\\_logistic.py:762: ConvergenceWarning: lbfgs failed to converge (status=1):\n",
      "STOP: TOTAL NO. of ITERATIONS REACHED LIMIT.\n",
      "\n",
      "Increase the number of iterations (max_iter) or scale the data as shown in:\n",
      "    https://scikit-learn.org/stable/modules/preprocessing.html\n",
      "Please also refer to the documentation for alternative solver options:\n",
      "    https://scikit-learn.org/stable/modules/linear_model.html#logistic-regression\n",
      "  n_iter_i = _check_optimize_result(\n",
      "C:\\Users\\SM2143\\anaconda3\\lib\\site-packages\\sklearn\\linear_model\\_logistic.py:762: ConvergenceWarning: lbfgs failed to converge (status=1):\n",
      "STOP: TOTAL NO. of ITERATIONS REACHED LIMIT.\n",
      "\n",
      "Increase the number of iterations (max_iter) or scale the data as shown in:\n",
      "    https://scikit-learn.org/stable/modules/preprocessing.html\n",
      "Please also refer to the documentation for alternative solver options:\n",
      "    https://scikit-learn.org/stable/modules/linear_model.html#logistic-regression\n",
      "  n_iter_i = _check_optimize_result(\n",
      "C:\\Users\\SM2143\\anaconda3\\lib\\site-packages\\sklearn\\linear_model\\_logistic.py:762: ConvergenceWarning: lbfgs failed to converge (status=1):\n",
      "STOP: TOTAL NO. of ITERATIONS REACHED LIMIT.\n",
      "\n",
      "Increase the number of iterations (max_iter) or scale the data as shown in:\n",
      "    https://scikit-learn.org/stable/modules/preprocessing.html\n",
      "Please also refer to the documentation for alternative solver options:\n",
      "    https://scikit-learn.org/stable/modules/linear_model.html#logistic-regression\n",
      "  n_iter_i = _check_optimize_result(\n",
      "C:\\Users\\SM2143\\anaconda3\\lib\\site-packages\\sklearn\\linear_model\\_logistic.py:762: ConvergenceWarning: lbfgs failed to converge (status=1):\n",
      "STOP: TOTAL NO. of ITERATIONS REACHED LIMIT.\n",
      "\n",
      "Increase the number of iterations (max_iter) or scale the data as shown in:\n",
      "    https://scikit-learn.org/stable/modules/preprocessing.html\n",
      "Please also refer to the documentation for alternative solver options:\n",
      "    https://scikit-learn.org/stable/modules/linear_model.html#logistic-regression\n",
      "  n_iter_i = _check_optimize_result(\n",
      "C:\\Users\\SM2143\\anaconda3\\lib\\site-packages\\sklearn\\linear_model\\_logistic.py:762: ConvergenceWarning: lbfgs failed to converge (status=1):\n",
      "STOP: TOTAL NO. of ITERATIONS REACHED LIMIT.\n",
      "\n",
      "Increase the number of iterations (max_iter) or scale the data as shown in:\n",
      "    https://scikit-learn.org/stable/modules/preprocessing.html\n",
      "Please also refer to the documentation for alternative solver options:\n",
      "    https://scikit-learn.org/stable/modules/linear_model.html#logistic-regression\n",
      "  n_iter_i = _check_optimize_result(\n"
     ]
    },
    {
     "data": {
      "text/plain": [
       "['모델/(주)유니에스.pkl']"
      ]
     },
     "execution_count": 11,
     "metadata": {},
     "output_type": "execute_result"
    },
    {
     "name": "stdout",
     "output_type": "stream",
     "text": [
      "-------------------------------------------\n"
     ]
    },
    {
     "data": {
      "text/plain": [
       "RobustScaler()"
      ]
     },
     "execution_count": 11,
     "metadata": {},
     "output_type": "execute_result"
    },
    {
     "name": "stdout",
     "output_type": "stream",
     "text": [
      "----------------- (주)커피빈코리아 ----------------------\n",
      "['기획 전략 경영' '사무보조 문서작성' '영업관리 지원 영업기획' '제품 서비스영업' '요리 영양 제과제빵 바리스타'\n",
      " '사무 총무 법무' '판매 서빙 매장관리' '마케팅 광고 분석' '유통 물류 재고' '인사 노무 교육' '비서 안내'\n",
      " '경리 회계 결산' '생산 제조 설비 조립' '해외영업 무역영업' '상품기획 MD' '금융 보험영업' '재무 세무 IR']\n"
     ]
    },
    {
     "name": "stderr",
     "output_type": "stream",
     "text": [
      "C:\\Users\\SM2143\\anaconda3\\lib\\site-packages\\sklearn\\linear_model\\_logistic.py:762: ConvergenceWarning: lbfgs failed to converge (status=1):\n",
      "STOP: TOTAL NO. of ITERATIONS REACHED LIMIT.\n",
      "\n",
      "Increase the number of iterations (max_iter) or scale the data as shown in:\n",
      "    https://scikit-learn.org/stable/modules/preprocessing.html\n",
      "Please also refer to the documentation for alternative solver options:\n",
      "    https://scikit-learn.org/stable/modules/linear_model.html#logistic-regression\n",
      "  n_iter_i = _check_optimize_result(\n"
     ]
    },
    {
     "data": {
      "text/plain": [
       "LogisticRegression()"
      ]
     },
     "execution_count": 11,
     "metadata": {},
     "output_type": "execute_result"
    },
    {
     "name": "stdout",
     "output_type": "stream",
     "text": [
      "LogisticRegression() \n",
      " Accuracy: 0.932 \n",
      "\n"
     ]
    },
    {
     "name": "stderr",
     "output_type": "stream",
     "text": [
      "C:\\Users\\SM2143\\anaconda3\\lib\\site-packages\\sklearn\\model_selection\\_split.py:670: UserWarning: The least populated class in y has only 1 members, which is less than n_splits=5.\n",
      "  warnings.warn((\"The least populated class in y has only %d\"\n",
      "C:\\Users\\SM2143\\anaconda3\\lib\\site-packages\\sklearn\\linear_model\\_logistic.py:762: ConvergenceWarning: lbfgs failed to converge (status=1):\n",
      "STOP: TOTAL NO. of ITERATIONS REACHED LIMIT.\n",
      "\n",
      "Increase the number of iterations (max_iter) or scale the data as shown in:\n",
      "    https://scikit-learn.org/stable/modules/preprocessing.html\n",
      "Please also refer to the documentation for alternative solver options:\n",
      "    https://scikit-learn.org/stable/modules/linear_model.html#logistic-regression\n",
      "  n_iter_i = _check_optimize_result(\n",
      "C:\\Users\\SM2143\\anaconda3\\lib\\site-packages\\sklearn\\linear_model\\_logistic.py:762: ConvergenceWarning: lbfgs failed to converge (status=1):\n",
      "STOP: TOTAL NO. of ITERATIONS REACHED LIMIT.\n",
      "\n",
      "Increase the number of iterations (max_iter) or scale the data as shown in:\n",
      "    https://scikit-learn.org/stable/modules/preprocessing.html\n",
      "Please also refer to the documentation for alternative solver options:\n",
      "    https://scikit-learn.org/stable/modules/linear_model.html#logistic-regression\n",
      "  n_iter_i = _check_optimize_result(\n",
      "C:\\Users\\SM2143\\anaconda3\\lib\\site-packages\\sklearn\\linear_model\\_logistic.py:762: ConvergenceWarning: lbfgs failed to converge (status=1):\n",
      "STOP: TOTAL NO. of ITERATIONS REACHED LIMIT.\n",
      "\n",
      "Increase the number of iterations (max_iter) or scale the data as shown in:\n",
      "    https://scikit-learn.org/stable/modules/preprocessing.html\n",
      "Please also refer to the documentation for alternative solver options:\n",
      "    https://scikit-learn.org/stable/modules/linear_model.html#logistic-regression\n",
      "  n_iter_i = _check_optimize_result(\n",
      "C:\\Users\\SM2143\\anaconda3\\lib\\site-packages\\sklearn\\linear_model\\_logistic.py:762: ConvergenceWarning: lbfgs failed to converge (status=1):\n",
      "STOP: TOTAL NO. of ITERATIONS REACHED LIMIT.\n",
      "\n",
      "Increase the number of iterations (max_iter) or scale the data as shown in:\n",
      "    https://scikit-learn.org/stable/modules/preprocessing.html\n",
      "Please also refer to the documentation for alternative solver options:\n",
      "    https://scikit-learn.org/stable/modules/linear_model.html#logistic-regression\n",
      "  n_iter_i = _check_optimize_result(\n",
      "C:\\Users\\SM2143\\anaconda3\\lib\\site-packages\\sklearn\\linear_model\\_logistic.py:762: ConvergenceWarning: lbfgs failed to converge (status=1):\n",
      "STOP: TOTAL NO. of ITERATIONS REACHED LIMIT.\n",
      "\n",
      "Increase the number of iterations (max_iter) or scale the data as shown in:\n",
      "    https://scikit-learn.org/stable/modules/preprocessing.html\n",
      "Please also refer to the documentation for alternative solver options:\n",
      "    https://scikit-learn.org/stable/modules/linear_model.html#logistic-regression\n",
      "  n_iter_i = _check_optimize_result(\n"
     ]
    },
    {
     "data": {
      "text/plain": [
       "['모델/(주)커피빈코리아.pkl']"
      ]
     },
     "execution_count": 11,
     "metadata": {},
     "output_type": "execute_result"
    },
    {
     "name": "stdout",
     "output_type": "stream",
     "text": [
      "-------------------------------------------\n"
     ]
    },
    {
     "data": {
      "text/plain": [
       "RobustScaler()"
      ]
     },
     "execution_count": 11,
     "metadata": {},
     "output_type": "execute_result"
    },
    {
     "name": "stdout",
     "output_type": "stream",
     "text": [
      "----------------- LG전자(주) ----------------------\n",
      "['기계설계 CAD CAM' '제품 서비스영업' '전기 전자 제어' '영업관리 지원 영업기획' '인사 노무 교육'\n",
      " '자동차 조선 기계' '구매 자재' '생산관리 공정관리 품질관리' '반도체 디스플레이' '재무 세무 IR' '응용프로그래머'\n",
      " '생산 제조 설비 조립' '기획 전략 경영' '상품기획 MD' '마케팅 광고 분석' '화학 에너지 환경' '사무 총무 법무'\n",
      " '경리 회계 결산' 'IT 솔루션 기술영업' '비서 안내' '해외영업 무역영업' '네트워크 서버 보안' '외국어 번역 통역'\n",
      " '유통 물류 재고' '리서치 통계 설문' '웹기획 PM' '사무보조 문서작성' '시설 보안 경비 안전' '시공 현장 감리 공무'\n",
      " '판매 서빙 매장관리' '고객상담 인바운드' '홍보 PR']\n"
     ]
    },
    {
     "data": {
      "text/plain": [
       "LogisticRegression()"
      ]
     },
     "execution_count": 11,
     "metadata": {},
     "output_type": "execute_result"
    },
    {
     "name": "stdout",
     "output_type": "stream",
     "text": [
      "LogisticRegression() \n",
      " Accuracy: 0.542 \n",
      "\n"
     ]
    },
    {
     "name": "stderr",
     "output_type": "stream",
     "text": [
      "C:\\Users\\SM2143\\anaconda3\\lib\\site-packages\\sklearn\\model_selection\\_split.py:670: UserWarning: The least populated class in y has only 3 members, which is less than n_splits=5.\n",
      "  warnings.warn((\"The least populated class in y has only %d\"\n"
     ]
    },
    {
     "data": {
      "text/plain": [
       "['모델/LG전자(주).pkl']"
      ]
     },
     "execution_count": 11,
     "metadata": {},
     "output_type": "execute_result"
    },
    {
     "name": "stdout",
     "output_type": "stream",
     "text": [
      "-------------------------------------------\n"
     ]
    },
    {
     "data": {
      "text/plain": [
       "RobustScaler()"
      ]
     },
     "execution_count": 11,
     "metadata": {},
     "output_type": "execute_result"
    },
    {
     "name": "stdout",
     "output_type": "stream",
     "text": [
      "----------------- 삼성카드(주) ----------------------\n",
      "['영업관리 지원 영업기획' '마케팅 광고 분석' '금융 보험영업' '리서치 통계 설문' '고객상담 인바운드' '사무 총무 법무'\n",
      " '사무보조 문서작성' '상품기획 MD' '응용프로그래머' '생산관리 공정관리 품질관리' '인사 노무 교육' '웹기획 PM'\n",
      " '웹프로그래머' '제품 서비스영업' '기획 전략 경영' '비서 안내' '재무 세무 IR' '경리 회계 결산' '해외영업 무역영업']\n"
     ]
    },
    {
     "name": "stderr",
     "output_type": "stream",
     "text": [
      "C:\\Users\\SM2143\\anaconda3\\lib\\site-packages\\sklearn\\linear_model\\_logistic.py:762: ConvergenceWarning: lbfgs failed to converge (status=1):\n",
      "STOP: TOTAL NO. of ITERATIONS REACHED LIMIT.\n",
      "\n",
      "Increase the number of iterations (max_iter) or scale the data as shown in:\n",
      "    https://scikit-learn.org/stable/modules/preprocessing.html\n",
      "Please also refer to the documentation for alternative solver options:\n",
      "    https://scikit-learn.org/stable/modules/linear_model.html#logistic-regression\n",
      "  n_iter_i = _check_optimize_result(\n"
     ]
    },
    {
     "data": {
      "text/plain": [
       "LogisticRegression()"
      ]
     },
     "execution_count": 11,
     "metadata": {},
     "output_type": "execute_result"
    },
    {
     "name": "stdout",
     "output_type": "stream",
     "text": [
      "LogisticRegression() \n",
      " Accuracy: 0.63 \n",
      "\n"
     ]
    },
    {
     "name": "stderr",
     "output_type": "stream",
     "text": [
      "C:\\Users\\SM2143\\anaconda3\\lib\\site-packages\\sklearn\\model_selection\\_split.py:670: UserWarning: The least populated class in y has only 3 members, which is less than n_splits=5.\n",
      "  warnings.warn((\"The least populated class in y has only %d\"\n",
      "C:\\Users\\SM2143\\anaconda3\\lib\\site-packages\\sklearn\\linear_model\\_logistic.py:762: ConvergenceWarning: lbfgs failed to converge (status=1):\n",
      "STOP: TOTAL NO. of ITERATIONS REACHED LIMIT.\n",
      "\n",
      "Increase the number of iterations (max_iter) or scale the data as shown in:\n",
      "    https://scikit-learn.org/stable/modules/preprocessing.html\n",
      "Please also refer to the documentation for alternative solver options:\n",
      "    https://scikit-learn.org/stable/modules/linear_model.html#logistic-regression\n",
      "  n_iter_i = _check_optimize_result(\n",
      "C:\\Users\\SM2143\\anaconda3\\lib\\site-packages\\sklearn\\linear_model\\_logistic.py:762: ConvergenceWarning: lbfgs failed to converge (status=1):\n",
      "STOP: TOTAL NO. of ITERATIONS REACHED LIMIT.\n",
      "\n",
      "Increase the number of iterations (max_iter) or scale the data as shown in:\n",
      "    https://scikit-learn.org/stable/modules/preprocessing.html\n",
      "Please also refer to the documentation for alternative solver options:\n",
      "    https://scikit-learn.org/stable/modules/linear_model.html#logistic-regression\n",
      "  n_iter_i = _check_optimize_result(\n",
      "C:\\Users\\SM2143\\anaconda3\\lib\\site-packages\\sklearn\\linear_model\\_logistic.py:762: ConvergenceWarning: lbfgs failed to converge (status=1):\n",
      "STOP: TOTAL NO. of ITERATIONS REACHED LIMIT.\n",
      "\n",
      "Increase the number of iterations (max_iter) or scale the data as shown in:\n",
      "    https://scikit-learn.org/stable/modules/preprocessing.html\n",
      "Please also refer to the documentation for alternative solver options:\n",
      "    https://scikit-learn.org/stable/modules/linear_model.html#logistic-regression\n",
      "  n_iter_i = _check_optimize_result(\n",
      "C:\\Users\\SM2143\\anaconda3\\lib\\site-packages\\sklearn\\linear_model\\_logistic.py:762: ConvergenceWarning: lbfgs failed to converge (status=1):\n",
      "STOP: TOTAL NO. of ITERATIONS REACHED LIMIT.\n",
      "\n",
      "Increase the number of iterations (max_iter) or scale the data as shown in:\n",
      "    https://scikit-learn.org/stable/modules/preprocessing.html\n",
      "Please also refer to the documentation for alternative solver options:\n",
      "    https://scikit-learn.org/stable/modules/linear_model.html#logistic-regression\n",
      "  n_iter_i = _check_optimize_result(\n",
      "C:\\Users\\SM2143\\anaconda3\\lib\\site-packages\\sklearn\\linear_model\\_logistic.py:762: ConvergenceWarning: lbfgs failed to converge (status=1):\n",
      "STOP: TOTAL NO. of ITERATIONS REACHED LIMIT.\n",
      "\n",
      "Increase the number of iterations (max_iter) or scale the data as shown in:\n",
      "    https://scikit-learn.org/stable/modules/preprocessing.html\n",
      "Please also refer to the documentation for alternative solver options:\n",
      "    https://scikit-learn.org/stable/modules/linear_model.html#logistic-regression\n",
      "  n_iter_i = _check_optimize_result(\n"
     ]
    },
    {
     "data": {
      "text/plain": [
       "['모델/삼성카드(주).pkl']"
      ]
     },
     "execution_count": 11,
     "metadata": {},
     "output_type": "execute_result"
    },
    {
     "name": "stdout",
     "output_type": "stream",
     "text": [
      "-------------------------------------------\n"
     ]
    },
    {
     "data": {
      "text/plain": [
       "RobustScaler()"
      ]
     },
     "execution_count": 11,
     "metadata": {},
     "output_type": "execute_result"
    },
    {
     "name": "stdout",
     "output_type": "stream",
     "text": [
      "----------------- 롯데카드(주) ----------------------\n",
      "['기획 전략 경영' '고객상담 인바운드' '사무 총무 법무' '금융 보험영업' '마케팅 광고 분석' '경리 회계 결산'\n",
      " '인사 노무 교육' '비서 안내' '영업관리 지원 영업기획' '사무보조 문서작성' '판매 서빙 매장관리' '웹기획 PM'\n",
      " '상품기획 MD' '네트워크 서버 보안' '외국어 번역 통역' '생산관리 공정관리 품질관리' '제품 서비스영업' '재무 세무 IR'\n",
      " '홍보 PR']\n"
     ]
    },
    {
     "name": "stderr",
     "output_type": "stream",
     "text": [
      "C:\\Users\\SM2143\\anaconda3\\lib\\site-packages\\sklearn\\linear_model\\_logistic.py:762: ConvergenceWarning: lbfgs failed to converge (status=1):\n",
      "STOP: TOTAL NO. of ITERATIONS REACHED LIMIT.\n",
      "\n",
      "Increase the number of iterations (max_iter) or scale the data as shown in:\n",
      "    https://scikit-learn.org/stable/modules/preprocessing.html\n",
      "Please also refer to the documentation for alternative solver options:\n",
      "    https://scikit-learn.org/stable/modules/linear_model.html#logistic-regression\n",
      "  n_iter_i = _check_optimize_result(\n"
     ]
    },
    {
     "data": {
      "text/plain": [
       "LogisticRegression()"
      ]
     },
     "execution_count": 11,
     "metadata": {},
     "output_type": "execute_result"
    },
    {
     "name": "stdout",
     "output_type": "stream",
     "text": [
      "LogisticRegression() \n",
      " Accuracy: 0.784 \n",
      "\n"
     ]
    },
    {
     "name": "stderr",
     "output_type": "stream",
     "text": [
      "C:\\Users\\SM2143\\anaconda3\\lib\\site-packages\\sklearn\\model_selection\\_split.py:670: UserWarning: The least populated class in y has only 3 members, which is less than n_splits=5.\n",
      "  warnings.warn((\"The least populated class in y has only %d\"\n",
      "C:\\Users\\SM2143\\anaconda3\\lib\\site-packages\\sklearn\\linear_model\\_logistic.py:762: ConvergenceWarning: lbfgs failed to converge (status=1):\n",
      "STOP: TOTAL NO. of ITERATIONS REACHED LIMIT.\n",
      "\n",
      "Increase the number of iterations (max_iter) or scale the data as shown in:\n",
      "    https://scikit-learn.org/stable/modules/preprocessing.html\n",
      "Please also refer to the documentation for alternative solver options:\n",
      "    https://scikit-learn.org/stable/modules/linear_model.html#logistic-regression\n",
      "  n_iter_i = _check_optimize_result(\n",
      "C:\\Users\\SM2143\\anaconda3\\lib\\site-packages\\sklearn\\linear_model\\_logistic.py:762: ConvergenceWarning: lbfgs failed to converge (status=1):\n",
      "STOP: TOTAL NO. of ITERATIONS REACHED LIMIT.\n",
      "\n",
      "Increase the number of iterations (max_iter) or scale the data as shown in:\n",
      "    https://scikit-learn.org/stable/modules/preprocessing.html\n",
      "Please also refer to the documentation for alternative solver options:\n",
      "    https://scikit-learn.org/stable/modules/linear_model.html#logistic-regression\n",
      "  n_iter_i = _check_optimize_result(\n",
      "C:\\Users\\SM2143\\anaconda3\\lib\\site-packages\\sklearn\\linear_model\\_logistic.py:762: ConvergenceWarning: lbfgs failed to converge (status=1):\n",
      "STOP: TOTAL NO. of ITERATIONS REACHED LIMIT.\n",
      "\n",
      "Increase the number of iterations (max_iter) or scale the data as shown in:\n",
      "    https://scikit-learn.org/stable/modules/preprocessing.html\n",
      "Please also refer to the documentation for alternative solver options:\n",
      "    https://scikit-learn.org/stable/modules/linear_model.html#logistic-regression\n",
      "  n_iter_i = _check_optimize_result(\n",
      "C:\\Users\\SM2143\\anaconda3\\lib\\site-packages\\sklearn\\linear_model\\_logistic.py:762: ConvergenceWarning: lbfgs failed to converge (status=1):\n",
      "STOP: TOTAL NO. of ITERATIONS REACHED LIMIT.\n",
      "\n",
      "Increase the number of iterations (max_iter) or scale the data as shown in:\n",
      "    https://scikit-learn.org/stable/modules/preprocessing.html\n",
      "Please also refer to the documentation for alternative solver options:\n",
      "    https://scikit-learn.org/stable/modules/linear_model.html#logistic-regression\n",
      "  n_iter_i = _check_optimize_result(\n",
      "C:\\Users\\SM2143\\anaconda3\\lib\\site-packages\\sklearn\\linear_model\\_logistic.py:762: ConvergenceWarning: lbfgs failed to converge (status=1):\n",
      "STOP: TOTAL NO. of ITERATIONS REACHED LIMIT.\n",
      "\n",
      "Increase the number of iterations (max_iter) or scale the data as shown in:\n",
      "    https://scikit-learn.org/stable/modules/preprocessing.html\n",
      "Please also refer to the documentation for alternative solver options:\n",
      "    https://scikit-learn.org/stable/modules/linear_model.html#logistic-regression\n",
      "  n_iter_i = _check_optimize_result(\n"
     ]
    },
    {
     "data": {
      "text/plain": [
       "['모델/롯데카드(주).pkl']"
      ]
     },
     "execution_count": 11,
     "metadata": {},
     "output_type": "execute_result"
    },
    {
     "name": "stdout",
     "output_type": "stream",
     "text": [
      "-------------------------------------------\n"
     ]
    },
    {
     "data": {
      "text/plain": [
       "RobustScaler()"
      ]
     },
     "execution_count": 11,
     "metadata": {},
     "output_type": "execute_result"
    },
    {
     "name": "stdout",
     "output_type": "stream",
     "text": [
      "----------------- ㈜하나은행 ----------------------\n",
      "['금융 보험영업' '사무 총무 법무' '영업관리 지원 영업기획' '제품 서비스영업' '비서 안내' '사무보조 문서작성'\n",
      " '해외영업 무역영업' '기획 전략 경영' '리서치 통계 설문' '시설 보안 경비 안전' '고객상담 인바운드' '경리 회계 결산'\n",
      " '인사 노무 교육' '웹프로그래머' '외국어 번역 통역' '홍보 PR' '웹기획 PM' '건축 설계 인테리어' '마케팅 광고 분석'\n",
      " '판매 서빙 매장관리' '응용프로그래머' '재무 세무 IR' '상품기획 MD']\n"
     ]
    },
    {
     "data": {
      "text/plain": [
       "LogisticRegression()"
      ]
     },
     "execution_count": 11,
     "metadata": {},
     "output_type": "execute_result"
    },
    {
     "name": "stdout",
     "output_type": "stream",
     "text": [
      "LogisticRegression() \n",
      " Accuracy: 0.397 \n",
      "\n"
     ]
    },
    {
     "name": "stderr",
     "output_type": "stream",
     "text": [
      "C:\\Users\\SM2143\\anaconda3\\lib\\site-packages\\sklearn\\model_selection\\_split.py:670: UserWarning: The least populated class in y has only 3 members, which is less than n_splits=5.\n",
      "  warnings.warn((\"The least populated class in y has only %d\"\n"
     ]
    },
    {
     "data": {
      "text/plain": [
       "['모델/㈜하나은행.pkl']"
      ]
     },
     "execution_count": 11,
     "metadata": {},
     "output_type": "execute_result"
    },
    {
     "name": "stdout",
     "output_type": "stream",
     "text": [
      "-------------------------------------------\n"
     ]
    },
    {
     "data": {
      "text/plain": [
       "RobustScaler()"
      ]
     },
     "execution_count": 11,
     "metadata": {},
     "output_type": "execute_result"
    },
    {
     "name": "stdout",
     "output_type": "stream",
     "text": [
      "----------------- 롯데쇼핑(주) ----------------------\n",
      "['화학 에너지 환경' '기획 전략 경영' '제품 서비스영업' '영업관리 지원 영업기획' '판매 서빙 매장관리' '비서 안내'\n",
      " '사무 총무 법무' '시설 보안 경비 안전' '마케팅 광고 분석' '경리 회계 결산' '고객상담 인바운드' '사무보조 문서작성'\n",
      " '상품기획 MD' '인사 노무 교육' '재무 세무 IR' '요리 영양 제과제빵 바리스타' '유통 물류 재고' '구매 자재'\n",
      " '시공 현장 감리 공무' '건축 설계 인테리어' '홍보 PR' '해외영업 무역영업' '외국어 번역 통역' '리서치 통계 설문'\n",
      " '생산 제조 설비 조립' '웹기획 PM' '응용프로그래머']\n"
     ]
    },
    {
     "data": {
      "text/plain": [
       "LogisticRegression()"
      ]
     },
     "execution_count": 11,
     "metadata": {},
     "output_type": "execute_result"
    },
    {
     "name": "stdout",
     "output_type": "stream",
     "text": [
      "LogisticRegression() \n",
      " Accuracy: 0.405 \n",
      "\n"
     ]
    },
    {
     "data": {
      "text/plain": [
       "['모델/롯데쇼핑(주).pkl']"
      ]
     },
     "execution_count": 11,
     "metadata": {},
     "output_type": "execute_result"
    },
    {
     "name": "stdout",
     "output_type": "stream",
     "text": [
      "-------------------------------------------\n"
     ]
    },
    {
     "data": {
      "text/plain": [
       "RobustScaler()"
      ]
     },
     "execution_count": 11,
     "metadata": {},
     "output_type": "execute_result"
    },
    {
     "name": "stdout",
     "output_type": "stream",
     "text": [
      "----------------- 비씨카드(주) ----------------------\n",
      "['마케팅 광고 분석' '고객상담 인바운드' '금융 보험영업' '영업관리 지원 영업기획' '경리 회계 결산' '응용프로그래머'\n",
      " '웹프로그래머' '사무 총무 법무' '기획 전략 경영' '사무보조 문서작성' '인사 노무 교육' '상품기획 MD' '비서 안내'\n",
      " '재무 세무 IR' '구매 자재' '리서치 통계 설문' '웹기획 PM' '네트워크 서버 보안' '생산 제조 설비 조립'\n",
      " '판매 서빙 매장관리' '홍보 PR' '제품 서비스영업' '생산관리 공정관리 품질관리']\n"
     ]
    },
    {
     "name": "stderr",
     "output_type": "stream",
     "text": [
      "C:\\Users\\SM2143\\anaconda3\\lib\\site-packages\\sklearn\\linear_model\\_logistic.py:762: ConvergenceWarning: lbfgs failed to converge (status=1):\n",
      "STOP: TOTAL NO. of ITERATIONS REACHED LIMIT.\n",
      "\n",
      "Increase the number of iterations (max_iter) or scale the data as shown in:\n",
      "    https://scikit-learn.org/stable/modules/preprocessing.html\n",
      "Please also refer to the documentation for alternative solver options:\n",
      "    https://scikit-learn.org/stable/modules/linear_model.html#logistic-regression\n",
      "  n_iter_i = _check_optimize_result(\n"
     ]
    },
    {
     "data": {
      "text/plain": [
       "LogisticRegression()"
      ]
     },
     "execution_count": 11,
     "metadata": {},
     "output_type": "execute_result"
    },
    {
     "name": "stdout",
     "output_type": "stream",
     "text": [
      "LogisticRegression() \n",
      " Accuracy: 0.65 \n",
      "\n"
     ]
    },
    {
     "name": "stderr",
     "output_type": "stream",
     "text": [
      "C:\\Users\\SM2143\\anaconda3\\lib\\site-packages\\sklearn\\linear_model\\_logistic.py:762: ConvergenceWarning: lbfgs failed to converge (status=1):\n",
      "STOP: TOTAL NO. of ITERATIONS REACHED LIMIT.\n",
      "\n",
      "Increase the number of iterations (max_iter) or scale the data as shown in:\n",
      "    https://scikit-learn.org/stable/modules/preprocessing.html\n",
      "Please also refer to the documentation for alternative solver options:\n",
      "    https://scikit-learn.org/stable/modules/linear_model.html#logistic-regression\n",
      "  n_iter_i = _check_optimize_result(\n",
      "C:\\Users\\SM2143\\anaconda3\\lib\\site-packages\\sklearn\\linear_model\\_logistic.py:762: ConvergenceWarning: lbfgs failed to converge (status=1):\n",
      "STOP: TOTAL NO. of ITERATIONS REACHED LIMIT.\n",
      "\n",
      "Increase the number of iterations (max_iter) or scale the data as shown in:\n",
      "    https://scikit-learn.org/stable/modules/preprocessing.html\n",
      "Please also refer to the documentation for alternative solver options:\n",
      "    https://scikit-learn.org/stable/modules/linear_model.html#logistic-regression\n",
      "  n_iter_i = _check_optimize_result(\n",
      "C:\\Users\\SM2143\\anaconda3\\lib\\site-packages\\sklearn\\linear_model\\_logistic.py:762: ConvergenceWarning: lbfgs failed to converge (status=1):\n",
      "STOP: TOTAL NO. of ITERATIONS REACHED LIMIT.\n",
      "\n",
      "Increase the number of iterations (max_iter) or scale the data as shown in:\n",
      "    https://scikit-learn.org/stable/modules/preprocessing.html\n",
      "Please also refer to the documentation for alternative solver options:\n",
      "    https://scikit-learn.org/stable/modules/linear_model.html#logistic-regression\n",
      "  n_iter_i = _check_optimize_result(\n",
      "C:\\Users\\SM2143\\anaconda3\\lib\\site-packages\\sklearn\\linear_model\\_logistic.py:762: ConvergenceWarning: lbfgs failed to converge (status=1):\n",
      "STOP: TOTAL NO. of ITERATIONS REACHED LIMIT.\n",
      "\n",
      "Increase the number of iterations (max_iter) or scale the data as shown in:\n",
      "    https://scikit-learn.org/stable/modules/preprocessing.html\n",
      "Please also refer to the documentation for alternative solver options:\n",
      "    https://scikit-learn.org/stable/modules/linear_model.html#logistic-regression\n",
      "  n_iter_i = _check_optimize_result(\n",
      "C:\\Users\\SM2143\\anaconda3\\lib\\site-packages\\sklearn\\linear_model\\_logistic.py:762: ConvergenceWarning: lbfgs failed to converge (status=1):\n",
      "STOP: TOTAL NO. of ITERATIONS REACHED LIMIT.\n",
      "\n",
      "Increase the number of iterations (max_iter) or scale the data as shown in:\n",
      "    https://scikit-learn.org/stable/modules/preprocessing.html\n",
      "Please also refer to the documentation for alternative solver options:\n",
      "    https://scikit-learn.org/stable/modules/linear_model.html#logistic-regression\n",
      "  n_iter_i = _check_optimize_result(\n"
     ]
    },
    {
     "data": {
      "text/plain": [
       "['모델/비씨카드(주).pkl']"
      ]
     },
     "execution_count": 11,
     "metadata": {},
     "output_type": "execute_result"
    },
    {
     "name": "stdout",
     "output_type": "stream",
     "text": [
      "-------------------------------------------\n"
     ]
    },
    {
     "data": {
      "text/plain": [
       "RobustScaler()"
      ]
     },
     "execution_count": 11,
     "metadata": {},
     "output_type": "execute_result"
    },
    {
     "name": "stdout",
     "output_type": "stream",
     "text": [
      "----------------- 대우조선해양(주) ----------------------\n",
      "['생산 제조 설비 조립' '시설 보안 경비 안전' '사무보조 문서작성' '시공 현장 감리 공무' '자동차 조선 기계'\n",
      " '사무 총무 법무' '생산관리 공정관리 품질관리' '전기 전자 제어' '구매 자재' '비서 안내' '기획 전략 경영'\n",
      " '응용프로그래머' '기계설계 CAD CAM' 'IT 솔루션 기술영업' '제품 서비스영업' '홍보 PR' '해외영업 무역영업'\n",
      " '유통 물류 재고' '화학 에너지 환경' '경리 회계 결산' '인사 노무 교육' '영업관리 지원 영업기획' '재무 세무 IR'\n",
      " '외국어 번역 통역' '네트워크 서버 보안']\n"
     ]
    },
    {
     "data": {
      "text/plain": [
       "LogisticRegression()"
      ]
     },
     "execution_count": 11,
     "metadata": {},
     "output_type": "execute_result"
    },
    {
     "name": "stdout",
     "output_type": "stream",
     "text": [
      "LogisticRegression() \n",
      " Accuracy: 0.512 \n",
      "\n"
     ]
    },
    {
     "data": {
      "text/plain": [
       "['모델/대우조선해양(주).pkl']"
      ]
     },
     "execution_count": 11,
     "metadata": {},
     "output_type": "execute_result"
    },
    {
     "name": "stdout",
     "output_type": "stream",
     "text": [
      "-------------------------------------------\n"
     ]
    },
    {
     "data": {
      "text/plain": [
       "RobustScaler()"
      ]
     },
     "execution_count": 11,
     "metadata": {},
     "output_type": "execute_result"
    },
    {
     "name": "stdout",
     "output_type": "stream",
     "text": [
      "----------------- (주)호텔신라 ----------------------\n",
      "['IT 솔루션 기술영업' '영업관리 지원 영업기획' '경리 회계 결산' '기획 전략 경영' '제품 서비스영업' '외국어 번역 통역'\n",
      " '요리 영양 제과제빵 바리스타' '비서 안내' '마케팅 광고 분석' '판매 서빙 매장관리' '유통 물류 재고' '화학 에너지 환경'\n",
      " '웹기획 PM' '사무 총무 법무' '시설 보안 경비 안전' '고객상담 인바운드' '상품기획 MD' '사무보조 문서작성'\n",
      " '생산관리 공정관리 품질관리' '네트워크 서버 보안' '시공 현장 감리 공무' '인사 노무 교육' '건축 설계 인테리어'\n",
      " '생산 제조 설비 조립' '재무 세무 IR' '홍보 PR' '응용프로그래머' '해외영업 무역영업' '자동차 조선 기계'\n",
      " '구매 자재']\n"
     ]
    },
    {
     "data": {
      "text/plain": [
       "LogisticRegression()"
      ]
     },
     "execution_count": 11,
     "metadata": {},
     "output_type": "execute_result"
    },
    {
     "name": "stdout",
     "output_type": "stream",
     "text": [
      "LogisticRegression() \n",
      " Accuracy: 0.395 \n",
      "\n"
     ]
    },
    {
     "data": {
      "text/plain": [
       "['모델/(주)호텔신라.pkl']"
      ]
     },
     "execution_count": 11,
     "metadata": {},
     "output_type": "execute_result"
    },
    {
     "name": "stdout",
     "output_type": "stream",
     "text": [
      "-------------------------------------------\n"
     ]
    },
    {
     "data": {
      "text/plain": [
       "RobustScaler()"
      ]
     },
     "execution_count": 11,
     "metadata": {},
     "output_type": "execute_result"
    },
    {
     "name": "stdout",
     "output_type": "stream",
     "text": [
      "----------------- 삼성생명보험(주) ----------------------\n",
      "['금융 보험영업' '영업관리 지원 영업기획' '시설 보안 경비 안전' '사무 총무 법무' '기획 전략 경영' '제품 서비스영업'\n",
      " '상품기획 MD' '고객상담 인바운드' '사무보조 문서작성' '리서치 통계 설문' '인사 노무 교육' '판매 서빙 매장관리'\n",
      " '비서 안내' '재무 세무 IR' '경리 회계 결산' '웹프로그래머' '마케팅 광고 분석' '네트워크 서버 보안'\n",
      " '유통 물류 재고' '해외영업 무역영업']\n"
     ]
    },
    {
     "data": {
      "text/plain": [
       "LogisticRegression()"
      ]
     },
     "execution_count": 11,
     "metadata": {},
     "output_type": "execute_result"
    },
    {
     "name": "stdout",
     "output_type": "stream",
     "text": [
      "LogisticRegression() \n",
      " Accuracy: 0.814 \n",
      "\n"
     ]
    },
    {
     "data": {
      "text/plain": [
       "['모델/삼성생명보험(주).pkl']"
      ]
     },
     "execution_count": 11,
     "metadata": {},
     "output_type": "execute_result"
    },
    {
     "name": "stdout",
     "output_type": "stream",
     "text": [
      "-------------------------------------------\n"
     ]
    },
    {
     "data": {
      "text/plain": [
       "RobustScaler()"
      ]
     },
     "execution_count": 11,
     "metadata": {},
     "output_type": "execute_result"
    },
    {
     "name": "stdout",
     "output_type": "stream",
     "text": [
      "----------------- (주)우리은행 ----------------------\n",
      "['네트워크 서버 보안' '금융 보험영업' '기획 전략 경영' '재무 세무 IR' '영업관리 지원 영업기획' '사무 총무 법무'\n",
      " '응용프로그래머' '제품 서비스영업' '시설 보안 경비 안전' '비서 안내' '인사 노무 교육' '사무보조 문서작성'\n",
      " '경리 회계 결산' '홍보 PR' 'IT 솔루션 기술영업' '요리 영양 제과제빵 바리스타' '고객상담 인바운드'\n",
      " '마케팅 광고 분석' '외국어 번역 통역' '판매 서빙 매장관리' '해외영업 무역영업' '웹기획 PM' '리서치 통계 설문'\n",
      " '웹프로그래머']\n"
     ]
    },
    {
     "data": {
      "text/plain": [
       "LogisticRegression()"
      ]
     },
     "execution_count": 11,
     "metadata": {},
     "output_type": "execute_result"
    },
    {
     "name": "stdout",
     "output_type": "stream",
     "text": [
      "LogisticRegression() \n",
      " Accuracy: 0.512 \n",
      "\n"
     ]
    },
    {
     "data": {
      "text/plain": [
       "['모델/(주)우리은행.pkl']"
      ]
     },
     "execution_count": 11,
     "metadata": {},
     "output_type": "execute_result"
    },
    {
     "name": "stdout",
     "output_type": "stream",
     "text": [
      "-------------------------------------------\n"
     ]
    }
   ],
   "source": [
    "scoreList = []\n",
    "deptList = []\n",
    "probaList = []\n",
    "# 리스트 1\n",
    "# 상위 20개 합격회사 조회\n",
    "for k in range(0,20):\n",
    "    data_copy = data[data['합격회사']==list_2[k]]\n",
    "    list_1 = (data_copy['부서'].unique())\n",
    "   \n",
    "    list380 = []\n",
    "    list370 = []     \n",
    "    list360 = []  \n",
    "    list350 = []\n",
    "    list340 = []\n",
    "    list330 = []\n",
    "    list320 = []\n",
    "    list310 = []\n",
    "    list300 = []\n",
    "    list280 = []\n",
    "    list270 = []\n",
    "    list260 = []    \n",
    "    list250 = []\n",
    "    list235 = []\n",
    "    list230 = []\n",
    "    list220 = []\n",
    "    list210 = []\n",
    "    list200 = []\n",
    "    list190 = []\n",
    "    list180 = []\n",
    "    list170 = []\n",
    "    list150 = []\n",
    "    list130 = []\n",
    "    list100 = []\n",
    "\n",
    "# 부서별 스펙지수별로 라벨링 나누기\n",
    "    for i in range(len(list_1)): \n",
    "     # 부서별 스펙지수별로 리스트 저장\n",
    "        if(data_copy[data_copy['부서']==list_1[i]]['스펙지수'].mean()>300):        \n",
    "            list300.append(list_1[i])\n",
    "        elif(data_copy[data_copy['부서']==list_1[i]]['스펙지수'].mean()>280):        \n",
    "            list280.append(list_1[i])\n",
    "        elif(data_copy[data_copy['부서']==list_1[i]]['스펙지수'].mean()>235):        \n",
    "            list235.append(list_1[i])\n",
    "        elif(data_copy[data_copy['부서']==list_1[i]]['스펙지수'].mean()>150):        \n",
    "            list150.append(list_1[i])\n",
    "        elif (data_copy[data_copy['부서']==list_1[i]]['스펙지수'].mean()<150): \n",
    "            list100.append(list_1[i])\n",
    "    deptList.append(list300)\n",
    "    deptList.append(list280)\n",
    "    deptList.append(list235)\n",
    "    deptList.append(list150)\n",
    "    deptList.append(list100)\n",
    "\n",
    "# 부서별 스펙지수로 라벨 값 변경\n",
    "    for i in range(len(list300)):\n",
    "        b = data_copy['부서'].str.contains(list300[i])\n",
    "        data_copy['부서'][b] = '300'\n",
    "    \n",
    "    for i in range(len(list280)):\n",
    "        b = data_copy['부서'].str.contains(list280[i])\n",
    "        data_copy['부서'][b] = '280'\n",
    "        \n",
    "    for i in range(len(list235)):\n",
    "        b = data_copy['부서'].str.contains(list235[i])\n",
    "        data_copy['부서'][b] = '235'\n",
    "\n",
    "    for i in range(len(list150)):\n",
    "        b = data_copy['부서'].str.contains(list150[i])\n",
    "        data_copy['부서'][b] = '150'\n",
    "    \n",
    "    for i in range(len(list100)):\n",
    "        b = data_copy['부서'].str.contains(list100[i])\n",
    "        data_copy['부서'][b] = '100' \n",
    "\n",
    "# RobustScaler로 정규화\n",
    "    from sklearn.preprocessing import RobustScaler\n",
    "    X = data_copy.iloc[:, 3:13]\n",
    "    y = data_copy['부서']\n",
    "    \n",
    "    #라벨 인코딩\n",
    "    y_label = y.copy()\n",
    "    indexdata = range(0,len(y_label.unique()))\n",
    "    imsiSeries = pd.Series(data=indexdata, index=y_label.unique())\n",
    "    y = y_label.map(imsiSeries)\n",
    "    \n",
    "#     #원핫 인코딩\n",
    "#     y_1 = data_copy['부서']\n",
    "#     y = pd.get_dummies(y)\n",
    "\n",
    "# 모델 정의\n",
    "    transformer = RobustScaler()\n",
    "    transformer.fit(X)\n",
    "    X = transformer.transform(X)\n",
    "    \n",
    "    lr = LogisticRegression()\n",
    "    \n",
    "# 데이터 분리\n",
    "    X_train, X_test, y_train, y_test = train_test_split(X, y, test_size=0.4, shuffle=True, random_state=8)\n",
    "    \n",
    "    print(\"----------------- {} ----------------------\".format(list_2[k]))\n",
    "    print(list_1)\n",
    "    lr.fit(X_train, y_train)\n",
    "    pre = lr.predict(X_test)\n",
    "    scores = cross_val_score(lr, X_test, y_test, cv=5).mean().round(3)\n",
    "    #f1score = metrics.f1_score(y_test, y_pred).round(3)\n",
    "    print(lr, '\\n', 'Accuracy:', scores, '\\n')\n",
    "    scoreList.append(scores)\n",
    "    proba = lr.predict_proba(X_test)\n",
    "    probaList.append(proba)\n",
    "    joblib.dump(lr,'모델/{}.pkl'.format(list_2[k]))\n",
    "    print(\"-------------------------------------------\")\n",
    "    \n",
    "    "
   ]
  },
  {
   "cell_type": "code",
   "execution_count": 12,
   "metadata": {},
   "outputs": [
    {
     "data": {
      "text/plain": [
       "100"
      ]
     },
     "execution_count": 12,
     "metadata": {},
     "output_type": "execute_result"
    },
    {
     "data": {
      "text/plain": [
       "20"
      ]
     },
     "execution_count": 12,
     "metadata": {},
     "output_type": "execute_result"
    }
   ],
   "source": [
    "len(deptList)\n",
    "len(scoreList)\n",
    "hakList = data['최종학력'].unique()\n",
    "majorList = data['전공'].unique()"
   ]
  },
  {
   "cell_type": "code",
   "execution_count": 13,
   "metadata": {},
   "outputs": [
    {
     "ename": "NameError",
     "evalue": "name 'industry' is not defined",
     "output_type": "error",
     "traceback": [
      "\u001b[1;31m---------------------------------------------------------------------------\u001b[0m",
      "\u001b[1;31mNameError\u001b[0m                                 Traceback (most recent call last)",
      "\u001b[1;32m<ipython-input-13-3cfd38d380b5>\u001b[0m in \u001b[0;36m<module>\u001b[1;34m\u001b[0m\n\u001b[0;32m      4\u001b[0m \u001b[0mdept\u001b[0m \u001b[1;33m=\u001b[0m \u001b[1;36m0\u001b[0m\u001b[1;33m\u001b[0m\u001b[1;33m\u001b[0m\u001b[0m\n\u001b[0;32m      5\u001b[0m \u001b[1;33m\u001b[0m\u001b[0m\n\u001b[1;32m----> 6\u001b[1;33m \u001b[1;32mfor\u001b[0m \u001b[0mind\u001b[0m \u001b[1;32min\u001b[0m \u001b[0mrange\u001b[0m\u001b[1;33m(\u001b[0m\u001b[0mlen\u001b[0m\u001b[1;33m(\u001b[0m\u001b[0mindustry\u001b[0m\u001b[1;33m)\u001b[0m\u001b[1;33m)\u001b[0m\u001b[1;33m:\u001b[0m\u001b[1;33m\u001b[0m\u001b[1;33m\u001b[0m\u001b[0m\n\u001b[0m\u001b[0;32m      7\u001b[0m     \u001b[0mindus\u001b[0m \u001b[1;33m=\u001b[0m \u001b[0mindustry\u001b[0m\u001b[1;33m[\u001b[0m\u001b[0mind\u001b[0m\u001b[1;33m]\u001b[0m\u001b[1;33m\u001b[0m\u001b[1;33m\u001b[0m\u001b[0m\n\u001b[0;32m      8\u001b[0m     \u001b[0mmodel\u001b[0m \u001b[1;33m=\u001b[0m \u001b[0mjoblib\u001b[0m\u001b[1;33m.\u001b[0m\u001b[0mload\u001b[0m\u001b[1;33m(\u001b[0m\u001b[1;34m'모델/{}.pkl'\u001b[0m\u001b[1;33m.\u001b[0m\u001b[0mformat\u001b[0m\u001b[1;33m(\u001b[0m\u001b[0mindus\u001b[0m\u001b[1;33m)\u001b[0m\u001b[1;33m)\u001b[0m\u001b[1;33m\u001b[0m\u001b[1;33m\u001b[0m\u001b[0m\n",
      "\u001b[1;31mNameError\u001b[0m: name 'industry' is not defined"
     ]
    }
   ],
   "source": [
    "sam = [[3, 400, 0, 0, 0, 0, 0, 0, 0, 0]]\n",
    "maxnum = 0\n",
    "max_name = 0\n",
    "dept = 0\n",
    "\n",
    "for ind in range(len(industry)):\n",
    "    indus = industry[ind]\n",
    "    model = joblib.load('모델/{}.pkl'.format(indus))\n",
    "    score_1 = scoreList[ind]\n",
    "    score_2 = model.predict_proba(sam)[0]\n",
    "    for i in range(len(score_2)):\n",
    "        if(score_1*score_2[i] > maxnum):\n",
    "            maxnum = score_1*score_2[i]\n",
    "            max_name = indus\n",
    "            dept = deptList[ind*5+i]"
   ]
  },
  {
   "cell_type": "code",
   "execution_count": 14,
   "metadata": {},
   "outputs": [
    {
     "name": "stdout",
     "output_type": "stream",
     "text": [
      " * Serving Flask app \"__main__\" (lazy loading)\n",
      " * Environment: production\n",
      "   WARNING: This is a development server. Do not use it in a production deployment.\n",
      "   Use a production WSGI server instead.\n",
      " * Debug mode: off\n"
     ]
    },
    {
     "name": "stderr",
     "output_type": "stream",
     "text": [
      " * Running on http://127.0.0.1:5000/ (Press CTRL+C to quit)\n",
      "127.0.0.1 - - [16/Jul/2021 15:22:41] \"\u001b[32mGET /spec?major=컴퓨터공학&toeic_sp=level0&opic=None&grade=3.300000&toeic=400&language=0&certificate=0&overseas=0&intern=0&awards=0&volunteer=0 HTTP/1.1\u001b[0m\" 302 -\n"
     ]
    },
    {
     "name": "stdout",
     "output_type": "stream",
     "text": [
      "[[3, 400, 0, 0, 0, 0, 0, 0, 0, 0]]\n",
      "http://localhost:8090/webfactory/project.jsp?score=0.9544274334439494&indus=(주)에스텍시스템&dept=IT 솔루션 기술영업\n"
     ]
    }
   ],
   "source": [
    "from flask import Flask\n",
    "from flask import request, redirect\n",
    "from flask import session\n",
    "from urllib import parse\n",
    "\n",
    "app = Flask(__name__) \n",
    "\n",
    "@app.route('/spec', methods=['GET','POST'])\n",
    "def spec():     \n",
    "       \n",
    "    if request.method == 'GET':\n",
    "        major = request.args['major']\n",
    "        toeic_sp = request.args['toeic_sp']\n",
    "        opic = request.args['opic']\n",
    "        grade = request.args['grade']\n",
    "        toeic = request.args['toeic']\n",
    "        language = request.args['language']\n",
    "        certificate = request.args['certificate']\n",
    "        overseas = request.args['overseas']\n",
    "        intern = request.args['intern']\n",
    "        awards = request.args['awards']\n",
    "        volunteer = request.args['volunteer']\n",
    "        \n",
    "    else:\n",
    "        major = request.form['major']\n",
    "        toeic_sp = request.form['toeic_sp']\n",
    "        opic = request.form['opic']\n",
    "        grade = request.form['grade']\n",
    "        toeic = request.form['toeic']\n",
    "        language = request.form['language']\n",
    "        certificate = request.form['certificate']\n",
    "        overseas = request.form['overseas']\n",
    "        intern = request.form['intern']\n",
    "        awards = request.form['awards']\n",
    "        volunteer = request.form['volunteer']\n",
    "    toeic_sp = str(toeic_sp)\n",
    "    opic = str(opic)\n",
    "\n",
    "\n",
    "    #토익스피킹 숫자형 데이터로 변경\n",
    "    toeic_sp = toeic_sp.replace('level8','8')\n",
    "    toeic_sp = toeic_sp.replace('level7','7')\n",
    "    toeic_sp = toeic_sp.replace('level6','6')\n",
    "    toeic_sp = toeic_sp.replace('level5','5')\n",
    "    toeic_sp = toeic_sp.replace('level4','4')\n",
    "    toeic_sp = toeic_sp.replace('level3','3')\n",
    "    toeic_sp = toeic_sp.replace('level2','2')\n",
    "    toeic_sp = toeic_sp.replace('level1','1')\n",
    "    toeic_sp = toeic_sp.replace('level0','0')\n",
    "\n",
    "    \n",
    "    #OPIC 숫자형 데이터로 변경\n",
    "    opic = opic.replace('None','0')\n",
    "    opic = opic.replace('AL','9')\n",
    "    opic = opic.replace('IH','8')\n",
    "    opic = opic.replace('IM3','7')\n",
    "    opic = opic.replace('IM2','6')\n",
    "    opic = opic.replace('IM1','5')\n",
    "    opic = opic.replace('IL','4')\n",
    "    opic = opic.replace('NH','3')\n",
    "    opic = opic.replace('NL','2')\n",
    "    opic = opic.replace('NM','1')\n",
    "    \n",
    "    grade = grade_chage(float(grade))\n",
    "\n",
    "    re = [[int(grade),int(toeic),int(toeic_sp),int(opic),int(language),int(certificate),int(overseas),int(intern),int(awards),int(volunteer)]]\n",
    "#     re = np.array([grade,toeic,toeic_sp,opic,language,certificate,overseas,intern,awards,volunteer])\n",
    "#     re = re.reshape(1,-1)\n",
    "    print(re)\n",
    "    \n",
    "    maxnum = 0\n",
    "    max_name = 0\n",
    "    dept = 0\n",
    "    \n",
    "    industry = list_2[:20]\n",
    "\n",
    "    for ind in range(len(industry)):\n",
    "        indus = industry[ind]\n",
    "        model = joblib.load('모델/{}.pkl'.format(indus))\n",
    "        score_1 = scoreList[ind]\n",
    "        score_2 = model.predict_proba(re)[0]\n",
    "        for i in range(len(score_2)):\n",
    "            if(score_1*score_2[i] > maxnum):\n",
    "                maxnum = score_1*score_2[i]\n",
    "                max_name = indus\n",
    "                dept = deptList[ind*5+i]\n",
    "                \n",
    "#     url = 'http://localhost:8090/webfactory/project.jsp?score={}&indus={}&dept={}'.format(maxnum,max_name,dept[0])\n",
    "    url = 'http://localhost:8090/webfactory/project.jsp?score={}&indus={}&dept={}'.format(maxnum,max_name,dept[0])\n",
    "\n",
    "#     parseUrl = parse.urlparse(url)\n",
    "#     query = parse.parse_qs(parseUrl.query)\n",
    "#     result = parse.urlencode(query, encoding=\"UTF-8\")\n",
    "#     url = 'http://localhost:8090/webfactory/project.jsp?'+result\n",
    "    print(url)\n",
    "\n",
    "    return redirect(url)\n",
    "    \n",
    "\n",
    "if __name__ == '__main__':\n",
    "    app.run(host='127.0.0.1', port='5000') "
   ]
  }
 ],
 "metadata": {
  "kernelspec": {
   "display_name": "Python 3",
   "language": "python",
   "name": "python3"
  },
  "language_info": {
   "codemirror_mode": {
    "name": "ipython",
    "version": 3
   },
   "file_extension": ".py",
   "mimetype": "text/x-python",
   "name": "python",
   "nbconvert_exporter": "python",
   "pygments_lexer": "ipython3",
   "version": "3.8.5"
  }
 },
 "nbformat": 4,
 "nbformat_minor": 4
}
